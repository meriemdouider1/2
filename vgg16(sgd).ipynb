{
  "nbformat": 4,
  "nbformat_minor": 0,
  "metadata": {
    "colab": {
      "name": "Untitled3.ipynb",
      "provenance": [],
      "authorship_tag": "ABX9TyO7I7edAsgULZ0IGS5MNAOM",
      "include_colab_link": true
    },
    "kernelspec": {
      "name": "python3",
      "display_name": "Python 3"
    },
    "accelerator": "GPU"
  },
  "cells": [
    {
      "cell_type": "markdown",
      "metadata": {
        "id": "view-in-github",
        "colab_type": "text"
      },
      "source": [
        "<a href=\"https://colab.research.google.com/github/meriemdouider1/2/blob/main/vgg16(sgd).ipynb\" target=\"_parent\"><img src=\"https://colab.research.google.com/assets/colab-badge.svg\" alt=\"Open In Colab\"/></a>"
      ]
    },
    {
      "cell_type": "code",
      "metadata": {
        "id": "jiRICeD6soHI"
      },
      "source": [
        "import json\n",
        "import math\n",
        "import os\n",
        "import cv2\n",
        "from PIL import Image\n",
        "import numpy as np\n",
        "from keras import layers\n",
        "from keras.applications import ResNet50\n",
        "from keras.callbacks import Callback, ModelCheckpoint, ReduceLROnPlateau, TensorBoard\n",
        "from keras.preprocessing.image import ImageDataGenerator\n",
        "from keras.utils.np_utils import to_categorical# convert to one-hot-encoding\n",
        "from keras.models import Sequential\n",
        "from keras.optimizers import Adam\n",
        "import matplotlib.pyplot as plt\n",
        "import pandas as pd\n",
        "from sklearn.model_selection import train_test_split\n",
        "from sklearn.metrics import cohen_kappa_score, accuracy_score\n",
        "import scipy\n",
        "from tqdm import tqdm\n",
        "import tensorflow as tf\n",
        "from keras import backend as K\n",
        "import gc\n",
        "from functools import partial\n",
        "from sklearn import metrics\n",
        "from collections import Counter\n",
        "import json\n",
        "import itertools\n",
        "%matplotlib inline\n",
        "from glob import glob\n",
        "from keras import Model\n",
        "from keras.callbacks import ReduceLROnPlateau, EarlyStopping\n",
        "from tqdm import tqdm_notebook\n",
        "from keras.preprocessing.image import ImageDataGenerator\n",
        "from keras.layers import Input, Lambda, Dense, Flatten\n",
        "from keras.models import load_model, Model"
      ],
      "execution_count": 209,
      "outputs": []
    },
    {
      "cell_type": "code",
      "metadata": {
        "id": "4f6a4IFIssnt"
      },
      "source": [
        "! pip install -q kaggle"
      ],
      "execution_count": 210,
      "outputs": []
    },
    {
      "cell_type": "code",
      "metadata": {
        "id": "DYIRXnoBssqL"
      },
      "source": [
        "from google.colab import files"
      ],
      "execution_count": 211,
      "outputs": []
    },
    {
      "cell_type": "code",
      "metadata": {
        "colab": {
          "resources": {
            "http://localhost:8080/nbextensions/google.colab/files.js": {
              "data": "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",
              "ok": true,
              "headers": [
                [
                  "content-type",
                  "application/javascript"
                ]
              ],
              "status": 200,
              "status_text": ""
            }
          },
          "base_uri": "https://localhost:8080/",
          "height": 109
        },
        "id": "p5okARSrsssz",
        "outputId": "b2c064d6-28cb-45fb-dc41-d480d0b4cbae"
      },
      "source": [
        "files.upload()"
      ],
      "execution_count": 212,
      "outputs": [
        {
          "output_type": "display_data",
          "data": {
            "text/html": [
              "\n",
              "     <input type=\"file\" id=\"files-54605296-a08f-4e13-abf7-9af7bafa4d0b\" name=\"files[]\" multiple disabled\n",
              "        style=\"border:none\" />\n",
              "     <output id=\"result-54605296-a08f-4e13-abf7-9af7bafa4d0b\">\n",
              "      Upload widget is only available when the cell has been executed in the\n",
              "      current browser session. Please rerun this cell to enable.\n",
              "      </output>\n",
              "      <script src=\"/nbextensions/google.colab/files.js\"></script> "
            ],
            "text/plain": [
              "<IPython.core.display.HTML object>"
            ]
          },
          "metadata": {
            "tags": []
          }
        },
        {
          "output_type": "stream",
          "text": [
            "Saving test21.ipynb to test21.ipynb\n"
          ],
          "name": "stdout"
        },
        {
          "output_type": "execute_result",
          "data": {
            "text/plain": [
              "{'test21.ipynb': b'{\\n  \"nbformat\": 4,\\n  \"nbformat_minor\": 0,\\n  \"metadata\": {\\n    \"colab\": {\\n      \"name\": \"Untitled21.ipynb\",\\n      \"provenance\": [],\\n      \"collapsed_sections\": [],\\n      \"toc_visible\": true\\n    },\\n    \"kernelspec\": {\\n      \"name\": \"python3\",\\n      \"display_name\": \"Python 3\"\\n    },\\n    \"accelerator\": \"GPU\"\\n  },\\n  \"cells\": [\\n    {\\n      \"cell_type\": \"markdown\",\\n      \"metadata\": {\\n        \"id\": \"view-in-github\"\\n      },\\n      \"source\": [\\n        \"<a href=\\\\\"https://colab.research.google.com/github/meriemdouider1/2/blob/main/Untitled21.ipynb\\\\\" target=\\\\\"_parent\\\\\"><img src=\\\\\"https://colab.research.google.com/assets/colab-badge.svg\\\\\" alt=\\\\\"Open In Colab\\\\\"/></a>\"\\n      ]\\n    },\\n    {\\n      \"cell_type\": \"code\",\\n      \"metadata\": {\\n        \"id\": \"vhQJICN99tRt\"\\n      },\\n      \"source\": [\\n        \"import json\\\\n\",\\n        \"import math\\\\n\",\\n        \"import os\\\\n\",\\n        \"import cv2\\\\n\",\\n        \"from PIL import Image\\\\n\",\\n        \"import numpy as np\\\\n\",\\n        \"from keras import layers\\\\n\",\\n        \"from keras.applications import ResNet50\\\\n\",\\n        \"from keras.callbacks import Callback, ModelCheckpoint, ReduceLROnPlateau, TensorBoard\\\\n\",\\n        \"from keras.preprocessing.image import ImageDataGenerator\\\\n\",\\n        \"from keras.utils.np_utils import to_categorical# convert to one-hot-encoding\\\\n\",\\n        \"from keras.models import Sequential\\\\n\",\\n        \"from keras.optimizers import Adam\\\\n\",\\n        \"import matplotlib.pyplot as plt\\\\n\",\\n        \"import pandas as pd\\\\n\",\\n        \"from sklearn.model_selection import train_test_split\\\\n\",\\n        \"from sklearn.metrics import cohen_kappa_score, accuracy_score\\\\n\",\\n        \"import scipy\\\\n\",\\n        \"from tqdm import tqdm\\\\n\",\\n        \"import tensorflow as tf\\\\n\",\\n        \"from keras import backend as K\\\\n\",\\n        \"import gc\\\\n\",\\n        \"from functools import partial\\\\n\",\\n        \"from sklearn import metrics\\\\n\",\\n        \"from collections import Counter\\\\n\",\\n        \"import json\\\\n\",\\n        \"import itertools\\\\n\",\\n        \"%matplotlib inline\\\\n\",\\n        \"from glob import glob\\\\n\",\\n        \"from keras import Model\\\\n\",\\n        \"from keras.callbacks import ReduceLROnPlateau, EarlyStopping\\\\n\"\\n      ],\\n      \"execution_count\": 1,\\n      \"outputs\": []\\n    },\\n    {\\n      \"cell_type\": \"code\",\\n      \"metadata\": {\\n        \"id\": \"OQqIV7YL9uVE\"\\n      },\\n      \"source\": [\\n        \"! pip install -q kaggle\"\\n      ],\\n      \"execution_count\": 2,\\n      \"outputs\": []\\n    },\\n    {\\n      \"cell_type\": \"code\",\\n      \"metadata\": {\\n        \"id\": \"CnykuCy99uX6\"\\n      },\\n      \"source\": [\\n        \"from google.colab import files\"\\n      ],\\n      \"execution_count\": 3,\\n      \"outputs\": []\\n    },\\n    {\\n      \"cell_type\": \"code\",\\n      \"metadata\": {\\n        \"colab\": {\\n          \"resources\": {\\n            \"http://localhost:8080/nbextensions/google.colab/files.js\": {\\n              \"data\": \"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\",\\n              \"ok\": true,\\n              \"headers\": [\\n                [\\n                  \"content-type\",\\n                  \"application/javascript\"\\n                ]\\n              ],\\n              \"status\": 200,\\n              \"status_text\": \"\"\\n            }\\n          },\\n          \"base_uri\": \"https://localhost:8080/\",\\n          \"height\": 89\\n        },\\n        \"id\": \"hIdt1dOp9uac\",\\n        \"outputId\": \"4faf5cae-a530-44b8-8672-c7cb6e869a2f\"\\n      },\\n      \"source\": [\\n        \"files.upload()\"\\n      ],\\n      \"execution_count\": 4,\\n      \"outputs\": [\\n        {\\n          \"output_type\": \"display_data\",\\n          \"data\": {\\n            \"text/html\": [\\n              \"\\\\n\",\\n              \"     <input type=\\\\\"file\\\\\" id=\\\\\"files-3af548f5-1108-4a6a-92ef-7abff530f278\\\\\" name=\\\\\"files[]\\\\\" multiple disabled\\\\n\",\\n              \"        style=\\\\\"border:none\\\\\" />\\\\n\",\\n              \"     <output id=\\\\\"result-3af548f5-1108-4a6a-92ef-7abff530f278\\\\\">\\\\n\",\\n              \"      Upload widget is only available when the cell has been executed in the\\\\n\",\\n              \"      current browser session. Please rerun this cell to enable.\\\\n\",\\n              \"      </output>\\\\n\",\\n              \"      <script src=\\\\\"/nbextensions/google.colab/files.js\\\\\"></script> \"\\n            ],\\n            \"text/plain\": [\\n              \"<IPython.core.display.HTML object>\"\\n            ]\\n          },\\n          \"metadata\": {\\n            \"tags\": []\\n          }\\n        },\\n        {\\n          \"output_type\": \"stream\",\\n          \"text\": [\\n            \"Saving kaggle.json to kaggle.json\\\\n\"\\n          ],\\n          \"name\": \"stdout\"\\n        },\\n        {\\n          \"output_type\": \"execute_result\",\\n          \"data\": {\\n            \"text/plain\": [\\n              \"{\\'kaggle.json\\': b\\'{\\\\\"username\\\\\":\\\\\"adnanetahrijh\\\\\",\\\\\"key\\\\\":\\\\\"31ec79309ca0a4c5435f4ca89968dfc8\\\\\"}\\'}\"\\n            ]\\n          },\\n          \"metadata\": {\\n            \"tags\": []\\n          },\\n          \"execution_count\": 4\\n        }\\n      ]\\n    },\\n    {\\n      \"cell_type\": \"code\",\\n      \"metadata\": {\\n        \"colab\": {\\n          \"base_uri\": \"https://localhost:8080/\"\\n        },\\n        \"id\": \"zKoMuTEd9ud_\",\\n        \"outputId\": \"ac92d5fb-4a8d-4ae8-df43-53084ec5fde4\"\\n      },\\n      \"source\": [\\n        \"!mkdir -p ~/.kaggle\\\\n\",\\n        \"!cp kaggle.json ~/.kaggle/\\\\n\",\\n        \"!ls ~/.kaggle\\\\n\",\\n        \"!chmod 600 /root/.kaggle/kaggle.json\\\\n\",\\n        \"!kaggle datasets download \\\\\"sshikamaru/glaucoma-detection\\\\\"\"\\n      ],\\n      \"execution_count\": 5,\\n      \"outputs\": [\\n        {\\n          \"output_type\": \"stream\",\\n          \"text\": [\\n            \"kaggle.json\\\\n\",\\n            \"Downloading glaucoma-detection.zip to /content\\\\n\",\\n            \" 93% 174M/188M [00:01<00:00, 184MB/s]\\\\n\",\\n            \"100% 188M/188M [00:01<00:00, 175MB/s]\\\\n\"\\n          ],\\n          \"name\": \"stdout\"\\n        }\\n      ]\\n    },\\n    {\\n      \"cell_type\": \"code\",\\n      \"metadata\": {\\n        \"colab\": {\\n          \"base_uri\": \"https://localhost:8080/\"\\n        },\\n        \"id\": \"8hL3WU969ug-\",\\n        \"outputId\": \"409a3fe9-c52c-4ff6-b2c1-c5e063af7224\"\\n      },\\n      \"source\": [\\n        \"!unzip glaucoma-detection.zip\"\\n      ],\\n      \"execution_count\": 6,\\n      \"outputs\": [\\n        {\\n          \"output_type\": \"stream\",\\n          \"text\": [\\n            \"Archive:  glaucoma-detection.zip\\\\n\",\\n            \"  inflating: Fundus_Train_Val_Data/Fundus_Scanes_Sorted/Train/Glaucoma_Negative/001.jpg  \\\\n\",\\n            \"  inflating: Fundus_Train_Val_Data/Fundus_Scanes_Sorted/Train/Glaucoma_Negative/002.jpg  \\\\n\",\\n            \"  inflating: Fundus_Train_Val_Data/Fundus_Scanes_Sorted/Train/Glaucoma_Negative/003.jpg  \\\\n\",\\n            \"  inflating: Fundus_Train_Val_Data/Fundus_Scanes_Sorted/Train/Glaucoma_Negative/004.jpg  \\\\n\",\\n            \"  inflating: Fundus_Train_Val_Data/Fundus_Scanes_Sorted/Train/Glaucoma_Negative/005.jpg  \\\\n\",\\n            \"  inflating: Fundus_Train_Val_Data/Fundus_Scanes_Sorted/Train/Glaucoma_Negative/006.jpg  \\\\n\",\\n            \"  inflating: Fundus_Train_Val_Data/Fundus_Scanes_Sorted/Train/Glaucoma_Negative/007.jpg  \\\\n\",\\n            \"  inflating: Fundus_Train_Val_Data/Fundus_Scanes_Sorted/Train/Glaucoma_Negative/008.jpg  \\\\n\",\\n            \"  inflating: Fundus_Train_Val_Data/Fundus_Scanes_Sorted/Train/Glaucoma_Negative/009.jpg  \\\\n\",\\n            \"  inflating: Fundus_Train_Val_Data/Fundus_Scanes_Sorted/Train/Glaucoma_Negative/010.jpg  \\\\n\",\\n            \"  inflating: Fundus_Train_Val_Data/Fundus_Scanes_Sorted/Train/Glaucoma_Negative/011.jpg  \\\\n\",\\n            \"  inflating: Fundus_Train_Val_Data/Fundus_Scanes_Sorted/Train/Glaucoma_Negative/012.jpg  \\\\n\",\\n            \"  inflating: Fundus_Train_Val_Data/Fundus_Scanes_Sorted/Train/Glaucoma_Negative/013.jpg  \\\\n\",\\n            \"  inflating: Fundus_Train_Val_Data/Fundus_Scanes_Sorted/Train/Glaucoma_Negative/014.jpg  \\\\n\",\\n            \"  inflating: Fundus_Train_Val_Data/Fundus_Scanes_Sorted/Train/Glaucoma_Negative/015.jpg  \\\\n\",\\n            \"  inflating: Fundus_Train_Val_Data/Fundus_Scanes_Sorted/Train/Glaucoma_Negative/016.jpg  \\\\n\",\\n            \"  inflating: Fundus_Train_Val_Data/Fundus_Scanes_Sorted/Train/Glaucoma_Negative/017.jpg  \\\\n\",\\n            \"  inflating: Fundus_Train_Val_Data/Fundus_Scanes_Sorted/Train/Glaucoma_Negative/018.jpg  \\\\n\",\\n            \"  inflating: Fundus_Train_Val_Data/Fundus_Scanes_Sorted/Train/Glaucoma_Negative/019.jpg  \\\\n\",\\n            \"  inflating: Fundus_Train_Val_Data/Fundus_Scanes_Sorted/Train/Glaucoma_Negative/020.jpg  \\\\n\",\\n            \"  inflating: Fundus_Train_Val_Data/Fundus_Scanes_Sorted/Train/Glaucoma_Negative/021.jpg  \\\\n\",\\n            \"  inflating: Fundus_Train_Val_Data/Fundus_Scanes_Sorted/Train/Glaucoma_Negative/022.jpg  \\\\n\",\\n            \"  inflating: Fundus_Train_Val_Data/Fundus_Scanes_Sorted/Train/Glaucoma_Negative/023.jpg  \\\\n\",\\n            \"  inflating: Fundus_Train_Val_Data/Fundus_Scanes_Sorted/Train/Glaucoma_Negative/024.jpg  \\\\n\",\\n            \"  inflating: Fundus_Train_Val_Data/Fundus_Scanes_Sorted/Train/Glaucoma_Negative/025.jpg  \\\\n\",\\n            \"  inflating: Fundus_Train_Val_Data/Fundus_Scanes_Sorted/Train/Glaucoma_Negative/026.jpg  \\\\n\",\\n            \"  inflating: Fundus_Train_Val_Data/Fundus_Scanes_Sorted/Train/Glaucoma_Negative/027.jpg  \\\\n\",\\n            \"  inflating: Fundus_Train_Val_Data/Fundus_Scanes_Sorted/Train/Glaucoma_Negative/028.jpg  \\\\n\",\\n            \"  inflating: Fundus_Train_Val_Data/Fundus_Scanes_Sorted/Train/Glaucoma_Negative/029.jpg  \\\\n\",\\n            \"  inflating: Fundus_Train_Val_Data/Fundus_Scanes_Sorted/Train/Glaucoma_Negative/030.jpg  \\\\n\",\\n            \"  inflating: Fundus_Train_Val_Data/Fundus_Scanes_Sorted/Train/Glaucoma_Negative/031.jpg  \\\\n\",\\n            \"  inflating: Fundus_Train_Val_Data/Fundus_Scanes_Sorted/Train/Glaucoma_Negative/032.jpg  \\\\n\",\\n            \"  inflating: Fundus_Train_Val_Data/Fundus_Scanes_Sorted/Train/Glaucoma_Negative/033.jpg  \\\\n\",\\n            \"  inflating: Fundus_Train_Val_Data/Fundus_Scanes_Sorted/Train/Glaucoma_Negative/034.jpg  \\\\n\",\\n            \"  inflating: Fundus_Train_Val_Data/Fundus_Scanes_Sorted/Train/Glaucoma_Negative/035.jpg  \\\\n\",\\n            \"  inflating: Fundus_Train_Val_Data/Fundus_Scanes_Sorted/Train/Glaucoma_Negative/038.jpg  \\\\n\",\\n            \"  inflating: Fundus_Train_Val_Data/Fundus_Scanes_Sorted/Train/Glaucoma_Negative/039.jpg  \\\\n\",\\n            \"  inflating: Fundus_Train_Val_Data/Fundus_Scanes_Sorted/Train/Glaucoma_Negative/040.jpg  \\\\n\",\\n            \"  inflating: Fundus_Train_Val_Data/Fundus_Scanes_Sorted/Train/Glaucoma_Negative/042.jpg  \\\\n\",\\n            \"  inflating: Fundus_Train_Val_Data/Fundus_Scanes_Sorted/Train/Glaucoma_Negative/043.jpg  \\\\n\",\\n            \"  inflating: Fundus_Train_Val_Data/Fundus_Scanes_Sorted/Train/Glaucoma_Negative/044.jpg  \\\\n\",\\n            \"  inflating: Fundus_Train_Val_Data/Fundus_Scanes_Sorted/Train/Glaucoma_Negative/045.jpg  \\\\n\",\\n            \"  inflating: Fundus_Train_Val_Data/Fundus_Scanes_Sorted/Train/Glaucoma_Negative/046.jpg  \\\\n\",\\n            \"  inflating: Fundus_Train_Val_Data/Fundus_Scanes_Sorted/Train/Glaucoma_Negative/047.jpg  \\\\n\",\\n            \"  inflating: Fundus_Train_Val_Data/Fundus_Scanes_Sorted/Train/Glaucoma_Negative/048.jpg  \\\\n\",\\n            \"  inflating: Fundus_Train_Val_Data/Fundus_Scanes_Sorted/Train/Glaucoma_Negative/049.jpg  \\\\n\",\\n            \"  inflating: Fundus_Train_Val_Data/Fundus_Scanes_Sorted/Train/Glaucoma_Negative/051.jpg  \\\\n\",\\n            \"  inflating: Fundus_Train_Val_Data/Fundus_Scanes_Sorted/Train/Glaucoma_Negative/052.jpg  \\\\n\",\\n            \"  inflating: Fundus_Train_Val_Data/Fundus_Scanes_Sorted/Train/Glaucoma_Negative/053.jpg  \\\\n\",\\n            \"  inflating: Fundus_Train_Val_Data/Fundus_Scanes_Sorted/Train/Glaucoma_Negative/054.jpg  \\\\n\",\\n            \"  inflating: Fundus_Train_Val_Data/Fundus_Scanes_Sorted/Train/Glaucoma_Negative/055.jpg  \\\\n\",\\n            \"  inflating: Fundus_Train_Val_Data/Fundus_Scanes_Sorted/Train/Glaucoma_Negative/056.jpg  \\\\n\",\\n            \"  inflating: Fundus_Train_Val_Data/Fundus_Scanes_Sorted/Train/Glaucoma_Negative/057.jpg  \\\\n\",\\n            \"  inflating: Fundus_Train_Val_Data/Fundus_Scanes_Sorted/Train/Glaucoma_Negative/058.jpg  \\\\n\",\\n            \"  inflating: Fundus_Train_Val_Data/Fundus_Scanes_Sorted/Train/Glaucoma_Negative/059.jpg  \\\\n\",\\n            \"  inflating: Fundus_Train_Val_Data/Fundus_Scanes_Sorted/Train/Glaucoma_Negative/060.jpg  \\\\n\",\\n            \"  inflating: Fundus_Train_Val_Data/Fundus_Scanes_Sorted/Train/Glaucoma_Negative/061.jpg  \\\\n\",\\n            \"  inflating: Fundus_Train_Val_Data/Fundus_Scanes_Sorted/Train/Glaucoma_Negative/062.jpg  \\\\n\",\\n            \"  inflating: Fundus_Train_Val_Data/Fundus_Scanes_Sorted/Train/Glaucoma_Negative/063.jpg  \\\\n\",\\n            \"  inflating: Fundus_Train_Val_Data/Fundus_Scanes_Sorted/Train/Glaucoma_Negative/064.jpg  \\\\n\",\\n            \"  inflating: Fundus_Train_Val_Data/Fundus_Scanes_Sorted/Train/Glaucoma_Negative/065.jpg  \\\\n\",\\n            \"  inflating: Fundus_Train_Val_Data/Fundus_Scanes_Sorted/Train/Glaucoma_Negative/066.jpg  \\\\n\",\\n            \"  inflating: Fundus_Train_Val_Data/Fundus_Scanes_Sorted/Train/Glaucoma_Negative/067.jpg  \\\\n\",\\n            \"  inflating: Fundus_Train_Val_Data/Fundus_Scanes_Sorted/Train/Glaucoma_Negative/068.jpg  \\\\n\",\\n            \"  inflating: Fundus_Train_Val_Data/Fundus_Scanes_Sorted/Train/Glaucoma_Negative/070.jpg  \\\\n\",\\n            \"  inflating: Fundus_Train_Val_Data/Fundus_Scanes_Sorted/Train/Glaucoma_Negative/071.jpg  \\\\n\",\\n            \"  inflating: Fundus_Train_Val_Data/Fundus_Scanes_Sorted/Train/Glaucoma_Negative/073.jpg  \\\\n\",\\n            \"  inflating: Fundus_Train_Val_Data/Fundus_Scanes_Sorted/Train/Glaucoma_Negative/074.jpg  \\\\n\",\\n            \"  inflating: Fundus_Train_Val_Data/Fundus_Scanes_Sorted/Train/Glaucoma_Negative/075.jpg  \\\\n\",\\n            \"  inflating: Fundus_Train_Val_Data/Fundus_Scanes_Sorted/Train/Glaucoma_Negative/077.jpg  \\\\n\",\\n            \"  inflating: Fundus_Train_Val_Data/Fundus_Scanes_Sorted/Train/Glaucoma_Negative/078.jpg  \\\\n\",\\n            \"  inflating: Fundus_Train_Val_Data/Fundus_Scanes_Sorted/Train/Glaucoma_Negative/079.jpg  \\\\n\",\\n            \"  inflating: Fundus_Train_Val_Data/Fundus_Scanes_Sorted/Train/Glaucoma_Negative/080.jpg  \\\\n\",\\n            \"  inflating: Fundus_Train_Val_Data/Fundus_Scanes_Sorted/Train/Glaucoma_Negative/081.jpg  \\\\n\",\\n            \"  inflating: Fundus_Train_Val_Data/Fundus_Scanes_Sorted/Train/Glaucoma_Negative/082.jpg  \\\\n\",\\n            \"  inflating: Fundus_Train_Val_Data/Fundus_Scanes_Sorted/Train/Glaucoma_Negative/083.jpg  \\\\n\",\\n            \"  inflating: Fundus_Train_Val_Data/Fundus_Scanes_Sorted/Train/Glaucoma_Negative/084.jpg  \\\\n\",\\n            \"  inflating: Fundus_Train_Val_Data/Fundus_Scanes_Sorted/Train/Glaucoma_Negative/085.jpg  \\\\n\",\\n            \"  inflating: Fundus_Train_Val_Data/Fundus_Scanes_Sorted/Train/Glaucoma_Negative/088.jpg  \\\\n\",\\n            \"  inflating: Fundus_Train_Val_Data/Fundus_Scanes_Sorted/Train/Glaucoma_Negative/089.jpg  \\\\n\",\\n            \"  inflating: Fundus_Train_Val_Data/Fundus_Scanes_Sorted/Train/Glaucoma_Negative/090.jpg  \\\\n\",\\n            \"  inflating: Fundus_Train_Val_Data/Fundus_Scanes_Sorted/Train/Glaucoma_Negative/091.jpg  \\\\n\",\\n            \"  inflating: Fundus_Train_Val_Data/Fundus_Scanes_Sorted/Train/Glaucoma_Negative/092.jpg  \\\\n\",\\n            \"  inflating: Fundus_Train_Val_Data/Fundus_Scanes_Sorted/Train/Glaucoma_Negative/095.jpg  \\\\n\",\\n            \"  inflating: Fundus_Train_Val_Data/Fundus_Scanes_Sorted/Train/Glaucoma_Negative/096.jpg  \\\\n\",\\n            \"  inflating: Fundus_Train_Val_Data/Fundus_Scanes_Sorted/Train/Glaucoma_Negative/098.jpg  \\\\n\",\\n            \"  inflating: Fundus_Train_Val_Data/Fundus_Scanes_Sorted/Train/Glaucoma_Negative/099.jpg  \\\\n\",\\n            \"  inflating: Fundus_Train_Val_Data/Fundus_Scanes_Sorted/Train/Glaucoma_Negative/100.jpg  \\\\n\",\\n            \"  inflating: Fundus_Train_Val_Data/Fundus_Scanes_Sorted/Train/Glaucoma_Negative/101.jpg  \\\\n\",\\n            \"  inflating: Fundus_Train_Val_Data/Fundus_Scanes_Sorted/Train/Glaucoma_Negative/102.jpg  \\\\n\",\\n            \"  inflating: Fundus_Train_Val_Data/Fundus_Scanes_Sorted/Train/Glaucoma_Negative/103.jpg  \\\\n\",\\n            \"  inflating: Fundus_Train_Val_Data/Fundus_Scanes_Sorted/Train/Glaucoma_Negative/104.jpg  \\\\n\",\\n            \"  inflating: Fundus_Train_Val_Data/Fundus_Scanes_Sorted/Train/Glaucoma_Negative/105.jpg  \\\\n\",\\n            \"  inflating: Fundus_Train_Val_Data/Fundus_Scanes_Sorted/Train/Glaucoma_Negative/106.jpg  \\\\n\",\\n            \"  inflating: Fundus_Train_Val_Data/Fundus_Scanes_Sorted/Train/Glaucoma_Negative/107.jpg  \\\\n\",\\n            \"  inflating: Fundus_Train_Val_Data/Fundus_Scanes_Sorted/Train/Glaucoma_Negative/108.jpg  \\\\n\",\\n            \"  inflating: Fundus_Train_Val_Data/Fundus_Scanes_Sorted/Train/Glaucoma_Negative/109.jpg  \\\\n\",\\n            \"  inflating: Fundus_Train_Val_Data/Fundus_Scanes_Sorted/Train/Glaucoma_Negative/111.jpg  \\\\n\",\\n            \"  inflating: Fundus_Train_Val_Data/Fundus_Scanes_Sorted/Train/Glaucoma_Negative/112.jpg  \\\\n\",\\n            \"  inflating: Fundus_Train_Val_Data/Fundus_Scanes_Sorted/Train/Glaucoma_Negative/113.jpg  \\\\n\",\\n            \"  inflating: Fundus_Train_Val_Data/Fundus_Scanes_Sorted/Train/Glaucoma_Negative/114.jpg  \\\\n\",\\n            \"  inflating: Fundus_Train_Val_Data/Fundus_Scanes_Sorted/Train/Glaucoma_Negative/115.jpg  \\\\n\",\\n            \"  inflating: Fundus_Train_Val_Data/Fundus_Scanes_Sorted/Train/Glaucoma_Negative/117.jpg  \\\\n\",\\n            \"  inflating: Fundus_Train_Val_Data/Fundus_Scanes_Sorted/Train/Glaucoma_Negative/118.jpg  \\\\n\",\\n            \"  inflating: Fundus_Train_Val_Data/Fundus_Scanes_Sorted/Train/Glaucoma_Negative/119.jpg  \\\\n\",\\n            \"  inflating: Fundus_Train_Val_Data/Fundus_Scanes_Sorted/Train/Glaucoma_Negative/120.jpg  \\\\n\",\\n            \"  inflating: Fundus_Train_Val_Data/Fundus_Scanes_Sorted/Train/Glaucoma_Negative/121.jpg  \\\\n\",\\n            \"  inflating: Fundus_Train_Val_Data/Fundus_Scanes_Sorted/Train/Glaucoma_Negative/122.jpg  \\\\n\",\\n            \"  inflating: Fundus_Train_Val_Data/Fundus_Scanes_Sorted/Train/Glaucoma_Negative/123.jpg  \\\\n\",\\n            \"  inflating: Fundus_Train_Val_Data/Fundus_Scanes_Sorted/Train/Glaucoma_Negative/124.jpg  \\\\n\",\\n            \"  inflating: Fundus_Train_Val_Data/Fundus_Scanes_Sorted/Train/Glaucoma_Negative/125.jpg  \\\\n\",\\n            \"  inflating: Fundus_Train_Val_Data/Fundus_Scanes_Sorted/Train/Glaucoma_Negative/126.jpg  \\\\n\",\\n            \"  inflating: Fundus_Train_Val_Data/Fundus_Scanes_Sorted/Train/Glaucoma_Negative/127.jpg  \\\\n\",\\n            \"  inflating: Fundus_Train_Val_Data/Fundus_Scanes_Sorted/Train/Glaucoma_Negative/128.jpg  \\\\n\",\\n            \"  inflating: Fundus_Train_Val_Data/Fundus_Scanes_Sorted/Train/Glaucoma_Negative/129.jpg  \\\\n\",\\n            \"  inflating: Fundus_Train_Val_Data/Fundus_Scanes_Sorted/Train/Glaucoma_Negative/130.jpg  \\\\n\",\\n            \"  inflating: Fundus_Train_Val_Data/Fundus_Scanes_Sorted/Train/Glaucoma_Negative/131.jpg  \\\\n\",\\n            \"  inflating: Fundus_Train_Val_Data/Fundus_Scanes_Sorted/Train/Glaucoma_Negative/132.jpg  \\\\n\",\\n            \"  inflating: Fundus_Train_Val_Data/Fundus_Scanes_Sorted/Train/Glaucoma_Negative/133.jpg  \\\\n\",\\n            \"  inflating: Fundus_Train_Val_Data/Fundus_Scanes_Sorted/Train/Glaucoma_Negative/134.jpg  \\\\n\",\\n            \"  inflating: Fundus_Train_Val_Data/Fundus_Scanes_Sorted/Train/Glaucoma_Negative/135.jpg  \\\\n\",\\n            \"  inflating: Fundus_Train_Val_Data/Fundus_Scanes_Sorted/Train/Glaucoma_Negative/136.jpg  \\\\n\",\\n            \"  inflating: Fundus_Train_Val_Data/Fundus_Scanes_Sorted/Train/Glaucoma_Negative/137.jpg  \\\\n\",\\n            \"  inflating: Fundus_Train_Val_Data/Fundus_Scanes_Sorted/Train/Glaucoma_Negative/139.jpg  \\\\n\",\\n            \"  inflating: Fundus_Train_Val_Data/Fundus_Scanes_Sorted/Train/Glaucoma_Negative/140.jpg  \\\\n\",\\n            \"  inflating: Fundus_Train_Val_Data/Fundus_Scanes_Sorted/Train/Glaucoma_Negative/141.jpg  \\\\n\",\\n            \"  inflating: Fundus_Train_Val_Data/Fundus_Scanes_Sorted/Train/Glaucoma_Negative/142.jpg  \\\\n\",\\n            \"  inflating: Fundus_Train_Val_Data/Fundus_Scanes_Sorted/Train/Glaucoma_Negative/143.jpg  \\\\n\",\\n            \"  inflating: Fundus_Train_Val_Data/Fundus_Scanes_Sorted/Train/Glaucoma_Negative/144.jpg  \\\\n\",\\n            \"  inflating: Fundus_Train_Val_Data/Fundus_Scanes_Sorted/Train/Glaucoma_Negative/145.jpg  \\\\n\",\\n            \"  inflating: Fundus_Train_Val_Data/Fundus_Scanes_Sorted/Train/Glaucoma_Negative/146.jpg  \\\\n\",\\n            \"  inflating: Fundus_Train_Val_Data/Fundus_Scanes_Sorted/Train/Glaucoma_Negative/147.jpg  \\\\n\",\\n            \"  inflating: Fundus_Train_Val_Data/Fundus_Scanes_Sorted/Train/Glaucoma_Negative/148.jpg  \\\\n\",\\n            \"  inflating: Fundus_Train_Val_Data/Fundus_Scanes_Sorted/Train/Glaucoma_Negative/149.jpg  \\\\n\",\\n            \"  inflating: Fundus_Train_Val_Data/Fundus_Scanes_Sorted/Train/Glaucoma_Negative/150.jpg  \\\\n\",\\n            \"  inflating: Fundus_Train_Val_Data/Fundus_Scanes_Sorted/Train/Glaucoma_Negative/151.jpg  \\\\n\",\\n            \"  inflating: Fundus_Train_Val_Data/Fundus_Scanes_Sorted/Train/Glaucoma_Negative/152.jpg  \\\\n\",\\n            \"  inflating: Fundus_Train_Val_Data/Fundus_Scanes_Sorted/Train/Glaucoma_Negative/153.jpg  \\\\n\",\\n            \"  inflating: Fundus_Train_Val_Data/Fundus_Scanes_Sorted/Train/Glaucoma_Negative/154.jpg  \\\\n\",\\n            \"  inflating: Fundus_Train_Val_Data/Fundus_Scanes_Sorted/Train/Glaucoma_Negative/155.jpg  \\\\n\",\\n            \"  inflating: Fundus_Train_Val_Data/Fundus_Scanes_Sorted/Train/Glaucoma_Negative/156.jpg  \\\\n\",\\n            \"  inflating: Fundus_Train_Val_Data/Fundus_Scanes_Sorted/Train/Glaucoma_Negative/157.jpg  \\\\n\",\\n            \"  inflating: Fundus_Train_Val_Data/Fundus_Scanes_Sorted/Train/Glaucoma_Negative/161.jpg  \\\\n\",\\n            \"  inflating: Fundus_Train_Val_Data/Fundus_Scanes_Sorted/Train/Glaucoma_Negative/162.jpg  \\\\n\",\\n            \"  inflating: Fundus_Train_Val_Data/Fundus_Scanes_Sorted/Train/Glaucoma_Negative/163.jpg  \\\\n\",\\n            \"  inflating: Fundus_Train_Val_Data/Fundus_Scanes_Sorted/Train/Glaucoma_Negative/164.jpg  \\\\n\",\\n            \"  inflating: Fundus_Train_Val_Data/Fundus_Scanes_Sorted/Train/Glaucoma_Negative/166.jpg  \\\\n\",\\n            \"  inflating: Fundus_Train_Val_Data/Fundus_Scanes_Sorted/Train/Glaucoma_Negative/167.jpg  \\\\n\",\\n            \"  inflating: Fundus_Train_Val_Data/Fundus_Scanes_Sorted/Train/Glaucoma_Negative/169.jpg  \\\\n\",\\n            \"  inflating: Fundus_Train_Val_Data/Fundus_Scanes_Sorted/Train/Glaucoma_Negative/170.jpg  \\\\n\",\\n            \"  inflating: Fundus_Train_Val_Data/Fundus_Scanes_Sorted/Train/Glaucoma_Negative/172.jpg  \\\\n\",\\n            \"  inflating: Fundus_Train_Val_Data/Fundus_Scanes_Sorted/Train/Glaucoma_Negative/173.jpg  \\\\n\",\\n            \"  inflating: Fundus_Train_Val_Data/Fundus_Scanes_Sorted/Train/Glaucoma_Negative/174.jpg  \\\\n\",\\n            \"  inflating: Fundus_Train_Val_Data/Fundus_Scanes_Sorted/Train/Glaucoma_Negative/175.jpg  \\\\n\",\\n            \"  inflating: Fundus_Train_Val_Data/Fundus_Scanes_Sorted/Train/Glaucoma_Negative/176.jpg  \\\\n\",\\n            \"  inflating: Fundus_Train_Val_Data/Fundus_Scanes_Sorted/Train/Glaucoma_Negative/177.jpg  \\\\n\",\\n            \"  inflating: Fundus_Train_Val_Data/Fundus_Scanes_Sorted/Train/Glaucoma_Negative/178.jpg  \\\\n\",\\n            \"  inflating: Fundus_Train_Val_Data/Fundus_Scanes_Sorted/Train/Glaucoma_Negative/179.jpg  \\\\n\",\\n            \"  inflating: Fundus_Train_Val_Data/Fundus_Scanes_Sorted/Train/Glaucoma_Negative/183.jpg  \\\\n\",\\n            \"  inflating: Fundus_Train_Val_Data/Fundus_Scanes_Sorted/Train/Glaucoma_Negative/184.jpg  \\\\n\",\\n            \"  inflating: Fundus_Train_Val_Data/Fundus_Scanes_Sorted/Train/Glaucoma_Negative/185.jpg  \\\\n\",\\n            \"  inflating: Fundus_Train_Val_Data/Fundus_Scanes_Sorted/Train/Glaucoma_Negative/186.jpg  \\\\n\",\\n            \"  inflating: Fundus_Train_Val_Data/Fundus_Scanes_Sorted/Train/Glaucoma_Negative/187.jpg  \\\\n\",\\n            \"  inflating: Fundus_Train_Val_Data/Fundus_Scanes_Sorted/Train/Glaucoma_Negative/188.jpg  \\\\n\",\\n            \"  inflating: Fundus_Train_Val_Data/Fundus_Scanes_Sorted/Train/Glaucoma_Negative/189.jpg  \\\\n\",\\n            \"  inflating: Fundus_Train_Val_Data/Fundus_Scanes_Sorted/Train/Glaucoma_Negative/190.jpg  \\\\n\",\\n            \"  inflating: Fundus_Train_Val_Data/Fundus_Scanes_Sorted/Train/Glaucoma_Negative/191.jpg  \\\\n\",\\n            \"  inflating: Fundus_Train_Val_Data/Fundus_Scanes_Sorted/Train/Glaucoma_Negative/192.jpg  \\\\n\",\\n            \"  inflating: Fundus_Train_Val_Data/Fundus_Scanes_Sorted/Train/Glaucoma_Negative/193.jpg  \\\\n\",\\n            \"  inflating: Fundus_Train_Val_Data/Fundus_Scanes_Sorted/Train/Glaucoma_Negative/194.jpg  \\\\n\",\\n            \"  inflating: Fundus_Train_Val_Data/Fundus_Scanes_Sorted/Train/Glaucoma_Negative/195.jpg  \\\\n\",\\n            \"  inflating: Fundus_Train_Val_Data/Fundus_Scanes_Sorted/Train/Glaucoma_Negative/196.jpg  \\\\n\",\\n            \"  inflating: Fundus_Train_Val_Data/Fundus_Scanes_Sorted/Train/Glaucoma_Negative/197.jpg  \\\\n\",\\n            \"  inflating: Fundus_Train_Val_Data/Fundus_Scanes_Sorted/Train/Glaucoma_Negative/198.jpg  \\\\n\",\\n            \"  inflating: Fundus_Train_Val_Data/Fundus_Scanes_Sorted/Train/Glaucoma_Negative/199.jpg  \\\\n\",\\n            \"  inflating: Fundus_Train_Val_Data/Fundus_Scanes_Sorted/Train/Glaucoma_Negative/200.jpg  \\\\n\",\\n            \"  inflating: Fundus_Train_Val_Data/Fundus_Scanes_Sorted/Train/Glaucoma_Negative/201.jpg  \\\\n\",\\n            \"  inflating: Fundus_Train_Val_Data/Fundus_Scanes_Sorted/Train/Glaucoma_Negative/202.jpg  \\\\n\",\\n            \"  inflating: Fundus_Train_Val_Data/Fundus_Scanes_Sorted/Train/Glaucoma_Negative/203.jpg  \\\\n\",\\n            \"  inflating: Fundus_Train_Val_Data/Fundus_Scanes_Sorted/Train/Glaucoma_Negative/204.jpg  \\\\n\",\\n            \"  inflating: Fundus_Train_Val_Data/Fundus_Scanes_Sorted/Train/Glaucoma_Negative/205.jpg  \\\\n\",\\n            \"  inflating: Fundus_Train_Val_Data/Fundus_Scanes_Sorted/Train/Glaucoma_Negative/206.jpg  \\\\n\",\\n            \"  inflating: Fundus_Train_Val_Data/Fundus_Scanes_Sorted/Train/Glaucoma_Negative/207.jpg  \\\\n\",\\n            \"  inflating: Fundus_Train_Val_Data/Fundus_Scanes_Sorted/Train/Glaucoma_Negative/209.jpg  \\\\n\",\\n            \"  inflating: Fundus_Train_Val_Data/Fundus_Scanes_Sorted/Train/Glaucoma_Negative/210.jpg  \\\\n\",\\n            \"  inflating: Fundus_Train_Val_Data/Fundus_Scanes_Sorted/Train/Glaucoma_Negative/211.jpg  \\\\n\",\\n            \"  inflating: Fundus_Train_Val_Data/Fundus_Scanes_Sorted/Train/Glaucoma_Negative/212.jpg  \\\\n\",\\n            \"  inflating: Fundus_Train_Val_Data/Fundus_Scanes_Sorted/Train/Glaucoma_Negative/214.jpg  \\\\n\",\\n            \"  inflating: Fundus_Train_Val_Data/Fundus_Scanes_Sorted/Train/Glaucoma_Negative/215.jpg  \\\\n\",\\n            \"  inflating: Fundus_Train_Val_Data/Fundus_Scanes_Sorted/Train/Glaucoma_Negative/216.jpg  \\\\n\",\\n            \"  inflating: Fundus_Train_Val_Data/Fundus_Scanes_Sorted/Train/Glaucoma_Negative/217.jpg  \\\\n\",\\n            \"  inflating: Fundus_Train_Val_Data/Fundus_Scanes_Sorted/Train/Glaucoma_Negative/218.jpg  \\\\n\",\\n            \"  inflating: Fundus_Train_Val_Data/Fundus_Scanes_Sorted/Train/Glaucoma_Negative/219.jpg  \\\\n\",\\n            \"  inflating: Fundus_Train_Val_Data/Fundus_Scanes_Sorted/Train/Glaucoma_Negative/220.jpg  \\\\n\",\\n            \"  inflating: Fundus_Train_Val_Data/Fundus_Scanes_Sorted/Train/Glaucoma_Negative/221.jpg  \\\\n\",\\n            \"  inflating: Fundus_Train_Val_Data/Fundus_Scanes_Sorted/Train/Glaucoma_Negative/222.jpg  \\\\n\",\\n            \"  inflating: Fundus_Train_Val_Data/Fundus_Scanes_Sorted/Train/Glaucoma_Negative/223.jpg  \\\\n\",\\n            \"  inflating: Fundus_Train_Val_Data/Fundus_Scanes_Sorted/Train/Glaucoma_Negative/224.jpg  \\\\n\",\\n            \"  inflating: Fundus_Train_Val_Data/Fundus_Scanes_Sorted/Train/Glaucoma_Negative/226.jpg  \\\\n\",\\n            \"  inflating: Fundus_Train_Val_Data/Fundus_Scanes_Sorted/Train/Glaucoma_Negative/227.jpg  \\\\n\",\\n            \"  inflating: Fundus_Train_Val_Data/Fundus_Scanes_Sorted/Train/Glaucoma_Negative/230.jpg  \\\\n\",\\n            \"  inflating: Fundus_Train_Val_Data/Fundus_Scanes_Sorted/Train/Glaucoma_Negative/231.jpg  \\\\n\",\\n            \"  inflating: Fundus_Train_Val_Data/Fundus_Scanes_Sorted/Train/Glaucoma_Negative/232.jpg  \\\\n\",\\n            \"  inflating: Fundus_Train_Val_Data/Fundus_Scanes_Sorted/Train/Glaucoma_Negative/234.jpg  \\\\n\",\\n            \"  inflating: Fundus_Train_Val_Data/Fundus_Scanes_Sorted/Train/Glaucoma_Negative/235.jpg  \\\\n\",\\n            \"  inflating: Fundus_Train_Val_Data/Fundus_Scanes_Sorted/Train/Glaucoma_Negative/236.jpg  \\\\n\",\\n            \"  inflating: Fundus_Train_Val_Data/Fundus_Scanes_Sorted/Train/Glaucoma_Negative/237.jpg  \\\\n\",\\n            \"  inflating: Fundus_Train_Val_Data/Fundus_Scanes_Sorted/Train/Glaucoma_Negative/238.jpg  \\\\n\",\\n            \"  inflating: Fundus_Train_Val_Data/Fundus_Scanes_Sorted/Train/Glaucoma_Negative/239.jpg  \\\\n\",\\n            \"  inflating: Fundus_Train_Val_Data/Fundus_Scanes_Sorted/Train/Glaucoma_Negative/242.jpg  \\\\n\",\\n            \"  inflating: Fundus_Train_Val_Data/Fundus_Scanes_Sorted/Train/Glaucoma_Negative/243.jpg  \\\\n\",\\n            \"  inflating: Fundus_Train_Val_Data/Fundus_Scanes_Sorted/Train/Glaucoma_Negative/244.jpg  \\\\n\",\\n            \"  inflating: Fundus_Train_Val_Data/Fundus_Scanes_Sorted/Train/Glaucoma_Negative/248.jpg  \\\\n\",\\n            \"  inflating: Fundus_Train_Val_Data/Fundus_Scanes_Sorted/Train/Glaucoma_Negative/249.jpg  \\\\n\",\\n            \"  inflating: Fundus_Train_Val_Data/Fundus_Scanes_Sorted/Train/Glaucoma_Negative/250.jpg  \\\\n\",\\n            \"  inflating: Fundus_Train_Val_Data/Fundus_Scanes_Sorted/Train/Glaucoma_Negative/251.jpg  \\\\n\",\\n            \"  inflating: Fundus_Train_Val_Data/Fundus_Scanes_Sorted/Train/Glaucoma_Negative/252.jpg  \\\\n\",\\n            \"  inflating: Fundus_Train_Val_Data/Fundus_Scanes_Sorted/Train/Glaucoma_Negative/253.jpg  \\\\n\",\\n            \"  inflating: Fundus_Train_Val_Data/Fundus_Scanes_Sorted/Train/Glaucoma_Negative/254.jpg  \\\\n\",\\n            \"  inflating: Fundus_Train_Val_Data/Fundus_Scanes_Sorted/Train/Glaucoma_Negative/255.jpg  \\\\n\",\\n            \"  inflating: Fundus_Train_Val_Data/Fundus_Scanes_Sorted/Train/Glaucoma_Negative/256.jpg  \\\\n\",\\n            \"  inflating: Fundus_Train_Val_Data/Fundus_Scanes_Sorted/Train/Glaucoma_Negative/257.jpg  \\\\n\",\\n            \"  inflating: Fundus_Train_Val_Data/Fundus_Scanes_Sorted/Train/Glaucoma_Negative/258.jpg  \\\\n\",\\n            \"  inflating: Fundus_Train_Val_Data/Fundus_Scanes_Sorted/Train/Glaucoma_Negative/259.jpg  \\\\n\",\\n            \"  inflating: Fundus_Train_Val_Data/Fundus_Scanes_Sorted/Train/Glaucoma_Negative/260.jpg  \\\\n\",\\n            \"  inflating: Fundus_Train_Val_Data/Fundus_Scanes_Sorted/Train/Glaucoma_Negative/261.jpg  \\\\n\",\\n            \"  inflating: Fundus_Train_Val_Data/Fundus_Scanes_Sorted/Train/Glaucoma_Negative/262.jpg  \\\\n\",\\n            \"  inflating: Fundus_Train_Val_Data/Fundus_Scanes_Sorted/Train/Glaucoma_Negative/263.jpg  \\\\n\",\\n            \"  inflating: Fundus_Train_Val_Data/Fundus_Scanes_Sorted/Train/Glaucoma_Negative/264.jpg  \\\\n\",\\n            \"  inflating: Fundus_Train_Val_Data/Fundus_Scanes_Sorted/Train/Glaucoma_Negative/265.jpg  \\\\n\",\\n            \"  inflating: Fundus_Train_Val_Data/Fundus_Scanes_Sorted/Train/Glaucoma_Negative/266.jpg  \\\\n\",\\n            \"  inflating: Fundus_Train_Val_Data/Fundus_Scanes_Sorted/Train/Glaucoma_Negative/267.jpg  \\\\n\",\\n            \"  inflating: Fundus_Train_Val_Data/Fundus_Scanes_Sorted/Train/Glaucoma_Negative/268.jpg  \\\\n\",\\n            \"  inflating: Fundus_Train_Val_Data/Fundus_Scanes_Sorted/Train/Glaucoma_Negative/271.jpg  \\\\n\",\\n            \"  inflating: Fundus_Train_Val_Data/Fundus_Scanes_Sorted/Train/Glaucoma_Negative/272.jpg  \\\\n\",\\n            \"  inflating: Fundus_Train_Val_Data/Fundus_Scanes_Sorted/Train/Glaucoma_Negative/274.jpg  \\\\n\",\\n            \"  inflating: Fundus_Train_Val_Data/Fundus_Scanes_Sorted/Train/Glaucoma_Negative/275.jpg  \\\\n\",\\n            \"  inflating: Fundus_Train_Val_Data/Fundus_Scanes_Sorted/Train/Glaucoma_Negative/276.jpg  \\\\n\",\\n            \"  inflating: Fundus_Train_Val_Data/Fundus_Scanes_Sorted/Train/Glaucoma_Negative/279.jpg  \\\\n\",\\n            \"  inflating: Fundus_Train_Val_Data/Fundus_Scanes_Sorted/Train/Glaucoma_Negative/280.jpg  \\\\n\",\\n            \"  inflating: Fundus_Train_Val_Data/Fundus_Scanes_Sorted/Train/Glaucoma_Negative/281.jpg  \\\\n\",\\n            \"  inflating: Fundus_Train_Val_Data/Fundus_Scanes_Sorted/Train/Glaucoma_Negative/282.jpg  \\\\n\",\\n            \"  inflating: Fundus_Train_Val_Data/Fundus_Scanes_Sorted/Train/Glaucoma_Negative/287.jpg  \\\\n\",\\n            \"  inflating: Fundus_Train_Val_Data/Fundus_Scanes_Sorted/Train/Glaucoma_Negative/288.jpg  \\\\n\",\\n            \"  inflating: Fundus_Train_Val_Data/Fundus_Scanes_Sorted/Train/Glaucoma_Negative/290.jpg  \\\\n\",\\n            \"  inflating: Fundus_Train_Val_Data/Fundus_Scanes_Sorted/Train/Glaucoma_Negative/291.jpg  \\\\n\",\\n            \"  inflating: Fundus_Train_Val_Data/Fundus_Scanes_Sorted/Train/Glaucoma_Negative/292.jpg  \\\\n\",\\n            \"  inflating: Fundus_Train_Val_Data/Fundus_Scanes_Sorted/Train/Glaucoma_Negative/295.jpg  \\\\n\",\\n            \"  inflating: Fundus_Train_Val_Data/Fundus_Scanes_Sorted/Train/Glaucoma_Negative/296.jpg  \\\\n\",\\n            \"  inflating: Fundus_Train_Val_Data/Fundus_Scanes_Sorted/Train/Glaucoma_Negative/297.jpg  \\\\n\",\\n            \"  inflating: Fundus_Train_Val_Data/Fundus_Scanes_Sorted/Train/Glaucoma_Negative/298.jpg  \\\\n\",\\n            \"  inflating: Fundus_Train_Val_Data/Fundus_Scanes_Sorted/Train/Glaucoma_Negative/299.jpg  \\\\n\",\\n            \"  inflating: Fundus_Train_Val_Data/Fundus_Scanes_Sorted/Train/Glaucoma_Negative/302.jpg  \\\\n\",\\n            \"  inflating: Fundus_Train_Val_Data/Fundus_Scanes_Sorted/Train/Glaucoma_Negative/303.jpg  \\\\n\",\\n            \"  inflating: Fundus_Train_Val_Data/Fundus_Scanes_Sorted/Train/Glaucoma_Negative/307.jpg  \\\\n\",\\n            \"  inflating: Fundus_Train_Val_Data/Fundus_Scanes_Sorted/Train/Glaucoma_Negative/308.jpg  \\\\n\",\\n            \"  inflating: Fundus_Train_Val_Data/Fundus_Scanes_Sorted/Train/Glaucoma_Negative/309.jpg  \\\\n\",\\n            \"  inflating: Fundus_Train_Val_Data/Fundus_Scanes_Sorted/Train/Glaucoma_Negative/310.jpg  \\\\n\",\\n            \"  inflating: Fundus_Train_Val_Data/Fundus_Scanes_Sorted/Train/Glaucoma_Negative/311.jpg  \\\\n\",\\n            \"  inflating: Fundus_Train_Val_Data/Fundus_Scanes_Sorted/Train/Glaucoma_Negative/313.jpg  \\\\n\",\\n            \"  inflating: Fundus_Train_Val_Data/Fundus_Scanes_Sorted/Train/Glaucoma_Negative/314.jpg  \\\\n\",\\n            \"  inflating: Fundus_Train_Val_Data/Fundus_Scanes_Sorted/Train/Glaucoma_Negative/315.jpg  \\\\n\",\\n            \"  inflating: Fundus_Train_Val_Data/Fundus_Scanes_Sorted/Train/Glaucoma_Negative/316.jpg  \\\\n\",\\n            \"  inflating: Fundus_Train_Val_Data/Fundus_Scanes_Sorted/Train/Glaucoma_Negative/318.jpg  \\\\n\",\\n            \"  inflating: Fundus_Train_Val_Data/Fundus_Scanes_Sorted/Train/Glaucoma_Negative/319.jpg  \\\\n\",\\n            \"  inflating: Fundus_Train_Val_Data/Fundus_Scanes_Sorted/Train/Glaucoma_Negative/320.jpg  \\\\n\",\\n            \"  inflating: Fundus_Train_Val_Data/Fundus_Scanes_Sorted/Train/Glaucoma_Negative/321.jpg  \\\\n\",\\n            \"  inflating: Fundus_Train_Val_Data/Fundus_Scanes_Sorted/Train/Glaucoma_Negative/323.jpg  \\\\n\",\\n            \"  inflating: Fundus_Train_Val_Data/Fundus_Scanes_Sorted/Train/Glaucoma_Negative/324.jpg  \\\\n\",\\n            \"  inflating: Fundus_Train_Val_Data/Fundus_Scanes_Sorted/Train/Glaucoma_Negative/325.jpg  \\\\n\",\\n            \"  inflating: Fundus_Train_Val_Data/Fundus_Scanes_Sorted/Train/Glaucoma_Negative/326.jpg  \\\\n\",\\n            \"  inflating: Fundus_Train_Val_Data/Fundus_Scanes_Sorted/Train/Glaucoma_Negative/328.jpg  \\\\n\",\\n            \"  inflating: Fundus_Train_Val_Data/Fundus_Scanes_Sorted/Train/Glaucoma_Negative/329.jpg  \\\\n\",\\n            \"  inflating: Fundus_Train_Val_Data/Fundus_Scanes_Sorted/Train/Glaucoma_Negative/331.jpg  \\\\n\",\\n            \"  inflating: Fundus_Train_Val_Data/Fundus_Scanes_Sorted/Train/Glaucoma_Negative/332.jpg  \\\\n\",\\n            \"  inflating: Fundus_Train_Val_Data/Fundus_Scanes_Sorted/Train/Glaucoma_Negative/333.jpg  \\\\n\",\\n            \"  inflating: Fundus_Train_Val_Data/Fundus_Scanes_Sorted/Train/Glaucoma_Negative/334.jpg  \\\\n\",\\n            \"  inflating: Fundus_Train_Val_Data/Fundus_Scanes_Sorted/Train/Glaucoma_Negative/335.jpg  \\\\n\",\\n            \"  inflating: Fundus_Train_Val_Data/Fundus_Scanes_Sorted/Train/Glaucoma_Negative/338.jpg  \\\\n\",\\n            \"  inflating: Fundus_Train_Val_Data/Fundus_Scanes_Sorted/Train/Glaucoma_Negative/339.jpg  \\\\n\",\\n            \"  inflating: Fundus_Train_Val_Data/Fundus_Scanes_Sorted/Train/Glaucoma_Negative/341.jpg  \\\\n\",\\n            \"  inflating: Fundus_Train_Val_Data/Fundus_Scanes_Sorted/Train/Glaucoma_Negative/342.jpg  \\\\n\",\\n            \"  inflating: Fundus_Train_Val_Data/Fundus_Scanes_Sorted/Train/Glaucoma_Negative/343.jpg  \\\\n\",\\n            \"  inflating: Fundus_Train_Val_Data/Fundus_Scanes_Sorted/Train/Glaucoma_Negative/344.jpg  \\\\n\",\\n            \"  inflating: Fundus_Train_Val_Data/Fundus_Scanes_Sorted/Train/Glaucoma_Negative/346.jpg  \\\\n\",\\n            \"  inflating: Fundus_Train_Val_Data/Fundus_Scanes_Sorted/Train/Glaucoma_Negative/347.jpg  \\\\n\",\\n            \"  inflating: Fundus_Train_Val_Data/Fundus_Scanes_Sorted/Train/Glaucoma_Negative/350.jpg  \\\\n\",\\n            \"  inflating: Fundus_Train_Val_Data/Fundus_Scanes_Sorted/Train/Glaucoma_Negative/351.jpg  \\\\n\",\\n            \"  inflating: Fundus_Train_Val_Data/Fundus_Scanes_Sorted/Train/Glaucoma_Negative/352.jpg  \\\\n\",\\n            \"  inflating: Fundus_Train_Val_Data/Fundus_Scanes_Sorted/Train/Glaucoma_Negative/355.jpg  \\\\n\",\\n            \"  inflating: Fundus_Train_Val_Data/Fundus_Scanes_Sorted/Train/Glaucoma_Negative/356.jpg  \\\\n\",\\n            \"  inflating: Fundus_Train_Val_Data/Fundus_Scanes_Sorted/Train/Glaucoma_Negative/357.jpg  \\\\n\",\\n            \"  inflating: Fundus_Train_Val_Data/Fundus_Scanes_Sorted/Train/Glaucoma_Negative/358.jpg  \\\\n\",\\n            \"  inflating: Fundus_Train_Val_Data/Fundus_Scanes_Sorted/Train/Glaucoma_Negative/360.jpg  \\\\n\",\\n            \"  inflating: Fundus_Train_Val_Data/Fundus_Scanes_Sorted/Train/Glaucoma_Negative/361.jpg  \\\\n\",\\n            \"  inflating: Fundus_Train_Val_Data/Fundus_Scanes_Sorted/Train/Glaucoma_Negative/363.jpg  \\\\n\",\\n            \"  inflating: Fundus_Train_Val_Data/Fundus_Scanes_Sorted/Train/Glaucoma_Negative/364.jpg  \\\\n\",\\n            \"  inflating: Fundus_Train_Val_Data/Fundus_Scanes_Sorted/Train/Glaucoma_Negative/365.jpg  \\\\n\",\\n            \"  inflating: Fundus_Train_Val_Data/Fundus_Scanes_Sorted/Train/Glaucoma_Negative/367.jpg  \\\\n\",\\n            \"  inflating: Fundus_Train_Val_Data/Fundus_Scanes_Sorted/Train/Glaucoma_Negative/368.jpg  \\\\n\",\\n            \"  inflating: Fundus_Train_Val_Data/Fundus_Scanes_Sorted/Train/Glaucoma_Negative/369.jpg  \\\\n\",\\n            \"  inflating: Fundus_Train_Val_Data/Fundus_Scanes_Sorted/Train/Glaucoma_Negative/370.jpg  \\\\n\",\\n            \"  inflating: Fundus_Train_Val_Data/Fundus_Scanes_Sorted/Train/Glaucoma_Negative/371.jpg  \\\\n\",\\n            \"  inflating: Fundus_Train_Val_Data/Fundus_Scanes_Sorted/Train/Glaucoma_Negative/372.jpg  \\\\n\",\\n            \"  inflating: Fundus_Train_Val_Data/Fundus_Scanes_Sorted/Train/Glaucoma_Negative/373.jpg  \\\\n\",\\n            \"  inflating: Fundus_Train_Val_Data/Fundus_Scanes_Sorted/Train/Glaucoma_Negative/374.jpg  \\\\n\",\\n            \"  inflating: Fundus_Train_Val_Data/Fundus_Scanes_Sorted/Train/Glaucoma_Negative/375.jpg  \\\\n\",\\n            \"  inflating: Fundus_Train_Val_Data/Fundus_Scanes_Sorted/Train/Glaucoma_Negative/376.jpg  \\\\n\",\\n            \"  inflating: Fundus_Train_Val_Data/Fundus_Scanes_Sorted/Train/Glaucoma_Negative/378.jpg  \\\\n\",\\n            \"  inflating: Fundus_Train_Val_Data/Fundus_Scanes_Sorted/Train/Glaucoma_Negative/379.jpg  \\\\n\",\\n            \"  inflating: Fundus_Train_Val_Data/Fundus_Scanes_Sorted/Train/Glaucoma_Negative/380.jpg  \\\\n\",\\n            \"  inflating: Fundus_Train_Val_Data/Fundus_Scanes_Sorted/Train/Glaucoma_Negative/384.jpg  \\\\n\",\\n            \"  inflating: Fundus_Train_Val_Data/Fundus_Scanes_Sorted/Train/Glaucoma_Negative/387.jpg  \\\\n\",\\n            \"  inflating: Fundus_Train_Val_Data/Fundus_Scanes_Sorted/Train/Glaucoma_Negative/388.jpg  \\\\n\",\\n            \"  inflating: Fundus_Train_Val_Data/Fundus_Scanes_Sorted/Train/Glaucoma_Negative/391.jpg  \\\\n\",\\n            \"  inflating: Fundus_Train_Val_Data/Fundus_Scanes_Sorted/Train/Glaucoma_Negative/392.jpg  \\\\n\",\\n            \"  inflating: Fundus_Train_Val_Data/Fundus_Scanes_Sorted/Train/Glaucoma_Negative/393.jpg  \\\\n\",\\n            \"  inflating: Fundus_Train_Val_Data/Fundus_Scanes_Sorted/Train/Glaucoma_Negative/394.jpg  \\\\n\",\\n            \"  inflating: Fundus_Train_Val_Data/Fundus_Scanes_Sorted/Train/Glaucoma_Negative/396.jpg  \\\\n\",\\n            \"  inflating: Fundus_Train_Val_Data/Fundus_Scanes_Sorted/Train/Glaucoma_Negative/397.jpg  \\\\n\",\\n            \"  inflating: Fundus_Train_Val_Data/Fundus_Scanes_Sorted/Train/Glaucoma_Negative/399.jpg  \\\\n\",\\n            \"  inflating: Fundus_Train_Val_Data/Fundus_Scanes_Sorted/Train/Glaucoma_Negative/400.jpg  \\\\n\",\\n            \"  inflating: Fundus_Train_Val_Data/Fundus_Scanes_Sorted/Train/Glaucoma_Negative/401.jpg  \\\\n\",\\n            \"  inflating: Fundus_Train_Val_Data/Fundus_Scanes_Sorted/Train/Glaucoma_Negative/403.jpg  \\\\n\",\\n            \"  inflating: Fundus_Train_Val_Data/Fundus_Scanes_Sorted/Train/Glaucoma_Negative/404.jpg  \\\\n\",\\n            \"  inflating: Fundus_Train_Val_Data/Fundus_Scanes_Sorted/Train/Glaucoma_Negative/405.jpg  \\\\n\",\\n            \"  inflating: Fundus_Train_Val_Data/Fundus_Scanes_Sorted/Train/Glaucoma_Negative/406.jpg  \\\\n\",\\n            \"  inflating: Fundus_Train_Val_Data/Fundus_Scanes_Sorted/Train/Glaucoma_Negative/408.jpg  \\\\n\",\\n            \"  inflating: Fundus_Train_Val_Data/Fundus_Scanes_Sorted/Train/Glaucoma_Negative/409.jpg  \\\\n\",\\n            \"  inflating: Fundus_Train_Val_Data/Fundus_Scanes_Sorted/Train/Glaucoma_Negative/410.jpg  \\\\n\",\\n            \"  inflating: Fundus_Train_Val_Data/Fundus_Scanes_Sorted/Train/Glaucoma_Negative/411.jpg  \\\\n\",\\n            \"  inflating: Fundus_Train_Val_Data/Fundus_Scanes_Sorted/Train/Glaucoma_Negative/412.jpg  \\\\n\",\\n            \"  inflating: Fundus_Train_Val_Data/Fundus_Scanes_Sorted/Train/Glaucoma_Negative/413.jpg  \\\\n\",\\n            \"  inflating: Fundus_Train_Val_Data/Fundus_Scanes_Sorted/Train/Glaucoma_Negative/414.jpg  \\\\n\",\\n            \"  inflating: Fundus_Train_Val_Data/Fundus_Scanes_Sorted/Train/Glaucoma_Negative/415.jpg  \\\\n\",\\n            \"  inflating: Fundus_Train_Val_Data/Fundus_Scanes_Sorted/Train/Glaucoma_Negative/416.jpg  \\\\n\",\\n            \"  inflating: Fundus_Train_Val_Data/Fundus_Scanes_Sorted/Train/Glaucoma_Negative/417.jpg  \\\\n\",\\n            \"  inflating: Fundus_Train_Val_Data/Fundus_Scanes_Sorted/Train/Glaucoma_Negative/418.jpg  \\\\n\",\\n            \"  inflating: Fundus_Train_Val_Data/Fundus_Scanes_Sorted/Train/Glaucoma_Negative/420.jpg  \\\\n\",\\n            \"  inflating: Fundus_Train_Val_Data/Fundus_Scanes_Sorted/Train/Glaucoma_Negative/421.jpg  \\\\n\",\\n            \"  inflating: Fundus_Train_Val_Data/Fundus_Scanes_Sorted/Train/Glaucoma_Negative/422.jpg  \\\\n\",\\n            \"  inflating: Fundus_Train_Val_Data/Fundus_Scanes_Sorted/Train/Glaucoma_Negative/423.jpg  \\\\n\",\\n            \"  inflating: Fundus_Train_Val_Data/Fundus_Scanes_Sorted/Train/Glaucoma_Negative/425.jpg  \\\\n\",\\n            \"  inflating: Fundus_Train_Val_Data/Fundus_Scanes_Sorted/Train/Glaucoma_Negative/427.jpg  \\\\n\",\\n            \"  inflating: Fundus_Train_Val_Data/Fundus_Scanes_Sorted/Train/Glaucoma_Negative/428.jpg  \\\\n\",\\n            \"  inflating: Fundus_Train_Val_Data/Fundus_Scanes_Sorted/Train/Glaucoma_Negative/430.jpg  \\\\n\",\\n            \"  inflating: Fundus_Train_Val_Data/Fundus_Scanes_Sorted/Train/Glaucoma_Negative/431.jpg  \\\\n\",\\n            \"  inflating: Fundus_Train_Val_Data/Fundus_Scanes_Sorted/Train/Glaucoma_Negative/434.jpg  \\\\n\",\\n            \"  inflating: Fundus_Train_Val_Data/Fundus_Scanes_Sorted/Train/Glaucoma_Negative/435.jpg  \\\\n\",\\n            \"  inflating: Fundus_Train_Val_Data/Fundus_Scanes_Sorted/Train/Glaucoma_Negative/436.jpg  \\\\n\",\\n            \"  inflating: Fundus_Train_Val_Data/Fundus_Scanes_Sorted/Train/Glaucoma_Negative/437.jpg  \\\\n\",\\n            \"  inflating: Fundus_Train_Val_Data/Fundus_Scanes_Sorted/Train/Glaucoma_Negative/438.jpg  \\\\n\",\\n            \"  inflating: Fundus_Train_Val_Data/Fundus_Scanes_Sorted/Train/Glaucoma_Negative/443.jpg  \\\\n\",\\n            \"  inflating: Fundus_Train_Val_Data/Fundus_Scanes_Sorted/Train/Glaucoma_Negative/444.jpg  \\\\n\",\\n            \"  inflating: Fundus_Train_Val_Data/Fundus_Scanes_Sorted/Train/Glaucoma_Negative/445.jpg  \\\\n\",\\n            \"  inflating: Fundus_Train_Val_Data/Fundus_Scanes_Sorted/Train/Glaucoma_Negative/446.jpg  \\\\n\",\\n            \"  inflating: Fundus_Train_Val_Data/Fundus_Scanes_Sorted/Train/Glaucoma_Negative/447.jpg  \\\\n\",\\n            \"  inflating: Fundus_Train_Val_Data/Fundus_Scanes_Sorted/Train/Glaucoma_Negative/448.jpg  \\\\n\",\\n            \"  inflating: Fundus_Train_Val_Data/Fundus_Scanes_Sorted/Train/Glaucoma_Negative/449.jpg  \\\\n\",\\n            \"  inflating: Fundus_Train_Val_Data/Fundus_Scanes_Sorted/Train/Glaucoma_Negative/450.jpg  \\\\n\",\\n            \"  inflating: Fundus_Train_Val_Data/Fundus_Scanes_Sorted/Train/Glaucoma_Negative/451.jpg  \\\\n\",\\n            \"  inflating: Fundus_Train_Val_Data/Fundus_Scanes_Sorted/Train/Glaucoma_Negative/452.jpg  \\\\n\",\\n            \"  inflating: Fundus_Train_Val_Data/Fundus_Scanes_Sorted/Train/Glaucoma_Negative/453.jpg  \\\\n\",\\n            \"  inflating: Fundus_Train_Val_Data/Fundus_Scanes_Sorted/Train/Glaucoma_Negative/454.jpg  \\\\n\",\\n            \"  inflating: Fundus_Train_Val_Data/Fundus_Scanes_Sorted/Train/Glaucoma_Negative/455.jpg  \\\\n\",\\n            \"  inflating: Fundus_Train_Val_Data/Fundus_Scanes_Sorted/Train/Glaucoma_Negative/456.jpg  \\\\n\",\\n            \"  inflating: Fundus_Train_Val_Data/Fundus_Scanes_Sorted/Train/Glaucoma_Negative/459.jpg  \\\\n\",\\n            \"  inflating: Fundus_Train_Val_Data/Fundus_Scanes_Sorted/Train/Glaucoma_Negative/460.jpg  \\\\n\",\\n            \"  inflating: Fundus_Train_Val_Data/Fundus_Scanes_Sorted/Train/Glaucoma_Negative/461.jpg  \\\\n\",\\n            \"  inflating: Fundus_Train_Val_Data/Fundus_Scanes_Sorted/Train/Glaucoma_Negative/462.jpg  \\\\n\",\\n            \"  inflating: Fundus_Train_Val_Data/Fundus_Scanes_Sorted/Train/Glaucoma_Negative/463.jpg  \\\\n\",\\n            \"  inflating: Fundus_Train_Val_Data/Fundus_Scanes_Sorted/Train/Glaucoma_Negative/464.jpg  \\\\n\",\\n            \"  inflating: Fundus_Train_Val_Data/Fundus_Scanes_Sorted/Train/Glaucoma_Negative/466.jpg  \\\\n\",\\n            \"  inflating: Fundus_Train_Val_Data/Fundus_Scanes_Sorted/Train/Glaucoma_Negative/467.jpg  \\\\n\",\\n            \"  inflating: Fundus_Train_Val_Data/Fundus_Scanes_Sorted/Train/Glaucoma_Negative/469.jpg  \\\\n\",\\n            \"  inflating: Fundus_Train_Val_Data/Fundus_Scanes_Sorted/Train/Glaucoma_Negative/470.jpg  \\\\n\",\\n            \"  inflating: Fundus_Train_Val_Data/Fundus_Scanes_Sorted/Train/Glaucoma_Negative/471.jpg  \\\\n\",\\n            \"  inflating: Fundus_Train_Val_Data/Fundus_Scanes_Sorted/Train/Glaucoma_Negative/472.jpg  \\\\n\",\\n            \"  inflating: Fundus_Train_Val_Data/Fundus_Scanes_Sorted/Train/Glaucoma_Negative/473.jpg  \\\\n\",\\n            \"  inflating: Fundus_Train_Val_Data/Fundus_Scanes_Sorted/Train/Glaucoma_Negative/475.jpg  \\\\n\",\\n            \"  inflating: Fundus_Train_Val_Data/Fundus_Scanes_Sorted/Train/Glaucoma_Negative/476.jpg  \\\\n\",\\n            \"  inflating: Fundus_Train_Val_Data/Fundus_Scanes_Sorted/Train/Glaucoma_Negative/477.jpg  \\\\n\",\\n            \"  inflating: Fundus_Train_Val_Data/Fundus_Scanes_Sorted/Train/Glaucoma_Negative/478.jpg  \\\\n\",\\n            \"  inflating: Fundus_Train_Val_Data/Fundus_Scanes_Sorted/Train/Glaucoma_Negative/479.jpg  \\\\n\",\\n            \"  inflating: Fundus_Train_Val_Data/Fundus_Scanes_Sorted/Train/Glaucoma_Negative/481.jpg  \\\\n\",\\n            \"  inflating: Fundus_Train_Val_Data/Fundus_Scanes_Sorted/Train/Glaucoma_Negative/482.jpg  \\\\n\",\\n            \"  inflating: Fundus_Train_Val_Data/Fundus_Scanes_Sorted/Train/Glaucoma_Positive/036.jpg  \\\\n\",\\n            \"  inflating: Fundus_Train_Val_Data/Fundus_Scanes_Sorted/Train/Glaucoma_Positive/037.jpg  \\\\n\",\\n            \"  inflating: Fundus_Train_Val_Data/Fundus_Scanes_Sorted/Train/Glaucoma_Positive/041.jpg  \\\\n\",\\n            \"  inflating: Fundus_Train_Val_Data/Fundus_Scanes_Sorted/Train/Glaucoma_Positive/050.jpg  \\\\n\",\\n            \"  inflating: Fundus_Train_Val_Data/Fundus_Scanes_Sorted/Train/Glaucoma_Positive/069.jpg  \\\\n\",\\n            \"  inflating: Fundus_Train_Val_Data/Fundus_Scanes_Sorted/Train/Glaucoma_Positive/072.jpg  \\\\n\",\\n            \"  inflating: Fundus_Train_Val_Data/Fundus_Scanes_Sorted/Train/Glaucoma_Positive/076.jpg  \\\\n\",\\n            \"  inflating: Fundus_Train_Val_Data/Fundus_Scanes_Sorted/Train/Glaucoma_Positive/086.jpg  \\\\n\",\\n            \"  inflating: Fundus_Train_Val_Data/Fundus_Scanes_Sorted/Train/Glaucoma_Positive/087.jpg  \\\\n\",\\n            \"  inflating: Fundus_Train_Val_Data/Fundus_Scanes_Sorted/Train/Glaucoma_Positive/093.jpg  \\\\n\",\\n            \"  inflating: Fundus_Train_Val_Data/Fundus_Scanes_Sorted/Train/Glaucoma_Positive/094.jpg  \\\\n\",\\n            \"  inflating: Fundus_Train_Val_Data/Fundus_Scanes_Sorted/Train/Glaucoma_Positive/097.jpg  \\\\n\",\\n            \"  inflating: Fundus_Train_Val_Data/Fundus_Scanes_Sorted/Train/Glaucoma_Positive/110.jpg  \\\\n\",\\n            \"  inflating: Fundus_Train_Val_Data/Fundus_Scanes_Sorted/Train/Glaucoma_Positive/116.jpg  \\\\n\",\\n            \"  inflating: Fundus_Train_Val_Data/Fundus_Scanes_Sorted/Train/Glaucoma_Positive/138.jpg  \\\\n\",\\n            \"  inflating: Fundus_Train_Val_Data/Fundus_Scanes_Sorted/Train/Glaucoma_Positive/158.jpg  \\\\n\",\\n            \"  inflating: Fundus_Train_Val_Data/Fundus_Scanes_Sorted/Train/Glaucoma_Positive/159.jpg  \\\\n\",\\n            \"  inflating: Fundus_Train_Val_Data/Fundus_Scanes_Sorted/Train/Glaucoma_Positive/160.jpg  \\\\n\",\\n            \"  inflating: Fundus_Train_Val_Data/Fundus_Scanes_Sorted/Train/Glaucoma_Positive/165.jpg  \\\\n\",\\n            \"  inflating: Fundus_Train_Val_Data/Fundus_Scanes_Sorted/Train/Glaucoma_Positive/168.jpg  \\\\n\",\\n            \"  inflating: Fundus_Train_Val_Data/Fundus_Scanes_Sorted/Train/Glaucoma_Positive/171.jpg  \\\\n\",\\n            \"  inflating: Fundus_Train_Val_Data/Fundus_Scanes_Sorted/Train/Glaucoma_Positive/180.jpg  \\\\n\",\\n            \"  inflating: Fundus_Train_Val_Data/Fundus_Scanes_Sorted/Train/Glaucoma_Positive/181.jpg  \\\\n\",\\n            \"  inflating: Fundus_Train_Val_Data/Fundus_Scanes_Sorted/Train/Glaucoma_Positive/182.jpg  \\\\n\",\\n            \"  inflating: Fundus_Train_Val_Data/Fundus_Scanes_Sorted/Train/Glaucoma_Positive/208.jpg  \\\\n\",\\n            \"  inflating: Fundus_Train_Val_Data/Fundus_Scanes_Sorted/Train/Glaucoma_Positive/213.jpg  \\\\n\",\\n            \"  inflating: Fundus_Train_Val_Data/Fundus_Scanes_Sorted/Train/Glaucoma_Positive/225.jpg  \\\\n\",\\n            \"  inflating: Fundus_Train_Val_Data/Fundus_Scanes_Sorted/Train/Glaucoma_Positive/228.jpg  \\\\n\",\\n            \"  inflating: Fundus_Train_Val_Data/Fundus_Scanes_Sorted/Train/Glaucoma_Positive/229.jpg  \\\\n\",\\n            \"  inflating: Fundus_Train_Val_Data/Fundus_Scanes_Sorted/Train/Glaucoma_Positive/233.jpg  \\\\n\",\\n            \"  inflating: Fundus_Train_Val_Data/Fundus_Scanes_Sorted/Train/Glaucoma_Positive/240.jpg  \\\\n\",\\n            \"  inflating: Fundus_Train_Val_Data/Fundus_Scanes_Sorted/Train/Glaucoma_Positive/241.jpg  \\\\n\",\\n            \"  inflating: Fundus_Train_Val_Data/Fundus_Scanes_Sorted/Train/Glaucoma_Positive/245.jpg  \\\\n\",\\n            \"  inflating: Fundus_Train_Val_Data/Fundus_Scanes_Sorted/Train/Glaucoma_Positive/246.jpg  \\\\n\",\\n            \"  inflating: Fundus_Train_Val_Data/Fundus_Scanes_Sorted/Train/Glaucoma_Positive/247.jpg  \\\\n\",\\n            \"  inflating: Fundus_Train_Val_Data/Fundus_Scanes_Sorted/Train/Glaucoma_Positive/269.jpg  \\\\n\",\\n            \"  inflating: Fundus_Train_Val_Data/Fundus_Scanes_Sorted/Train/Glaucoma_Positive/270.jpg  \\\\n\",\\n            \"  inflating: Fundus_Train_Val_Data/Fundus_Scanes_Sorted/Train/Glaucoma_Positive/273.jpg  \\\\n\",\\n            \"  inflating: Fundus_Train_Val_Data/Fundus_Scanes_Sorted/Train/Glaucoma_Positive/277.jpg  \\\\n\",\\n            \"  inflating: Fundus_Train_Val_Data/Fundus_Scanes_Sorted/Train/Glaucoma_Positive/278.jpg  \\\\n\",\\n            \"  inflating: Fundus_Train_Val_Data/Fundus_Scanes_Sorted/Train/Glaucoma_Positive/283.jpg  \\\\n\",\\n            \"  inflating: Fundus_Train_Val_Data/Fundus_Scanes_Sorted/Train/Glaucoma_Positive/284.jpg  \\\\n\",\\n            \"  inflating: Fundus_Train_Val_Data/Fundus_Scanes_Sorted/Train/Glaucoma_Positive/285.jpg  \\\\n\",\\n            \"  inflating: Fundus_Train_Val_Data/Fundus_Scanes_Sorted/Train/Glaucoma_Positive/286.jpg  \\\\n\",\\n            \"  inflating: Fundus_Train_Val_Data/Fundus_Scanes_Sorted/Train/Glaucoma_Positive/289.jpg  \\\\n\",\\n            \"  inflating: Fundus_Train_Val_Data/Fundus_Scanes_Sorted/Train/Glaucoma_Positive/293.jpg  \\\\n\",\\n            \"  inflating: Fundus_Train_Val_Data/Fundus_Scanes_Sorted/Train/Glaucoma_Positive/294.jpg  \\\\n\",\\n            \"  inflating: Fundus_Train_Val_Data/Fundus_Scanes_Sorted/Train/Glaucoma_Positive/300.jpg  \\\\n\",\\n            \"  inflating: Fundus_Train_Val_Data/Fundus_Scanes_Sorted/Train/Glaucoma_Positive/301.jpg  \\\\n\",\\n            \"  inflating: Fundus_Train_Val_Data/Fundus_Scanes_Sorted/Train/Glaucoma_Positive/304.jpg  \\\\n\",\\n            \"  inflating: Fundus_Train_Val_Data/Fundus_Scanes_Sorted/Train/Glaucoma_Positive/305.jpg  \\\\n\",\\n            \"  inflating: Fundus_Train_Val_Data/Fundus_Scanes_Sorted/Train/Glaucoma_Positive/306.jpg  \\\\n\",\\n            \"  inflating: Fundus_Train_Val_Data/Fundus_Scanes_Sorted/Train/Glaucoma_Positive/312.jpg  \\\\n\",\\n            \"  inflating: Fundus_Train_Val_Data/Fundus_Scanes_Sorted/Train/Glaucoma_Positive/317.jpg  \\\\n\",\\n            \"  inflating: Fundus_Train_Val_Data/Fundus_Scanes_Sorted/Train/Glaucoma_Positive/322.jpg  \\\\n\",\\n            \"  inflating: Fundus_Train_Val_Data/Fundus_Scanes_Sorted/Train/Glaucoma_Positive/327.jpg  \\\\n\",\\n            \"  inflating: Fundus_Train_Val_Data/Fundus_Scanes_Sorted/Train/Glaucoma_Positive/330.jpg  \\\\n\",\\n            \"  inflating: Fundus_Train_Val_Data/Fundus_Scanes_Sorted/Train/Glaucoma_Positive/336.jpg  \\\\n\",\\n            \"  inflating: Fundus_Train_Val_Data/Fundus_Scanes_Sorted/Train/Glaucoma_Positive/337.jpg  \\\\n\",\\n            \"  inflating: Fundus_Train_Val_Data/Fundus_Scanes_Sorted/Train/Glaucoma_Positive/340.jpg  \\\\n\",\\n            \"  inflating: Fundus_Train_Val_Data/Fundus_Scanes_Sorted/Train/Glaucoma_Positive/345.jpg  \\\\n\",\\n            \"  inflating: Fundus_Train_Val_Data/Fundus_Scanes_Sorted/Train/Glaucoma_Positive/348.jpg  \\\\n\",\\n            \"  inflating: Fundus_Train_Val_Data/Fundus_Scanes_Sorted/Train/Glaucoma_Positive/349.jpg  \\\\n\",\\n            \"  inflating: Fundus_Train_Val_Data/Fundus_Scanes_Sorted/Train/Glaucoma_Positive/353.jpg  \\\\n\",\\n            \"  inflating: Fundus_Train_Val_Data/Fundus_Scanes_Sorted/Train/Glaucoma_Positive/354.jpg  \\\\n\",\\n            \"  inflating: Fundus_Train_Val_Data/Fundus_Scanes_Sorted/Train/Glaucoma_Positive/359.jpg  \\\\n\",\\n            \"  inflating: Fundus_Train_Val_Data/Fundus_Scanes_Sorted/Train/Glaucoma_Positive/362.jpg  \\\\n\",\\n            \"  inflating: Fundus_Train_Val_Data/Fundus_Scanes_Sorted/Train/Glaucoma_Positive/366.jpg  \\\\n\",\\n            \"  inflating: Fundus_Train_Val_Data/Fundus_Scanes_Sorted/Train/Glaucoma_Positive/377.jpg  \\\\n\",\\n            \"  inflating: Fundus_Train_Val_Data/Fundus_Scanes_Sorted/Train/Glaucoma_Positive/381.jpg  \\\\n\",\\n            \"  inflating: Fundus_Train_Val_Data/Fundus_Scanes_Sorted/Train/Glaucoma_Positive/382.jpg  \\\\n\",\\n            \"  inflating: Fundus_Train_Val_Data/Fundus_Scanes_Sorted/Train/Glaucoma_Positive/383.jpg  \\\\n\",\\n            \"  inflating: Fundus_Train_Val_Data/Fundus_Scanes_Sorted/Train/Glaucoma_Positive/385.jpg  \\\\n\",\\n            \"  inflating: Fundus_Train_Val_Data/Fundus_Scanes_Sorted/Train/Glaucoma_Positive/386.jpg  \\\\n\",\\n            \"  inflating: Fundus_Train_Val_Data/Fundus_Scanes_Sorted/Train/Glaucoma_Positive/389.jpg  \\\\n\",\\n            \"  inflating: Fundus_Train_Val_Data/Fundus_Scanes_Sorted/Train/Glaucoma_Positive/390.jpg  \\\\n\",\\n            \"  inflating: Fundus_Train_Val_Data/Fundus_Scanes_Sorted/Train/Glaucoma_Positive/395.jpg  \\\\n\",\\n            \"  inflating: Fundus_Train_Val_Data/Fundus_Scanes_Sorted/Train/Glaucoma_Positive/398.jpg  \\\\n\",\\n            \"  inflating: Fundus_Train_Val_Data/Fundus_Scanes_Sorted/Train/Glaucoma_Positive/402.jpg  \\\\n\",\\n            \"  inflating: Fundus_Train_Val_Data/Fundus_Scanes_Sorted/Train/Glaucoma_Positive/407.jpg  \\\\n\",\\n            \"  inflating: Fundus_Train_Val_Data/Fundus_Scanes_Sorted/Train/Glaucoma_Positive/419.jpg  \\\\n\",\\n            \"  inflating: Fundus_Train_Val_Data/Fundus_Scanes_Sorted/Train/Glaucoma_Positive/424.jpg  \\\\n\",\\n            \"  inflating: Fundus_Train_Val_Data/Fundus_Scanes_Sorted/Train/Glaucoma_Positive/426.jpg  \\\\n\",\\n            \"  inflating: Fundus_Train_Val_Data/Fundus_Scanes_Sorted/Train/Glaucoma_Positive/429.jpg  \\\\n\",\\n            \"  inflating: Fundus_Train_Val_Data/Fundus_Scanes_Sorted/Train/Glaucoma_Positive/432.jpg  \\\\n\",\\n            \"  inflating: Fundus_Train_Val_Data/Fundus_Scanes_Sorted/Train/Glaucoma_Positive/433.jpg  \\\\n\",\\n            \"  inflating: Fundus_Train_Val_Data/Fundus_Scanes_Sorted/Train/Glaucoma_Positive/439.jpg  \\\\n\",\\n            \"  inflating: Fundus_Train_Val_Data/Fundus_Scanes_Sorted/Train/Glaucoma_Positive/440.jpg  \\\\n\",\\n            \"  inflating: Fundus_Train_Val_Data/Fundus_Scanes_Sorted/Train/Glaucoma_Positive/441.jpg  \\\\n\",\\n            \"  inflating: Fundus_Train_Val_Data/Fundus_Scanes_Sorted/Train/Glaucoma_Positive/442.jpg  \\\\n\",\\n            \"  inflating: Fundus_Train_Val_Data/Fundus_Scanes_Sorted/Train/Glaucoma_Positive/457.jpg  \\\\n\",\\n            \"  inflating: Fundus_Train_Val_Data/Fundus_Scanes_Sorted/Train/Glaucoma_Positive/458.jpg  \\\\n\",\\n            \"  inflating: Fundus_Train_Val_Data/Fundus_Scanes_Sorted/Train/Glaucoma_Positive/465.jpg  \\\\n\",\\n            \"  inflating: Fundus_Train_Val_Data/Fundus_Scanes_Sorted/Train/Glaucoma_Positive/468.jpg  \\\\n\",\\n            \"  inflating: Fundus_Train_Val_Data/Fundus_Scanes_Sorted/Train/Glaucoma_Positive/474.jpg  \\\\n\",\\n            \"  inflating: Fundus_Train_Val_Data/Fundus_Scanes_Sorted/Train/Glaucoma_Positive/480.jpg  \\\\n\",\\n            \"  inflating: Fundus_Train_Val_Data/Fundus_Scanes_Sorted/Train/Glaucoma_Positive/486.jpg  \\\\n\",\\n            \"  inflating: Fundus_Train_Val_Data/Fundus_Scanes_Sorted/Train/Glaucoma_Positive/490.jpg  \\\\n\",\\n            \"  inflating: Fundus_Train_Val_Data/Fundus_Scanes_Sorted/Train/Glaucoma_Positive/496.jpg  \\\\n\",\\n            \"  inflating: Fundus_Train_Val_Data/Fundus_Scanes_Sorted/Train/Glaucoma_Positive/505.jpg  \\\\n\",\\n            \"  inflating: Fundus_Train_Val_Data/Fundus_Scanes_Sorted/Train/Glaucoma_Positive/506.jpg  \\\\n\",\\n            \"  inflating: Fundus_Train_Val_Data/Fundus_Scanes_Sorted/Train/Glaucoma_Positive/507.jpg  \\\\n\",\\n            \"  inflating: Fundus_Train_Val_Data/Fundus_Scanes_Sorted/Train/Glaucoma_Positive/508.jpg  \\\\n\",\\n            \"  inflating: Fundus_Train_Val_Data/Fundus_Scanes_Sorted/Train/Glaucoma_Positive/511.jpg  \\\\n\",\\n            \"  inflating: Fundus_Train_Val_Data/Fundus_Scanes_Sorted/Train/Glaucoma_Positive/512.jpg  \\\\n\",\\n            \"  inflating: Fundus_Train_Val_Data/Fundus_Scanes_Sorted/Train/Glaucoma_Positive/514.jpg  \\\\n\",\\n            \"  inflating: Fundus_Train_Val_Data/Fundus_Scanes_Sorted/Train/Glaucoma_Positive/515.jpg  \\\\n\",\\n            \"  inflating: Fundus_Train_Val_Data/Fundus_Scanes_Sorted/Train/Glaucoma_Positive/516.jpg  \\\\n\",\\n            \"  inflating: Fundus_Train_Val_Data/Fundus_Scanes_Sorted/Train/Glaucoma_Positive/519.jpg  \\\\n\",\\n            \"  inflating: Fundus_Train_Val_Data/Fundus_Scanes_Sorted/Train/Glaucoma_Positive/523.jpg  \\\\n\",\\n            \"  inflating: Fundus_Train_Val_Data/Fundus_Scanes_Sorted/Train/Glaucoma_Positive/524.jpg  \\\\n\",\\n            \"  inflating: Fundus_Train_Val_Data/Fundus_Scanes_Sorted/Train/Glaucoma_Positive/528.jpg  \\\\n\",\\n            \"  inflating: Fundus_Train_Val_Data/Fundus_Scanes_Sorted/Train/Glaucoma_Positive/532.jpg  \\\\n\",\\n            \"  inflating: Fundus_Train_Val_Data/Fundus_Scanes_Sorted/Train/Glaucoma_Positive/533.jpg  \\\\n\",\\n            \"  inflating: Fundus_Train_Val_Data/Fundus_Scanes_Sorted/Train/Glaucoma_Positive/545.jpg  \\\\n\",\\n            \"  inflating: Fundus_Train_Val_Data/Fundus_Scanes_Sorted/Train/Glaucoma_Positive/549.jpg  \\\\n\",\\n            \"  inflating: Fundus_Train_Val_Data/Fundus_Scanes_Sorted/Train/Glaucoma_Positive/550.jpg  \\\\n\",\\n            \"  inflating: Fundus_Train_Val_Data/Fundus_Scanes_Sorted/Train/Glaucoma_Positive/556.jpg  \\\\n\",\\n            \"  inflating: Fundus_Train_Val_Data/Fundus_Scanes_Sorted/Train/Glaucoma_Positive/557.jpg  \\\\n\",\\n            \"  inflating: Fundus_Train_Val_Data/Fundus_Scanes_Sorted/Train/Glaucoma_Positive/558.jpg  \\\\n\",\\n            \"  inflating: Fundus_Train_Val_Data/Fundus_Scanes_Sorted/Train/Glaucoma_Positive/560.jpg  \\\\n\",\\n            \"  inflating: Fundus_Train_Val_Data/Fundus_Scanes_Sorted/Train/Glaucoma_Positive/571.jpg  \\\\n\",\\n            \"  inflating: Fundus_Train_Val_Data/Fundus_Scanes_Sorted/Train/Glaucoma_Positive/572.jpg  \\\\n\",\\n            \"  inflating: Fundus_Train_Val_Data/Fundus_Scanes_Sorted/Train/Glaucoma_Positive/578.jpg  \\\\n\",\\n            \"  inflating: Fundus_Train_Val_Data/Fundus_Scanes_Sorted/Train/Glaucoma_Positive/580.jpg  \\\\n\",\\n            \"  inflating: Fundus_Train_Val_Data/Fundus_Scanes_Sorted/Train/Glaucoma_Positive/582.jpg  \\\\n\",\\n            \"  inflating: Fundus_Train_Val_Data/Fundus_Scanes_Sorted/Train/Glaucoma_Positive/584.jpg  \\\\n\",\\n            \"  inflating: Fundus_Train_Val_Data/Fundus_Scanes_Sorted/Train/Glaucoma_Positive/586.jpg  \\\\n\",\\n            \"  inflating: Fundus_Train_Val_Data/Fundus_Scanes_Sorted/Train/Glaucoma_Positive/588.jpg  \\\\n\",\\n            \"  inflating: Fundus_Train_Val_Data/Fundus_Scanes_Sorted/Train/Glaucoma_Positive/589.jpg  \\\\n\",\\n            \"  inflating: Fundus_Train_Val_Data/Fundus_Scanes_Sorted/Train/Glaucoma_Positive/591.jpg  \\\\n\",\\n            \"  inflating: Fundus_Train_Val_Data/Fundus_Scanes_Sorted/Train/Glaucoma_Positive/592.jpg  \\\\n\",\\n            \"  inflating: Fundus_Train_Val_Data/Fundus_Scanes_Sorted/Train/Glaucoma_Positive/593.jpg  \\\\n\",\\n            \"  inflating: Fundus_Train_Val_Data/Fundus_Scanes_Sorted/Train/Glaucoma_Positive/595.jpg  \\\\n\",\\n            \"  inflating: Fundus_Train_Val_Data/Fundus_Scanes_Sorted/Validation/Glaucoma_Negative/483.jpg  \\\\n\",\\n            \"  inflating: Fundus_Train_Val_Data/Fundus_Scanes_Sorted/Validation/Glaucoma_Negative/484.jpg  \\\\n\",\\n            \"  inflating: Fundus_Train_Val_Data/Fundus_Scanes_Sorted/Validation/Glaucoma_Negative/485.jpg  \\\\n\",\\n            \"  inflating: Fundus_Train_Val_Data/Fundus_Scanes_Sorted/Validation/Glaucoma_Negative/487.jpg  \\\\n\",\\n            \"  inflating: Fundus_Train_Val_Data/Fundus_Scanes_Sorted/Validation/Glaucoma_Negative/488.jpg  \\\\n\",\\n            \"  inflating: Fundus_Train_Val_Data/Fundus_Scanes_Sorted/Validation/Glaucoma_Negative/489.jpg  \\\\n\",\\n            \"  inflating: Fundus_Train_Val_Data/Fundus_Scanes_Sorted/Validation/Glaucoma_Negative/491.jpg  \\\\n\",\\n            \"  inflating: Fundus_Train_Val_Data/Fundus_Scanes_Sorted/Validation/Glaucoma_Negative/492.jpg  \\\\n\",\\n            \"  inflating: Fundus_Train_Val_Data/Fundus_Scanes_Sorted/Validation/Glaucoma_Negative/493.jpg  \\\\n\",\\n            \"  inflating: Fundus_Train_Val_Data/Fundus_Scanes_Sorted/Validation/Glaucoma_Negative/494.jpg  \\\\n\",\\n            \"  inflating: Fundus_Train_Val_Data/Fundus_Scanes_Sorted/Validation/Glaucoma_Negative/495.jpg  \\\\n\",\\n            \"  inflating: Fundus_Train_Val_Data/Fundus_Scanes_Sorted/Validation/Glaucoma_Negative/497.jpg  \\\\n\",\\n            \"  inflating: Fundus_Train_Val_Data/Fundus_Scanes_Sorted/Validation/Glaucoma_Negative/498.jpg  \\\\n\",\\n            \"  inflating: Fundus_Train_Val_Data/Fundus_Scanes_Sorted/Validation/Glaucoma_Negative/499.jpg  \\\\n\",\\n            \"  inflating: Fundus_Train_Val_Data/Fundus_Scanes_Sorted/Validation/Glaucoma_Negative/500.jpg  \\\\n\",\\n            \"  inflating: Fundus_Train_Val_Data/Fundus_Scanes_Sorted/Validation/Glaucoma_Negative/501.jpg  \\\\n\",\\n            \"  inflating: Fundus_Train_Val_Data/Fundus_Scanes_Sorted/Validation/Glaucoma_Negative/502.jpg  \\\\n\",\\n            \"  inflating: Fundus_Train_Val_Data/Fundus_Scanes_Sorted/Validation/Glaucoma_Negative/503.jpg  \\\\n\",\\n            \"  inflating: Fundus_Train_Val_Data/Fundus_Scanes_Sorted/Validation/Glaucoma_Negative/504.jpg  \\\\n\",\\n            \"  inflating: Fundus_Train_Val_Data/Fundus_Scanes_Sorted/Validation/Glaucoma_Negative/509.jpg  \\\\n\",\\n            \"  inflating: Fundus_Train_Val_Data/Fundus_Scanes_Sorted/Validation/Glaucoma_Negative/510.jpg  \\\\n\",\\n            \"  inflating: Fundus_Train_Val_Data/Fundus_Scanes_Sorted/Validation/Glaucoma_Negative/513.jpg  \\\\n\",\\n            \"  inflating: Fundus_Train_Val_Data/Fundus_Scanes_Sorted/Validation/Glaucoma_Negative/517.jpg  \\\\n\",\\n            \"  inflating: Fundus_Train_Val_Data/Fundus_Scanes_Sorted/Validation/Glaucoma_Negative/518.jpg  \\\\n\",\\n            \"  inflating: Fundus_Train_Val_Data/Fundus_Scanes_Sorted/Validation/Glaucoma_Negative/520.jpg  \\\\n\",\\n            \"  inflating: Fundus_Train_Val_Data/Fundus_Scanes_Sorted/Validation/Glaucoma_Negative/521.jpg  \\\\n\",\\n            \"  inflating: Fundus_Train_Val_Data/Fundus_Scanes_Sorted/Validation/Glaucoma_Negative/522.jpg  \\\\n\",\\n            \"  inflating: Fundus_Train_Val_Data/Fundus_Scanes_Sorted/Validation/Glaucoma_Negative/525.jpg  \\\\n\",\\n            \"  inflating: Fundus_Train_Val_Data/Fundus_Scanes_Sorted/Validation/Glaucoma_Negative/526.jpg  \\\\n\",\\n            \"  inflating: Fundus_Train_Val_Data/Fundus_Scanes_Sorted/Validation/Glaucoma_Negative/527.jpg  \\\\n\",\\n            \"  inflating: Fundus_Train_Val_Data/Fundus_Scanes_Sorted/Validation/Glaucoma_Negative/529.jpg  \\\\n\",\\n            \"  inflating: Fundus_Train_Val_Data/Fundus_Scanes_Sorted/Validation/Glaucoma_Negative/530.jpg  \\\\n\",\\n            \"  inflating: Fundus_Train_Val_Data/Fundus_Scanes_Sorted/Validation/Glaucoma_Negative/531.jpg  \\\\n\",\\n            \"  inflating: Fundus_Train_Val_Data/Fundus_Scanes_Sorted/Validation/Glaucoma_Negative/534.jpg  \\\\n\",\\n            \"  inflating: Fundus_Train_Val_Data/Fundus_Scanes_Sorted/Validation/Glaucoma_Negative/535.jpg  \\\\n\",\\n            \"  inflating: Fundus_Train_Val_Data/Fundus_Scanes_Sorted/Validation/Glaucoma_Negative/536.jpg  \\\\n\",\\n            \"  inflating: Fundus_Train_Val_Data/Fundus_Scanes_Sorted/Validation/Glaucoma_Negative/537.jpg  \\\\n\",\\n            \"  inflating: Fundus_Train_Val_Data/Fundus_Scanes_Sorted/Validation/Glaucoma_Negative/538.jpg  \\\\n\",\\n            \"  inflating: Fundus_Train_Val_Data/Fundus_Scanes_Sorted/Validation/Glaucoma_Negative/539.jpg  \\\\n\",\\n            \"  inflating: Fundus_Train_Val_Data/Fundus_Scanes_Sorted/Validation/Glaucoma_Negative/540.jpg  \\\\n\",\\n            \"  inflating: Fundus_Train_Val_Data/Fundus_Scanes_Sorted/Validation/Glaucoma_Negative/541.jpg  \\\\n\",\\n            \"  inflating: Fundus_Train_Val_Data/Fundus_Scanes_Sorted/Validation/Glaucoma_Negative/542.jpg  \\\\n\",\\n            \"  inflating: Fundus_Train_Val_Data/Fundus_Scanes_Sorted/Validation/Glaucoma_Negative/543.jpg  \\\\n\",\\n            \"  inflating: Fundus_Train_Val_Data/Fundus_Scanes_Sorted/Validation/Glaucoma_Negative/544.jpg  \\\\n\",\\n            \"  inflating: Fundus_Train_Val_Data/Fundus_Scanes_Sorted/Validation/Glaucoma_Negative/546.jpg  \\\\n\",\\n            \"  inflating: Fundus_Train_Val_Data/Fundus_Scanes_Sorted/Validation/Glaucoma_Negative/547.jpg  \\\\n\",\\n            \"  inflating: Fundus_Train_Val_Data/Fundus_Scanes_Sorted/Validation/Glaucoma_Negative/548.jpg  \\\\n\",\\n            \"  inflating: Fundus_Train_Val_Data/Fundus_Scanes_Sorted/Validation/Glaucoma_Negative/551.jpg  \\\\n\",\\n            \"  inflating: Fundus_Train_Val_Data/Fundus_Scanes_Sorted/Validation/Glaucoma_Negative/552.jpg  \\\\n\",\\n            \"  inflating: Fundus_Train_Val_Data/Fundus_Scanes_Sorted/Validation/Glaucoma_Negative/553.jpg  \\\\n\",\\n            \"  inflating: Fundus_Train_Val_Data/Fundus_Scanes_Sorted/Validation/Glaucoma_Negative/554.jpg  \\\\n\",\\n            \"  inflating: Fundus_Train_Val_Data/Fundus_Scanes_Sorted/Validation/Glaucoma_Negative/555.jpg  \\\\n\",\\n            \"  inflating: Fundus_Train_Val_Data/Fundus_Scanes_Sorted/Validation/Glaucoma_Negative/559.jpg  \\\\n\",\\n            \"  inflating: Fundus_Train_Val_Data/Fundus_Scanes_Sorted/Validation/Glaucoma_Negative/561.jpg  \\\\n\",\\n            \"  inflating: Fundus_Train_Val_Data/Fundus_Scanes_Sorted/Validation/Glaucoma_Negative/562.jpg  \\\\n\",\\n            \"  inflating: Fundus_Train_Val_Data/Fundus_Scanes_Sorted/Validation/Glaucoma_Negative/563.jpg  \\\\n\",\\n            \"  inflating: Fundus_Train_Val_Data/Fundus_Scanes_Sorted/Validation/Glaucoma_Negative/564.jpg  \\\\n\",\\n            \"  inflating: Fundus_Train_Val_Data/Fundus_Scanes_Sorted/Validation/Glaucoma_Negative/565.jpg  \\\\n\",\\n            \"  inflating: Fundus_Train_Val_Data/Fundus_Scanes_Sorted/Validation/Glaucoma_Negative/566.jpg  \\\\n\",\\n            \"  inflating: Fundus_Train_Val_Data/Fundus_Scanes_Sorted/Validation/Glaucoma_Negative/567.jpg  \\\\n\",\\n            \"  inflating: Fundus_Train_Val_Data/Fundus_Scanes_Sorted/Validation/Glaucoma_Negative/568.jpg  \\\\n\",\\n            \"  inflating: Fundus_Train_Val_Data/Fundus_Scanes_Sorted/Validation/Glaucoma_Negative/569.jpg  \\\\n\",\\n            \"  inflating: Fundus_Train_Val_Data/Fundus_Scanes_Sorted/Validation/Glaucoma_Negative/570.jpg  \\\\n\",\\n            \"  inflating: Fundus_Train_Val_Data/Fundus_Scanes_Sorted/Validation/Glaucoma_Negative/573.jpg  \\\\n\",\\n            \"  inflating: Fundus_Train_Val_Data/Fundus_Scanes_Sorted/Validation/Glaucoma_Negative/574.jpg  \\\\n\",\\n            \"  inflating: Fundus_Train_Val_Data/Fundus_Scanes_Sorted/Validation/Glaucoma_Negative/575.jpg  \\\\n\",\\n            \"  inflating: Fundus_Train_Val_Data/Fundus_Scanes_Sorted/Validation/Glaucoma_Negative/576.jpg  \\\\n\",\\n            \"  inflating: Fundus_Train_Val_Data/Fundus_Scanes_Sorted/Validation/Glaucoma_Negative/577.jpg  \\\\n\",\\n            \"  inflating: Fundus_Train_Val_Data/Fundus_Scanes_Sorted/Validation/Glaucoma_Negative/579.jpg  \\\\n\",\\n            \"  inflating: Fundus_Train_Val_Data/Fundus_Scanes_Sorted/Validation/Glaucoma_Negative/581.jpg  \\\\n\",\\n            \"  inflating: Fundus_Train_Val_Data/Fundus_Scanes_Sorted/Validation/Glaucoma_Negative/583.jpg  \\\\n\",\\n            \"  inflating: Fundus_Train_Val_Data/Fundus_Scanes_Sorted/Validation/Glaucoma_Negative/585.jpg  \\\\n\",\\n            \"  inflating: Fundus_Train_Val_Data/Fundus_Scanes_Sorted/Validation/Glaucoma_Negative/587.jpg  \\\\n\",\\n            \"  inflating: Fundus_Train_Val_Data/Fundus_Scanes_Sorted/Validation/Glaucoma_Negative/590.jpg  \\\\n\",\\n            \"  inflating: Fundus_Train_Val_Data/Fundus_Scanes_Sorted/Validation/Glaucoma_Negative/594.jpg  \\\\n\",\\n            \"  inflating: Fundus_Train_Val_Data/Fundus_Scanes_Sorted/Validation/Glaucoma_Negative/596.jpg  \\\\n\",\\n            \"  inflating: Fundus_Train_Val_Data/Fundus_Scanes_Sorted/Validation/Glaucoma_Negative/597.jpg  \\\\n\",\\n            \"  inflating: Fundus_Train_Val_Data/Fundus_Scanes_Sorted/Validation/Glaucoma_Negative/599.jpg  \\\\n\",\\n            \"  inflating: Fundus_Train_Val_Data/Fundus_Scanes_Sorted/Validation/Glaucoma_Negative/602.jpg  \\\\n\",\\n            \"  inflating: Fundus_Train_Val_Data/Fundus_Scanes_Sorted/Validation/Glaucoma_Negative/603.jpg  \\\\n\",\\n            \"  inflating: Fundus_Train_Val_Data/Fundus_Scanes_Sorted/Validation/Glaucoma_Negative/606.jpg  \\\\n\",\\n            \"  inflating: Fundus_Train_Val_Data/Fundus_Scanes_Sorted/Validation/Glaucoma_Negative/607.jpg  \\\\n\",\\n            \"  inflating: Fundus_Train_Val_Data/Fundus_Scanes_Sorted/Validation/Glaucoma_Negative/610.jpg  \\\\n\",\\n            \"  inflating: Fundus_Train_Val_Data/Fundus_Scanes_Sorted/Validation/Glaucoma_Negative/611.jpg  \\\\n\",\\n            \"  inflating: Fundus_Train_Val_Data/Fundus_Scanes_Sorted/Validation/Glaucoma_Negative/614.jpg  \\\\n\",\\n            \"  inflating: Fundus_Train_Val_Data/Fundus_Scanes_Sorted/Validation/Glaucoma_Negative/616.jpg  \\\\n\",\\n            \"  inflating: Fundus_Train_Val_Data/Fundus_Scanes_Sorted/Validation/Glaucoma_Negative/620.jpg  \\\\n\",\\n            \"  inflating: Fundus_Train_Val_Data/Fundus_Scanes_Sorted/Validation/Glaucoma_Negative/625.jpg  \\\\n\",\\n            \"  inflating: Fundus_Train_Val_Data/Fundus_Scanes_Sorted/Validation/Glaucoma_Negative/629.jpg  \\\\n\",\\n            \"  inflating: Fundus_Train_Val_Data/Fundus_Scanes_Sorted/Validation/Glaucoma_Negative/633.jpg  \\\\n\",\\n            \"  inflating: Fundus_Train_Val_Data/Fundus_Scanes_Sorted/Validation/Glaucoma_Negative/635.jpg  \\\\n\",\\n            \"  inflating: Fundus_Train_Val_Data/Fundus_Scanes_Sorted/Validation/Glaucoma_Negative/637.jpg  \\\\n\",\\n            \"  inflating: Fundus_Train_Val_Data/Fundus_Scanes_Sorted/Validation/Glaucoma_Negative/639.jpg  \\\\n\",\\n            \"  inflating: Fundus_Train_Val_Data/Fundus_Scanes_Sorted/Validation/Glaucoma_Negative/642.jpg  \\\\n\",\\n            \"  inflating: Fundus_Train_Val_Data/Fundus_Scanes_Sorted/Validation/Glaucoma_Negative/643.jpg  \\\\n\",\\n            \"  inflating: Fundus_Train_Val_Data/Fundus_Scanes_Sorted/Validation/Glaucoma_Negative/649.jpg  \\\\n\",\\n            \"  inflating: Fundus_Train_Val_Data/Fundus_Scanes_Sorted/Validation/Glaucoma_Positive/598.jpg  \\\\n\",\\n            \"  inflating: Fundus_Train_Val_Data/Fundus_Scanes_Sorted/Validation/Glaucoma_Positive/600.jpg  \\\\n\",\\n            \"  inflating: Fundus_Train_Val_Data/Fundus_Scanes_Sorted/Validation/Glaucoma_Positive/601.jpg  \\\\n\",\\n            \"  inflating: Fundus_Train_Val_Data/Fundus_Scanes_Sorted/Validation/Glaucoma_Positive/604.jpg  \\\\n\",\\n            \"  inflating: Fundus_Train_Val_Data/Fundus_Scanes_Sorted/Validation/Glaucoma_Positive/605.jpg  \\\\n\",\\n            \"  inflating: Fundus_Train_Val_Data/Fundus_Scanes_Sorted/Validation/Glaucoma_Positive/608.jpg  \\\\n\",\\n            \"  inflating: Fundus_Train_Val_Data/Fundus_Scanes_Sorted/Validation/Glaucoma_Positive/609.jpg  \\\\n\",\\n            \"  inflating: Fundus_Train_Val_Data/Fundus_Scanes_Sorted/Validation/Glaucoma_Positive/612.jpg  \\\\n\",\\n            \"  inflating: Fundus_Train_Val_Data/Fundus_Scanes_Sorted/Validation/Glaucoma_Positive/613.jpg  \\\\n\",\\n            \"  inflating: Fundus_Train_Val_Data/Fundus_Scanes_Sorted/Validation/Glaucoma_Positive/615.jpg  \\\\n\",\\n            \"  inflating: Fundus_Train_Val_Data/Fundus_Scanes_Sorted/Validation/Glaucoma_Positive/617.jpg  \\\\n\",\\n            \"  inflating: Fundus_Train_Val_Data/Fundus_Scanes_Sorted/Validation/Glaucoma_Positive/618.jpg  \\\\n\",\\n            \"  inflating: Fundus_Train_Val_Data/Fundus_Scanes_Sorted/Validation/Glaucoma_Positive/619.jpg  \\\\n\",\\n            \"  inflating: Fundus_Train_Val_Data/Fundus_Scanes_Sorted/Validation/Glaucoma_Positive/621.jpg  \\\\n\",\\n            \"  inflating: Fundus_Train_Val_Data/Fundus_Scanes_Sorted/Validation/Glaucoma_Positive/622.jpg  \\\\n\",\\n            \"  inflating: Fundus_Train_Val_Data/Fundus_Scanes_Sorted/Validation/Glaucoma_Positive/623.jpg  \\\\n\",\\n            \"  inflating: Fundus_Train_Val_Data/Fundus_Scanes_Sorted/Validation/Glaucoma_Positive/624.jpg  \\\\n\",\\n            \"  inflating: Fundus_Train_Val_Data/Fundus_Scanes_Sorted/Validation/Glaucoma_Positive/626.jpg  \\\\n\",\\n            \"  inflating: Fundus_Train_Val_Data/Fundus_Scanes_Sorted/Validation/Glaucoma_Positive/627.jpg  \\\\n\",\\n            \"  inflating: Fundus_Train_Val_Data/Fundus_Scanes_Sorted/Validation/Glaucoma_Positive/628.jpg  \\\\n\",\\n            \"  inflating: Fundus_Train_Val_Data/Fundus_Scanes_Sorted/Validation/Glaucoma_Positive/630.jpg  \\\\n\",\\n            \"  inflating: Fundus_Train_Val_Data/Fundus_Scanes_Sorted/Validation/Glaucoma_Positive/631.jpg  \\\\n\",\\n            \"  inflating: Fundus_Train_Val_Data/Fundus_Scanes_Sorted/Validation/Glaucoma_Positive/632.jpg  \\\\n\",\\n            \"  inflating: Fundus_Train_Val_Data/Fundus_Scanes_Sorted/Validation/Glaucoma_Positive/634.jpg  \\\\n\",\\n            \"  inflating: Fundus_Train_Val_Data/Fundus_Scanes_Sorted/Validation/Glaucoma_Positive/636.jpg  \\\\n\",\\n            \"  inflating: Fundus_Train_Val_Data/Fundus_Scanes_Sorted/Validation/Glaucoma_Positive/638.jpg  \\\\n\",\\n            \"  inflating: Fundus_Train_Val_Data/Fundus_Scanes_Sorted/Validation/Glaucoma_Positive/640.jpg  \\\\n\",\\n            \"  inflating: Fundus_Train_Val_Data/Fundus_Scanes_Sorted/Validation/Glaucoma_Positive/641.jpg  \\\\n\",\\n            \"  inflating: Fundus_Train_Val_Data/Fundus_Scanes_Sorted/Validation/Glaucoma_Positive/644.jpg  \\\\n\",\\n            \"  inflating: Fundus_Train_Val_Data/Fundus_Scanes_Sorted/Validation/Glaucoma_Positive/645.jpg  \\\\n\",\\n            \"  inflating: Fundus_Train_Val_Data/Fundus_Scanes_Sorted/Validation/Glaucoma_Positive/646.jpg  \\\\n\",\\n            \"  inflating: Fundus_Train_Val_Data/Fundus_Scanes_Sorted/Validation/Glaucoma_Positive/647.jpg  \\\\n\",\\n            \"  inflating: Fundus_Train_Val_Data/Fundus_Scanes_Sorted/Validation/Glaucoma_Positive/648.jpg  \\\\n\",\\n            \"  inflating: Fundus_Train_Val_Data/Fundus_Scanes_Sorted/Validation/Glaucoma_Positive/650.jpg  \\\\n\",\\n            \"  inflating: glaucoma.csv            \\\\n\"\\n          ],\\n          \"name\": \"stdout\"\\n        }\\n      ]\\n    },\\n    {\\n      \"cell_type\": \"code\",\\n      \"metadata\": {\\n        \"id\": \"pEYX_0jg9ukg\"\\n      },\\n      \"source\": [\\n        \"DATADIR_Train = \\'/content/Fundus_Train_Val_Data/Fundus_Scanes_Sorted/Train\\'\\\\n\",\\n        \"DATADIR_Test = \\'/content/Fundus_Train_Val_Data/Fundus_Scanes_Sorted/Validation\\'\"\\n      ],\\n      \"execution_count\": 7,\\n      \"outputs\": []\\n    },\\n    {\\n      \"cell_type\": \"code\",\\n      \"metadata\": {\\n        \"colab\": {\\n          \"base_uri\": \"https://localhost:8080/\"\\n        },\\n        \"id\": \"rZ5e8cF19un8\",\\n        \"outputId\": \"bb4177c9-7d45-40c8-f2e1-d20ececbca11\"\\n      },\\n      \"source\": [\\n        \"CATEGORIES  = list()\\\\n\",\\n        \"for root, dirs, files in os.walk(DATADIR_Train, topdown=False):\\\\n\",\\n        \"    for name in dirs:\\\\n\",\\n        \"        CATEGORIES.append(os.path.join(name))\\\\n\",\\n        \"print (CATEGORIES)\"\\n      ],\\n      \"execution_count\": 8,\\n      \"outputs\": [\\n        {\\n          \"output_type\": \"stream\",\\n          \"text\": [\\n            \"[\\'Glaucoma_Negative\\', \\'Glaucoma_Positive\\']\\\\n\"\\n          ],\\n          \"name\": \"stdout\"\\n        }\\n      ]\\n    },\\n    {\\n      \"cell_type\": \"code\",\\n      \"metadata\": {\\n        \"id\": \"3WVJlXQm9uqr\"\\n      },\\n      \"source\": [\\n        \"\\\\n\",\\n        \"x_train_data = []\\\\n\",\\n        \"y_train_data = []\\\\n\",\\n        \"IMG_SIZE=224\\\\n\",\\n        \"def create_training_data():\\\\n\",\\n        \"    for category in CATEGORIES:\\\\n\",\\n        \"      path = os.path.join(DATADIR_Train, category)\\\\n\",\\n        \"      class_num = CATEGORIES.index(category)\\\\n\",\\n        \"      for img in os.listdir(path):\\\\n\",\\n        \"        try:\\\\n\",\\n        \"            img_array = cv2.imread(os.path.join(path, img), cv2.IMREAD_COLOR)\\\\n\",\\n        \"            new_array = cv2.resize(img_array, (IMG_SIZE,IMG_SIZE))\\\\n\",\\n        \"            x_train_data.append(new_array)\\\\n\",\\n        \"            y_train_data.append(class_num)\\\\n\",\\n        \"        except Exception as e:\\\\n\",\\n        \"            pass\\\\n\",\\n        \"create_training_data()\"\\n      ],\\n      \"execution_count\": 9,\\n      \"outputs\": []\\n    },\\n    {\\n      \"cell_type\": \"code\",\\n      \"metadata\": {\\n        \"id\": \"iQA39RqZ9uuW\"\\n      },\\n      \"source\": [\\n        \"\\\\n\",\\n        \"x_test_data = []\\\\n\",\\n        \"y_test_data = []\\\\n\",\\n        \"IMG_SIZE=224\\\\n\",\\n        \"def create_testing_data():\\\\n\",\\n        \"    for category in CATEGORIES:\\\\n\",\\n        \"      path = os.path.join(DATADIR_Test, category)\\\\n\",\\n        \"      class_num = CATEGORIES.index(category)\\\\n\",\\n        \"      for img in os.listdir(path):\\\\n\",\\n        \"        try:\\\\n\",\\n        \"            img_array = cv2.imread(os.path.join(path, img), cv2.IMREAD_COLOR)\\\\n\",\\n        \"            new_array = cv2.resize(img_array, (IMG_SIZE,IMG_SIZE))\\\\n\",\\n        \"            x_test_data.append(new_array)\\\\n\",\\n        \"            y_test_data.append(class_num)\\\\n\",\\n        \"        except Exception as e:\\\\n\",\\n        \"            pass\\\\n\",\\n        \"create_testing_data()\"\\n      ],\\n      \"execution_count\": 10,\\n      \"outputs\": []\\n    },\\n    {\\n      \"cell_type\": \"code\",\\n      \"metadata\": {\\n        \"id\": \"82xSF4m29uw8\"\\n      },\\n      \"source\": [\\n        \"X_Train, X_Val, Y_Train, Y_Val = train_test_split(x_train_data, y_train_data, test_size=0.02, random_state=1)\"\\n      ],\\n      \"execution_count\": 11,\\n      \"outputs\": []\\n    },\\n    {\\n      \"cell_type\": \"code\",\\n      \"metadata\": {\\n        \"id\": \"qjDvmS9o_kEx\"\\n      },\\n      \"source\": [\\n        \"X_Train = np. squeeze(np.array(X_Train))\\\\n\",\\n        \"X_Val = np. squeeze(np.array(X_Val))\\\\n\",\\n        \"Y_Train = np. squeeze(np.array(Y_Train))\\\\n\",\\n        \"Y_Val = np. squeeze(np.array(Y_Val))\\\\n\",\\n        \"x_test_data = np. squeeze(np.array(x_test_data))\"\\n      ],\\n      \"execution_count\": 12,\\n      \"outputs\": []\\n    },\\n    {\\n      \"cell_type\": \"code\",\\n      \"metadata\": {\\n        \"colab\": {\\n          \"base_uri\": \"https://localhost:8080/\"\\n        },\\n        \"id\": \"o-LZ6yS4_kIx\",\\n        \"outputId\": \"1632c416-adff-4141-81aa-b6fa104ea571\"\\n      },\\n      \"source\": [\\n        \"x_test_data\"\\n      ],\\n      \"execution_count\": 13,\\n      \"outputs\": [\\n        {\\n          \"output_type\": \"execute_result\",\\n          \"data\": {\\n            \"text/plain\": [\\n              \"array([[[[0, 2, 2],\\\\n\",\\n              \"         [0, 1, 1],\\\\n\",\\n              \"         [0, 1, 1],\\\\n\",\\n              \"         ...,\\\\n\",\\n              \"         [2, 4, 4],\\\\n\",\\n              \"         [0, 1, 1],\\\\n\",\\n              \"         [4, 6, 6]],\\\\n\",\\n              \"\\\\n\",\\n              \"        [[0, 1, 1],\\\\n\",\\n              \"         [0, 2, 2],\\\\n\",\\n              \"         [0, 1, 1],\\\\n\",\\n              \"         ...,\\\\n\",\\n              \"         [0, 1, 1],\\\\n\",\\n              \"         [0, 1, 1],\\\\n\",\\n              \"         [1, 3, 3]],\\\\n\",\\n              \"\\\\n\",\\n              \"        [[0, 1, 1],\\\\n\",\\n              \"         [0, 1, 1],\\\\n\",\\n              \"         [0, 1, 1],\\\\n\",\\n              \"         ...,\\\\n\",\\n              \"         [0, 2, 2],\\\\n\",\\n              \"         [1, 3, 3],\\\\n\",\\n              \"         [0, 1, 1]],\\\\n\",\\n              \"\\\\n\",\\n              \"        ...,\\\\n\",\\n              \"\\\\n\",\\n              \"        [[1, 3, 3],\\\\n\",\\n              \"         [0, 1, 1],\\\\n\",\\n              \"         [0, 2, 2],\\\\n\",\\n              \"         ...,\\\\n\",\\n              \"         [0, 2, 0],\\\\n\",\\n              \"         [0, 1, 1],\\\\n\",\\n              \"         [0, 1, 1]],\\\\n\",\\n              \"\\\\n\",\\n              \"        [[0, 1, 1],\\\\n\",\\n              \"         [1, 4, 2],\\\\n\",\\n              \"         [0, 2, 2],\\\\n\",\\n              \"         ...,\\\\n\",\\n              \"         [0, 2, 2],\\\\n\",\\n              \"         [0, 2, 0],\\\\n\",\\n              \"         [0, 1, 1]],\\\\n\",\\n              \"\\\\n\",\\n              \"        [[0, 1, 1],\\\\n\",\\n              \"         [0, 3, 1],\\\\n\",\\n              \"         [0, 1, 1],\\\\n\",\\n              \"         ...,\\\\n\",\\n              \"         [0, 1, 1],\\\\n\",\\n              \"         [1, 4, 2],\\\\n\",\\n              \"         [0, 0, 0]]],\\\\n\",\\n              \"\\\\n\",\\n              \"\\\\n\",\\n              \"       [[[1, 1, 1],\\\\n\",\\n              \"         [1, 1, 1],\\\\n\",\\n              \"         [1, 1, 1],\\\\n\",\\n              \"         ...,\\\\n\",\\n              \"         [0, 1, 1],\\\\n\",\\n              \"         [0, 1, 1],\\\\n\",\\n              \"         [0, 1, 1]],\\\\n\",\\n              \"\\\\n\",\\n              \"        [[2, 2, 2],\\\\n\",\\n              \"         [1, 1, 1],\\\\n\",\\n              \"         [1, 1, 1],\\\\n\",\\n              \"         ...,\\\\n\",\\n              \"         [0, 1, 1],\\\\n\",\\n              \"         [0, 1, 1],\\\\n\",\\n              \"         [0, 1, 1]],\\\\n\",\\n              \"\\\\n\",\\n              \"        [[0, 2, 2],\\\\n\",\\n              \"         [0, 1, 1],\\\\n\",\\n              \"         [0, 1, 1],\\\\n\",\\n              \"         ...,\\\\n\",\\n              \"         [0, 1, 1],\\\\n\",\\n              \"         [0, 1, 1],\\\\n\",\\n              \"         [0, 1, 1]],\\\\n\",\\n              \"\\\\n\",\\n              \"        ...,\\\\n\",\\n              \"\\\\n\",\\n              \"        [[0, 1, 1],\\\\n\",\\n              \"         [0, 1, 1],\\\\n\",\\n              \"         [0, 1, 1],\\\\n\",\\n              \"         ...,\\\\n\",\\n              \"         [0, 1, 1],\\\\n\",\\n              \"         [1, 1, 1],\\\\n\",\\n              \"         [1, 1, 1]],\\\\n\",\\n              \"\\\\n\",\\n              \"        [[0, 1, 1],\\\\n\",\\n              \"         [0, 1, 1],\\\\n\",\\n              \"         [0, 1, 1],\\\\n\",\\n              \"         ...,\\\\n\",\\n              \"         [0, 1, 1],\\\\n\",\\n              \"         [1, 1, 1],\\\\n\",\\n              \"         [1, 1, 1]],\\\\n\",\\n              \"\\\\n\",\\n              \"        [[0, 1, 1],\\\\n\",\\n              \"         [0, 1, 1],\\\\n\",\\n              \"         [0, 1, 1],\\\\n\",\\n              \"         ...,\\\\n\",\\n              \"         [0, 1, 1],\\\\n\",\\n              \"         [1, 1, 1],\\\\n\",\\n              \"         [1, 1, 1]]],\\\\n\",\\n              \"\\\\n\",\\n              \"\\\\n\",\\n              \"       [[[1, 4, 2],\\\\n\",\\n              \"         [0, 1, 1],\\\\n\",\\n              \"         [0, 1, 1],\\\\n\",\\n              \"         ...,\\\\n\",\\n              \"         [0, 2, 0],\\\\n\",\\n              \"         [0, 2, 2],\\\\n\",\\n              \"         [0, 2, 0]],\\\\n\",\\n              \"\\\\n\",\\n              \"        [[0, 2, 0],\\\\n\",\\n              \"         [0, 2, 2],\\\\n\",\\n              \"         [0, 1, 1],\\\\n\",\\n              \"         ...,\\\\n\",\\n              \"         [0, 2, 0],\\\\n\",\\n              \"         [0, 1, 1],\\\\n\",\\n              \"         [1, 4, 2]],\\\\n\",\\n              \"\\\\n\",\\n              \"        [[0, 1, 1],\\\\n\",\\n              \"         [0, 1, 1],\\\\n\",\\n              \"         [0, 2, 0],\\\\n\",\\n              \"         ...,\\\\n\",\\n              \"         [1, 4, 2],\\\\n\",\\n              \"         [0, 2, 0],\\\\n\",\\n              \"         [0, 2, 2]],\\\\n\",\\n              \"\\\\n\",\\n              \"        ...,\\\\n\",\\n              \"\\\\n\",\\n              \"        [[0, 2, 0],\\\\n\",\\n              \"         [0, 2, 2],\\\\n\",\\n              \"         [0, 1, 1],\\\\n\",\\n              \"         ...,\\\\n\",\\n              \"         [0, 1, 1],\\\\n\",\\n              \"         [0, 1, 1],\\\\n\",\\n              \"         [1, 4, 2]],\\\\n\",\\n              \"\\\\n\",\\n              \"        [[1, 1, 1],\\\\n\",\\n              \"         [0, 2, 0],\\\\n\",\\n              \"         [0, 1, 1],\\\\n\",\\n              \"         ...,\\\\n\",\\n              \"         [0, 0, 0],\\\\n\",\\n              \"         [0, 0, 0],\\\\n\",\\n              \"         [0, 2, 0]],\\\\n\",\\n              \"\\\\n\",\\n              \"        [[1, 1, 1],\\\\n\",\\n              \"         [0, 3, 1],\\\\n\",\\n              \"         [0, 0, 0],\\\\n\",\\n              \"         ...,\\\\n\",\\n              \"         [0, 1, 1],\\\\n\",\\n              \"         [0, 0, 0],\\\\n\",\\n              \"         [0, 2, 0]]],\\\\n\",\\n              \"\\\\n\",\\n              \"\\\\n\",\\n              \"       ...,\\\\n\",\\n              \"\\\\n\",\\n              \"\\\\n\",\\n              \"       [[[1, 1, 1],\\\\n\",\\n              \"         [1, 1, 1],\\\\n\",\\n              \"         [1, 1, 1],\\\\n\",\\n              \"         ...,\\\\n\",\\n              \"         [1, 1, 1],\\\\n\",\\n              \"         [0, 3, 1],\\\\n\",\\n              \"         [0, 3, 1]],\\\\n\",\\n              \"\\\\n\",\\n              \"        [[0, 0, 0],\\\\n\",\\n              \"         [1, 1, 1],\\\\n\",\\n              \"         [1, 1, 1],\\\\n\",\\n              \"         ...,\\\\n\",\\n              \"         [1, 1, 1],\\\\n\",\\n              \"         [0, 2, 0],\\\\n\",\\n              \"         [0, 3, 1]],\\\\n\",\\n              \"\\\\n\",\\n              \"        [[0, 0, 0],\\\\n\",\\n              \"         [1, 1, 1],\\\\n\",\\n              \"         [0, 2, 0],\\\\n\",\\n              \"         ...,\\\\n\",\\n              \"         [1, 1, 1],\\\\n\",\\n              \"         [1, 1, 1],\\\\n\",\\n              \"         [1, 1, 1]],\\\\n\",\\n              \"\\\\n\",\\n              \"        ...,\\\\n\",\\n              \"\\\\n\",\\n              \"        [[1, 1, 1],\\\\n\",\\n              \"         [1, 1, 1],\\\\n\",\\n              \"         [2, 2, 2],\\\\n\",\\n              \"         ...,\\\\n\",\\n              \"         [1, 1, 1],\\\\n\",\\n              \"         [1, 1, 1],\\\\n\",\\n              \"         [1, 1, 1]],\\\\n\",\\n              \"\\\\n\",\\n              \"        [[0, 0, 0],\\\\n\",\\n              \"         [1, 1, 1],\\\\n\",\\n              \"         [2, 2, 2],\\\\n\",\\n              \"         ...,\\\\n\",\\n              \"         [0, 1, 1],\\\\n\",\\n              \"         [1, 1, 1],\\\\n\",\\n              \"         [1, 1, 1]],\\\\n\",\\n              \"\\\\n\",\\n              \"        [[0, 1, 1],\\\\n\",\\n              \"         [1, 1, 1],\\\\n\",\\n              \"         [1, 1, 1],\\\\n\",\\n              \"         ...,\\\\n\",\\n              \"         [0, 1, 1],\\\\n\",\\n              \"         [1, 1, 1],\\\\n\",\\n              \"         [0, 0, 0]]],\\\\n\",\\n              \"\\\\n\",\\n              \"\\\\n\",\\n              \"       [[[0, 2, 0],\\\\n\",\\n              \"         [1, 1, 1],\\\\n\",\\n              \"         [1, 1, 1],\\\\n\",\\n              \"         ...,\\\\n\",\\n              \"         [2, 2, 2],\\\\n\",\\n              \"         [1, 1, 1],\\\\n\",\\n              \"         [0, 3, 1]],\\\\n\",\\n              \"\\\\n\",\\n              \"        [[0, 2, 0],\\\\n\",\\n              \"         [1, 1, 1],\\\\n\",\\n              \"         [1, 1, 1],\\\\n\",\\n              \"         ...,\\\\n\",\\n              \"         [0, 0, 0],\\\\n\",\\n              \"         [1, 1, 1],\\\\n\",\\n              \"         [0, 3, 1]],\\\\n\",\\n              \"\\\\n\",\\n              \"        [[1, 1, 1],\\\\n\",\\n              \"         [0, 1, 1],\\\\n\",\\n              \"         [1, 1, 1],\\\\n\",\\n              \"         ...,\\\\n\",\\n              \"         [1, 1, 1],\\\\n\",\\n              \"         [1, 1, 1],\\\\n\",\\n              \"         [1, 1, 1]],\\\\n\",\\n              \"\\\\n\",\\n              \"        ...,\\\\n\",\\n              \"\\\\n\",\\n              \"        [[1, 1, 1],\\\\n\",\\n              \"         [0, 0, 0],\\\\n\",\\n              \"         [0, 0, 0],\\\\n\",\\n              \"         ...,\\\\n\",\\n              \"         [0, 1, 1],\\\\n\",\\n              \"         [1, 1, 1],\\\\n\",\\n              \"         [0, 1, 1]],\\\\n\",\\n              \"\\\\n\",\\n              \"        [[1, 1, 1],\\\\n\",\\n              \"         [0, 2, 0],\\\\n\",\\n              \"         [0, 0, 0],\\\\n\",\\n              \"         ...,\\\\n\",\\n              \"         [1, 1, 1],\\\\n\",\\n              \"         [1, 1, 1],\\\\n\",\\n              \"         [0, 1, 1]],\\\\n\",\\n              \"\\\\n\",\\n              \"        [[1, 1, 1],\\\\n\",\\n              \"         [0, 3, 1],\\\\n\",\\n              \"         [1, 1, 1],\\\\n\",\\n              \"         ...,\\\\n\",\\n              \"         [1, 1, 1],\\\\n\",\\n              \"         [1, 1, 1],\\\\n\",\\n              \"         [0, 1, 1]]],\\\\n\",\\n              \"\\\\n\",\\n              \"\\\\n\",\\n              \"       [[[1, 1, 1],\\\\n\",\\n              \"         [2, 2, 2],\\\\n\",\\n              \"         [1, 1, 1],\\\\n\",\\n              \"         ...,\\\\n\",\\n              \"         [1, 1, 1],\\\\n\",\\n              \"         [0, 1, 1],\\\\n\",\\n              \"         [0, 1, 1]],\\\\n\",\\n              \"\\\\n\",\\n              \"        [[1, 1, 1],\\\\n\",\\n              \"         [1, 1, 1],\\\\n\",\\n              \"         [0, 0, 0],\\\\n\",\\n              \"         ...,\\\\n\",\\n              \"         [1, 1, 1],\\\\n\",\\n              \"         [0, 1, 1],\\\\n\",\\n              \"         [0, 1, 1]],\\\\n\",\\n              \"\\\\n\",\\n              \"        [[1, 1, 1],\\\\n\",\\n              \"         [1, 1, 1],\\\\n\",\\n              \"         [2, 2, 2],\\\\n\",\\n              \"         ...,\\\\n\",\\n              \"         [0, 0, 0],\\\\n\",\\n              \"         [0, 0, 0],\\\\n\",\\n              \"         [0, 3, 1]],\\\\n\",\\n              \"\\\\n\",\\n              \"        ...,\\\\n\",\\n              \"\\\\n\",\\n              \"        [[0, 1, 0],\\\\n\",\\n              \"         [1, 1, 1],\\\\n\",\\n              \"         [1, 1, 1],\\\\n\",\\n              \"         ...,\\\\n\",\\n              \"         [1, 1, 1],\\\\n\",\\n              \"         [1, 1, 1],\\\\n\",\\n              \"         [0, 0, 0]],\\\\n\",\\n              \"\\\\n\",\\n              \"        [[0, 3, 1],\\\\n\",\\n              \"         [0, 2, 2],\\\\n\",\\n              \"         [1, 1, 1],\\\\n\",\\n              \"         ...,\\\\n\",\\n              \"         [1, 1, 1],\\\\n\",\\n              \"         [0, 0, 0],\\\\n\",\\n              \"         [1, 1, 1]],\\\\n\",\\n              \"\\\\n\",\\n              \"        [[0, 2, 0],\\\\n\",\\n              \"         [0, 1, 1],\\\\n\",\\n              \"         [1, 1, 1],\\\\n\",\\n              \"         ...,\\\\n\",\\n              \"         [0, 0, 0],\\\\n\",\\n              \"         [1, 1, 1],\\\\n\",\\n              \"         [2, 2, 2]]]], dtype=uint8)\"\\n            ]\\n          },\\n          \"metadata\": {\\n            \"tags\": []\\n          },\\n          \"execution_count\": 13\\n        }\\n      ]\\n    },\\n    {\\n      \"cell_type\": \"code\",\\n      \"metadata\": {\\n        \"colab\": {\\n          \"base_uri\": \"https://localhost:8080/\"\\n        },\\n        \"id\": \"O9WuMHN-Au29\",\\n        \"outputId\": \"1a6f63ce-c19a-4904-cd81-852f0a6aa270\"\\n      },\\n      \"source\": [\\n        \"X_Train.shape\"\\n      ],\\n      \"execution_count\": 14,\\n      \"outputs\": [\\n        {\\n          \"output_type\": \"execute_result\",\\n          \"data\": {\\n            \"text/plain\": [\\n              \"(509, 224, 224, 3)\"\\n            ]\\n          },\\n          \"metadata\": {\\n            \"tags\": []\\n          },\\n          \"execution_count\": 14\\n        }\\n      ]\\n    },\\n    {\\n      \"cell_type\": \"code\",\\n      \"metadata\": {\\n        \"colab\": {\\n          \"base_uri\": \"https://localhost:8080/\"\\n        },\\n        \"id\": \"XY3qQFkSAu-Q\",\\n        \"outputId\": \"7f0c84ea-f5fc-4e9e-c324-4e5a6fcc752b\"\\n      },\\n      \"source\": [\\n        \"Y_Train.shape\"\\n      ],\\n      \"execution_count\": 15,\\n      \"outputs\": [\\n        {\\n          \"output_type\": \"execute_result\",\\n          \"data\": {\\n            \"text/plain\": [\\n              \"(509,)\"\\n            ]\\n          },\\n          \"metadata\": {\\n            \"tags\": []\\n          },\\n          \"execution_count\": 15\\n        }\\n      ]\\n    },\\n    {\\n      \"cell_type\": \"code\",\\n      \"metadata\": {\\n        \"colab\": {\\n          \"base_uri\": \"https://localhost:8080/\"\\n        },\\n        \"id\": \"sFJwDCRUAvAp\",\\n        \"outputId\": \"eb36b139-05d3-4081-b98b-b08bf0ea2bbb\"\\n      },\\n      \"source\": [\\n        \"x_test_data.shape\"\\n      ],\\n      \"execution_count\": 16,\\n      \"outputs\": [\\n        {\\n          \"output_type\": \"execute_result\",\\n          \"data\": {\\n            \"text/plain\": [\\n              \"(130, 224, 224, 3)\"\\n            ]\\n          },\\n          \"metadata\": {\\n            \"tags\": []\\n          },\\n          \"execution_count\": 16\\n        }\\n      ]\\n    },\\n    {\\n      \"cell_type\": \"code\",\\n      \"metadata\": {\\n        \"colab\": {\\n          \"base_uri\": \"https://localhost:8080/\"\\n        },\\n        \"id\": \"HARSGjkHAvJG\",\\n        \"outputId\": \"f33fb144-f621-4c27-b9cd-d920b6d146e1\"\\n      },\\n      \"source\": [\\n        \"X_Val.shape\"\\n      ],\\n      \"execution_count\": 17,\\n      \"outputs\": [\\n        {\\n          \"output_type\": \"execute_result\",\\n          \"data\": {\\n            \"text/plain\": [\\n              \"(11, 224, 224, 3)\"\\n            ]\\n          },\\n          \"metadata\": {\\n            \"tags\": []\\n          },\\n          \"execution_count\": 17\\n        }\\n      ]\\n    },\\n    {\\n      \"cell_type\": \"code\",\\n      \"metadata\": {\\n        \"colab\": {\\n          \"base_uri\": \"https://localhost:8080/\"\\n        },\\n        \"id\": \"va-yKrcgAvLD\",\\n        \"outputId\": \"7bbcbeb6-ce06-4818-b58a-4a4b6f42cb22\"\\n      },\\n      \"source\": [\\n        \"Y_Val.shape\"\\n      ],\\n      \"execution_count\": 18,\\n      \"outputs\": [\\n        {\\n          \"output_type\": \"execute_result\",\\n          \"data\": {\\n            \"text/plain\": [\\n              \"(11,)\"\\n            ]\\n          },\\n          \"metadata\": {\\n            \"tags\": []\\n          },\\n          \"execution_count\": 18\\n        }\\n      ]\\n    },\\n    {\\n      \"cell_type\": \"code\",\\n      \"metadata\": {\\n        \"id\": \"vXdfmdPnAvTb\"\\n      },\\n      \"source\": [\\n        \"Y_Train = to_categorical(Y_Train)\\\\n\",\\n        \"Y_Val = to_categorical(Y_Val)\"\\n      ],\\n      \"execution_count\": 19,\\n      \"outputs\": []\\n    },\\n    {\\n      \"cell_type\": \"code\",\\n      \"metadata\": {\\n        \"colab\": {\\n          \"base_uri\": \"https://localhost:8080/\"\\n        },\\n        \"id\": \"0Gr7nUPxAvVk\",\\n        \"outputId\": \"5821930e-1cd6-410f-96fc-3dd62f4af7c4\"\\n      },\\n      \"source\": [\\n        \"Y_Train.shape\"\\n      ],\\n      \"execution_count\": 20,\\n      \"outputs\": [\\n        {\\n          \"output_type\": \"execute_result\",\\n          \"data\": {\\n            \"text/plain\": [\\n              \"(509, 2)\"\\n            ]\\n          },\\n          \"metadata\": {\\n            \"tags\": []\\n          },\\n          \"execution_count\": 20\\n        }\\n      ]\\n    },\\n    {\\n      \"cell_type\": \"code\",\\n      \"metadata\": {\\n        \"colab\": {\\n          \"base_uri\": \"https://localhost:8080/\"\\n        },\\n        \"id\": \"zsntygxZAvfU\",\\n        \"outputId\": \"f9155f5b-6b2c-4a5c-f65f-bcd5ed967397\"\\n      },\\n      \"source\": [\\n        \"Y_Val.shape\"\\n      ],\\n      \"execution_count\": 21,\\n      \"outputs\": [\\n        {\\n          \"output_type\": \"execute_result\",\\n          \"data\": {\\n            \"text/plain\": [\\n              \"(11, 2)\"\\n            ]\\n          },\\n          \"metadata\": {\\n            \"tags\": []\\n          },\\n          \"execution_count\": 21\\n        }\\n      ]\\n    },\\n    {\\n      \"cell_type\": \"markdown\",\\n      \"metadata\": {\\n        \"id\": \"_P_g190-Bnla\"\\n      },\\n      \"source\": [\\n        \"# **Load in Pretrained VGG16 Model**\"\\n      ]\\n    },\\n    {\\n      \"cell_type\": \"code\",\\n      \"metadata\": {\\n        \"id\": \"_icpai5HAvhj\"\\n      },\\n      \"source\": [\\n        \"IMG_SHAPE = (224, 224,3)\"\\n      ],\\n      \"execution_count\": 22,\\n      \"outputs\": []\\n    },\\n    {\\n      \"cell_type\": \"code\",\\n      \"metadata\": {\\n        \"id\": \"79LOSXhOAvsg\"\\n      },\\n      \"source\": [\\n        \"from keras.applications.vgg16 import VGG16\\\\n\",\\n        \"from keras.applications.vgg16 import preprocess_input\"\\n      ],\\n      \"execution_count\": 23,\\n      \"outputs\": []\\n    },\\n    {\\n      \"cell_type\": \"code\",\\n      \"metadata\": {\\n        \"id\": \"fbVwxiRQ_kLg\",\\n        \"colab\": {\\n          \"base_uri\": \"https://localhost:8080/\"\\n        },\\n        \"outputId\": \"64e2fa70-27e3-4347-e26e-b22ac6749cff\"\\n      },\\n      \"source\": [\\n        \"#datagen= ImageDataGenerateur(rescale=1.0/255)\\\\n\",\\n        \"base_model = VGG16(input_shape=IMG_SHAPE, include_top=False, weights=\\'imagenet\\')\"\\n      ],\\n      \"execution_count\": 24,\\n      \"outputs\": [\\n        {\\n          \"output_type\": \"stream\",\\n          \"text\": [\\n            \"Downloading data from https://storage.googleapis.com/tensorflow/keras-applications/vgg16/vgg16_weights_tf_dim_ordering_tf_kernels_notop.h5\\\\n\",\\n            \"58892288/58889256 [==============================] - 1s 0us/step\\\\n\"\\n          ],\\n          \"name\": \"stdout\"\\n        }\\n      ]\\n    },\\n    {\\n      \"cell_type\": \"code\",\\n      \"metadata\": {\\n        \"colab\": {\\n          \"base_uri\": \"https://localhost:8080/\"\\n        },\\n        \"id\": \"Uw7ORU88_kOR\",\\n        \"outputId\": \"4d32c875-5f00-4f08-f0de-db64e0c35ff8\"\\n      },\\n      \"source\": [\\n        \"for layer in base_model.layers:\\\\n\",\\n        \"    print(layer.name)\\\\n\",\\n        \"    layer.trainable = False\\\\n\",\\n        \"    \\\\n\",\\n        \"print(len(base_model.layers))\"\\n      ],\\n      \"execution_count\": 25,\\n      \"outputs\": [\\n        {\\n          \"output_type\": \"stream\",\\n          \"text\": [\\n            \"input_1\\\\n\",\\n            \"block1_conv1\\\\n\",\\n            \"block1_conv2\\\\n\",\\n            \"block1_pool\\\\n\",\\n            \"block2_conv1\\\\n\",\\n            \"block2_conv2\\\\n\",\\n            \"block2_pool\\\\n\",\\n            \"block3_conv1\\\\n\",\\n            \"block3_conv2\\\\n\",\\n            \"block3_conv3\\\\n\",\\n            \"block3_pool\\\\n\",\\n            \"block4_conv1\\\\n\",\\n            \"block4_conv2\\\\n\",\\n            \"block4_conv3\\\\n\",\\n            \"block4_pool\\\\n\",\\n            \"block5_conv1\\\\n\",\\n            \"block5_conv2\\\\n\",\\n            \"block5_conv3\\\\n\",\\n            \"block5_pool\\\\n\",\\n            \"19\\\\n\"\\n          ],\\n          \"name\": \"stdout\"\\n        }\\n      ]\\n    },\\n    {\\n      \"cell_type\": \"code\",\\n      \"metadata\": {\\n        \"colab\": {\\n          \"base_uri\": \"https://localhost:8080/\"\\n        },\\n        \"id\": \"N1UgA-TeB0Qd\",\\n        \"outputId\": \"f8ffa78c-b744-4fd5-a71a-5791c82b9479\"\\n      },\\n      \"source\": [\\n        \"base_model.summary()\"\\n      ],\\n      \"execution_count\": 26,\\n      \"outputs\": [\\n        {\\n          \"output_type\": \"stream\",\\n          \"text\": [\\n            \"Model: \\\\\"vgg16\\\\\"\\\\n\",\\n            \"_________________________________________________________________\\\\n\",\\n            \"Layer (type)                 Output Shape              Param #   \\\\n\",\\n            \"=================================================================\\\\n\",\\n            \"input_1 (InputLayer)         [(None, 224, 224, 3)]     0         \\\\n\",\\n            \"_________________________________________________________________\\\\n\",\\n            \"block1_conv1 (Conv2D)        (None, 224, 224, 64)      1792      \\\\n\",\\n            \"_________________________________________________________________\\\\n\",\\n            \"block1_conv2 (Conv2D)        (None, 224, 224, 64)      36928     \\\\n\",\\n            \"_________________________________________________________________\\\\n\",\\n            \"block1_pool (MaxPooling2D)   (None, 112, 112, 64)      0         \\\\n\",\\n            \"_________________________________________________________________\\\\n\",\\n            \"block2_conv1 (Conv2D)        (None, 112, 112, 128)     73856     \\\\n\",\\n            \"_________________________________________________________________\\\\n\",\\n            \"block2_conv2 (Conv2D)        (None, 112, 112, 128)     147584    \\\\n\",\\n            \"_________________________________________________________________\\\\n\",\\n            \"block2_pool (MaxPooling2D)   (None, 56, 56, 128)       0         \\\\n\",\\n            \"_________________________________________________________________\\\\n\",\\n            \"block3_conv1 (Conv2D)        (None, 56, 56, 256)       295168    \\\\n\",\\n            \"_________________________________________________________________\\\\n\",\\n            \"block3_conv2 (Conv2D)        (None, 56, 56, 256)       590080    \\\\n\",\\n            \"_________________________________________________________________\\\\n\",\\n            \"block3_conv3 (Conv2D)        (None, 56, 56, 256)       590080    \\\\n\",\\n            \"_________________________________________________________________\\\\n\",\\n            \"block3_pool (MaxPooling2D)   (None, 28, 28, 256)       0         \\\\n\",\\n            \"_________________________________________________________________\\\\n\",\\n            \"block4_conv1 (Conv2D)        (None, 28, 28, 512)       1180160   \\\\n\",\\n            \"_________________________________________________________________\\\\n\",\\n            \"block4_conv2 (Conv2D)        (None, 28, 28, 512)       2359808   \\\\n\",\\n            \"_________________________________________________________________\\\\n\",\\n            \"block4_conv3 (Conv2D)        (None, 28, 28, 512)       2359808   \\\\n\",\\n            \"_________________________________________________________________\\\\n\",\\n            \"block4_pool (MaxPooling2D)   (None, 14, 14, 512)       0         \\\\n\",\\n            \"_________________________________________________________________\\\\n\",\\n            \"block5_conv1 (Conv2D)        (None, 14, 14, 512)       2359808   \\\\n\",\\n            \"_________________________________________________________________\\\\n\",\\n            \"block5_conv2 (Conv2D)        (None, 14, 14, 512)       2359808   \\\\n\",\\n            \"_________________________________________________________________\\\\n\",\\n            \"block5_conv3 (Conv2D)        (None, 14, 14, 512)       2359808   \\\\n\",\\n            \"_________________________________________________________________\\\\n\",\\n            \"block5_pool (MaxPooling2D)   (None, 7, 7, 512)         0         \\\\n\",\\n            \"=================================================================\\\\n\",\\n            \"Total params: 14,714,688\\\\n\",\\n            \"Trainable params: 0\\\\n\",\\n            \"Non-trainable params: 14,714,688\\\\n\",\\n            \"_________________________________________________________________\\\\n\"\\n          ],\\n          \"name\": \"stdout\"\\n        }\\n      ]\\n    },\\n    {\\n      \"cell_type\": \"code\",\\n      \"metadata\": {\\n        \"colab\": {\\n          \"base_uri\": \"https://localhost:8080/\"\\n        },\\n        \"id\": \"s8qVhR4ZB0Tk\",\\n        \"outputId\": \"a5993baf-d628-4dee-ac75-6b89d57062ed\"\\n      },\\n      \"source\": [\\n        \"last_layer = base_model.get_layer(\\'block5_pool\\')\\\\n\",\\n        \"print(\\'last layer output shape:\\', last_layer.output_shape)\\\\n\",\\n        \"last_output = last_layer.output\"\\n      ],\\n      \"execution_count\": 27,\\n      \"outputs\": [\\n        {\\n          \"output_type\": \"stream\",\\n          \"text\": [\\n            \"last layer output shape: (None, 7, 7, 512)\\\\n\"\\n          ],\\n          \"name\": \"stdout\"\\n        }\\n      ]\\n    },\\n    {\\n      \"cell_type\": \"code\",\\n      \"metadata\": {\\n        \"id\": \"sIRaqiK6B0Vj\"\\n      },\\n      \"source\": [\\n        \"base_model.trainable = False\"\\n      ],\\n      \"execution_count\": 28,\\n      \"outputs\": []\\n    },\\n    {\\n      \"cell_type\": \"code\",\\n      \"metadata\": {\\n        \"colab\": {\\n          \"base_uri\": \"https://localhost:8080/\"\\n        },\\n        \"id\": \"MK41aRtUB0Ys\",\\n        \"outputId\": \"59f7f7c8-b6aa-41e6-f9e7-e8db3d4afd8d\"\\n      },\\n      \"source\": [\\n        \"base_model.output\"\\n      ],\\n      \"execution_count\": 29,\\n      \"outputs\": [\\n        {\\n          \"output_type\": \"execute_result\",\\n          \"data\": {\\n            \"text/plain\": [\\n              \"<KerasTensor: shape=(None, 7, 7, 512) dtype=float32 (created by layer \\'block5_pool\\')>\"\\n            ]\\n          },\\n          \"metadata\": {\\n            \"tags\": []\\n          },\\n          \"execution_count\": 29\\n        }\\n      ]\\n    },\\n    {\\n      \"cell_type\": \"code\",\\n      \"metadata\": {\\n        \"colab\": {\\n          \"base_uri\": \"https://localhost:8080/\",\\n          \"height\": 35\\n        },\\n        \"id\": \"ppgf1IeoB0b6\",\\n        \"outputId\": \"23a17870-e541-4d47-a5f4-930d8294557c\"\\n      },\\n      \"source\": [\\n        \"from tqdm import tqdm_notebook\\\\n\",\\n        \"from keras.preprocessing.image import ImageDataGenerator\\\\n\",\\n        \"from keras.layers import Input, Lambda, Dense, Flatten\\\\n\",\\n        \"from keras.models import load_model, Model\\\\n\",\\n        \"\\\\n\",\\n        \"%matplotlib inline\\\\n\",\\n        \"tf.__version__\"\\n      ],\\n      \"execution_count\": 30,\\n      \"outputs\": [\\n        {\\n          \"output_type\": \"execute_result\",\\n          \"data\": {\\n            \"application/vnd.google.colaboratory.intrinsic+json\": {\\n              \"type\": \"string\"\\n            },\\n            \"text/plain\": [\\n              \"\\'2.4.0\\'\"\\n            ]\\n          },\\n          \"metadata\": {\\n            \"tags\": []\\n          },\\n          \"execution_count\": 30\\n        }\\n      ]\\n    },\\n    {\\n      \"cell_type\": \"code\",\\n      \"metadata\": {\\n        \"id\": \"2IiDoTrSB0er\"\\n      },\\n      \"source\": [\\n        \"# Flatten the output layer to 1 dimension\\\\n\",\\n        \"x = layers.GlobalMaxPooling2D()(base_model.output)\\\\n\",\\n        \"# Add a fully connected layer with 512 hidden units and ReLU activation\\\\n\",\\n        \"x = layers.Dense(512, activation=\\'relu\\')(x)\\\\n\",\\n        \"# Add a dropout rate of 0.5\\\\n\",\\n        \"x = layers.Dropout(0.5)(x)\\\\n\",\\n        \"# Add a final sigmoid layer for classification\\\\n\",\\n        \"x = layers.Dense(2, activation=\\'softmax\\')(x)\\\\n\",\\n        \"\\\\n\",\\n        \"# Configure and compile the model\\\\n\",\\n        \"model = Model(base_model.input, x)\\\\n\",\\n        \"optimizer = Adam(lr=0.0001, beta_1=0.9, beta_2=0.999, epsilon=None, decay=0.0, amsgrad=True)\\\\n\",\\n        \"model.compile(loss=\\'categorical_crossentropy\\',\\\\n\",\\n        \"              optimizer=optimizer,\\\\n\",\\n        \"              metrics=[\\'accuracy\\'])\"\\n      ],\\n      \"execution_count\": 31,\\n      \"outputs\": []\\n    },\\n    {\\n      \"cell_type\": \"code\",\\n      \"metadata\": {\\n        \"colab\": {\\n          \"base_uri\": \"https://localhost:8080/\"\\n        },\\n        \"id\": \"GMjnKOE9CB8H\",\\n        \"outputId\": \"e3ae375e-0007-4694-9e34-61ed0f26aa1a\"\\n      },\\n      \"source\": [\\n        \"model.summary()\"\\n      ],\\n      \"execution_count\": 32,\\n      \"outputs\": [\\n        {\\n          \"output_type\": \"stream\",\\n          \"text\": [\\n            \"Model: \\\\\"model\\\\\"\\\\n\",\\n            \"_________________________________________________________________\\\\n\",\\n            \"Layer (type)                 Output Shape              Param #   \\\\n\",\\n            \"=================================================================\\\\n\",\\n            \"input_1 (InputLayer)         [(None, 224, 224, 3)]     0         \\\\n\",\\n            \"_________________________________________________________________\\\\n\",\\n            \"block1_conv1 (Conv2D)        (None, 224, 224, 64)      1792      \\\\n\",\\n            \"_________________________________________________________________\\\\n\",\\n            \"block1_conv2 (Conv2D)        (None, 224, 224, 64)      36928     \\\\n\",\\n            \"_________________________________________________________________\\\\n\",\\n            \"block1_pool (MaxPooling2D)   (None, 112, 112, 64)      0         \\\\n\",\\n            \"_________________________________________________________________\\\\n\",\\n            \"block2_conv1 (Conv2D)        (None, 112, 112, 128)     73856     \\\\n\",\\n            \"_________________________________________________________________\\\\n\",\\n            \"block2_conv2 (Conv2D)        (None, 112, 112, 128)     147584    \\\\n\",\\n            \"_________________________________________________________________\\\\n\",\\n            \"block2_pool (MaxPooling2D)   (None, 56, 56, 128)       0         \\\\n\",\\n            \"_________________________________________________________________\\\\n\",\\n            \"block3_conv1 (Conv2D)        (None, 56, 56, 256)       295168    \\\\n\",\\n            \"_________________________________________________________________\\\\n\",\\n            \"block3_conv2 (Conv2D)        (None, 56, 56, 256)       590080    \\\\n\",\\n            \"_________________________________________________________________\\\\n\",\\n            \"block3_conv3 (Conv2D)        (None, 56, 56, 256)       590080    \\\\n\",\\n            \"_________________________________________________________________\\\\n\",\\n            \"block3_pool (MaxPooling2D)   (None, 28, 28, 256)       0         \\\\n\",\\n            \"_________________________________________________________________\\\\n\",\\n            \"block4_conv1 (Conv2D)        (None, 28, 28, 512)       1180160   \\\\n\",\\n            \"_________________________________________________________________\\\\n\",\\n            \"block4_conv2 (Conv2D)        (None, 28, 28, 512)       2359808   \\\\n\",\\n            \"_________________________________________________________________\\\\n\",\\n            \"block4_conv3 (Conv2D)        (None, 28, 28, 512)       2359808   \\\\n\",\\n            \"_________________________________________________________________\\\\n\",\\n            \"block4_pool (MaxPooling2D)   (None, 14, 14, 512)       0         \\\\n\",\\n            \"_________________________________________________________________\\\\n\",\\n            \"block5_conv1 (Conv2D)        (None, 14, 14, 512)       2359808   \\\\n\",\\n            \"_________________________________________________________________\\\\n\",\\n            \"block5_conv2 (Conv2D)        (None, 14, 14, 512)       2359808   \\\\n\",\\n            \"_________________________________________________________________\\\\n\",\\n            \"block5_conv3 (Conv2D)        (None, 14, 14, 512)       2359808   \\\\n\",\\n            \"_________________________________________________________________\\\\n\",\\n            \"block5_pool (MaxPooling2D)   (None, 7, 7, 512)         0         \\\\n\",\\n            \"_________________________________________________________________\\\\n\",\\n            \"global_max_pooling2d (Global (None, 512)               0         \\\\n\",\\n            \"_________________________________________________________________\\\\n\",\\n            \"dense (Dense)                (None, 512)               262656    \\\\n\",\\n            \"_________________________________________________________________\\\\n\",\\n            \"dropout (Dropout)            (None, 512)               0         \\\\n\",\\n            \"_________________________________________________________________\\\\n\",\\n            \"dense_1 (Dense)              (None, 2)                 1026      \\\\n\",\\n            \"=================================================================\\\\n\",\\n            \"Total params: 14,978,370\\\\n\",\\n            \"Trainable params: 263,682\\\\n\",\\n            \"Non-trainable params: 14,714,688\\\\n\",\\n            \"_________________________________________________________________\\\\n\"\\n          ],\\n          \"name\": \"stdout\"\\n        }\\n      ]\\n    },\\n    {\\n      \"cell_type\": \"code\",\\n      \"metadata\": {\\n        \"id\": \"f9pAD_apCCEZ\"\\n      },\\n      \"source\": [\\n        \"train_datagen = ImageDataGenerator(rescale = 1./255, rotation_range=60, width_shift_range=0.2, height_shift_range=0.2,\\\\n\",\\n        \"                                   shear_range=0.2, zoom_range=0.2, fill_mode=\\'nearest\\')\"\\n      ],\\n      \"execution_count\": 33,\\n      \"outputs\": []\\n    },\\n    {\\n      \"cell_type\": \"code\",\\n      \"metadata\": {\\n        \"id\": \"Ll5ykUTVCCGY\"\\n      },\\n      \"source\": [\\n        \"train_datagen.fit(X_Train)\"\\n      ],\\n      \"execution_count\": 34,\\n      \"outputs\": []\\n    },\\n    {\\n      \"cell_type\": \"code\",\\n      \"metadata\": {\\n        \"id\": \"47SHuD2BCCVt\"\\n      },\\n      \"source\": [\\n        \"val_datagen = ImageDataGenerator(rescale = 1./255)\\\\n\",\\n        \"val_datagen.fit(X_Val)\"\\n      ],\\n      \"execution_count\": 35,\\n      \"outputs\": []\\n    },\\n    {\\n      \"cell_type\": \"code\",\\n      \"metadata\": {\\n        \"colab\": {\\n          \"base_uri\": \"https://localhost:8080/\"\\n        },\\n        \"id\": \"L05xsNMnB0iU\",\\n        \"outputId\": \"9df9f5f9-1918-46e0-9c3b-964559f30986\"\\n      },\\n      \"source\": [\\n        \"history = model.fit(X_Train, Y_Train, batch_size=64, epochs=20,\\\\n\",\\n        \"                    validation_data=(X_Val, Y_Val))\"\\n      ],\\n      \"execution_count\": 36,\\n      \"outputs\": [\\n        {\\n          \"output_type\": \"stream\",\\n          \"text\": [\\n            \"Epoch 1/20\\\\n\",\\n            \"8/8 [==============================] - 14s 675ms/step - loss: 18.9339 - accuracy: 0.5122 - val_loss: 8.4575 - val_accuracy: 0.9091\\\\n\",\\n            \"Epoch 2/20\\\\n\",\\n            \"8/8 [==============================] - 2s 229ms/step - loss: 11.3145 - accuracy: 0.7398 - val_loss: 6.0126 - val_accuracy: 0.9091\\\\n\",\\n            \"Epoch 3/20\\\\n\",\\n            \"8/8 [==============================] - 2s 229ms/step - loss: 10.8647 - accuracy: 0.6570 - val_loss: 4.5228 - val_accuracy: 0.9091\\\\n\",\\n            \"Epoch 4/20\\\\n\",\\n            \"8/8 [==============================] - 2s 229ms/step - loss: 12.4862 - accuracy: 0.6274 - val_loss: 5.8183 - val_accuracy: 0.9091\\\\n\",\\n            \"Epoch 5/20\\\\n\",\\n            \"8/8 [==============================] - 2s 229ms/step - loss: 10.7088 - accuracy: 0.6983 - val_loss: 5.0708 - val_accuracy: 0.9091\\\\n\",\\n            \"Epoch 6/20\\\\n\",\\n            \"8/8 [==============================] - 2s 230ms/step - loss: 11.2688 - accuracy: 0.6316 - val_loss: 4.3438 - val_accuracy: 0.9091\\\\n\",\\n            \"Epoch 7/20\\\\n\",\\n            \"8/8 [==============================] - 2s 230ms/step - loss: 9.2275 - accuracy: 0.6738 - val_loss: 5.5833 - val_accuracy: 0.9091\\\\n\",\\n            \"Epoch 8/20\\\\n\",\\n            \"8/8 [==============================] - 2s 231ms/step - loss: 8.9139 - accuracy: 0.7218 - val_loss: 4.7948 - val_accuracy: 0.9091\\\\n\",\\n            \"Epoch 9/20\\\\n\",\\n            \"8/8 [==============================] - 2s 230ms/step - loss: 8.1837 - accuracy: 0.7093 - val_loss: 4.7560 - val_accuracy: 0.9091\\\\n\",\\n            \"Epoch 10/20\\\\n\",\\n            \"8/8 [==============================] - 2s 233ms/step - loss: 7.0204 - accuracy: 0.6752 - val_loss: 4.7601 - val_accuracy: 0.9091\\\\n\",\\n            \"Epoch 11/20\\\\n\",\\n            \"8/8 [==============================] - 2s 232ms/step - loss: 6.2668 - accuracy: 0.7179 - val_loss: 4.4099 - val_accuracy: 0.9091\\\\n\",\\n            \"Epoch 12/20\\\\n\",\\n            \"8/8 [==============================] - 2s 232ms/step - loss: 7.4510 - accuracy: 0.6699 - val_loss: 4.7870 - val_accuracy: 0.9091\\\\n\",\\n            \"Epoch 13/20\\\\n\",\\n            \"8/8 [==============================] - 2s 246ms/step - loss: 5.7865 - accuracy: 0.7569 - val_loss: 4.6377 - val_accuracy: 0.9091\\\\n\",\\n            \"Epoch 14/20\\\\n\",\\n            \"8/8 [==============================] - 2s 235ms/step - loss: 5.8892 - accuracy: 0.7352 - val_loss: 4.2347 - val_accuracy: 0.9091\\\\n\",\\n            \"Epoch 15/20\\\\n\",\\n            \"8/8 [==============================] - 2s 234ms/step - loss: 4.8260 - accuracy: 0.7613 - val_loss: 3.7919 - val_accuracy: 0.9091\\\\n\",\\n            \"Epoch 16/20\\\\n\",\\n            \"8/8 [==============================] - 2s 235ms/step - loss: 5.1298 - accuracy: 0.7454 - val_loss: 4.2034 - val_accuracy: 0.9091\\\\n\",\\n            \"Epoch 17/20\\\\n\",\\n            \"8/8 [==============================] - 2s 238ms/step - loss: 3.9574 - accuracy: 0.7553 - val_loss: 3.2786 - val_accuracy: 0.9091\\\\n\",\\n            \"Epoch 18/20\\\\n\",\\n            \"8/8 [==============================] - 2s 237ms/step - loss: 5.0128 - accuracy: 0.7159 - val_loss: 3.7788 - val_accuracy: 0.9091\\\\n\",\\n            \"Epoch 19/20\\\\n\",\\n            \"8/8 [==============================] - 2s 234ms/step - loss: 4.4835 - accuracy: 0.7112 - val_loss: 3.1105 - val_accuracy: 0.9091\\\\n\",\\n            \"Epoch 20/20\\\\n\",\\n            \"8/8 [==============================] - 2s 236ms/step - loss: 4.5293 - accuracy: 0.7321 - val_loss: 3.3811 - val_accuracy: 0.9091\\\\n\"\\n          ],\\n          \"name\": \"stdout\"\\n        }\\n      ]\\n    },\\n    {\\n      \"cell_type\": \"code\",\\n      \"metadata\": {\\n        \"id\": \"_UY-U54SDyJS\"\\n      },\\n      \"source\": [\\n        \"for layer in model.layers[:15]:\\\\n\",\\n        \"    layer.trainable = False\\\\n\",\\n        \"\\\\n\",\\n        \"for layer in model.layers[15:]:\\\\n\",\\n        \"    layer.trainable = True\"\\n      ],\\n      \"execution_count\": 37,\\n      \"outputs\": []\\n    },\\n    {\\n      \"cell_type\": \"code\",\\n      \"metadata\": {\\n        \"id\": \"CN9_Y4bID1Zl\"\\n      },\\n      \"source\": [\\n        \"optimizer = Adam(lr=0.0001, beta_1=0.9, beta_2=0.999, epsilon=None, decay=0.0, amsgrad=False)\\\\n\",\\n        \"model.compile(loss=\\'categorical_crossentropy\\',\\\\n\",\\n        \"              optimizer=optimizer,\\\\n\",\\n        \"              metrics=[\\'acc\\'])\"\\n      ],\\n      \"execution_count\": 38,\\n      \"outputs\": []\\n    },\\n    {\\n      \"cell_type\": \"code\",\\n      \"metadata\": {\\n        \"id\": \"Tjjcz_lTD2QQ\",\\n        \"colab\": {\\n          \"base_uri\": \"https://localhost:8080/\"\\n        },\\n        \"outputId\": \"91ecc894-1bd5-4469-f72e-c975555fe0ea\"\\n      },\\n      \"source\": [\\n        \"model.summary()\"\\n      ],\\n      \"execution_count\": 39,\\n      \"outputs\": [\\n        {\\n          \"output_type\": \"stream\",\\n          \"text\": [\\n            \"Model: \\\\\"model\\\\\"\\\\n\",\\n            \"_________________________________________________________________\\\\n\",\\n            \"Layer (type)                 Output Shape              Param #   \\\\n\",\\n            \"=================================================================\\\\n\",\\n            \"input_1 (InputLayer)         [(None, 224, 224, 3)]     0         \\\\n\",\\n            \"_________________________________________________________________\\\\n\",\\n            \"block1_conv1 (Conv2D)        (None, 224, 224, 64)      1792      \\\\n\",\\n            \"_________________________________________________________________\\\\n\",\\n            \"block1_conv2 (Conv2D)        (None, 224, 224, 64)      36928     \\\\n\",\\n            \"_________________________________________________________________\\\\n\",\\n            \"block1_pool (MaxPooling2D)   (None, 112, 112, 64)      0         \\\\n\",\\n            \"_________________________________________________________________\\\\n\",\\n            \"block2_conv1 (Conv2D)        (None, 112, 112, 128)     73856     \\\\n\",\\n            \"_________________________________________________________________\\\\n\",\\n            \"block2_conv2 (Conv2D)        (None, 112, 112, 128)     147584    \\\\n\",\\n            \"_________________________________________________________________\\\\n\",\\n            \"block2_pool (MaxPooling2D)   (None, 56, 56, 128)       0         \\\\n\",\\n            \"_________________________________________________________________\\\\n\",\\n            \"block3_conv1 (Conv2D)        (None, 56, 56, 256)       295168    \\\\n\",\\n            \"_________________________________________________________________\\\\n\",\\n            \"block3_conv2 (Conv2D)        (None, 56, 56, 256)       590080    \\\\n\",\\n            \"_________________________________________________________________\\\\n\",\\n            \"block3_conv3 (Conv2D)        (None, 56, 56, 256)       590080    \\\\n\",\\n            \"_________________________________________________________________\\\\n\",\\n            \"block3_pool (MaxPooling2D)   (None, 28, 28, 256)       0         \\\\n\",\\n            \"_________________________________________________________________\\\\n\",\\n            \"block4_conv1 (Conv2D)        (None, 28, 28, 512)       1180160   \\\\n\",\\n            \"_________________________________________________________________\\\\n\",\\n            \"block4_conv2 (Conv2D)        (None, 28, 28, 512)       2359808   \\\\n\",\\n            \"_________________________________________________________________\\\\n\",\\n            \"block4_conv3 (Conv2D)        (None, 28, 28, 512)       2359808   \\\\n\",\\n            \"_________________________________________________________________\\\\n\",\\n            \"block4_pool (MaxPooling2D)   (None, 14, 14, 512)       0         \\\\n\",\\n            \"_________________________________________________________________\\\\n\",\\n            \"block5_conv1 (Conv2D)        (None, 14, 14, 512)       2359808   \\\\n\",\\n            \"_________________________________________________________________\\\\n\",\\n            \"block5_conv2 (Conv2D)        (None, 14, 14, 512)       2359808   \\\\n\",\\n            \"_________________________________________________________________\\\\n\",\\n            \"block5_conv3 (Conv2D)        (None, 14, 14, 512)       2359808   \\\\n\",\\n            \"_________________________________________________________________\\\\n\",\\n            \"block5_pool (MaxPooling2D)   (None, 7, 7, 512)         0         \\\\n\",\\n            \"_________________________________________________________________\\\\n\",\\n            \"global_max_pooling2d (Global (None, 512)               0         \\\\n\",\\n            \"_________________________________________________________________\\\\n\",\\n            \"dense (Dense)                (None, 512)               262656    \\\\n\",\\n            \"_________________________________________________________________\\\\n\",\\n            \"dropout (Dropout)            (None, 512)               0         \\\\n\",\\n            \"_________________________________________________________________\\\\n\",\\n            \"dense_1 (Dense)              (None, 2)                 1026      \\\\n\",\\n            \"=================================================================\\\\n\",\\n            \"Total params: 14,978,370\\\\n\",\\n            \"Trainable params: 7,343,106\\\\n\",\\n            \"Non-trainable params: 7,635,264\\\\n\",\\n            \"_________________________________________________________________\\\\n\"\\n          ],\\n          \"name\": \"stdout\"\\n        }\\n      ]\\n    },\\n    {\\n      \"cell_type\": \"code\",\\n      \"metadata\": {\\n        \"id\": \"8CmWL6BsD2TW\"\\n      },\\n      \"source\": [\\n        \"learning_rate_reduction = ReduceLROnPlateau(monitor=\\'val_acc\\', patience=3, verbose=1, factor=0.5, \\\\n\",\\n        \"                                            min_lr=0.000001, cooldown=3)\"\\n      ],\\n      \"execution_count\": 40,\\n      \"outputs\": []\\n    },\\n    {\\n      \"cell_type\": \"code\",\\n      \"metadata\": {\\n        \"id\": \"4bIaW38VD2WZ\",\\n        \"colab\": {\\n          \"base_uri\": \"https://localhost:8080/\"\\n        },\\n        \"outputId\": \"2b0636e9-81b9-41c4-aaf5-ed5c46e078b9\"\\n      },\\n      \"source\": [\\n        \"history = model.fit(X_Train, Y_Train, batch_size=64, epochs=30,\\\\n\",\\n        \"                    validation_data=(X_Val, Y_Val))\"\\n      ],\\n      \"execution_count\": 41,\\n      \"outputs\": [\\n        {\\n          \"output_type\": \"stream\",\\n          \"text\": [\\n            \"Epoch 1/30\\\\n\",\\n            \"8/8 [==============================] - 3s 312ms/step - loss: 5.9748 - acc: 0.7154 - val_loss: 2.9004 - val_acc: 0.9091\\\\n\",\\n            \"Epoch 2/30\\\\n\",\\n            \"8/8 [==============================] - 2s 268ms/step - loss: 3.1058 - acc: 0.6951 - val_loss: 1.5493 - val_acc: 0.9091\\\\n\",\\n            \"Epoch 3/30\\\\n\",\\n            \"8/8 [==============================] - 2s 268ms/step - loss: 1.4753 - acc: 0.7780 - val_loss: 1.2218 - val_acc: 0.9091\\\\n\",\\n            \"Epoch 4/30\\\\n\",\\n            \"8/8 [==============================] - 2s 271ms/step - loss: 0.8644 - acc: 0.8030 - val_loss: 1.3206 - val_acc: 0.8182\\\\n\",\\n            \"Epoch 5/30\\\\n\",\\n            \"8/8 [==============================] - 2s 270ms/step - loss: 0.5370 - acc: 0.8651 - val_loss: 1.0647 - val_acc: 0.8182\\\\n\",\\n            \"Epoch 6/30\\\\n\",\\n            \"8/8 [==============================] - 2s 272ms/step - loss: 0.5725 - acc: 0.8184 - val_loss: 0.6503 - val_acc: 0.8182\\\\n\",\\n            \"Epoch 7/30\\\\n\",\\n            \"8/8 [==============================] - 2s 270ms/step - loss: 0.3056 - acc: 0.8790 - val_loss: 0.5907 - val_acc: 0.8182\\\\n\",\\n            \"Epoch 8/30\\\\n\",\\n            \"8/8 [==============================] - 2s 273ms/step - loss: 0.2613 - acc: 0.8847 - val_loss: 1.2905 - val_acc: 0.9091\\\\n\",\\n            \"Epoch 9/30\\\\n\",\\n            \"8/8 [==============================] - 2s 272ms/step - loss: 0.1960 - acc: 0.9100 - val_loss: 0.8232 - val_acc: 0.9091\\\\n\",\\n            \"Epoch 10/30\\\\n\",\\n            \"8/8 [==============================] - 2s 272ms/step - loss: 0.1480 - acc: 0.9376 - val_loss: 1.0882 - val_acc: 0.9091\\\\n\",\\n            \"Epoch 11/30\\\\n\",\\n            \"8/8 [==============================] - 2s 274ms/step - loss: 0.1486 - acc: 0.9434 - val_loss: 1.1287 - val_acc: 0.8182\\\\n\",\\n            \"Epoch 12/30\\\\n\",\\n            \"8/8 [==============================] - 2s 275ms/step - loss: 0.1314 - acc: 0.9360 - val_loss: 1.1127 - val_acc: 0.9091\\\\n\",\\n            \"Epoch 13/30\\\\n\",\\n            \"8/8 [==============================] - 2s 275ms/step - loss: 0.0881 - acc: 0.9603 - val_loss: 1.0459 - val_acc: 0.9091\\\\n\",\\n            \"Epoch 14/30\\\\n\",\\n            \"8/8 [==============================] - 2s 277ms/step - loss: 0.1250 - acc: 0.9586 - val_loss: 0.9271 - val_acc: 0.8182\\\\n\",\\n            \"Epoch 15/30\\\\n\",\\n            \"8/8 [==============================] - 2s 276ms/step - loss: 0.0645 - acc: 0.9813 - val_loss: 1.1638 - val_acc: 0.8182\\\\n\",\\n            \"Epoch 16/30\\\\n\",\\n            \"8/8 [==============================] - 2s 279ms/step - loss: 0.0432 - acc: 0.9899 - val_loss: 1.2481 - val_acc: 0.8182\\\\n\",\\n            \"Epoch 17/30\\\\n\",\\n            \"8/8 [==============================] - 2s 281ms/step - loss: 0.0230 - acc: 0.9942 - val_loss: 1.3523 - val_acc: 0.8182\\\\n\",\\n            \"Epoch 18/30\\\\n\",\\n            \"8/8 [==============================] - 2s 280ms/step - loss: 0.0278 - acc: 0.9898 - val_loss: 1.4026 - val_acc: 0.8182\\\\n\",\\n            \"Epoch 19/30\\\\n\",\\n            \"8/8 [==============================] - 2s 282ms/step - loss: 0.0361 - acc: 0.9867 - val_loss: 1.5587 - val_acc: 0.8182\\\\n\",\\n            \"Epoch 20/30\\\\n\",\\n            \"8/8 [==============================] - 2s 283ms/step - loss: 0.0204 - acc: 0.9945 - val_loss: 1.4107 - val_acc: 0.8182\\\\n\",\\n            \"Epoch 21/30\\\\n\",\\n            \"8/8 [==============================] - 2s 285ms/step - loss: 0.0149 - acc: 0.9968 - val_loss: 1.4893 - val_acc: 0.9091\\\\n\",\\n            \"Epoch 22/30\\\\n\",\\n            \"8/8 [==============================] - 2s 286ms/step - loss: 0.0263 - acc: 0.9913 - val_loss: 1.0727 - val_acc: 0.8182\\\\n\",\\n            \"Epoch 23/30\\\\n\",\\n            \"8/8 [==============================] - 2s 287ms/step - loss: 0.0152 - acc: 0.9952 - val_loss: 1.2726 - val_acc: 0.9091\\\\n\",\\n            \"Epoch 24/30\\\\n\",\\n            \"8/8 [==============================] - 2s 288ms/step - loss: 0.0271 - acc: 0.9950 - val_loss: 1.4082 - val_acc: 0.9091\\\\n\",\\n            \"Epoch 25/30\\\\n\",\\n            \"8/8 [==============================] - 2s 289ms/step - loss: 0.0108 - acc: 1.0000 - val_loss: 1.3412 - val_acc: 0.9091\\\\n\",\\n            \"Epoch 26/30\\\\n\",\\n            \"8/8 [==============================] - 2s 292ms/step - loss: 0.0152 - acc: 0.9972 - val_loss: 1.3934 - val_acc: 0.9091\\\\n\",\\n            \"Epoch 27/30\\\\n\",\\n            \"8/8 [==============================] - 2s 294ms/step - loss: 0.0146 - acc: 0.9970 - val_loss: 1.0688 - val_acc: 0.9091\\\\n\",\\n            \"Epoch 28/30\\\\n\",\\n            \"8/8 [==============================] - 2s 294ms/step - loss: 0.0278 - acc: 0.9881 - val_loss: 1.2248 - val_acc: 0.9091\\\\n\",\\n            \"Epoch 29/30\\\\n\",\\n            \"8/8 [==============================] - 2s 293ms/step - loss: 0.0258 - acc: 0.9861 - val_loss: 1.1311 - val_acc: 0.9091\\\\n\",\\n            \"Epoch 30/30\\\\n\",\\n            \"8/8 [==============================] - 2s 291ms/step - loss: 0.0146 - acc: 0.9955 - val_loss: 1.2214 - val_acc: 0.9091\\\\n\"\\n          ],\\n          \"name\": \"stdout\"\\n        }\\n      ]\\n    },\\n    {\\n      \"cell_type\": \"code\",\\n      \"metadata\": {\\n        \"id\": \"v-Uo-6-mD2Yl\",\\n        \"colab\": {\\n          \"base_uri\": \"https://localhost:8080/\"\\n        },\\n        \"outputId\": \"4effba89-8a06-4e4a-dbb5-a624dc72dde7\"\\n      },\\n      \"source\": [\\n        \"loss_val, acc_val = model.evaluate(X_Val, Y_Val, verbose=1)\\\\n\",\\n        \"print(\\\\\"Validation: accuracy = %f  ;  loss_v = %f\\\\\" % (acc_val, loss_val))\"\\n      ],\\n      \"execution_count\": 42,\\n      \"outputs\": [\\n        {\\n          \"output_type\": \"stream\",\\n          \"text\": [\\n            \"1/1 [==============================] - 0s 95ms/step - loss: 1.2214 - acc: 0.9091\\\\n\",\\n            \"Validation: accuracy = 0.909091  ;  loss_v = 1.221427\\\\n\"\\n          ],\\n          \"name\": \"stdout\"\\n        }\\n      ]\\n    },\\n    {\\n      \"cell_type\": \"markdown\",\\n      \"metadata\": {\\n        \"id\": \"HYOm8UK9HVst\"\\n      },\\n      \"source\": [\\n        \"Testing\"\\n      ]\\n    },\\n    {\\n      \"cell_type\": \"code\",\\n      \"metadata\": {\\n        \"id\": \"aFvq-iGdHWpj\",\\n        \"colab\": {\\n          \"base_uri\": \"https://localhost:8080/\"\\n        },\\n        \"outputId\": \"e5a0b30c-f8f5-4014-ac21-96101d1cb80c\"\\n      },\\n      \"source\": [\\n        \"y_test_data = to_categorical(y_test_data)\\\\n\",\\n        \"loss_test, acc_test = model.evaluate(x_test_data, y_test_data, verbose=1)\\\\n\",\\n        \"print(\\\\\"Test: accuracy = %f  ;  loss = %f\\\\\" % (acc_test, loss_test))\"\\n      ],\\n      \"execution_count\": 43,\\n      \"outputs\": [\\n        {\\n          \"output_type\": \"stream\",\\n          \"text\": [\\n            \"5/5 [==============================] - 2s 190ms/step - loss: 1.9244 - acc: 0.6769\\\\n\",\\n            \"Test: accuracy = 0.676923  ;  loss = 1.924422\\\\n\"\\n          ],\\n          \"name\": \"stdout\"\\n        }\\n      ]\\n    },\\n    {\\n      \"cell_type\": \"code\",\\n      \"metadata\": {\\n        \"id\": \"kIqoPF6SHWsw\"\\n      },\\n      \"source\": [\\n        \"model.save(\\\\\"VGG16.h5\\\\\")\"\\n      ],\\n      \"execution_count\": 44,\\n      \"outputs\": []\\n    },\\n    {\\n      \"cell_type\": \"code\",\\n      \"metadata\": {\\n        \"id\": \"MCoBHHrSHWvo\",\\n        \"colab\": {\\n          \"base_uri\": \"https://localhost:8080/\",\\n          \"height\": 562\\n        },\\n        \"outputId\": \"c4dfdd4a-1f98-4b55-e9c4-9a2001b591c8\"\\n      },\\n      \"source\": [\\n        \"# Retrieve a list of accuracy results on training and test data\\\\n\",\\n        \"# sets for each training epoch\\\\n\",\\n        \"acc = history.history[\\'acc\\']\\\\n\",\\n        \"val_acc = history.history[\\'val_acc\\']\\\\n\",\\n        \"\\\\n\",\\n        \"# Retrieve a list of list results on training and test data\\\\n\",\\n        \"# sets for each training epoch\\\\n\",\\n        \"loss = history.history[\\'loss\\']\\\\n\",\\n        \"val_loss = history.history[\\'val_loss\\']\\\\n\",\\n        \"\\\\n\",\\n        \"# Get number of epochs\\\\n\",\\n        \"epochs = range(len(acc))\\\\n\",\\n        \"\\\\n\",\\n        \"# Plot training and validation accuracy per epoch\\\\n\",\\n        \"plt.plot(epochs, acc, label = \\\\\"training\\\\\")\\\\n\",\\n        \"plt.plot(epochs, val_acc, label = \\\\\"validation\\\\\")\\\\n\",\\n        \"plt.legend(loc=\\\\\"upper left\\\\\")\\\\n\",\\n        \"plt.title(\\'Training and validation accuracy\\')\\\\n\",\\n        \"\\\\n\",\\n        \"plt.figure()\\\\n\",\\n        \"\\\\n\",\\n        \"# Plot training and validation loss per epoch\\\\n\",\\n        \"plt.plot(epochs, loss, label = \\\\\"training\\\\\")\\\\n\",\\n        \"plt.plot(epochs, val_loss, label = \\\\\"validation\\\\\")\\\\n\",\\n        \"plt.legend(loc=\\\\\"upper right\\\\\")\\\\n\",\\n        \"plt.title(\\'Training and validation loss\\')\"\\n      ],\\n      \"execution_count\": 45,\\n      \"outputs\": [\\n        {\\n          \"output_type\": \"execute_result\",\\n          \"data\": {\\n            \"text/plain\": [\\n              \"Text(0.5, 1.0, \\'Training and validation loss\\')\"\\n            ]\\n          },\\n          \"metadata\": {\\n            \"tags\": []\\n          },\\n          \"execution_count\": 45\\n        },\\n        {\\n          \"output_type\": \"display_data\",\\n          \"data\": {\\n            \"image/png\": \"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\\\\n\",\\n            \"text/plain\": [\\n              \"<Figure size 432x288 with 1 Axes>\"\\n            ]\\n          },\\n          \"metadata\": {\\n            \"tags\": [],\\n            \"needs_background\": \"light\"\\n          }\\n        },\\n        {\\n          \"output_type\": \"display_data\",\\n          \"data\": {\\n            \"image/png\": \"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\\\\n\",\\n            \"text/plain\": [\\n              \"<Figure size 432x288 with 1 Axes>\"\\n            ]\\n          },\\n          \"metadata\": {\\n            \"tags\": [],\\n            \"needs_background\": \"light\"\\n          }\\n        }\\n      ]\\n    },\\n    {\\n      \"cell_type\": \"markdown\",\\n      \"metadata\": {\\n        \"id\": \"v1FineDQJohD\"\\n      },\\n      \"source\": [\\n        \"# **# **Load in Pretrained Resnet50 Model****\"\\n      ]\\n    },\\n    {\\n      \"cell_type\": \"code\",\\n      \"metadata\": {\\n        \"id\": \"gouV0OHQJn0L\"\\n      },\\n      \"source\": [\\n        \"\"\\n      ],\\n      \"execution_count\": null,\\n      \"outputs\": []\\n    },\\n    {\\n      \"cell_type\": \"code\",\\n      \"metadata\": {\\n        \"id\": \"rO9VoD1_HWy1\"\\n      },\\n      \"source\": [\\n        \"\"\\n      ],\\n      \"execution_count\": null,\\n      \"outputs\": []\\n    },\\n    {\\n      \"cell_type\": \"code\",\\n      \"metadata\": {\\n        \"id\": \"L35d8VmrHW1N\"\\n      },\\n      \"source\": [\\n        \"\"\\n      ],\\n      \"execution_count\": null,\\n      \"outputs\": []\\n    },\\n    {\\n      \"cell_type\": \"code\",\\n      \"metadata\": {\\n        \"id\": \"RYIAs-eCHW5O\"\\n      },\\n      \"source\": [\\n        \"\"\\n      ],\\n      \"execution_count\": null,\\n      \"outputs\": []\\n    },\\n    {\\n      \"cell_type\": \"code\",\\n      \"metadata\": {\\n        \"id\": \"GUtiaCDYHW8s\"\\n      },\\n      \"source\": [\\n        \"\"\\n      ],\\n      \"execution_count\": null,\\n      \"outputs\": []\\n    },\\n    {\\n      \"cell_type\": \"code\",\\n      \"metadata\": {\\n        \"id\": \"DgA-34yVJunR\"\\n      },\\n      \"source\": [\\n        \"\"\\n      ],\\n      \"execution_count\": null,\\n      \"outputs\": []\\n    }\\n  ]\\n}'}"
            ]
          },
          "metadata": {
            "tags": []
          },
          "execution_count": 212
        }
      ]
    },
    {
      "cell_type": "code",
      "metadata": {
        "colab": {
          "base_uri": "https://localhost:8080/"
        },
        "id": "NEslhvslssvI",
        "outputId": "42298e87-fe24-4dcf-fdea-ce84ab8cd684"
      },
      "source": [
        "!mkdir -p ~/.kaggle\n",
        "!cp kaggle.json ~/.kaggle/\n",
        "!ls ~/.kaggle\n",
        "!chmod 600 /root/.kaggle/kaggle.json\n",
        "!kaggle datasets download \"sshikamaru/glaucoma-detection\""
      ],
      "execution_count": 213,
      "outputs": [
        {
          "output_type": "stream",
          "text": [
            "kaggle.json\n",
            "glaucoma-detection.zip: Skipping, found more recently modified local copy (use --force to force download)\n"
          ],
          "name": "stdout"
        }
      ]
    },
    {
      "cell_type": "code",
      "metadata": {
        "colab": {
          "base_uri": "https://localhost:8080/"
        },
        "id": "lwrDa9Dhssxm",
        "outputId": "9a0a7f5a-8e23-4113-9717-35e63a7033d5"
      },
      "source": [
        "!unzip glaucoma-detection.zip"
      ],
      "execution_count": 214,
      "outputs": [
        {
          "output_type": "stream",
          "text": [
            "Archive:  glaucoma-detection.zip\n",
            "replace Fundus_Train_Val_Data/Fundus_Scanes_Sorted/Train/Glaucoma_Negative/001.jpg? [y]es, [n]o, [A]ll, [N]one, [r]ename: A\n",
            "  inflating: Fundus_Train_Val_Data/Fundus_Scanes_Sorted/Train/Glaucoma_Negative/001.jpg  \n",
            "  inflating: Fundus_Train_Val_Data/Fundus_Scanes_Sorted/Train/Glaucoma_Negative/002.jpg  \n",
            "  inflating: Fundus_Train_Val_Data/Fundus_Scanes_Sorted/Train/Glaucoma_Negative/003.jpg  \n",
            "  inflating: Fundus_Train_Val_Data/Fundus_Scanes_Sorted/Train/Glaucoma_Negative/004.jpg  \n",
            "  inflating: Fundus_Train_Val_Data/Fundus_Scanes_Sorted/Train/Glaucoma_Negative/005.jpg  \n",
            "  inflating: Fundus_Train_Val_Data/Fundus_Scanes_Sorted/Train/Glaucoma_Negative/006.jpg  \n",
            "  inflating: Fundus_Train_Val_Data/Fundus_Scanes_Sorted/Train/Glaucoma_Negative/007.jpg  \n",
            "  inflating: Fundus_Train_Val_Data/Fundus_Scanes_Sorted/Train/Glaucoma_Negative/008.jpg  \n",
            "  inflating: Fundus_Train_Val_Data/Fundus_Scanes_Sorted/Train/Glaucoma_Negative/009.jpg  \n",
            "  inflating: Fundus_Train_Val_Data/Fundus_Scanes_Sorted/Train/Glaucoma_Negative/010.jpg  \n",
            "  inflating: Fundus_Train_Val_Data/Fundus_Scanes_Sorted/Train/Glaucoma_Negative/011.jpg  \n",
            "  inflating: Fundus_Train_Val_Data/Fundus_Scanes_Sorted/Train/Glaucoma_Negative/012.jpg  \n",
            "  inflating: Fundus_Train_Val_Data/Fundus_Scanes_Sorted/Train/Glaucoma_Negative/013.jpg  \n",
            "  inflating: Fundus_Train_Val_Data/Fundus_Scanes_Sorted/Train/Glaucoma_Negative/014.jpg  \n",
            "  inflating: Fundus_Train_Val_Data/Fundus_Scanes_Sorted/Train/Glaucoma_Negative/015.jpg  \n",
            "  inflating: Fundus_Train_Val_Data/Fundus_Scanes_Sorted/Train/Glaucoma_Negative/016.jpg  \n",
            "  inflating: Fundus_Train_Val_Data/Fundus_Scanes_Sorted/Train/Glaucoma_Negative/017.jpg  \n",
            "  inflating: Fundus_Train_Val_Data/Fundus_Scanes_Sorted/Train/Glaucoma_Negative/018.jpg  \n",
            "  inflating: Fundus_Train_Val_Data/Fundus_Scanes_Sorted/Train/Glaucoma_Negative/019.jpg  \n",
            "  inflating: Fundus_Train_Val_Data/Fundus_Scanes_Sorted/Train/Glaucoma_Negative/020.jpg  \n",
            "  inflating: Fundus_Train_Val_Data/Fundus_Scanes_Sorted/Train/Glaucoma_Negative/021.jpg  \n",
            "  inflating: Fundus_Train_Val_Data/Fundus_Scanes_Sorted/Train/Glaucoma_Negative/022.jpg  \n",
            "  inflating: Fundus_Train_Val_Data/Fundus_Scanes_Sorted/Train/Glaucoma_Negative/023.jpg  \n",
            "  inflating: Fundus_Train_Val_Data/Fundus_Scanes_Sorted/Train/Glaucoma_Negative/024.jpg  \n",
            "  inflating: Fundus_Train_Val_Data/Fundus_Scanes_Sorted/Train/Glaucoma_Negative/025.jpg  \n",
            "  inflating: Fundus_Train_Val_Data/Fundus_Scanes_Sorted/Train/Glaucoma_Negative/026.jpg  \n",
            "  inflating: Fundus_Train_Val_Data/Fundus_Scanes_Sorted/Train/Glaucoma_Negative/027.jpg  \n",
            "  inflating: Fundus_Train_Val_Data/Fundus_Scanes_Sorted/Train/Glaucoma_Negative/028.jpg  \n",
            "  inflating: Fundus_Train_Val_Data/Fundus_Scanes_Sorted/Train/Glaucoma_Negative/029.jpg  \n",
            "  inflating: Fundus_Train_Val_Data/Fundus_Scanes_Sorted/Train/Glaucoma_Negative/030.jpg  \n",
            "  inflating: Fundus_Train_Val_Data/Fundus_Scanes_Sorted/Train/Glaucoma_Negative/031.jpg  \n",
            "  inflating: Fundus_Train_Val_Data/Fundus_Scanes_Sorted/Train/Glaucoma_Negative/032.jpg  \n",
            "  inflating: Fundus_Train_Val_Data/Fundus_Scanes_Sorted/Train/Glaucoma_Negative/033.jpg  \n",
            "  inflating: Fundus_Train_Val_Data/Fundus_Scanes_Sorted/Train/Glaucoma_Negative/034.jpg  \n",
            "  inflating: Fundus_Train_Val_Data/Fundus_Scanes_Sorted/Train/Glaucoma_Negative/035.jpg  \n",
            "  inflating: Fundus_Train_Val_Data/Fundus_Scanes_Sorted/Train/Glaucoma_Negative/038.jpg  \n",
            "  inflating: Fundus_Train_Val_Data/Fundus_Scanes_Sorted/Train/Glaucoma_Negative/039.jpg  \n",
            "  inflating: Fundus_Train_Val_Data/Fundus_Scanes_Sorted/Train/Glaucoma_Negative/040.jpg  \n",
            "  inflating: Fundus_Train_Val_Data/Fundus_Scanes_Sorted/Train/Glaucoma_Negative/042.jpg  \n",
            "  inflating: Fundus_Train_Val_Data/Fundus_Scanes_Sorted/Train/Glaucoma_Negative/043.jpg  \n",
            "  inflating: Fundus_Train_Val_Data/Fundus_Scanes_Sorted/Train/Glaucoma_Negative/044.jpg  \n",
            "  inflating: Fundus_Train_Val_Data/Fundus_Scanes_Sorted/Train/Glaucoma_Negative/045.jpg  \n",
            "  inflating: Fundus_Train_Val_Data/Fundus_Scanes_Sorted/Train/Glaucoma_Negative/046.jpg  \n",
            "  inflating: Fundus_Train_Val_Data/Fundus_Scanes_Sorted/Train/Glaucoma_Negative/047.jpg  \n",
            "  inflating: Fundus_Train_Val_Data/Fundus_Scanes_Sorted/Train/Glaucoma_Negative/048.jpg  \n",
            "  inflating: Fundus_Train_Val_Data/Fundus_Scanes_Sorted/Train/Glaucoma_Negative/049.jpg  \n",
            "  inflating: Fundus_Train_Val_Data/Fundus_Scanes_Sorted/Train/Glaucoma_Negative/051.jpg  \n",
            "  inflating: Fundus_Train_Val_Data/Fundus_Scanes_Sorted/Train/Glaucoma_Negative/052.jpg  \n",
            "  inflating: Fundus_Train_Val_Data/Fundus_Scanes_Sorted/Train/Glaucoma_Negative/053.jpg  \n",
            "  inflating: Fundus_Train_Val_Data/Fundus_Scanes_Sorted/Train/Glaucoma_Negative/054.jpg  \n",
            "  inflating: Fundus_Train_Val_Data/Fundus_Scanes_Sorted/Train/Glaucoma_Negative/055.jpg  \n",
            "  inflating: Fundus_Train_Val_Data/Fundus_Scanes_Sorted/Train/Glaucoma_Negative/056.jpg  \n",
            "  inflating: Fundus_Train_Val_Data/Fundus_Scanes_Sorted/Train/Glaucoma_Negative/057.jpg  \n",
            "  inflating: Fundus_Train_Val_Data/Fundus_Scanes_Sorted/Train/Glaucoma_Negative/058.jpg  \n",
            "  inflating: Fundus_Train_Val_Data/Fundus_Scanes_Sorted/Train/Glaucoma_Negative/059.jpg  \n",
            "  inflating: Fundus_Train_Val_Data/Fundus_Scanes_Sorted/Train/Glaucoma_Negative/060.jpg  \n",
            "  inflating: Fundus_Train_Val_Data/Fundus_Scanes_Sorted/Train/Glaucoma_Negative/061.jpg  \n",
            "  inflating: Fundus_Train_Val_Data/Fundus_Scanes_Sorted/Train/Glaucoma_Negative/062.jpg  \n",
            "  inflating: Fundus_Train_Val_Data/Fundus_Scanes_Sorted/Train/Glaucoma_Negative/063.jpg  \n",
            "  inflating: Fundus_Train_Val_Data/Fundus_Scanes_Sorted/Train/Glaucoma_Negative/064.jpg  \n",
            "  inflating: Fundus_Train_Val_Data/Fundus_Scanes_Sorted/Train/Glaucoma_Negative/065.jpg  \n",
            "  inflating: Fundus_Train_Val_Data/Fundus_Scanes_Sorted/Train/Glaucoma_Negative/066.jpg  \n",
            "  inflating: Fundus_Train_Val_Data/Fundus_Scanes_Sorted/Train/Glaucoma_Negative/067.jpg  \n",
            "  inflating: Fundus_Train_Val_Data/Fundus_Scanes_Sorted/Train/Glaucoma_Negative/068.jpg  \n",
            "  inflating: Fundus_Train_Val_Data/Fundus_Scanes_Sorted/Train/Glaucoma_Negative/070.jpg  \n",
            "  inflating: Fundus_Train_Val_Data/Fundus_Scanes_Sorted/Train/Glaucoma_Negative/071.jpg  \n",
            "  inflating: Fundus_Train_Val_Data/Fundus_Scanes_Sorted/Train/Glaucoma_Negative/073.jpg  \n",
            "  inflating: Fundus_Train_Val_Data/Fundus_Scanes_Sorted/Train/Glaucoma_Negative/074.jpg  \n",
            "  inflating: Fundus_Train_Val_Data/Fundus_Scanes_Sorted/Train/Glaucoma_Negative/075.jpg  \n",
            "  inflating: Fundus_Train_Val_Data/Fundus_Scanes_Sorted/Train/Glaucoma_Negative/077.jpg  \n",
            "  inflating: Fundus_Train_Val_Data/Fundus_Scanes_Sorted/Train/Glaucoma_Negative/078.jpg  \n",
            "  inflating: Fundus_Train_Val_Data/Fundus_Scanes_Sorted/Train/Glaucoma_Negative/079.jpg  \n",
            "  inflating: Fundus_Train_Val_Data/Fundus_Scanes_Sorted/Train/Glaucoma_Negative/080.jpg  \n",
            "  inflating: Fundus_Train_Val_Data/Fundus_Scanes_Sorted/Train/Glaucoma_Negative/081.jpg  \n",
            "  inflating: Fundus_Train_Val_Data/Fundus_Scanes_Sorted/Train/Glaucoma_Negative/082.jpg  \n",
            "  inflating: Fundus_Train_Val_Data/Fundus_Scanes_Sorted/Train/Glaucoma_Negative/083.jpg  \n",
            "  inflating: Fundus_Train_Val_Data/Fundus_Scanes_Sorted/Train/Glaucoma_Negative/084.jpg  \n",
            "  inflating: Fundus_Train_Val_Data/Fundus_Scanes_Sorted/Train/Glaucoma_Negative/085.jpg  \n",
            "  inflating: Fundus_Train_Val_Data/Fundus_Scanes_Sorted/Train/Glaucoma_Negative/088.jpg  \n",
            "  inflating: Fundus_Train_Val_Data/Fundus_Scanes_Sorted/Train/Glaucoma_Negative/089.jpg  \n",
            "  inflating: Fundus_Train_Val_Data/Fundus_Scanes_Sorted/Train/Glaucoma_Negative/090.jpg  \n",
            "  inflating: Fundus_Train_Val_Data/Fundus_Scanes_Sorted/Train/Glaucoma_Negative/091.jpg  \n",
            "  inflating: Fundus_Train_Val_Data/Fundus_Scanes_Sorted/Train/Glaucoma_Negative/092.jpg  \n",
            "  inflating: Fundus_Train_Val_Data/Fundus_Scanes_Sorted/Train/Glaucoma_Negative/095.jpg  \n",
            "  inflating: Fundus_Train_Val_Data/Fundus_Scanes_Sorted/Train/Glaucoma_Negative/096.jpg  \n",
            "  inflating: Fundus_Train_Val_Data/Fundus_Scanes_Sorted/Train/Glaucoma_Negative/098.jpg  \n",
            "  inflating: Fundus_Train_Val_Data/Fundus_Scanes_Sorted/Train/Glaucoma_Negative/099.jpg  \n",
            "  inflating: Fundus_Train_Val_Data/Fundus_Scanes_Sorted/Train/Glaucoma_Negative/100.jpg  \n",
            "  inflating: Fundus_Train_Val_Data/Fundus_Scanes_Sorted/Train/Glaucoma_Negative/101.jpg  \n",
            "  inflating: Fundus_Train_Val_Data/Fundus_Scanes_Sorted/Train/Glaucoma_Negative/102.jpg  \n",
            "  inflating: Fundus_Train_Val_Data/Fundus_Scanes_Sorted/Train/Glaucoma_Negative/103.jpg  \n",
            "  inflating: Fundus_Train_Val_Data/Fundus_Scanes_Sorted/Train/Glaucoma_Negative/104.jpg  \n",
            "  inflating: Fundus_Train_Val_Data/Fundus_Scanes_Sorted/Train/Glaucoma_Negative/105.jpg  \n",
            "  inflating: Fundus_Train_Val_Data/Fundus_Scanes_Sorted/Train/Glaucoma_Negative/106.jpg  \n",
            "  inflating: Fundus_Train_Val_Data/Fundus_Scanes_Sorted/Train/Glaucoma_Negative/107.jpg  \n",
            "  inflating: Fundus_Train_Val_Data/Fundus_Scanes_Sorted/Train/Glaucoma_Negative/108.jpg  \n",
            "  inflating: Fundus_Train_Val_Data/Fundus_Scanes_Sorted/Train/Glaucoma_Negative/109.jpg  \n",
            "  inflating: Fundus_Train_Val_Data/Fundus_Scanes_Sorted/Train/Glaucoma_Negative/111.jpg  \n",
            "  inflating: Fundus_Train_Val_Data/Fundus_Scanes_Sorted/Train/Glaucoma_Negative/112.jpg  \n",
            "  inflating: Fundus_Train_Val_Data/Fundus_Scanes_Sorted/Train/Glaucoma_Negative/113.jpg  \n",
            "  inflating: Fundus_Train_Val_Data/Fundus_Scanes_Sorted/Train/Glaucoma_Negative/114.jpg  \n",
            "  inflating: Fundus_Train_Val_Data/Fundus_Scanes_Sorted/Train/Glaucoma_Negative/115.jpg  \n",
            "  inflating: Fundus_Train_Val_Data/Fundus_Scanes_Sorted/Train/Glaucoma_Negative/117.jpg  \n",
            "  inflating: Fundus_Train_Val_Data/Fundus_Scanes_Sorted/Train/Glaucoma_Negative/118.jpg  \n",
            "  inflating: Fundus_Train_Val_Data/Fundus_Scanes_Sorted/Train/Glaucoma_Negative/119.jpg  \n",
            "  inflating: Fundus_Train_Val_Data/Fundus_Scanes_Sorted/Train/Glaucoma_Negative/120.jpg  \n",
            "  inflating: Fundus_Train_Val_Data/Fundus_Scanes_Sorted/Train/Glaucoma_Negative/121.jpg  \n",
            "  inflating: Fundus_Train_Val_Data/Fundus_Scanes_Sorted/Train/Glaucoma_Negative/122.jpg  \n",
            "  inflating: Fundus_Train_Val_Data/Fundus_Scanes_Sorted/Train/Glaucoma_Negative/123.jpg  \n",
            "  inflating: Fundus_Train_Val_Data/Fundus_Scanes_Sorted/Train/Glaucoma_Negative/124.jpg  \n",
            "  inflating: Fundus_Train_Val_Data/Fundus_Scanes_Sorted/Train/Glaucoma_Negative/125.jpg  \n",
            "  inflating: Fundus_Train_Val_Data/Fundus_Scanes_Sorted/Train/Glaucoma_Negative/126.jpg  \n",
            "  inflating: Fundus_Train_Val_Data/Fundus_Scanes_Sorted/Train/Glaucoma_Negative/127.jpg  \n",
            "  inflating: Fundus_Train_Val_Data/Fundus_Scanes_Sorted/Train/Glaucoma_Negative/128.jpg  \n",
            "  inflating: Fundus_Train_Val_Data/Fundus_Scanes_Sorted/Train/Glaucoma_Negative/129.jpg  \n",
            "  inflating: Fundus_Train_Val_Data/Fundus_Scanes_Sorted/Train/Glaucoma_Negative/130.jpg  \n",
            "  inflating: Fundus_Train_Val_Data/Fundus_Scanes_Sorted/Train/Glaucoma_Negative/131.jpg  \n",
            "  inflating: Fundus_Train_Val_Data/Fundus_Scanes_Sorted/Train/Glaucoma_Negative/132.jpg  \n",
            "  inflating: Fundus_Train_Val_Data/Fundus_Scanes_Sorted/Train/Glaucoma_Negative/133.jpg  \n",
            "  inflating: Fundus_Train_Val_Data/Fundus_Scanes_Sorted/Train/Glaucoma_Negative/134.jpg  \n",
            "  inflating: Fundus_Train_Val_Data/Fundus_Scanes_Sorted/Train/Glaucoma_Negative/135.jpg  \n",
            "  inflating: Fundus_Train_Val_Data/Fundus_Scanes_Sorted/Train/Glaucoma_Negative/136.jpg  \n",
            "  inflating: Fundus_Train_Val_Data/Fundus_Scanes_Sorted/Train/Glaucoma_Negative/137.jpg  \n",
            "  inflating: Fundus_Train_Val_Data/Fundus_Scanes_Sorted/Train/Glaucoma_Negative/139.jpg  \n",
            "  inflating: Fundus_Train_Val_Data/Fundus_Scanes_Sorted/Train/Glaucoma_Negative/140.jpg  \n",
            "  inflating: Fundus_Train_Val_Data/Fundus_Scanes_Sorted/Train/Glaucoma_Negative/141.jpg  \n",
            "  inflating: Fundus_Train_Val_Data/Fundus_Scanes_Sorted/Train/Glaucoma_Negative/142.jpg  \n",
            "  inflating: Fundus_Train_Val_Data/Fundus_Scanes_Sorted/Train/Glaucoma_Negative/143.jpg  \n",
            "  inflating: Fundus_Train_Val_Data/Fundus_Scanes_Sorted/Train/Glaucoma_Negative/144.jpg  \n",
            "  inflating: Fundus_Train_Val_Data/Fundus_Scanes_Sorted/Train/Glaucoma_Negative/145.jpg  \n",
            "  inflating: Fundus_Train_Val_Data/Fundus_Scanes_Sorted/Train/Glaucoma_Negative/146.jpg  \n",
            "  inflating: Fundus_Train_Val_Data/Fundus_Scanes_Sorted/Train/Glaucoma_Negative/147.jpg  \n",
            "  inflating: Fundus_Train_Val_Data/Fundus_Scanes_Sorted/Train/Glaucoma_Negative/148.jpg  \n",
            "  inflating: Fundus_Train_Val_Data/Fundus_Scanes_Sorted/Train/Glaucoma_Negative/149.jpg  \n",
            "  inflating: Fundus_Train_Val_Data/Fundus_Scanes_Sorted/Train/Glaucoma_Negative/150.jpg  \n",
            "  inflating: Fundus_Train_Val_Data/Fundus_Scanes_Sorted/Train/Glaucoma_Negative/151.jpg  \n",
            "  inflating: Fundus_Train_Val_Data/Fundus_Scanes_Sorted/Train/Glaucoma_Negative/152.jpg  \n",
            "  inflating: Fundus_Train_Val_Data/Fundus_Scanes_Sorted/Train/Glaucoma_Negative/153.jpg  \n",
            "  inflating: Fundus_Train_Val_Data/Fundus_Scanes_Sorted/Train/Glaucoma_Negative/154.jpg  \n",
            "  inflating: Fundus_Train_Val_Data/Fundus_Scanes_Sorted/Train/Glaucoma_Negative/155.jpg  \n",
            "  inflating: Fundus_Train_Val_Data/Fundus_Scanes_Sorted/Train/Glaucoma_Negative/156.jpg  \n",
            "  inflating: Fundus_Train_Val_Data/Fundus_Scanes_Sorted/Train/Glaucoma_Negative/157.jpg  \n",
            "  inflating: Fundus_Train_Val_Data/Fundus_Scanes_Sorted/Train/Glaucoma_Negative/161.jpg  \n",
            "  inflating: Fundus_Train_Val_Data/Fundus_Scanes_Sorted/Train/Glaucoma_Negative/162.jpg  \n",
            "  inflating: Fundus_Train_Val_Data/Fundus_Scanes_Sorted/Train/Glaucoma_Negative/163.jpg  \n",
            "  inflating: Fundus_Train_Val_Data/Fundus_Scanes_Sorted/Train/Glaucoma_Negative/164.jpg  \n",
            "  inflating: Fundus_Train_Val_Data/Fundus_Scanes_Sorted/Train/Glaucoma_Negative/166.jpg  \n",
            "  inflating: Fundus_Train_Val_Data/Fundus_Scanes_Sorted/Train/Glaucoma_Negative/167.jpg  \n",
            "  inflating: Fundus_Train_Val_Data/Fundus_Scanes_Sorted/Train/Glaucoma_Negative/169.jpg  \n",
            "  inflating: Fundus_Train_Val_Data/Fundus_Scanes_Sorted/Train/Glaucoma_Negative/170.jpg  \n",
            "  inflating: Fundus_Train_Val_Data/Fundus_Scanes_Sorted/Train/Glaucoma_Negative/172.jpg  \n",
            "  inflating: Fundus_Train_Val_Data/Fundus_Scanes_Sorted/Train/Glaucoma_Negative/173.jpg  \n",
            "  inflating: Fundus_Train_Val_Data/Fundus_Scanes_Sorted/Train/Glaucoma_Negative/174.jpg  \n",
            "  inflating: Fundus_Train_Val_Data/Fundus_Scanes_Sorted/Train/Glaucoma_Negative/175.jpg  \n",
            "  inflating: Fundus_Train_Val_Data/Fundus_Scanes_Sorted/Train/Glaucoma_Negative/176.jpg  \n",
            "  inflating: Fundus_Train_Val_Data/Fundus_Scanes_Sorted/Train/Glaucoma_Negative/177.jpg  \n",
            "  inflating: Fundus_Train_Val_Data/Fundus_Scanes_Sorted/Train/Glaucoma_Negative/178.jpg  \n",
            "  inflating: Fundus_Train_Val_Data/Fundus_Scanes_Sorted/Train/Glaucoma_Negative/179.jpg  \n",
            "  inflating: Fundus_Train_Val_Data/Fundus_Scanes_Sorted/Train/Glaucoma_Negative/183.jpg  \n",
            "  inflating: Fundus_Train_Val_Data/Fundus_Scanes_Sorted/Train/Glaucoma_Negative/184.jpg  \n",
            "  inflating: Fundus_Train_Val_Data/Fundus_Scanes_Sorted/Train/Glaucoma_Negative/185.jpg  \n",
            "  inflating: Fundus_Train_Val_Data/Fundus_Scanes_Sorted/Train/Glaucoma_Negative/186.jpg  \n",
            "  inflating: Fundus_Train_Val_Data/Fundus_Scanes_Sorted/Train/Glaucoma_Negative/187.jpg  \n",
            "  inflating: Fundus_Train_Val_Data/Fundus_Scanes_Sorted/Train/Glaucoma_Negative/188.jpg  \n",
            "  inflating: Fundus_Train_Val_Data/Fundus_Scanes_Sorted/Train/Glaucoma_Negative/189.jpg  \n",
            "  inflating: Fundus_Train_Val_Data/Fundus_Scanes_Sorted/Train/Glaucoma_Negative/190.jpg  \n",
            "  inflating: Fundus_Train_Val_Data/Fundus_Scanes_Sorted/Train/Glaucoma_Negative/191.jpg  \n",
            "  inflating: Fundus_Train_Val_Data/Fundus_Scanes_Sorted/Train/Glaucoma_Negative/192.jpg  \n",
            "  inflating: Fundus_Train_Val_Data/Fundus_Scanes_Sorted/Train/Glaucoma_Negative/193.jpg  \n",
            "  inflating: Fundus_Train_Val_Data/Fundus_Scanes_Sorted/Train/Glaucoma_Negative/194.jpg  \n",
            "  inflating: Fundus_Train_Val_Data/Fundus_Scanes_Sorted/Train/Glaucoma_Negative/195.jpg  \n",
            "  inflating: Fundus_Train_Val_Data/Fundus_Scanes_Sorted/Train/Glaucoma_Negative/196.jpg  \n",
            "  inflating: Fundus_Train_Val_Data/Fundus_Scanes_Sorted/Train/Glaucoma_Negative/197.jpg  \n",
            "  inflating: Fundus_Train_Val_Data/Fundus_Scanes_Sorted/Train/Glaucoma_Negative/198.jpg  \n",
            "  inflating: Fundus_Train_Val_Data/Fundus_Scanes_Sorted/Train/Glaucoma_Negative/199.jpg  \n",
            "  inflating: Fundus_Train_Val_Data/Fundus_Scanes_Sorted/Train/Glaucoma_Negative/200.jpg  \n",
            "  inflating: Fundus_Train_Val_Data/Fundus_Scanes_Sorted/Train/Glaucoma_Negative/201.jpg  \n",
            "  inflating: Fundus_Train_Val_Data/Fundus_Scanes_Sorted/Train/Glaucoma_Negative/202.jpg  \n",
            "  inflating: Fundus_Train_Val_Data/Fundus_Scanes_Sorted/Train/Glaucoma_Negative/203.jpg  \n",
            "  inflating: Fundus_Train_Val_Data/Fundus_Scanes_Sorted/Train/Glaucoma_Negative/204.jpg  \n",
            "  inflating: Fundus_Train_Val_Data/Fundus_Scanes_Sorted/Train/Glaucoma_Negative/205.jpg  \n",
            "  inflating: Fundus_Train_Val_Data/Fundus_Scanes_Sorted/Train/Glaucoma_Negative/206.jpg  \n",
            "  inflating: Fundus_Train_Val_Data/Fundus_Scanes_Sorted/Train/Glaucoma_Negative/207.jpg  \n",
            "  inflating: Fundus_Train_Val_Data/Fundus_Scanes_Sorted/Train/Glaucoma_Negative/209.jpg  \n",
            "  inflating: Fundus_Train_Val_Data/Fundus_Scanes_Sorted/Train/Glaucoma_Negative/210.jpg  \n",
            "  inflating: Fundus_Train_Val_Data/Fundus_Scanes_Sorted/Train/Glaucoma_Negative/211.jpg  \n",
            "  inflating: Fundus_Train_Val_Data/Fundus_Scanes_Sorted/Train/Glaucoma_Negative/212.jpg  \n",
            "  inflating: Fundus_Train_Val_Data/Fundus_Scanes_Sorted/Train/Glaucoma_Negative/214.jpg  \n",
            "  inflating: Fundus_Train_Val_Data/Fundus_Scanes_Sorted/Train/Glaucoma_Negative/215.jpg  \n",
            "  inflating: Fundus_Train_Val_Data/Fundus_Scanes_Sorted/Train/Glaucoma_Negative/216.jpg  \n",
            "  inflating: Fundus_Train_Val_Data/Fundus_Scanes_Sorted/Train/Glaucoma_Negative/217.jpg  \n",
            "  inflating: Fundus_Train_Val_Data/Fundus_Scanes_Sorted/Train/Glaucoma_Negative/218.jpg  \n",
            "  inflating: Fundus_Train_Val_Data/Fundus_Scanes_Sorted/Train/Glaucoma_Negative/219.jpg  \n",
            "  inflating: Fundus_Train_Val_Data/Fundus_Scanes_Sorted/Train/Glaucoma_Negative/220.jpg  \n",
            "  inflating: Fundus_Train_Val_Data/Fundus_Scanes_Sorted/Train/Glaucoma_Negative/221.jpg  \n",
            "  inflating: Fundus_Train_Val_Data/Fundus_Scanes_Sorted/Train/Glaucoma_Negative/222.jpg  \n",
            "  inflating: Fundus_Train_Val_Data/Fundus_Scanes_Sorted/Train/Glaucoma_Negative/223.jpg  \n",
            "  inflating: Fundus_Train_Val_Data/Fundus_Scanes_Sorted/Train/Glaucoma_Negative/224.jpg  \n",
            "  inflating: Fundus_Train_Val_Data/Fundus_Scanes_Sorted/Train/Glaucoma_Negative/226.jpg  \n",
            "  inflating: Fundus_Train_Val_Data/Fundus_Scanes_Sorted/Train/Glaucoma_Negative/227.jpg  \n",
            "  inflating: Fundus_Train_Val_Data/Fundus_Scanes_Sorted/Train/Glaucoma_Negative/230.jpg  \n",
            "  inflating: Fundus_Train_Val_Data/Fundus_Scanes_Sorted/Train/Glaucoma_Negative/231.jpg  \n",
            "  inflating: Fundus_Train_Val_Data/Fundus_Scanes_Sorted/Train/Glaucoma_Negative/232.jpg  \n",
            "  inflating: Fundus_Train_Val_Data/Fundus_Scanes_Sorted/Train/Glaucoma_Negative/234.jpg  \n",
            "  inflating: Fundus_Train_Val_Data/Fundus_Scanes_Sorted/Train/Glaucoma_Negative/235.jpg  \n",
            "  inflating: Fundus_Train_Val_Data/Fundus_Scanes_Sorted/Train/Glaucoma_Negative/236.jpg  \n",
            "  inflating: Fundus_Train_Val_Data/Fundus_Scanes_Sorted/Train/Glaucoma_Negative/237.jpg  \n",
            "  inflating: Fundus_Train_Val_Data/Fundus_Scanes_Sorted/Train/Glaucoma_Negative/238.jpg  \n",
            "  inflating: Fundus_Train_Val_Data/Fundus_Scanes_Sorted/Train/Glaucoma_Negative/239.jpg  \n",
            "  inflating: Fundus_Train_Val_Data/Fundus_Scanes_Sorted/Train/Glaucoma_Negative/242.jpg  \n",
            "  inflating: Fundus_Train_Val_Data/Fundus_Scanes_Sorted/Train/Glaucoma_Negative/243.jpg  \n",
            "  inflating: Fundus_Train_Val_Data/Fundus_Scanes_Sorted/Train/Glaucoma_Negative/244.jpg  \n",
            "  inflating: Fundus_Train_Val_Data/Fundus_Scanes_Sorted/Train/Glaucoma_Negative/248.jpg  \n",
            "  inflating: Fundus_Train_Val_Data/Fundus_Scanes_Sorted/Train/Glaucoma_Negative/249.jpg  \n",
            "  inflating: Fundus_Train_Val_Data/Fundus_Scanes_Sorted/Train/Glaucoma_Negative/250.jpg  \n",
            "  inflating: Fundus_Train_Val_Data/Fundus_Scanes_Sorted/Train/Glaucoma_Negative/251.jpg  \n",
            "  inflating: Fundus_Train_Val_Data/Fundus_Scanes_Sorted/Train/Glaucoma_Negative/252.jpg  \n",
            "  inflating: Fundus_Train_Val_Data/Fundus_Scanes_Sorted/Train/Glaucoma_Negative/253.jpg  \n",
            "  inflating: Fundus_Train_Val_Data/Fundus_Scanes_Sorted/Train/Glaucoma_Negative/254.jpg  \n",
            "  inflating: Fundus_Train_Val_Data/Fundus_Scanes_Sorted/Train/Glaucoma_Negative/255.jpg  \n",
            "  inflating: Fundus_Train_Val_Data/Fundus_Scanes_Sorted/Train/Glaucoma_Negative/256.jpg  \n",
            "  inflating: Fundus_Train_Val_Data/Fundus_Scanes_Sorted/Train/Glaucoma_Negative/257.jpg  \n",
            "  inflating: Fundus_Train_Val_Data/Fundus_Scanes_Sorted/Train/Glaucoma_Negative/258.jpg  \n",
            "  inflating: Fundus_Train_Val_Data/Fundus_Scanes_Sorted/Train/Glaucoma_Negative/259.jpg  \n",
            "  inflating: Fundus_Train_Val_Data/Fundus_Scanes_Sorted/Train/Glaucoma_Negative/260.jpg  \n",
            "  inflating: Fundus_Train_Val_Data/Fundus_Scanes_Sorted/Train/Glaucoma_Negative/261.jpg  \n",
            "  inflating: Fundus_Train_Val_Data/Fundus_Scanes_Sorted/Train/Glaucoma_Negative/262.jpg  \n",
            "  inflating: Fundus_Train_Val_Data/Fundus_Scanes_Sorted/Train/Glaucoma_Negative/263.jpg  \n",
            "  inflating: Fundus_Train_Val_Data/Fundus_Scanes_Sorted/Train/Glaucoma_Negative/264.jpg  \n",
            "  inflating: Fundus_Train_Val_Data/Fundus_Scanes_Sorted/Train/Glaucoma_Negative/265.jpg  \n",
            "  inflating: Fundus_Train_Val_Data/Fundus_Scanes_Sorted/Train/Glaucoma_Negative/266.jpg  \n",
            "  inflating: Fundus_Train_Val_Data/Fundus_Scanes_Sorted/Train/Glaucoma_Negative/267.jpg  \n",
            "  inflating: Fundus_Train_Val_Data/Fundus_Scanes_Sorted/Train/Glaucoma_Negative/268.jpg  \n",
            "  inflating: Fundus_Train_Val_Data/Fundus_Scanes_Sorted/Train/Glaucoma_Negative/271.jpg  \n",
            "  inflating: Fundus_Train_Val_Data/Fundus_Scanes_Sorted/Train/Glaucoma_Negative/272.jpg  \n",
            "  inflating: Fundus_Train_Val_Data/Fundus_Scanes_Sorted/Train/Glaucoma_Negative/274.jpg  \n",
            "  inflating: Fundus_Train_Val_Data/Fundus_Scanes_Sorted/Train/Glaucoma_Negative/275.jpg  \n",
            "  inflating: Fundus_Train_Val_Data/Fundus_Scanes_Sorted/Train/Glaucoma_Negative/276.jpg  \n",
            "  inflating: Fundus_Train_Val_Data/Fundus_Scanes_Sorted/Train/Glaucoma_Negative/279.jpg  \n",
            "  inflating: Fundus_Train_Val_Data/Fundus_Scanes_Sorted/Train/Glaucoma_Negative/280.jpg  \n",
            "  inflating: Fundus_Train_Val_Data/Fundus_Scanes_Sorted/Train/Glaucoma_Negative/281.jpg  \n",
            "  inflating: Fundus_Train_Val_Data/Fundus_Scanes_Sorted/Train/Glaucoma_Negative/282.jpg  \n",
            "  inflating: Fundus_Train_Val_Data/Fundus_Scanes_Sorted/Train/Glaucoma_Negative/287.jpg  \n",
            "  inflating: Fundus_Train_Val_Data/Fundus_Scanes_Sorted/Train/Glaucoma_Negative/288.jpg  \n",
            "  inflating: Fundus_Train_Val_Data/Fundus_Scanes_Sorted/Train/Glaucoma_Negative/290.jpg  \n",
            "  inflating: Fundus_Train_Val_Data/Fundus_Scanes_Sorted/Train/Glaucoma_Negative/291.jpg  \n",
            "  inflating: Fundus_Train_Val_Data/Fundus_Scanes_Sorted/Train/Glaucoma_Negative/292.jpg  \n",
            "  inflating: Fundus_Train_Val_Data/Fundus_Scanes_Sorted/Train/Glaucoma_Negative/295.jpg  \n",
            "  inflating: Fundus_Train_Val_Data/Fundus_Scanes_Sorted/Train/Glaucoma_Negative/296.jpg  \n",
            "  inflating: Fundus_Train_Val_Data/Fundus_Scanes_Sorted/Train/Glaucoma_Negative/297.jpg  \n",
            "  inflating: Fundus_Train_Val_Data/Fundus_Scanes_Sorted/Train/Glaucoma_Negative/298.jpg  \n",
            "  inflating: Fundus_Train_Val_Data/Fundus_Scanes_Sorted/Train/Glaucoma_Negative/299.jpg  \n",
            "  inflating: Fundus_Train_Val_Data/Fundus_Scanes_Sorted/Train/Glaucoma_Negative/302.jpg  \n",
            "  inflating: Fundus_Train_Val_Data/Fundus_Scanes_Sorted/Train/Glaucoma_Negative/303.jpg  \n",
            "  inflating: Fundus_Train_Val_Data/Fundus_Scanes_Sorted/Train/Glaucoma_Negative/307.jpg  \n",
            "  inflating: Fundus_Train_Val_Data/Fundus_Scanes_Sorted/Train/Glaucoma_Negative/308.jpg  \n",
            "  inflating: Fundus_Train_Val_Data/Fundus_Scanes_Sorted/Train/Glaucoma_Negative/309.jpg  \n",
            "  inflating: Fundus_Train_Val_Data/Fundus_Scanes_Sorted/Train/Glaucoma_Negative/310.jpg  \n",
            "  inflating: Fundus_Train_Val_Data/Fundus_Scanes_Sorted/Train/Glaucoma_Negative/311.jpg  \n",
            "  inflating: Fundus_Train_Val_Data/Fundus_Scanes_Sorted/Train/Glaucoma_Negative/313.jpg  \n",
            "  inflating: Fundus_Train_Val_Data/Fundus_Scanes_Sorted/Train/Glaucoma_Negative/314.jpg  \n",
            "  inflating: Fundus_Train_Val_Data/Fundus_Scanes_Sorted/Train/Glaucoma_Negative/315.jpg  \n",
            "  inflating: Fundus_Train_Val_Data/Fundus_Scanes_Sorted/Train/Glaucoma_Negative/316.jpg  \n",
            "  inflating: Fundus_Train_Val_Data/Fundus_Scanes_Sorted/Train/Glaucoma_Negative/318.jpg  \n",
            "  inflating: Fundus_Train_Val_Data/Fundus_Scanes_Sorted/Train/Glaucoma_Negative/319.jpg  \n",
            "  inflating: Fundus_Train_Val_Data/Fundus_Scanes_Sorted/Train/Glaucoma_Negative/320.jpg  \n",
            "  inflating: Fundus_Train_Val_Data/Fundus_Scanes_Sorted/Train/Glaucoma_Negative/321.jpg  \n",
            "  inflating: Fundus_Train_Val_Data/Fundus_Scanes_Sorted/Train/Glaucoma_Negative/323.jpg  \n",
            "  inflating: Fundus_Train_Val_Data/Fundus_Scanes_Sorted/Train/Glaucoma_Negative/324.jpg  \n",
            "  inflating: Fundus_Train_Val_Data/Fundus_Scanes_Sorted/Train/Glaucoma_Negative/325.jpg  \n",
            "  inflating: Fundus_Train_Val_Data/Fundus_Scanes_Sorted/Train/Glaucoma_Negative/326.jpg  \n",
            "  inflating: Fundus_Train_Val_Data/Fundus_Scanes_Sorted/Train/Glaucoma_Negative/328.jpg  \n",
            "  inflating: Fundus_Train_Val_Data/Fundus_Scanes_Sorted/Train/Glaucoma_Negative/329.jpg  \n",
            "  inflating: Fundus_Train_Val_Data/Fundus_Scanes_Sorted/Train/Glaucoma_Negative/331.jpg  \n",
            "  inflating: Fundus_Train_Val_Data/Fundus_Scanes_Sorted/Train/Glaucoma_Negative/332.jpg  \n",
            "  inflating: Fundus_Train_Val_Data/Fundus_Scanes_Sorted/Train/Glaucoma_Negative/333.jpg  \n",
            "  inflating: Fundus_Train_Val_Data/Fundus_Scanes_Sorted/Train/Glaucoma_Negative/334.jpg  \n",
            "  inflating: Fundus_Train_Val_Data/Fundus_Scanes_Sorted/Train/Glaucoma_Negative/335.jpg  \n",
            "  inflating: Fundus_Train_Val_Data/Fundus_Scanes_Sorted/Train/Glaucoma_Negative/338.jpg  \n",
            "  inflating: Fundus_Train_Val_Data/Fundus_Scanes_Sorted/Train/Glaucoma_Negative/339.jpg  \n",
            "  inflating: Fundus_Train_Val_Data/Fundus_Scanes_Sorted/Train/Glaucoma_Negative/341.jpg  \n",
            "  inflating: Fundus_Train_Val_Data/Fundus_Scanes_Sorted/Train/Glaucoma_Negative/342.jpg  \n",
            "  inflating: Fundus_Train_Val_Data/Fundus_Scanes_Sorted/Train/Glaucoma_Negative/343.jpg  \n",
            "  inflating: Fundus_Train_Val_Data/Fundus_Scanes_Sorted/Train/Glaucoma_Negative/344.jpg  \n",
            "  inflating: Fundus_Train_Val_Data/Fundus_Scanes_Sorted/Train/Glaucoma_Negative/346.jpg  \n",
            "  inflating: Fundus_Train_Val_Data/Fundus_Scanes_Sorted/Train/Glaucoma_Negative/347.jpg  \n",
            "  inflating: Fundus_Train_Val_Data/Fundus_Scanes_Sorted/Train/Glaucoma_Negative/350.jpg  \n",
            "  inflating: Fundus_Train_Val_Data/Fundus_Scanes_Sorted/Train/Glaucoma_Negative/351.jpg  \n",
            "  inflating: Fundus_Train_Val_Data/Fundus_Scanes_Sorted/Train/Glaucoma_Negative/352.jpg  \n",
            "  inflating: Fundus_Train_Val_Data/Fundus_Scanes_Sorted/Train/Glaucoma_Negative/355.jpg  \n",
            "  inflating: Fundus_Train_Val_Data/Fundus_Scanes_Sorted/Train/Glaucoma_Negative/356.jpg  \n",
            "  inflating: Fundus_Train_Val_Data/Fundus_Scanes_Sorted/Train/Glaucoma_Negative/357.jpg  \n",
            "  inflating: Fundus_Train_Val_Data/Fundus_Scanes_Sorted/Train/Glaucoma_Negative/358.jpg  \n",
            "  inflating: Fundus_Train_Val_Data/Fundus_Scanes_Sorted/Train/Glaucoma_Negative/360.jpg  \n",
            "  inflating: Fundus_Train_Val_Data/Fundus_Scanes_Sorted/Train/Glaucoma_Negative/361.jpg  \n",
            "  inflating: Fundus_Train_Val_Data/Fundus_Scanes_Sorted/Train/Glaucoma_Negative/363.jpg  \n",
            "  inflating: Fundus_Train_Val_Data/Fundus_Scanes_Sorted/Train/Glaucoma_Negative/364.jpg  \n",
            "  inflating: Fundus_Train_Val_Data/Fundus_Scanes_Sorted/Train/Glaucoma_Negative/365.jpg  \n",
            "  inflating: Fundus_Train_Val_Data/Fundus_Scanes_Sorted/Train/Glaucoma_Negative/367.jpg  \n",
            "  inflating: Fundus_Train_Val_Data/Fundus_Scanes_Sorted/Train/Glaucoma_Negative/368.jpg  \n",
            "  inflating: Fundus_Train_Val_Data/Fundus_Scanes_Sorted/Train/Glaucoma_Negative/369.jpg  \n",
            "  inflating: Fundus_Train_Val_Data/Fundus_Scanes_Sorted/Train/Glaucoma_Negative/370.jpg  \n",
            "  inflating: Fundus_Train_Val_Data/Fundus_Scanes_Sorted/Train/Glaucoma_Negative/371.jpg  \n",
            "  inflating: Fundus_Train_Val_Data/Fundus_Scanes_Sorted/Train/Glaucoma_Negative/372.jpg  \n",
            "  inflating: Fundus_Train_Val_Data/Fundus_Scanes_Sorted/Train/Glaucoma_Negative/373.jpg  \n",
            "  inflating: Fundus_Train_Val_Data/Fundus_Scanes_Sorted/Train/Glaucoma_Negative/374.jpg  \n",
            "  inflating: Fundus_Train_Val_Data/Fundus_Scanes_Sorted/Train/Glaucoma_Negative/375.jpg  \n",
            "  inflating: Fundus_Train_Val_Data/Fundus_Scanes_Sorted/Train/Glaucoma_Negative/376.jpg  \n",
            "  inflating: Fundus_Train_Val_Data/Fundus_Scanes_Sorted/Train/Glaucoma_Negative/378.jpg  \n",
            "  inflating: Fundus_Train_Val_Data/Fundus_Scanes_Sorted/Train/Glaucoma_Negative/379.jpg  \n",
            "  inflating: Fundus_Train_Val_Data/Fundus_Scanes_Sorted/Train/Glaucoma_Negative/380.jpg  \n",
            "  inflating: Fundus_Train_Val_Data/Fundus_Scanes_Sorted/Train/Glaucoma_Negative/384.jpg  \n",
            "  inflating: Fundus_Train_Val_Data/Fundus_Scanes_Sorted/Train/Glaucoma_Negative/387.jpg  \n",
            "  inflating: Fundus_Train_Val_Data/Fundus_Scanes_Sorted/Train/Glaucoma_Negative/388.jpg  \n",
            "  inflating: Fundus_Train_Val_Data/Fundus_Scanes_Sorted/Train/Glaucoma_Negative/391.jpg  \n",
            "  inflating: Fundus_Train_Val_Data/Fundus_Scanes_Sorted/Train/Glaucoma_Negative/392.jpg  \n",
            "  inflating: Fundus_Train_Val_Data/Fundus_Scanes_Sorted/Train/Glaucoma_Negative/393.jpg  \n",
            "  inflating: Fundus_Train_Val_Data/Fundus_Scanes_Sorted/Train/Glaucoma_Negative/394.jpg  \n",
            "  inflating: Fundus_Train_Val_Data/Fundus_Scanes_Sorted/Train/Glaucoma_Negative/396.jpg  \n",
            "  inflating: Fundus_Train_Val_Data/Fundus_Scanes_Sorted/Train/Glaucoma_Negative/397.jpg  \n",
            "  inflating: Fundus_Train_Val_Data/Fundus_Scanes_Sorted/Train/Glaucoma_Negative/399.jpg  \n",
            "  inflating: Fundus_Train_Val_Data/Fundus_Scanes_Sorted/Train/Glaucoma_Negative/400.jpg  \n",
            "  inflating: Fundus_Train_Val_Data/Fundus_Scanes_Sorted/Train/Glaucoma_Negative/401.jpg  \n",
            "  inflating: Fundus_Train_Val_Data/Fundus_Scanes_Sorted/Train/Glaucoma_Negative/403.jpg  \n",
            "  inflating: Fundus_Train_Val_Data/Fundus_Scanes_Sorted/Train/Glaucoma_Negative/404.jpg  \n",
            "  inflating: Fundus_Train_Val_Data/Fundus_Scanes_Sorted/Train/Glaucoma_Negative/405.jpg  \n",
            "  inflating: Fundus_Train_Val_Data/Fundus_Scanes_Sorted/Train/Glaucoma_Negative/406.jpg  \n",
            "  inflating: Fundus_Train_Val_Data/Fundus_Scanes_Sorted/Train/Glaucoma_Negative/408.jpg  \n",
            "  inflating: Fundus_Train_Val_Data/Fundus_Scanes_Sorted/Train/Glaucoma_Negative/409.jpg  \n",
            "  inflating: Fundus_Train_Val_Data/Fundus_Scanes_Sorted/Train/Glaucoma_Negative/410.jpg  \n",
            "  inflating: Fundus_Train_Val_Data/Fundus_Scanes_Sorted/Train/Glaucoma_Negative/411.jpg  \n",
            "  inflating: Fundus_Train_Val_Data/Fundus_Scanes_Sorted/Train/Glaucoma_Negative/412.jpg  \n",
            "  inflating: Fundus_Train_Val_Data/Fundus_Scanes_Sorted/Train/Glaucoma_Negative/413.jpg  \n",
            "  inflating: Fundus_Train_Val_Data/Fundus_Scanes_Sorted/Train/Glaucoma_Negative/414.jpg  \n",
            "  inflating: Fundus_Train_Val_Data/Fundus_Scanes_Sorted/Train/Glaucoma_Negative/415.jpg  \n",
            "  inflating: Fundus_Train_Val_Data/Fundus_Scanes_Sorted/Train/Glaucoma_Negative/416.jpg  \n",
            "  inflating: Fundus_Train_Val_Data/Fundus_Scanes_Sorted/Train/Glaucoma_Negative/417.jpg  \n",
            "  inflating: Fundus_Train_Val_Data/Fundus_Scanes_Sorted/Train/Glaucoma_Negative/418.jpg  \n",
            "  inflating: Fundus_Train_Val_Data/Fundus_Scanes_Sorted/Train/Glaucoma_Negative/420.jpg  \n",
            "  inflating: Fundus_Train_Val_Data/Fundus_Scanes_Sorted/Train/Glaucoma_Negative/421.jpg  \n",
            "  inflating: Fundus_Train_Val_Data/Fundus_Scanes_Sorted/Train/Glaucoma_Negative/422.jpg  \n",
            "  inflating: Fundus_Train_Val_Data/Fundus_Scanes_Sorted/Train/Glaucoma_Negative/423.jpg  \n",
            "  inflating: Fundus_Train_Val_Data/Fundus_Scanes_Sorted/Train/Glaucoma_Negative/425.jpg  \n",
            "  inflating: Fundus_Train_Val_Data/Fundus_Scanes_Sorted/Train/Glaucoma_Negative/427.jpg  \n",
            "  inflating: Fundus_Train_Val_Data/Fundus_Scanes_Sorted/Train/Glaucoma_Negative/428.jpg  \n",
            "  inflating: Fundus_Train_Val_Data/Fundus_Scanes_Sorted/Train/Glaucoma_Negative/430.jpg  \n",
            "  inflating: Fundus_Train_Val_Data/Fundus_Scanes_Sorted/Train/Glaucoma_Negative/431.jpg  \n",
            "  inflating: Fundus_Train_Val_Data/Fundus_Scanes_Sorted/Train/Glaucoma_Negative/434.jpg  \n",
            "  inflating: Fundus_Train_Val_Data/Fundus_Scanes_Sorted/Train/Glaucoma_Negative/435.jpg  \n",
            "  inflating: Fundus_Train_Val_Data/Fundus_Scanes_Sorted/Train/Glaucoma_Negative/436.jpg  \n",
            "  inflating: Fundus_Train_Val_Data/Fundus_Scanes_Sorted/Train/Glaucoma_Negative/437.jpg  \n",
            "  inflating: Fundus_Train_Val_Data/Fundus_Scanes_Sorted/Train/Glaucoma_Negative/438.jpg  \n",
            "  inflating: Fundus_Train_Val_Data/Fundus_Scanes_Sorted/Train/Glaucoma_Negative/443.jpg  \n",
            "  inflating: Fundus_Train_Val_Data/Fundus_Scanes_Sorted/Train/Glaucoma_Negative/444.jpg  \n",
            "  inflating: Fundus_Train_Val_Data/Fundus_Scanes_Sorted/Train/Glaucoma_Negative/445.jpg  \n",
            "  inflating: Fundus_Train_Val_Data/Fundus_Scanes_Sorted/Train/Glaucoma_Negative/446.jpg  \n",
            "  inflating: Fundus_Train_Val_Data/Fundus_Scanes_Sorted/Train/Glaucoma_Negative/447.jpg  \n",
            "  inflating: Fundus_Train_Val_Data/Fundus_Scanes_Sorted/Train/Glaucoma_Negative/448.jpg  \n",
            "  inflating: Fundus_Train_Val_Data/Fundus_Scanes_Sorted/Train/Glaucoma_Negative/449.jpg  \n",
            "  inflating: Fundus_Train_Val_Data/Fundus_Scanes_Sorted/Train/Glaucoma_Negative/450.jpg  \n",
            "  inflating: Fundus_Train_Val_Data/Fundus_Scanes_Sorted/Train/Glaucoma_Negative/451.jpg  \n",
            "  inflating: Fundus_Train_Val_Data/Fundus_Scanes_Sorted/Train/Glaucoma_Negative/452.jpg  \n",
            "  inflating: Fundus_Train_Val_Data/Fundus_Scanes_Sorted/Train/Glaucoma_Negative/453.jpg  \n",
            "  inflating: Fundus_Train_Val_Data/Fundus_Scanes_Sorted/Train/Glaucoma_Negative/454.jpg  \n",
            "  inflating: Fundus_Train_Val_Data/Fundus_Scanes_Sorted/Train/Glaucoma_Negative/455.jpg  \n",
            "  inflating: Fundus_Train_Val_Data/Fundus_Scanes_Sorted/Train/Glaucoma_Negative/456.jpg  \n",
            "  inflating: Fundus_Train_Val_Data/Fundus_Scanes_Sorted/Train/Glaucoma_Negative/459.jpg  \n",
            "  inflating: Fundus_Train_Val_Data/Fundus_Scanes_Sorted/Train/Glaucoma_Negative/460.jpg  \n",
            "  inflating: Fundus_Train_Val_Data/Fundus_Scanes_Sorted/Train/Glaucoma_Negative/461.jpg  \n",
            "  inflating: Fundus_Train_Val_Data/Fundus_Scanes_Sorted/Train/Glaucoma_Negative/462.jpg  \n",
            "  inflating: Fundus_Train_Val_Data/Fundus_Scanes_Sorted/Train/Glaucoma_Negative/463.jpg  \n",
            "  inflating: Fundus_Train_Val_Data/Fundus_Scanes_Sorted/Train/Glaucoma_Negative/464.jpg  \n",
            "  inflating: Fundus_Train_Val_Data/Fundus_Scanes_Sorted/Train/Glaucoma_Negative/466.jpg  \n",
            "  inflating: Fundus_Train_Val_Data/Fundus_Scanes_Sorted/Train/Glaucoma_Negative/467.jpg  \n",
            "  inflating: Fundus_Train_Val_Data/Fundus_Scanes_Sorted/Train/Glaucoma_Negative/469.jpg  \n",
            "  inflating: Fundus_Train_Val_Data/Fundus_Scanes_Sorted/Train/Glaucoma_Negative/470.jpg  \n",
            "  inflating: Fundus_Train_Val_Data/Fundus_Scanes_Sorted/Train/Glaucoma_Negative/471.jpg  \n",
            "  inflating: Fundus_Train_Val_Data/Fundus_Scanes_Sorted/Train/Glaucoma_Negative/472.jpg  \n",
            "  inflating: Fundus_Train_Val_Data/Fundus_Scanes_Sorted/Train/Glaucoma_Negative/473.jpg  \n",
            "  inflating: Fundus_Train_Val_Data/Fundus_Scanes_Sorted/Train/Glaucoma_Negative/475.jpg  \n",
            "  inflating: Fundus_Train_Val_Data/Fundus_Scanes_Sorted/Train/Glaucoma_Negative/476.jpg  \n",
            "  inflating: Fundus_Train_Val_Data/Fundus_Scanes_Sorted/Train/Glaucoma_Negative/477.jpg  \n",
            "  inflating: Fundus_Train_Val_Data/Fundus_Scanes_Sorted/Train/Glaucoma_Negative/478.jpg  \n",
            "  inflating: Fundus_Train_Val_Data/Fundus_Scanes_Sorted/Train/Glaucoma_Negative/479.jpg  \n",
            "  inflating: Fundus_Train_Val_Data/Fundus_Scanes_Sorted/Train/Glaucoma_Negative/481.jpg  \n",
            "  inflating: Fundus_Train_Val_Data/Fundus_Scanes_Sorted/Train/Glaucoma_Negative/482.jpg  \n",
            "  inflating: Fundus_Train_Val_Data/Fundus_Scanes_Sorted/Train/Glaucoma_Positive/036.jpg  \n",
            "  inflating: Fundus_Train_Val_Data/Fundus_Scanes_Sorted/Train/Glaucoma_Positive/037.jpg  \n",
            "  inflating: Fundus_Train_Val_Data/Fundus_Scanes_Sorted/Train/Glaucoma_Positive/041.jpg  \n",
            "  inflating: Fundus_Train_Val_Data/Fundus_Scanes_Sorted/Train/Glaucoma_Positive/050.jpg  \n",
            "  inflating: Fundus_Train_Val_Data/Fundus_Scanes_Sorted/Train/Glaucoma_Positive/069.jpg  \n",
            "  inflating: Fundus_Train_Val_Data/Fundus_Scanes_Sorted/Train/Glaucoma_Positive/072.jpg  \n",
            "  inflating: Fundus_Train_Val_Data/Fundus_Scanes_Sorted/Train/Glaucoma_Positive/076.jpg  \n",
            "  inflating: Fundus_Train_Val_Data/Fundus_Scanes_Sorted/Train/Glaucoma_Positive/086.jpg  \n",
            "  inflating: Fundus_Train_Val_Data/Fundus_Scanes_Sorted/Train/Glaucoma_Positive/087.jpg  \n",
            "  inflating: Fundus_Train_Val_Data/Fundus_Scanes_Sorted/Train/Glaucoma_Positive/093.jpg  \n",
            "  inflating: Fundus_Train_Val_Data/Fundus_Scanes_Sorted/Train/Glaucoma_Positive/094.jpg  \n",
            "  inflating: Fundus_Train_Val_Data/Fundus_Scanes_Sorted/Train/Glaucoma_Positive/097.jpg  \n",
            "  inflating: Fundus_Train_Val_Data/Fundus_Scanes_Sorted/Train/Glaucoma_Positive/110.jpg  \n",
            "  inflating: Fundus_Train_Val_Data/Fundus_Scanes_Sorted/Train/Glaucoma_Positive/116.jpg  \n",
            "  inflating: Fundus_Train_Val_Data/Fundus_Scanes_Sorted/Train/Glaucoma_Positive/138.jpg  \n",
            "  inflating: Fundus_Train_Val_Data/Fundus_Scanes_Sorted/Train/Glaucoma_Positive/158.jpg  \n",
            "  inflating: Fundus_Train_Val_Data/Fundus_Scanes_Sorted/Train/Glaucoma_Positive/159.jpg  \n",
            "  inflating: Fundus_Train_Val_Data/Fundus_Scanes_Sorted/Train/Glaucoma_Positive/160.jpg  \n",
            "  inflating: Fundus_Train_Val_Data/Fundus_Scanes_Sorted/Train/Glaucoma_Positive/165.jpg  \n",
            "  inflating: Fundus_Train_Val_Data/Fundus_Scanes_Sorted/Train/Glaucoma_Positive/168.jpg  \n",
            "  inflating: Fundus_Train_Val_Data/Fundus_Scanes_Sorted/Train/Glaucoma_Positive/171.jpg  \n",
            "  inflating: Fundus_Train_Val_Data/Fundus_Scanes_Sorted/Train/Glaucoma_Positive/180.jpg  \n",
            "  inflating: Fundus_Train_Val_Data/Fundus_Scanes_Sorted/Train/Glaucoma_Positive/181.jpg  \n",
            "  inflating: Fundus_Train_Val_Data/Fundus_Scanes_Sorted/Train/Glaucoma_Positive/182.jpg  \n",
            "  inflating: Fundus_Train_Val_Data/Fundus_Scanes_Sorted/Train/Glaucoma_Positive/208.jpg  \n",
            "  inflating: Fundus_Train_Val_Data/Fundus_Scanes_Sorted/Train/Glaucoma_Positive/213.jpg  \n",
            "  inflating: Fundus_Train_Val_Data/Fundus_Scanes_Sorted/Train/Glaucoma_Positive/225.jpg  \n",
            "  inflating: Fundus_Train_Val_Data/Fundus_Scanes_Sorted/Train/Glaucoma_Positive/228.jpg  \n",
            "  inflating: Fundus_Train_Val_Data/Fundus_Scanes_Sorted/Train/Glaucoma_Positive/229.jpg  \n",
            "  inflating: Fundus_Train_Val_Data/Fundus_Scanes_Sorted/Train/Glaucoma_Positive/233.jpg  \n",
            "  inflating: Fundus_Train_Val_Data/Fundus_Scanes_Sorted/Train/Glaucoma_Positive/240.jpg  \n",
            "  inflating: Fundus_Train_Val_Data/Fundus_Scanes_Sorted/Train/Glaucoma_Positive/241.jpg  \n",
            "  inflating: Fundus_Train_Val_Data/Fundus_Scanes_Sorted/Train/Glaucoma_Positive/245.jpg  \n",
            "  inflating: Fundus_Train_Val_Data/Fundus_Scanes_Sorted/Train/Glaucoma_Positive/246.jpg  \n",
            "  inflating: Fundus_Train_Val_Data/Fundus_Scanes_Sorted/Train/Glaucoma_Positive/247.jpg  \n",
            "  inflating: Fundus_Train_Val_Data/Fundus_Scanes_Sorted/Train/Glaucoma_Positive/269.jpg  \n",
            "  inflating: Fundus_Train_Val_Data/Fundus_Scanes_Sorted/Train/Glaucoma_Positive/270.jpg  \n",
            "  inflating: Fundus_Train_Val_Data/Fundus_Scanes_Sorted/Train/Glaucoma_Positive/273.jpg  \n",
            "  inflating: Fundus_Train_Val_Data/Fundus_Scanes_Sorted/Train/Glaucoma_Positive/277.jpg  \n",
            "  inflating: Fundus_Train_Val_Data/Fundus_Scanes_Sorted/Train/Glaucoma_Positive/278.jpg  \n",
            "  inflating: Fundus_Train_Val_Data/Fundus_Scanes_Sorted/Train/Glaucoma_Positive/283.jpg  \n",
            "  inflating: Fundus_Train_Val_Data/Fundus_Scanes_Sorted/Train/Glaucoma_Positive/284.jpg  \n",
            "  inflating: Fundus_Train_Val_Data/Fundus_Scanes_Sorted/Train/Glaucoma_Positive/285.jpg  \n",
            "  inflating: Fundus_Train_Val_Data/Fundus_Scanes_Sorted/Train/Glaucoma_Positive/286.jpg  \n",
            "  inflating: Fundus_Train_Val_Data/Fundus_Scanes_Sorted/Train/Glaucoma_Positive/289.jpg  \n",
            "  inflating: Fundus_Train_Val_Data/Fundus_Scanes_Sorted/Train/Glaucoma_Positive/293.jpg  \n",
            "  inflating: Fundus_Train_Val_Data/Fundus_Scanes_Sorted/Train/Glaucoma_Positive/294.jpg  \n",
            "  inflating: Fundus_Train_Val_Data/Fundus_Scanes_Sorted/Train/Glaucoma_Positive/300.jpg  \n",
            "  inflating: Fundus_Train_Val_Data/Fundus_Scanes_Sorted/Train/Glaucoma_Positive/301.jpg  \n",
            "  inflating: Fundus_Train_Val_Data/Fundus_Scanes_Sorted/Train/Glaucoma_Positive/304.jpg  \n",
            "  inflating: Fundus_Train_Val_Data/Fundus_Scanes_Sorted/Train/Glaucoma_Positive/305.jpg  \n",
            "  inflating: Fundus_Train_Val_Data/Fundus_Scanes_Sorted/Train/Glaucoma_Positive/306.jpg  \n",
            "  inflating: Fundus_Train_Val_Data/Fundus_Scanes_Sorted/Train/Glaucoma_Positive/312.jpg  \n",
            "  inflating: Fundus_Train_Val_Data/Fundus_Scanes_Sorted/Train/Glaucoma_Positive/317.jpg  \n",
            "  inflating: Fundus_Train_Val_Data/Fundus_Scanes_Sorted/Train/Glaucoma_Positive/322.jpg  \n",
            "  inflating: Fundus_Train_Val_Data/Fundus_Scanes_Sorted/Train/Glaucoma_Positive/327.jpg  \n",
            "  inflating: Fundus_Train_Val_Data/Fundus_Scanes_Sorted/Train/Glaucoma_Positive/330.jpg  \n",
            "  inflating: Fundus_Train_Val_Data/Fundus_Scanes_Sorted/Train/Glaucoma_Positive/336.jpg  \n",
            "  inflating: Fundus_Train_Val_Data/Fundus_Scanes_Sorted/Train/Glaucoma_Positive/337.jpg  \n",
            "  inflating: Fundus_Train_Val_Data/Fundus_Scanes_Sorted/Train/Glaucoma_Positive/340.jpg  \n",
            "  inflating: Fundus_Train_Val_Data/Fundus_Scanes_Sorted/Train/Glaucoma_Positive/345.jpg  \n",
            "  inflating: Fundus_Train_Val_Data/Fundus_Scanes_Sorted/Train/Glaucoma_Positive/348.jpg  \n",
            "  inflating: Fundus_Train_Val_Data/Fundus_Scanes_Sorted/Train/Glaucoma_Positive/349.jpg  \n",
            "  inflating: Fundus_Train_Val_Data/Fundus_Scanes_Sorted/Train/Glaucoma_Positive/353.jpg  \n",
            "  inflating: Fundus_Train_Val_Data/Fundus_Scanes_Sorted/Train/Glaucoma_Positive/354.jpg  \n",
            "  inflating: Fundus_Train_Val_Data/Fundus_Scanes_Sorted/Train/Glaucoma_Positive/359.jpg  \n",
            "  inflating: Fundus_Train_Val_Data/Fundus_Scanes_Sorted/Train/Glaucoma_Positive/362.jpg  \n",
            "  inflating: Fundus_Train_Val_Data/Fundus_Scanes_Sorted/Train/Glaucoma_Positive/366.jpg  \n",
            "  inflating: Fundus_Train_Val_Data/Fundus_Scanes_Sorted/Train/Glaucoma_Positive/377.jpg  \n",
            "  inflating: Fundus_Train_Val_Data/Fundus_Scanes_Sorted/Train/Glaucoma_Positive/381.jpg  \n",
            "  inflating: Fundus_Train_Val_Data/Fundus_Scanes_Sorted/Train/Glaucoma_Positive/382.jpg  \n",
            "  inflating: Fundus_Train_Val_Data/Fundus_Scanes_Sorted/Train/Glaucoma_Positive/383.jpg  \n",
            "  inflating: Fundus_Train_Val_Data/Fundus_Scanes_Sorted/Train/Glaucoma_Positive/385.jpg  \n",
            "  inflating: Fundus_Train_Val_Data/Fundus_Scanes_Sorted/Train/Glaucoma_Positive/386.jpg  \n",
            "  inflating: Fundus_Train_Val_Data/Fundus_Scanes_Sorted/Train/Glaucoma_Positive/389.jpg  \n",
            "  inflating: Fundus_Train_Val_Data/Fundus_Scanes_Sorted/Train/Glaucoma_Positive/390.jpg  \n",
            "  inflating: Fundus_Train_Val_Data/Fundus_Scanes_Sorted/Train/Glaucoma_Positive/395.jpg  \n",
            "  inflating: Fundus_Train_Val_Data/Fundus_Scanes_Sorted/Train/Glaucoma_Positive/398.jpg  \n",
            "  inflating: Fundus_Train_Val_Data/Fundus_Scanes_Sorted/Train/Glaucoma_Positive/402.jpg  \n",
            "  inflating: Fundus_Train_Val_Data/Fundus_Scanes_Sorted/Train/Glaucoma_Positive/407.jpg  \n",
            "  inflating: Fundus_Train_Val_Data/Fundus_Scanes_Sorted/Train/Glaucoma_Positive/419.jpg  \n",
            "  inflating: Fundus_Train_Val_Data/Fundus_Scanes_Sorted/Train/Glaucoma_Positive/424.jpg  \n",
            "  inflating: Fundus_Train_Val_Data/Fundus_Scanes_Sorted/Train/Glaucoma_Positive/426.jpg  \n",
            "  inflating: Fundus_Train_Val_Data/Fundus_Scanes_Sorted/Train/Glaucoma_Positive/429.jpg  \n",
            "  inflating: Fundus_Train_Val_Data/Fundus_Scanes_Sorted/Train/Glaucoma_Positive/432.jpg  \n",
            "  inflating: Fundus_Train_Val_Data/Fundus_Scanes_Sorted/Train/Glaucoma_Positive/433.jpg  \n",
            "  inflating: Fundus_Train_Val_Data/Fundus_Scanes_Sorted/Train/Glaucoma_Positive/439.jpg  \n",
            "  inflating: Fundus_Train_Val_Data/Fundus_Scanes_Sorted/Train/Glaucoma_Positive/440.jpg  \n",
            "  inflating: Fundus_Train_Val_Data/Fundus_Scanes_Sorted/Train/Glaucoma_Positive/441.jpg  \n",
            "  inflating: Fundus_Train_Val_Data/Fundus_Scanes_Sorted/Train/Glaucoma_Positive/442.jpg  \n",
            "  inflating: Fundus_Train_Val_Data/Fundus_Scanes_Sorted/Train/Glaucoma_Positive/457.jpg  \n",
            "  inflating: Fundus_Train_Val_Data/Fundus_Scanes_Sorted/Train/Glaucoma_Positive/458.jpg  \n",
            "  inflating: Fundus_Train_Val_Data/Fundus_Scanes_Sorted/Train/Glaucoma_Positive/465.jpg  \n",
            "  inflating: Fundus_Train_Val_Data/Fundus_Scanes_Sorted/Train/Glaucoma_Positive/468.jpg  \n",
            "  inflating: Fundus_Train_Val_Data/Fundus_Scanes_Sorted/Train/Glaucoma_Positive/474.jpg  \n",
            "  inflating: Fundus_Train_Val_Data/Fundus_Scanes_Sorted/Train/Glaucoma_Positive/480.jpg  \n",
            "  inflating: Fundus_Train_Val_Data/Fundus_Scanes_Sorted/Train/Glaucoma_Positive/486.jpg  \n",
            "  inflating: Fundus_Train_Val_Data/Fundus_Scanes_Sorted/Train/Glaucoma_Positive/490.jpg  \n",
            "  inflating: Fundus_Train_Val_Data/Fundus_Scanes_Sorted/Train/Glaucoma_Positive/496.jpg  \n",
            "  inflating: Fundus_Train_Val_Data/Fundus_Scanes_Sorted/Train/Glaucoma_Positive/505.jpg  \n",
            "  inflating: Fundus_Train_Val_Data/Fundus_Scanes_Sorted/Train/Glaucoma_Positive/506.jpg  \n",
            "  inflating: Fundus_Train_Val_Data/Fundus_Scanes_Sorted/Train/Glaucoma_Positive/507.jpg  \n",
            "  inflating: Fundus_Train_Val_Data/Fundus_Scanes_Sorted/Train/Glaucoma_Positive/508.jpg  \n",
            "  inflating: Fundus_Train_Val_Data/Fundus_Scanes_Sorted/Train/Glaucoma_Positive/511.jpg  \n",
            "  inflating: Fundus_Train_Val_Data/Fundus_Scanes_Sorted/Train/Glaucoma_Positive/512.jpg  \n",
            "  inflating: Fundus_Train_Val_Data/Fundus_Scanes_Sorted/Train/Glaucoma_Positive/514.jpg  \n",
            "  inflating: Fundus_Train_Val_Data/Fundus_Scanes_Sorted/Train/Glaucoma_Positive/515.jpg  \n",
            "  inflating: Fundus_Train_Val_Data/Fundus_Scanes_Sorted/Train/Glaucoma_Positive/516.jpg  \n",
            "  inflating: Fundus_Train_Val_Data/Fundus_Scanes_Sorted/Train/Glaucoma_Positive/519.jpg  \n",
            "  inflating: Fundus_Train_Val_Data/Fundus_Scanes_Sorted/Train/Glaucoma_Positive/523.jpg  \n",
            "  inflating: Fundus_Train_Val_Data/Fundus_Scanes_Sorted/Train/Glaucoma_Positive/524.jpg  \n",
            "  inflating: Fundus_Train_Val_Data/Fundus_Scanes_Sorted/Train/Glaucoma_Positive/528.jpg  \n",
            "  inflating: Fundus_Train_Val_Data/Fundus_Scanes_Sorted/Train/Glaucoma_Positive/532.jpg  \n",
            "  inflating: Fundus_Train_Val_Data/Fundus_Scanes_Sorted/Train/Glaucoma_Positive/533.jpg  \n",
            "  inflating: Fundus_Train_Val_Data/Fundus_Scanes_Sorted/Train/Glaucoma_Positive/545.jpg  \n",
            "  inflating: Fundus_Train_Val_Data/Fundus_Scanes_Sorted/Train/Glaucoma_Positive/549.jpg  \n",
            "  inflating: Fundus_Train_Val_Data/Fundus_Scanes_Sorted/Train/Glaucoma_Positive/550.jpg  \n",
            "  inflating: Fundus_Train_Val_Data/Fundus_Scanes_Sorted/Train/Glaucoma_Positive/556.jpg  \n",
            "  inflating: Fundus_Train_Val_Data/Fundus_Scanes_Sorted/Train/Glaucoma_Positive/557.jpg  \n",
            "  inflating: Fundus_Train_Val_Data/Fundus_Scanes_Sorted/Train/Glaucoma_Positive/558.jpg  \n",
            "  inflating: Fundus_Train_Val_Data/Fundus_Scanes_Sorted/Train/Glaucoma_Positive/560.jpg  \n",
            "  inflating: Fundus_Train_Val_Data/Fundus_Scanes_Sorted/Train/Glaucoma_Positive/571.jpg  \n",
            "  inflating: Fundus_Train_Val_Data/Fundus_Scanes_Sorted/Train/Glaucoma_Positive/572.jpg  \n",
            "  inflating: Fundus_Train_Val_Data/Fundus_Scanes_Sorted/Train/Glaucoma_Positive/578.jpg  \n",
            "  inflating: Fundus_Train_Val_Data/Fundus_Scanes_Sorted/Train/Glaucoma_Positive/580.jpg  \n",
            "  inflating: Fundus_Train_Val_Data/Fundus_Scanes_Sorted/Train/Glaucoma_Positive/582.jpg  \n",
            "  inflating: Fundus_Train_Val_Data/Fundus_Scanes_Sorted/Train/Glaucoma_Positive/584.jpg  \n",
            "  inflating: Fundus_Train_Val_Data/Fundus_Scanes_Sorted/Train/Glaucoma_Positive/586.jpg  \n",
            "  inflating: Fundus_Train_Val_Data/Fundus_Scanes_Sorted/Train/Glaucoma_Positive/588.jpg  \n",
            "  inflating: Fundus_Train_Val_Data/Fundus_Scanes_Sorted/Train/Glaucoma_Positive/589.jpg  \n",
            "  inflating: Fundus_Train_Val_Data/Fundus_Scanes_Sorted/Train/Glaucoma_Positive/591.jpg  \n",
            "  inflating: Fundus_Train_Val_Data/Fundus_Scanes_Sorted/Train/Glaucoma_Positive/592.jpg  \n",
            "  inflating: Fundus_Train_Val_Data/Fundus_Scanes_Sorted/Train/Glaucoma_Positive/593.jpg  \n",
            "  inflating: Fundus_Train_Val_Data/Fundus_Scanes_Sorted/Train/Glaucoma_Positive/595.jpg  \n",
            "  inflating: Fundus_Train_Val_Data/Fundus_Scanes_Sorted/Validation/Glaucoma_Negative/483.jpg  \n",
            "  inflating: Fundus_Train_Val_Data/Fundus_Scanes_Sorted/Validation/Glaucoma_Negative/484.jpg  \n",
            "  inflating: Fundus_Train_Val_Data/Fundus_Scanes_Sorted/Validation/Glaucoma_Negative/485.jpg  \n",
            "  inflating: Fundus_Train_Val_Data/Fundus_Scanes_Sorted/Validation/Glaucoma_Negative/487.jpg  \n",
            "  inflating: Fundus_Train_Val_Data/Fundus_Scanes_Sorted/Validation/Glaucoma_Negative/488.jpg  \n",
            "  inflating: Fundus_Train_Val_Data/Fundus_Scanes_Sorted/Validation/Glaucoma_Negative/489.jpg  \n",
            "  inflating: Fundus_Train_Val_Data/Fundus_Scanes_Sorted/Validation/Glaucoma_Negative/491.jpg  \n",
            "  inflating: Fundus_Train_Val_Data/Fundus_Scanes_Sorted/Validation/Glaucoma_Negative/492.jpg  \n",
            "  inflating: Fundus_Train_Val_Data/Fundus_Scanes_Sorted/Validation/Glaucoma_Negative/493.jpg  \n",
            "  inflating: Fundus_Train_Val_Data/Fundus_Scanes_Sorted/Validation/Glaucoma_Negative/494.jpg  \n",
            "  inflating: Fundus_Train_Val_Data/Fundus_Scanes_Sorted/Validation/Glaucoma_Negative/495.jpg  \n",
            "  inflating: Fundus_Train_Val_Data/Fundus_Scanes_Sorted/Validation/Glaucoma_Negative/497.jpg  \n",
            "  inflating: Fundus_Train_Val_Data/Fundus_Scanes_Sorted/Validation/Glaucoma_Negative/498.jpg  \n",
            "  inflating: Fundus_Train_Val_Data/Fundus_Scanes_Sorted/Validation/Glaucoma_Negative/499.jpg  \n",
            "  inflating: Fundus_Train_Val_Data/Fundus_Scanes_Sorted/Validation/Glaucoma_Negative/500.jpg  \n",
            "  inflating: Fundus_Train_Val_Data/Fundus_Scanes_Sorted/Validation/Glaucoma_Negative/501.jpg  \n",
            "  inflating: Fundus_Train_Val_Data/Fundus_Scanes_Sorted/Validation/Glaucoma_Negative/502.jpg  \n",
            "  inflating: Fundus_Train_Val_Data/Fundus_Scanes_Sorted/Validation/Glaucoma_Negative/503.jpg  \n",
            "  inflating: Fundus_Train_Val_Data/Fundus_Scanes_Sorted/Validation/Glaucoma_Negative/504.jpg  \n",
            "  inflating: Fundus_Train_Val_Data/Fundus_Scanes_Sorted/Validation/Glaucoma_Negative/509.jpg  \n",
            "  inflating: Fundus_Train_Val_Data/Fundus_Scanes_Sorted/Validation/Glaucoma_Negative/510.jpg  \n",
            "  inflating: Fundus_Train_Val_Data/Fundus_Scanes_Sorted/Validation/Glaucoma_Negative/513.jpg  \n",
            "  inflating: Fundus_Train_Val_Data/Fundus_Scanes_Sorted/Validation/Glaucoma_Negative/517.jpg  \n",
            "  inflating: Fundus_Train_Val_Data/Fundus_Scanes_Sorted/Validation/Glaucoma_Negative/518.jpg  \n",
            "  inflating: Fundus_Train_Val_Data/Fundus_Scanes_Sorted/Validation/Glaucoma_Negative/520.jpg  \n",
            "  inflating: Fundus_Train_Val_Data/Fundus_Scanes_Sorted/Validation/Glaucoma_Negative/521.jpg  \n",
            "  inflating: Fundus_Train_Val_Data/Fundus_Scanes_Sorted/Validation/Glaucoma_Negative/522.jpg  \n",
            "  inflating: Fundus_Train_Val_Data/Fundus_Scanes_Sorted/Validation/Glaucoma_Negative/525.jpg  \n",
            "  inflating: Fundus_Train_Val_Data/Fundus_Scanes_Sorted/Validation/Glaucoma_Negative/526.jpg  \n",
            "  inflating: Fundus_Train_Val_Data/Fundus_Scanes_Sorted/Validation/Glaucoma_Negative/527.jpg  \n",
            "  inflating: Fundus_Train_Val_Data/Fundus_Scanes_Sorted/Validation/Glaucoma_Negative/529.jpg  \n",
            "  inflating: Fundus_Train_Val_Data/Fundus_Scanes_Sorted/Validation/Glaucoma_Negative/530.jpg  \n",
            "  inflating: Fundus_Train_Val_Data/Fundus_Scanes_Sorted/Validation/Glaucoma_Negative/531.jpg  \n",
            "  inflating: Fundus_Train_Val_Data/Fundus_Scanes_Sorted/Validation/Glaucoma_Negative/534.jpg  \n",
            "  inflating: Fundus_Train_Val_Data/Fundus_Scanes_Sorted/Validation/Glaucoma_Negative/535.jpg  \n",
            "  inflating: Fundus_Train_Val_Data/Fundus_Scanes_Sorted/Validation/Glaucoma_Negative/536.jpg  \n",
            "  inflating: Fundus_Train_Val_Data/Fundus_Scanes_Sorted/Validation/Glaucoma_Negative/537.jpg  \n",
            "  inflating: Fundus_Train_Val_Data/Fundus_Scanes_Sorted/Validation/Glaucoma_Negative/538.jpg  \n",
            "  inflating: Fundus_Train_Val_Data/Fundus_Scanes_Sorted/Validation/Glaucoma_Negative/539.jpg  \n",
            "  inflating: Fundus_Train_Val_Data/Fundus_Scanes_Sorted/Validation/Glaucoma_Negative/540.jpg  \n",
            "  inflating: Fundus_Train_Val_Data/Fundus_Scanes_Sorted/Validation/Glaucoma_Negative/541.jpg  \n",
            "  inflating: Fundus_Train_Val_Data/Fundus_Scanes_Sorted/Validation/Glaucoma_Negative/542.jpg  \n",
            "  inflating: Fundus_Train_Val_Data/Fundus_Scanes_Sorted/Validation/Glaucoma_Negative/543.jpg  \n",
            "  inflating: Fundus_Train_Val_Data/Fundus_Scanes_Sorted/Validation/Glaucoma_Negative/544.jpg  \n",
            "  inflating: Fundus_Train_Val_Data/Fundus_Scanes_Sorted/Validation/Glaucoma_Negative/546.jpg  \n",
            "  inflating: Fundus_Train_Val_Data/Fundus_Scanes_Sorted/Validation/Glaucoma_Negative/547.jpg  \n",
            "  inflating: Fundus_Train_Val_Data/Fundus_Scanes_Sorted/Validation/Glaucoma_Negative/548.jpg  \n",
            "  inflating: Fundus_Train_Val_Data/Fundus_Scanes_Sorted/Validation/Glaucoma_Negative/551.jpg  \n",
            "  inflating: Fundus_Train_Val_Data/Fundus_Scanes_Sorted/Validation/Glaucoma_Negative/552.jpg  \n",
            "  inflating: Fundus_Train_Val_Data/Fundus_Scanes_Sorted/Validation/Glaucoma_Negative/553.jpg  \n",
            "  inflating: Fundus_Train_Val_Data/Fundus_Scanes_Sorted/Validation/Glaucoma_Negative/554.jpg  \n",
            "  inflating: Fundus_Train_Val_Data/Fundus_Scanes_Sorted/Validation/Glaucoma_Negative/555.jpg  \n",
            "  inflating: Fundus_Train_Val_Data/Fundus_Scanes_Sorted/Validation/Glaucoma_Negative/559.jpg  \n",
            "  inflating: Fundus_Train_Val_Data/Fundus_Scanes_Sorted/Validation/Glaucoma_Negative/561.jpg  \n",
            "  inflating: Fundus_Train_Val_Data/Fundus_Scanes_Sorted/Validation/Glaucoma_Negative/562.jpg  \n",
            "  inflating: Fundus_Train_Val_Data/Fundus_Scanes_Sorted/Validation/Glaucoma_Negative/563.jpg  \n",
            "  inflating: Fundus_Train_Val_Data/Fundus_Scanes_Sorted/Validation/Glaucoma_Negative/564.jpg  \n",
            "  inflating: Fundus_Train_Val_Data/Fundus_Scanes_Sorted/Validation/Glaucoma_Negative/565.jpg  \n",
            "  inflating: Fundus_Train_Val_Data/Fundus_Scanes_Sorted/Validation/Glaucoma_Negative/566.jpg  \n",
            "  inflating: Fundus_Train_Val_Data/Fundus_Scanes_Sorted/Validation/Glaucoma_Negative/567.jpg  \n",
            "  inflating: Fundus_Train_Val_Data/Fundus_Scanes_Sorted/Validation/Glaucoma_Negative/568.jpg  \n",
            "  inflating: Fundus_Train_Val_Data/Fundus_Scanes_Sorted/Validation/Glaucoma_Negative/569.jpg  \n",
            "  inflating: Fundus_Train_Val_Data/Fundus_Scanes_Sorted/Validation/Glaucoma_Negative/570.jpg  \n",
            "  inflating: Fundus_Train_Val_Data/Fundus_Scanes_Sorted/Validation/Glaucoma_Negative/573.jpg  \n",
            "  inflating: Fundus_Train_Val_Data/Fundus_Scanes_Sorted/Validation/Glaucoma_Negative/574.jpg  \n",
            "  inflating: Fundus_Train_Val_Data/Fundus_Scanes_Sorted/Validation/Glaucoma_Negative/575.jpg  \n",
            "  inflating: Fundus_Train_Val_Data/Fundus_Scanes_Sorted/Validation/Glaucoma_Negative/576.jpg  \n",
            "  inflating: Fundus_Train_Val_Data/Fundus_Scanes_Sorted/Validation/Glaucoma_Negative/577.jpg  \n",
            "  inflating: Fundus_Train_Val_Data/Fundus_Scanes_Sorted/Validation/Glaucoma_Negative/579.jpg  \n",
            "  inflating: Fundus_Train_Val_Data/Fundus_Scanes_Sorted/Validation/Glaucoma_Negative/581.jpg  \n",
            "  inflating: Fundus_Train_Val_Data/Fundus_Scanes_Sorted/Validation/Glaucoma_Negative/583.jpg  \n",
            "  inflating: Fundus_Train_Val_Data/Fundus_Scanes_Sorted/Validation/Glaucoma_Negative/585.jpg  \n",
            "  inflating: Fundus_Train_Val_Data/Fundus_Scanes_Sorted/Validation/Glaucoma_Negative/587.jpg  \n",
            "  inflating: Fundus_Train_Val_Data/Fundus_Scanes_Sorted/Validation/Glaucoma_Negative/590.jpg  \n",
            "  inflating: Fundus_Train_Val_Data/Fundus_Scanes_Sorted/Validation/Glaucoma_Negative/594.jpg  \n",
            "  inflating: Fundus_Train_Val_Data/Fundus_Scanes_Sorted/Validation/Glaucoma_Negative/596.jpg  \n",
            "  inflating: Fundus_Train_Val_Data/Fundus_Scanes_Sorted/Validation/Glaucoma_Negative/597.jpg  \n",
            "  inflating: Fundus_Train_Val_Data/Fundus_Scanes_Sorted/Validation/Glaucoma_Negative/599.jpg  \n",
            "  inflating: Fundus_Train_Val_Data/Fundus_Scanes_Sorted/Validation/Glaucoma_Negative/602.jpg  \n",
            "  inflating: Fundus_Train_Val_Data/Fundus_Scanes_Sorted/Validation/Glaucoma_Negative/603.jpg  \n",
            "  inflating: Fundus_Train_Val_Data/Fundus_Scanes_Sorted/Validation/Glaucoma_Negative/606.jpg  \n",
            "  inflating: Fundus_Train_Val_Data/Fundus_Scanes_Sorted/Validation/Glaucoma_Negative/607.jpg  \n",
            "  inflating: Fundus_Train_Val_Data/Fundus_Scanes_Sorted/Validation/Glaucoma_Negative/610.jpg  \n",
            "  inflating: Fundus_Train_Val_Data/Fundus_Scanes_Sorted/Validation/Glaucoma_Negative/611.jpg  \n",
            "  inflating: Fundus_Train_Val_Data/Fundus_Scanes_Sorted/Validation/Glaucoma_Negative/614.jpg  \n",
            "  inflating: Fundus_Train_Val_Data/Fundus_Scanes_Sorted/Validation/Glaucoma_Negative/616.jpg  \n",
            "  inflating: Fundus_Train_Val_Data/Fundus_Scanes_Sorted/Validation/Glaucoma_Negative/620.jpg  \n",
            "  inflating: Fundus_Train_Val_Data/Fundus_Scanes_Sorted/Validation/Glaucoma_Negative/625.jpg  \n",
            "  inflating: Fundus_Train_Val_Data/Fundus_Scanes_Sorted/Validation/Glaucoma_Negative/629.jpg  \n",
            "  inflating: Fundus_Train_Val_Data/Fundus_Scanes_Sorted/Validation/Glaucoma_Negative/633.jpg  \n",
            "  inflating: Fundus_Train_Val_Data/Fundus_Scanes_Sorted/Validation/Glaucoma_Negative/635.jpg  \n",
            "  inflating: Fundus_Train_Val_Data/Fundus_Scanes_Sorted/Validation/Glaucoma_Negative/637.jpg  \n",
            "  inflating: Fundus_Train_Val_Data/Fundus_Scanes_Sorted/Validation/Glaucoma_Negative/639.jpg  \n",
            "  inflating: Fundus_Train_Val_Data/Fundus_Scanes_Sorted/Validation/Glaucoma_Negative/642.jpg  \n",
            "  inflating: Fundus_Train_Val_Data/Fundus_Scanes_Sorted/Validation/Glaucoma_Negative/643.jpg  \n",
            "  inflating: Fundus_Train_Val_Data/Fundus_Scanes_Sorted/Validation/Glaucoma_Negative/649.jpg  \n",
            "  inflating: Fundus_Train_Val_Data/Fundus_Scanes_Sorted/Validation/Glaucoma_Positive/598.jpg  \n",
            "  inflating: Fundus_Train_Val_Data/Fundus_Scanes_Sorted/Validation/Glaucoma_Positive/600.jpg  \n",
            "  inflating: Fundus_Train_Val_Data/Fundus_Scanes_Sorted/Validation/Glaucoma_Positive/601.jpg  \n",
            "  inflating: Fundus_Train_Val_Data/Fundus_Scanes_Sorted/Validation/Glaucoma_Positive/604.jpg  \n",
            "  inflating: Fundus_Train_Val_Data/Fundus_Scanes_Sorted/Validation/Glaucoma_Positive/605.jpg  \n",
            "  inflating: Fundus_Train_Val_Data/Fundus_Scanes_Sorted/Validation/Glaucoma_Positive/608.jpg  \n",
            "  inflating: Fundus_Train_Val_Data/Fundus_Scanes_Sorted/Validation/Glaucoma_Positive/609.jpg  \n",
            "  inflating: Fundus_Train_Val_Data/Fundus_Scanes_Sorted/Validation/Glaucoma_Positive/612.jpg  \n",
            "  inflating: Fundus_Train_Val_Data/Fundus_Scanes_Sorted/Validation/Glaucoma_Positive/613.jpg  \n",
            "  inflating: Fundus_Train_Val_Data/Fundus_Scanes_Sorted/Validation/Glaucoma_Positive/615.jpg  \n",
            "  inflating: Fundus_Train_Val_Data/Fundus_Scanes_Sorted/Validation/Glaucoma_Positive/617.jpg  \n",
            "  inflating: Fundus_Train_Val_Data/Fundus_Scanes_Sorted/Validation/Glaucoma_Positive/618.jpg  \n",
            "  inflating: Fundus_Train_Val_Data/Fundus_Scanes_Sorted/Validation/Glaucoma_Positive/619.jpg  \n",
            "  inflating: Fundus_Train_Val_Data/Fundus_Scanes_Sorted/Validation/Glaucoma_Positive/621.jpg  \n",
            "  inflating: Fundus_Train_Val_Data/Fundus_Scanes_Sorted/Validation/Glaucoma_Positive/622.jpg  \n",
            "  inflating: Fundus_Train_Val_Data/Fundus_Scanes_Sorted/Validation/Glaucoma_Positive/623.jpg  \n",
            "  inflating: Fundus_Train_Val_Data/Fundus_Scanes_Sorted/Validation/Glaucoma_Positive/624.jpg  \n",
            "  inflating: Fundus_Train_Val_Data/Fundus_Scanes_Sorted/Validation/Glaucoma_Positive/626.jpg  \n",
            "  inflating: Fundus_Train_Val_Data/Fundus_Scanes_Sorted/Validation/Glaucoma_Positive/627.jpg  \n",
            "  inflating: Fundus_Train_Val_Data/Fundus_Scanes_Sorted/Validation/Glaucoma_Positive/628.jpg  \n",
            "  inflating: Fundus_Train_Val_Data/Fundus_Scanes_Sorted/Validation/Glaucoma_Positive/630.jpg  \n",
            "  inflating: Fundus_Train_Val_Data/Fundus_Scanes_Sorted/Validation/Glaucoma_Positive/631.jpg  \n",
            "  inflating: Fundus_Train_Val_Data/Fundus_Scanes_Sorted/Validation/Glaucoma_Positive/632.jpg  \n",
            "  inflating: Fundus_Train_Val_Data/Fundus_Scanes_Sorted/Validation/Glaucoma_Positive/634.jpg  \n",
            "  inflating: Fundus_Train_Val_Data/Fundus_Scanes_Sorted/Validation/Glaucoma_Positive/636.jpg  \n",
            "  inflating: Fundus_Train_Val_Data/Fundus_Scanes_Sorted/Validation/Glaucoma_Positive/638.jpg  \n",
            "  inflating: Fundus_Train_Val_Data/Fundus_Scanes_Sorted/Validation/Glaucoma_Positive/640.jpg  \n",
            "  inflating: Fundus_Train_Val_Data/Fundus_Scanes_Sorted/Validation/Glaucoma_Positive/641.jpg  \n",
            "  inflating: Fundus_Train_Val_Data/Fundus_Scanes_Sorted/Validation/Glaucoma_Positive/644.jpg  \n",
            "  inflating: Fundus_Train_Val_Data/Fundus_Scanes_Sorted/Validation/Glaucoma_Positive/645.jpg  \n",
            "  inflating: Fundus_Train_Val_Data/Fundus_Scanes_Sorted/Validation/Glaucoma_Positive/646.jpg  \n",
            "  inflating: Fundus_Train_Val_Data/Fundus_Scanes_Sorted/Validation/Glaucoma_Positive/647.jpg  \n",
            "  inflating: Fundus_Train_Val_Data/Fundus_Scanes_Sorted/Validation/Glaucoma_Positive/648.jpg  \n",
            "  inflating: Fundus_Train_Val_Data/Fundus_Scanes_Sorted/Validation/Glaucoma_Positive/650.jpg  \n",
            "  inflating: glaucoma.csv            \n"
          ],
          "name": "stdout"
        }
      ]
    },
    {
      "cell_type": "code",
      "metadata": {
        "id": "z61cXkTDs7_B"
      },
      "source": [
        "DATAGlua_Train = '/content/Fundus_Train_Val_Data/Fundus_Scanes_Sorted/Train'\n",
        "DATAGlua_Test = '/content/Fundus_Train_Val_Data/Fundus_Scanes_Sorted/Validation'"
      ],
      "execution_count": 215,
      "outputs": []
    },
    {
      "cell_type": "code",
      "metadata": {
        "colab": {
          "base_uri": "https://localhost:8080/"
        },
        "id": "K6ZmlmtTs8Bk",
        "outputId": "f7ec8d58-7a82-46e9-a218-7689a58a1b62"
      },
      "source": [
        "CATEGORIES  = list()\n",
        "for root, dirs, files in os.walk(DATAGlua_Train, topdown=False):\n",
        "    for name in dirs:\n",
        "        CATEGORIES.append(os.path.join(name))\n",
        "print (CATEGORIES)"
      ],
      "execution_count": 216,
      "outputs": [
        {
          "output_type": "stream",
          "text": [
            "['Glaucoma_Negative', 'Glaucoma_Positive']\n"
          ],
          "name": "stdout"
        }
      ]
    },
    {
      "cell_type": "code",
      "metadata": {
        "id": "AzfgnpDXs8D4"
      },
      "source": [
        "x_train_data = []\n",
        "y_train_data = []\n",
        "IMG_SIZE=224\n",
        "def creation_train_data():\n",
        "    for category in CATEGORIES:\n",
        "      path = os.path.join(DATAGlua_Train, category)\n",
        "      class_num = CATEGORIES.index(category)\n",
        "      for img in os.listdir(path):\n",
        "        try:\n",
        "            img_array = cv2.imread(os.path.join(path, img), cv2.IMREAD_COLOR)\n",
        "            new_array = cv2.resize(img_array, (IMG_SIZE,IMG_SIZE))\n",
        "            x_train_data.append(new_array)\n",
        "            y_train_data.append(class_num)\n",
        "        except Exception as e:\n",
        "            pass\n",
        "creation_train_data()"
      ],
      "execution_count": 217,
      "outputs": []
    },
    {
      "cell_type": "code",
      "metadata": {
        "id": "P9ZDHqzds8GR"
      },
      "source": [
        "x_test_data = []\n",
        "y_test_data = []\n",
        "IMG_SIZE=224\n",
        "def creation_test_data():\n",
        "    for category in CATEGORIES:\n",
        "      path = os.path.join(DATAGlua_Test, category)\n",
        "      class_num = CATEGORIES.index(category)\n",
        "      for img in os.listdir(path):\n",
        "        try:\n",
        "            img_array = cv2.imread(os.path.join(path, img), cv2.IMREAD_COLOR)\n",
        "            new_array = cv2.resize(img_array, (IMG_SIZE,IMG_SIZE))\n",
        "            x_test_data.append(new_array)\n",
        "            y_test_data.append(class_num)\n",
        "        except Exception as e:\n",
        "            pass\n",
        "creation_test_data ()"
      ],
      "execution_count": 218,
      "outputs": []
    },
    {
      "cell_type": "code",
      "metadata": {
        "id": "JOuN6Nhcs8IX"
      },
      "source": [
        "X_Train, X_Val, Y_Train, Y_Val = train_test_split(x_train_data, y_train_data, test_size=0.05, random_state=1)"
      ],
      "execution_count": 219,
      "outputs": []
    },
    {
      "cell_type": "code",
      "metadata": {
        "id": "BUw3qXUNs8Ku"
      },
      "source": [
        "X_Train = np. squeeze(np.array(X_Train))\n",
        "X_Val = np. squeeze(np.array(X_Val))\n",
        "Y_Train = np. squeeze(np.array(Y_Train))\n",
        "Y_Val = np. squeeze(np.array(Y_Val))\n",
        "x_test_data = np. squeeze(np.array(x_test_data))"
      ],
      "execution_count": 220,
      "outputs": []
    },
    {
      "cell_type": "code",
      "metadata": {
        "id": "ASHn_3Yds8NF"
      },
      "source": [
        "Y_Train = to_categorical(Y_Train)\n",
        "Y_Val = to_categorical(Y_Val)"
      ],
      "execution_count": 221,
      "outputs": []
    },
    {
      "cell_type": "markdown",
      "metadata": {
        "id": "IMNSEXWitMDb"
      },
      "source": [
        "# **VGG16 Model**"
      ]
    },
    {
      "cell_type": "code",
      "metadata": {
        "id": "8lZiWSxts8P5"
      },
      "source": [
        "IMG_SHAPE = (224, 224,3)\n"
      ],
      "execution_count": 222,
      "outputs": []
    },
    {
      "cell_type": "code",
      "metadata": {
        "id": "zoAPNfqns8SE"
      },
      "source": [
        "from keras.applications.vgg16 import VGG16\n",
        "from keras.applications.vgg16 import preprocess_input"
      ],
      "execution_count": 223,
      "outputs": []
    },
    {
      "cell_type": "code",
      "metadata": {
        "id": "D0183MPGs8Ti"
      },
      "source": [
        "base_model = VGG16(input_shape=IMG_SHAPE, include_top=False, weights='imagenet')"
      ],
      "execution_count": 224,
      "outputs": []
    },
    {
      "cell_type": "code",
      "metadata": {
        "colab": {
          "base_uri": "https://localhost:8080/"
        },
        "id": "NyUwONuDssz2",
        "outputId": "036bd85e-0f0d-4604-d039-6929d38626ed"
      },
      "source": [
        "for layer in base_model.layers:\n",
        "    print(layer.name)\n",
        "    layer.trainable = False\n",
        "    \n",
        "print(len(base_model.layers))"
      ],
      "execution_count": 225,
      "outputs": [
        {
          "output_type": "stream",
          "text": [
            "input_7\n",
            "block1_conv1\n",
            "block1_conv2\n",
            "block1_pool\n",
            "block2_conv1\n",
            "block2_conv2\n",
            "block2_pool\n",
            "block3_conv1\n",
            "block3_conv2\n",
            "block3_conv3\n",
            "block3_pool\n",
            "block4_conv1\n",
            "block4_conv2\n",
            "block4_conv3\n",
            "block4_pool\n",
            "block5_conv1\n",
            "block5_conv2\n",
            "block5_conv3\n",
            "block5_pool\n",
            "19\n"
          ],
          "name": "stdout"
        }
      ]
    },
    {
      "cell_type": "code",
      "metadata": {
        "colab": {
          "base_uri": "https://localhost:8080/"
        },
        "id": "YVcPjx69ss2N",
        "outputId": "1e4e12d6-0d5d-4896-d73b-ae5d43bb5e9b"
      },
      "source": [
        "base_model.summary()"
      ],
      "execution_count": 226,
      "outputs": [
        {
          "output_type": "stream",
          "text": [
            "Model: \"vgg16\"\n",
            "_________________________________________________________________\n",
            "Layer (type)                 Output Shape              Param #   \n",
            "=================================================================\n",
            "input_7 (InputLayer)         [(None, 224, 224, 3)]     0         \n",
            "_________________________________________________________________\n",
            "block1_conv1 (Conv2D)        (None, 224, 224, 64)      1792      \n",
            "_________________________________________________________________\n",
            "block1_conv2 (Conv2D)        (None, 224, 224, 64)      36928     \n",
            "_________________________________________________________________\n",
            "block1_pool (MaxPooling2D)   (None, 112, 112, 64)      0         \n",
            "_________________________________________________________________\n",
            "block2_conv1 (Conv2D)        (None, 112, 112, 128)     73856     \n",
            "_________________________________________________________________\n",
            "block2_conv2 (Conv2D)        (None, 112, 112, 128)     147584    \n",
            "_________________________________________________________________\n",
            "block2_pool (MaxPooling2D)   (None, 56, 56, 128)       0         \n",
            "_________________________________________________________________\n",
            "block3_conv1 (Conv2D)        (None, 56, 56, 256)       295168    \n",
            "_________________________________________________________________\n",
            "block3_conv2 (Conv2D)        (None, 56, 56, 256)       590080    \n",
            "_________________________________________________________________\n",
            "block3_conv3 (Conv2D)        (None, 56, 56, 256)       590080    \n",
            "_________________________________________________________________\n",
            "block3_pool (MaxPooling2D)   (None, 28, 28, 256)       0         \n",
            "_________________________________________________________________\n",
            "block4_conv1 (Conv2D)        (None, 28, 28, 512)       1180160   \n",
            "_________________________________________________________________\n",
            "block4_conv2 (Conv2D)        (None, 28, 28, 512)       2359808   \n",
            "_________________________________________________________________\n",
            "block4_conv3 (Conv2D)        (None, 28, 28, 512)       2359808   \n",
            "_________________________________________________________________\n",
            "block4_pool (MaxPooling2D)   (None, 14, 14, 512)       0         \n",
            "_________________________________________________________________\n",
            "block5_conv1 (Conv2D)        (None, 14, 14, 512)       2359808   \n",
            "_________________________________________________________________\n",
            "block5_conv2 (Conv2D)        (None, 14, 14, 512)       2359808   \n",
            "_________________________________________________________________\n",
            "block5_conv3 (Conv2D)        (None, 14, 14, 512)       2359808   \n",
            "_________________________________________________________________\n",
            "block5_pool (MaxPooling2D)   (None, 7, 7, 512)         0         \n",
            "=================================================================\n",
            "Total params: 14,714,688\n",
            "Trainable params: 0\n",
            "Non-trainable params: 14,714,688\n",
            "_________________________________________________________________\n"
          ],
          "name": "stdout"
        }
      ]
    },
    {
      "cell_type": "code",
      "metadata": {
        "id": "fXP1Th4Kss4i"
      },
      "source": [
        "base_model.trainable = False"
      ],
      "execution_count": 227,
      "outputs": []
    },
    {
      "cell_type": "code",
      "metadata": {
        "colab": {
          "base_uri": "https://localhost:8080/"
        },
        "id": "PWdKYnYNss6-",
        "outputId": "2a777ac9-a1f7-4a54-e69c-9101b7764328"
      },
      "source": [
        "base_model.output"
      ],
      "execution_count": 228,
      "outputs": [
        {
          "output_type": "execute_result",
          "data": {
            "text/plain": [
              "<KerasTensor: shape=(None, 7, 7, 512) dtype=float32 (created by layer 'block5_pool')>"
            ]
          },
          "metadata": {
            "tags": []
          },
          "execution_count": 228
        }
      ]
    },
    {
      "cell_type": "code",
      "metadata": {
        "id": "6iR5nN2vss9Y"
      },
      "source": [
        "x = layers.GlobalMaxPooling2D()(base_model.output)\n",
        "x = layers.Dense(512, activation='relu')(x)\n",
        "x = layers.Dropout(0.5)(x)\n",
        "x = layers.Dense(2, activation='softmax')(x)\n",
        "\n",
        "model = Model(base_model.input, x)\n",
        "sgd = tf.keras.optimizers.SGD(lr=0.01, decay=1e-6, momentum=0.9, nesterov=True)\n",
        "model.compile(loss='categorical_crossentropy',\n",
        "              optimizer=sgd,\n",
        "              metrics=['accuracy'])"
      ],
      "execution_count": 229,
      "outputs": []
    },
    {
      "cell_type": "code",
      "metadata": {
        "colab": {
          "base_uri": "https://localhost:8080/"
        },
        "id": "HqNfIB_ess_p",
        "outputId": "09293831-ad02-4725-f095-57f9004d74b2"
      },
      "source": [
        "model.summary()"
      ],
      "execution_count": 230,
      "outputs": [
        {
          "output_type": "stream",
          "text": [
            "Model: \"model_6\"\n",
            "_________________________________________________________________\n",
            "Layer (type)                 Output Shape              Param #   \n",
            "=================================================================\n",
            "input_7 (InputLayer)         [(None, 224, 224, 3)]     0         \n",
            "_________________________________________________________________\n",
            "block1_conv1 (Conv2D)        (None, 224, 224, 64)      1792      \n",
            "_________________________________________________________________\n",
            "block1_conv2 (Conv2D)        (None, 224, 224, 64)      36928     \n",
            "_________________________________________________________________\n",
            "block1_pool (MaxPooling2D)   (None, 112, 112, 64)      0         \n",
            "_________________________________________________________________\n",
            "block2_conv1 (Conv2D)        (None, 112, 112, 128)     73856     \n",
            "_________________________________________________________________\n",
            "block2_conv2 (Conv2D)        (None, 112, 112, 128)     147584    \n",
            "_________________________________________________________________\n",
            "block2_pool (MaxPooling2D)   (None, 56, 56, 128)       0         \n",
            "_________________________________________________________________\n",
            "block3_conv1 (Conv2D)        (None, 56, 56, 256)       295168    \n",
            "_________________________________________________________________\n",
            "block3_conv2 (Conv2D)        (None, 56, 56, 256)       590080    \n",
            "_________________________________________________________________\n",
            "block3_conv3 (Conv2D)        (None, 56, 56, 256)       590080    \n",
            "_________________________________________________________________\n",
            "block3_pool (MaxPooling2D)   (None, 28, 28, 256)       0         \n",
            "_________________________________________________________________\n",
            "block4_conv1 (Conv2D)        (None, 28, 28, 512)       1180160   \n",
            "_________________________________________________________________\n",
            "block4_conv2 (Conv2D)        (None, 28, 28, 512)       2359808   \n",
            "_________________________________________________________________\n",
            "block4_conv3 (Conv2D)        (None, 28, 28, 512)       2359808   \n",
            "_________________________________________________________________\n",
            "block4_pool (MaxPooling2D)   (None, 14, 14, 512)       0         \n",
            "_________________________________________________________________\n",
            "block5_conv1 (Conv2D)        (None, 14, 14, 512)       2359808   \n",
            "_________________________________________________________________\n",
            "block5_conv2 (Conv2D)        (None, 14, 14, 512)       2359808   \n",
            "_________________________________________________________________\n",
            "block5_conv3 (Conv2D)        (None, 14, 14, 512)       2359808   \n",
            "_________________________________________________________________\n",
            "block5_pool (MaxPooling2D)   (None, 7, 7, 512)         0         \n",
            "_________________________________________________________________\n",
            "global_max_pooling2d_9 (Glob (None, 512)               0         \n",
            "_________________________________________________________________\n",
            "dense_16 (Dense)             (None, 512)               262656    \n",
            "_________________________________________________________________\n",
            "dropout_8 (Dropout)          (None, 512)               0         \n",
            "_________________________________________________________________\n",
            "dense_17 (Dense)             (None, 2)                 1026      \n",
            "=================================================================\n",
            "Total params: 14,978,370\n",
            "Trainable params: 263,682\n",
            "Non-trainable params: 14,714,688\n",
            "_________________________________________________________________\n"
          ],
          "name": "stdout"
        }
      ]
    },
    {
      "cell_type": "code",
      "metadata": {
        "id": "zFAtAeO7stCH"
      },
      "source": [
        "train_datagen = ImageDataGenerator(rescale = 1./255, rotation_range=60, width_shift_range=0.2, height_shift_range=0.2,\n",
        "                                   shear_range=0.2, zoom_range=0.2, fill_mode='nearest')\n"
      ],
      "execution_count": 231,
      "outputs": []
    },
    {
      "cell_type": "code",
      "metadata": {
        "id": "7xyKZivRstEm"
      },
      "source": [
        "train_datagen.fit(X_Train)"
      ],
      "execution_count": 232,
      "outputs": []
    },
    {
      "cell_type": "code",
      "metadata": {
        "id": "9ftmk_RestHB"
      },
      "source": [
        "val_datagen = ImageDataGenerator(rescale = 1./255)\n",
        "val_datagen.fit(X_Val)"
      ],
      "execution_count": 233,
      "outputs": []
    },
    {
      "cell_type": "code",
      "metadata": {
        "colab": {
          "base_uri": "https://localhost:8080/"
        },
        "id": "RP-bjuTxstJk",
        "outputId": "26297d05-0b3b-4067-96a3-2ae9d2fd06e7"
      },
      "source": [
        "train_model = model.fit(X_Train, Y_Train, batch_size=64, epochs=25,\n",
        "                    validation_data=(X_Val, Y_Val))"
      ],
      "execution_count": 234,
      "outputs": [
        {
          "output_type": "stream",
          "text": [
            "Epoch 1/25\n",
            "8/8 [==============================] - 3s 283ms/step - loss: 1258.1515 - accuracy: 0.5498 - val_loss: 0.9681 - val_accuracy: 0.7692\n",
            "Epoch 2/25\n",
            "8/8 [==============================] - 2s 231ms/step - loss: 1.2874 - accuracy: 0.6676 - val_loss: 0.8022 - val_accuracy: 0.7692\n",
            "Epoch 3/25\n",
            "8/8 [==============================] - 2s 232ms/step - loss: 0.8766 - accuracy: 0.7491 - val_loss: 0.6410 - val_accuracy: 0.7692\n",
            "Epoch 4/25\n",
            "8/8 [==============================] - 2s 233ms/step - loss: 0.6503 - accuracy: 0.7602 - val_loss: 0.5775 - val_accuracy: 0.7692\n",
            "Epoch 5/25\n",
            "8/8 [==============================] - 2s 232ms/step - loss: 0.5888 - accuracy: 0.7453 - val_loss: 0.5617 - val_accuracy: 0.7692\n",
            "Epoch 6/25\n",
            "8/8 [==============================] - 2s 232ms/step - loss: 0.5885 - accuracy: 0.7299 - val_loss: 0.5521 - val_accuracy: 0.7692\n",
            "Epoch 7/25\n",
            "8/8 [==============================] - 2s 234ms/step - loss: 0.5795 - accuracy: 0.7343 - val_loss: 0.6580 - val_accuracy: 0.6538\n",
            "Epoch 8/25\n",
            "8/8 [==============================] - 2s 236ms/step - loss: 0.6217 - accuracy: 0.6977 - val_loss: 0.5440 - val_accuracy: 0.7692\n",
            "Epoch 9/25\n",
            "8/8 [==============================] - 2s 235ms/step - loss: 0.5741 - accuracy: 0.7393 - val_loss: 0.5478 - val_accuracy: 0.7692\n",
            "Epoch 10/25\n",
            "8/8 [==============================] - 2s 237ms/step - loss: 0.5741 - accuracy: 0.7472 - val_loss: 0.5415 - val_accuracy: 0.7692\n",
            "Epoch 11/25\n",
            "8/8 [==============================] - 2s 236ms/step - loss: 0.5952 - accuracy: 0.7198 - val_loss: 0.5415 - val_accuracy: 0.7692\n",
            "Epoch 12/25\n",
            "8/8 [==============================] - 2s 238ms/step - loss: 0.5585 - accuracy: 0.7537 - val_loss: 0.5414 - val_accuracy: 0.7692\n",
            "Epoch 13/25\n",
            "8/8 [==============================] - 2s 237ms/step - loss: 0.5769 - accuracy: 0.7367 - val_loss: 0.5415 - val_accuracy: 0.7692\n",
            "Epoch 14/25\n",
            "8/8 [==============================] - 2s 237ms/step - loss: 0.5530 - accuracy: 0.7586 - val_loss: 0.5417 - val_accuracy: 0.7692\n",
            "Epoch 15/25\n",
            "8/8 [==============================] - 2s 236ms/step - loss: 0.6013 - accuracy: 0.7139 - val_loss: 0.5422 - val_accuracy: 0.7692\n",
            "Epoch 16/25\n",
            "8/8 [==============================] - 2s 237ms/step - loss: 0.5798 - accuracy: 0.7337 - val_loss: 0.5422 - val_accuracy: 0.7692\n",
            "Epoch 17/25\n",
            "8/8 [==============================] - 2s 237ms/step - loss: 0.5926 - accuracy: 0.7216 - val_loss: 0.5423 - val_accuracy: 0.7692\n",
            "Epoch 18/25\n",
            "8/8 [==============================] - 2s 240ms/step - loss: 0.5585 - accuracy: 0.7538 - val_loss: 0.5421 - val_accuracy: 0.7692\n",
            "Epoch 19/25\n",
            "8/8 [==============================] - 2s 240ms/step - loss: 0.5723 - accuracy: 0.7408 - val_loss: 0.5421 - val_accuracy: 0.7692\n",
            "Epoch 20/25\n",
            "8/8 [==============================] - 2s 241ms/step - loss: 0.5694 - accuracy: 0.7435 - val_loss: 0.5422 - val_accuracy: 0.7692\n",
            "Epoch 21/25\n",
            "8/8 [==============================] - 2s 242ms/step - loss: 0.5607 - accuracy: 0.7518 - val_loss: 0.5422 - val_accuracy: 0.7692\n",
            "Epoch 22/25\n",
            "8/8 [==============================] - 2s 242ms/step - loss: 0.6028 - accuracy: 0.7118 - val_loss: 0.5424 - val_accuracy: 0.7692\n",
            "Epoch 23/25\n",
            "8/8 [==============================] - 2s 244ms/step - loss: 0.5429 - accuracy: 0.7688 - val_loss: 0.5420 - val_accuracy: 0.7692\n",
            "Epoch 24/25\n",
            "8/8 [==============================] - 2s 245ms/step - loss: 0.5889 - accuracy: 0.7252 - val_loss: 0.5422 - val_accuracy: 0.7692\n",
            "Epoch 25/25\n",
            "8/8 [==============================] - 2s 245ms/step - loss: 0.5578 - accuracy: 0.7544 - val_loss: 0.5421 - val_accuracy: 0.7692\n"
          ],
          "name": "stdout"
        }
      ]
    },
    {
      "cell_type": "code",
      "metadata": {
        "id": "oofG9WGOstL-"
      },
      "source": [
        "for layer in model.layers[:15]:\n",
        "    layer.trainable = False\n",
        "\n",
        "for layer in model.layers[15:]:\n",
        "    layer.trainable = True"
      ],
      "execution_count": 235,
      "outputs": []
    },
    {
      "cell_type": "code",
      "metadata": {
        "id": "FSYO6aYtstOF"
      },
      "source": [
        "optimizer = Adam(lr=0.0001, beta_1=0.9, beta_2=0.999, epsilon=None, decay=0.0, amsgrad=True)\n",
        "model.compile(loss='categorical_crossentropy',\n",
        "              optimizer=sgd,\n",
        "              metrics=['acc'])"
      ],
      "execution_count": 236,
      "outputs": []
    },
    {
      "cell_type": "code",
      "metadata": {
        "colab": {
          "base_uri": "https://localhost:8080/"
        },
        "id": "c05-1pR2uQne",
        "outputId": "2770cc1a-62ae-4b3b-ebd3-fa1ed7a330c3"
      },
      "source": [
        "model.summary()"
      ],
      "execution_count": 237,
      "outputs": [
        {
          "output_type": "stream",
          "text": [
            "Model: \"model_6\"\n",
            "_________________________________________________________________\n",
            "Layer (type)                 Output Shape              Param #   \n",
            "=================================================================\n",
            "input_7 (InputLayer)         [(None, 224, 224, 3)]     0         \n",
            "_________________________________________________________________\n",
            "block1_conv1 (Conv2D)        (None, 224, 224, 64)      1792      \n",
            "_________________________________________________________________\n",
            "block1_conv2 (Conv2D)        (None, 224, 224, 64)      36928     \n",
            "_________________________________________________________________\n",
            "block1_pool (MaxPooling2D)   (None, 112, 112, 64)      0         \n",
            "_________________________________________________________________\n",
            "block2_conv1 (Conv2D)        (None, 112, 112, 128)     73856     \n",
            "_________________________________________________________________\n",
            "block2_conv2 (Conv2D)        (None, 112, 112, 128)     147584    \n",
            "_________________________________________________________________\n",
            "block2_pool (MaxPooling2D)   (None, 56, 56, 128)       0         \n",
            "_________________________________________________________________\n",
            "block3_conv1 (Conv2D)        (None, 56, 56, 256)       295168    \n",
            "_________________________________________________________________\n",
            "block3_conv2 (Conv2D)        (None, 56, 56, 256)       590080    \n",
            "_________________________________________________________________\n",
            "block3_conv3 (Conv2D)        (None, 56, 56, 256)       590080    \n",
            "_________________________________________________________________\n",
            "block3_pool (MaxPooling2D)   (None, 28, 28, 256)       0         \n",
            "_________________________________________________________________\n",
            "block4_conv1 (Conv2D)        (None, 28, 28, 512)       1180160   \n",
            "_________________________________________________________________\n",
            "block4_conv2 (Conv2D)        (None, 28, 28, 512)       2359808   \n",
            "_________________________________________________________________\n",
            "block4_conv3 (Conv2D)        (None, 28, 28, 512)       2359808   \n",
            "_________________________________________________________________\n",
            "block4_pool (MaxPooling2D)   (None, 14, 14, 512)       0         \n",
            "_________________________________________________________________\n",
            "block5_conv1 (Conv2D)        (None, 14, 14, 512)       2359808   \n",
            "_________________________________________________________________\n",
            "block5_conv2 (Conv2D)        (None, 14, 14, 512)       2359808   \n",
            "_________________________________________________________________\n",
            "block5_conv3 (Conv2D)        (None, 14, 14, 512)       2359808   \n",
            "_________________________________________________________________\n",
            "block5_pool (MaxPooling2D)   (None, 7, 7, 512)         0         \n",
            "_________________________________________________________________\n",
            "global_max_pooling2d_9 (Glob (None, 512)               0         \n",
            "_________________________________________________________________\n",
            "dense_16 (Dense)             (None, 512)               262656    \n",
            "_________________________________________________________________\n",
            "dropout_8 (Dropout)          (None, 512)               0         \n",
            "_________________________________________________________________\n",
            "dense_17 (Dense)             (None, 2)                 1026      \n",
            "=================================================================\n",
            "Total params: 14,978,370\n",
            "Trainable params: 7,343,106\n",
            "Non-trainable params: 7,635,264\n",
            "_________________________________________________________________\n"
          ],
          "name": "stdout"
        }
      ]
    },
    {
      "cell_type": "code",
      "metadata": {
        "id": "BSlsIMcduQqQ"
      },
      "source": [
        "learning_rate_reduction = ReduceLROnPlateau(monitor='val_acc', patience=3, verbose=1, factor=0.5, \n",
        "                                            min_lr=0.000001, cooldown=3)"
      ],
      "execution_count": 238,
      "outputs": []
    },
    {
      "cell_type": "code",
      "metadata": {
        "colab": {
          "base_uri": "https://localhost:8080/"
        },
        "id": "QNTgUIneuQs0",
        "outputId": "0962bdcf-c323-4b7f-b439-93e4230f6048"
      },
      "source": [
        "train_model  = model.fit(X_Train, Y_Train, batch_size=64, epochs=30,\n",
        "                    validation_data=(X_Val, Y_Val))"
      ],
      "execution_count": 239,
      "outputs": [
        {
          "output_type": "stream",
          "text": [
            "Epoch 1/30\n",
            "8/8 [==============================] - 3s 303ms/step - loss: 0.5877 - acc: 0.7262 - val_loss: 0.5423 - val_acc: 0.7692\n",
            "Epoch 2/30\n",
            "8/8 [==============================] - 2s 270ms/step - loss: 0.5580 - acc: 0.7544 - val_loss: 0.5423 - val_acc: 0.7692\n",
            "Epoch 3/30\n",
            "8/8 [==============================] - 2s 272ms/step - loss: 0.5557 - acc: 0.7566 - val_loss: 0.5423 - val_acc: 0.7692\n",
            "Epoch 4/30\n",
            "8/8 [==============================] - 2s 272ms/step - loss: 0.5757 - acc: 0.7376 - val_loss: 0.5425 - val_acc: 0.7692\n",
            "Epoch 5/30\n",
            "8/8 [==============================] - 2s 272ms/step - loss: 0.5666 - acc: 0.7462 - val_loss: 0.5424 - val_acc: 0.7692\n",
            "Epoch 6/30\n",
            "8/8 [==============================] - 2s 272ms/step - loss: 0.5570 - acc: 0.7554 - val_loss: 0.5423 - val_acc: 0.7692\n",
            "Epoch 7/30\n",
            "8/8 [==============================] - 2s 275ms/step - loss: 0.5826 - acc: 0.7310 - val_loss: 0.5425 - val_acc: 0.7692\n",
            "Epoch 8/30\n",
            "8/8 [==============================] - 2s 275ms/step - loss: 0.5776 - acc: 0.7357 - val_loss: 0.5425 - val_acc: 0.7692\n",
            "Epoch 9/30\n",
            "8/8 [==============================] - 2s 277ms/step - loss: 0.5628 - acc: 0.7499 - val_loss: 0.5424 - val_acc: 0.7692\n",
            "Epoch 10/30\n",
            "8/8 [==============================] - 2s 277ms/step - loss: 0.5717 - acc: 0.7413 - val_loss: 0.5423 - val_acc: 0.7692\n",
            "Epoch 11/30\n",
            "8/8 [==============================] - 2s 278ms/step - loss: 0.5896 - acc: 0.7243 - val_loss: 0.5424 - val_acc: 0.7692\n",
            "Epoch 12/30\n",
            "8/8 [==============================] - 2s 277ms/step - loss: 0.5651 - acc: 0.7476 - val_loss: 0.5422 - val_acc: 0.7692\n",
            "Epoch 13/30\n",
            "8/8 [==============================] - 2s 278ms/step - loss: 0.5798 - acc: 0.7336 - val_loss: 0.5424 - val_acc: 0.7692\n",
            "Epoch 14/30\n",
            "8/8 [==============================] - 2s 279ms/step - loss: 0.5556 - acc: 0.7568 - val_loss: 0.5424 - val_acc: 0.7692\n",
            "Epoch 15/30\n",
            "8/8 [==============================] - 2s 279ms/step - loss: 0.5887 - acc: 0.7251 - val_loss: 0.5426 - val_acc: 0.7692\n",
            "Epoch 16/30\n",
            "8/8 [==============================] - 2s 280ms/step - loss: 0.5382 - acc: 0.7736 - val_loss: 0.5423 - val_acc: 0.7692\n",
            "Epoch 17/30\n",
            "8/8 [==============================] - 2s 297ms/step - loss: 0.5619 - acc: 0.7506 - val_loss: 0.5423 - val_acc: 0.7692\n",
            "Epoch 18/30\n",
            "8/8 [==============================] - 2s 281ms/step - loss: 0.5611 - acc: 0.7514 - val_loss: 0.5423 - val_acc: 0.7692\n",
            "Epoch 19/30\n",
            "8/8 [==============================] - 2s 280ms/step - loss: 0.5504 - acc: 0.7616 - val_loss: 0.5423 - val_acc: 0.7692\n",
            "Epoch 20/30\n",
            "8/8 [==============================] - 2s 281ms/step - loss: 0.5828 - acc: 0.7308 - val_loss: 0.5426 - val_acc: 0.7692\n",
            "Epoch 21/30\n",
            "8/8 [==============================] - 2s 279ms/step - loss: 0.5800 - acc: 0.7334 - val_loss: 0.5427 - val_acc: 0.7692\n",
            "Epoch 22/30\n",
            "8/8 [==============================] - 2s 283ms/step - loss: 0.5619 - acc: 0.7508 - val_loss: 0.5426 - val_acc: 0.7692\n",
            "Epoch 23/30\n",
            "8/8 [==============================] - 2s 281ms/step - loss: 0.5936 - acc: 0.7203 - val_loss: 0.5428 - val_acc: 0.7692\n",
            "Epoch 24/30\n",
            "8/8 [==============================] - 2s 281ms/step - loss: 0.5582 - acc: 0.7544 - val_loss: 0.5424 - val_acc: 0.7692\n",
            "Epoch 25/30\n",
            "8/8 [==============================] - 2s 283ms/step - loss: 0.5549 - acc: 0.7573 - val_loss: 0.5423 - val_acc: 0.7692\n",
            "Epoch 26/30\n",
            "8/8 [==============================] - 2s 281ms/step - loss: 0.5455 - acc: 0.7663 - val_loss: 0.5422 - val_acc: 0.7692\n",
            "Epoch 27/30\n",
            "8/8 [==============================] - 2s 282ms/step - loss: 0.5822 - acc: 0.7314 - val_loss: 0.5423 - val_acc: 0.7692\n",
            "Epoch 28/30\n",
            "8/8 [==============================] - 2s 284ms/step - loss: 0.5751 - acc: 0.7381 - val_loss: 0.5422 - val_acc: 0.7692\n",
            "Epoch 29/30\n",
            "8/8 [==============================] - 2s 284ms/step - loss: 0.5840 - acc: 0.7296 - val_loss: 0.5423 - val_acc: 0.7692\n",
            "Epoch 30/30\n",
            "8/8 [==============================] - 2s 283ms/step - loss: 0.5949 - acc: 0.7193 - val_loss: 0.5423 - val_acc: 0.7692\n"
          ],
          "name": "stdout"
        }
      ]
    },
    {
      "cell_type": "code",
      "metadata": {
        "colab": {
          "base_uri": "https://localhost:8080/"
        },
        "id": "F3lOJKumuQvN",
        "outputId": "b48c08ee-1bb1-4d51-a059-4a8a746b5c84"
      },
      "source": [
        "loss_val, acc_val = model.evaluate(X_Val, Y_Val, verbose=1)\n",
        "print(\"Validation: accuracy = %f  ;  loss_v = %f\" % (acc_val, loss_val))"
      ],
      "execution_count": 240,
      "outputs": [
        {
          "output_type": "stream",
          "text": [
            "1/1 [==============================] - 0s 116ms/step - loss: 0.5423 - acc: 0.7692\n",
            "Validation: accuracy = 0.769231  ;  loss_v = 0.542302\n"
          ],
          "name": "stdout"
        }
      ]
    },
    {
      "cell_type": "markdown",
      "metadata": {
        "id": "BYGk29CIu7tH"
      },
      "source": [
        "test:"
      ]
    },
    {
      "cell_type": "code",
      "metadata": {
        "colab": {
          "base_uri": "https://localhost:8080/"
        },
        "id": "FMGmQU7YuQxm",
        "outputId": "8852b5a7-b16e-476b-a3da-61334e7b24d9"
      },
      "source": [
        "y_test_data = to_categorical(y_test_data)\n",
        "loss_test, acc_test = model.evaluate(x_test_data, y_test_data, verbose=1)\n",
        "print(\"Test: accuracy = %f  ;  loss = %f\" % (acc_test, loss_test))"
      ],
      "execution_count": 241,
      "outputs": [
        {
          "output_type": "stream",
          "text": [
            "5/5 [==============================] - 1s 95ms/step - loss: 0.5780 - acc: 0.7385\n",
            "Test: accuracy = 0.738462  ;  loss = 0.578031\n"
          ],
          "name": "stdout"
        }
      ]
    },
    {
      "cell_type": "code",
      "metadata": {
        "id": "b20XKcNzu45p"
      },
      "source": [
        "model.save(\"VGG16.h5\")"
      ],
      "execution_count": 242,
      "outputs": []
    },
    {
      "cell_type": "code",
      "metadata": {
        "colab": {
          "base_uri": "https://localhost:8080/",
          "height": 562
        },
        "id": "FDixMIryu48I",
        "outputId": "e22fbd0b-77e9-45ab-8b41-31d9ab72f24b"
      },
      "source": [
        "acc = train_model.history['acc']\n",
        "val_acc = train_model .history['val_acc']\n",
        "\n",
        "loss = train_model.history['loss']\n",
        "val_loss = train_model .history['val_loss']\n",
        "\n",
        "\n",
        "epochs = range(len(acc))\n",
        "\n",
        "\n",
        "plt.plot(epochs, acc, label = \"training\")\n",
        "plt.plot(epochs, val_acc, label = \"validation\")\n",
        "plt.legend(loc=\"upper left\")\n",
        "plt.title('Training and validation accuracy')\n",
        "\n",
        "plt.figure()\n",
        "\n",
        "\n",
        "plt.plot(epochs, loss, label = \"training\")\n",
        "plt.plot(epochs, val_loss, label = \"validation\")\n",
        "plt.legend(loc=\"upper right\")\n",
        "plt.title('Training and validation loss')"
      ],
      "execution_count": 243,
      "outputs": [
        {
          "output_type": "execute_result",
          "data": {
            "text/plain": [
              "Text(0.5, 1.0, 'Training and validation loss')"
            ]
          },
          "metadata": {
            "tags": []
          },
          "execution_count": 243
        },
        {
          "output_type": "display_data",
          "data": {
            "image/png": "[encoded data removed]",
            "text/plain": [
              "<Figure size 432x288 with 1 Axes>"
            ]
          },
          "metadata": {
            "tags": [],
            "needs_background": "light"
          }
        },
        {
          "output_type": "display_data",
          "data": {
            "image/png": "[encoded data removed]",
            "text/plain": [
              "<Figure size 432x288 with 1 Axes>"
            ]
          },
          "metadata": {
            "tags": [],
            "needs_background": "light"
          }
        }
      ]
    },
    {
      "cell_type": "code",
      "metadata": {
        "id": "P8eRUsKUu4-i"
      },
      "source": [
        ""
      ],
      "execution_count": 243,
      "outputs": []
    },
    {
      "cell_type": "code",
      "metadata": {
        "id": "JvC89K3fu5BG"
      },
      "source": [
        ""
      ],
      "execution_count": 243,
      "outputs": []
    }
  ]
}