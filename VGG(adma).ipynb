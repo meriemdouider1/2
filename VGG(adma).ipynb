{
  "nbformat": 4,
  "nbformat_minor": 0,
  "metadata": {
    "colab": {
      "name": "Untitled3.ipynb",
      "provenance": [],
      "authorship_tag": "ABX9TyMyyiBJDIjeccBV+w6QCZDN",
      "include_colab_link": true
    },
    "kernelspec": {
      "name": "python3",
      "display_name": "Python 3"
    },
    "accelerator": "GPU"
  },
  "cells": [
    {
      "cell_type": "markdown",
      "metadata": {
        "id": "view-in-github",
        "colab_type": "text"
      },
      "source": [
        "<a href=\"https://colab.research.google.com/github/meriemdouider1/2/blob/main/VGG(adma).ipynb\" target=\"_parent\"><img src=\"https://colab.research.google.com/assets/colab-badge.svg\" alt=\"Open In Colab\"/></a>"
      ]
    },
    {
      "cell_type": "code",
      "metadata": {
        "id": "jiRICeD6soHI"
      },
      "source": [
        "import json\n",
        "import math\n",
        "import os\n",
        "import cv2\n",
        "from PIL import Image\n",
        "import numpy as np\n",
        "from keras import layers\n",
        "from keras.applications import ResNet50\n",
        "from keras.callbacks import Callback, ModelCheckpoint, ReduceLROnPlateau, TensorBoard\n",
        "from keras.preprocessing.image import ImageDataGenerator\n",
        "from keras.utils.np_utils import to_categorical# convert to one-hot-encoding\n",
        "from keras.models import Sequential\n",
        "from keras.optimizers import Adam\n",
        "import matplotlib.pyplot as plt\n",
        "import pandas as pd\n",
        "from sklearn.model_selection import train_test_split\n",
        "from sklearn.metrics import cohen_kappa_score, accuracy_score\n",
        "import scipy\n",
        "from tqdm import tqdm\n",
        "import tensorflow as tf\n",
        "from keras import backend as K\n",
        "import gc\n",
        "from functools import partial\n",
        "from sklearn import metrics\n",
        "from collections import Counter\n",
        "import json\n",
        "import itertools\n",
        "%matplotlib inline\n",
        "from glob import glob\n",
        "from keras import Model\n",
        "from keras.callbacks import ReduceLROnPlateau, EarlyStopping\n",
        "from tqdm import tqdm_notebook\n",
        "from keras.preprocessing.image import ImageDataGenerator\n",
        "from keras.layers import Input, Lambda, Dense, Flatten\n",
        "from keras.models import load_model, Model"
      ],
      "execution_count": 283,
      "outputs": []
    },
    {
      "cell_type": "code",
      "metadata": {
        "id": "4f6a4IFIssnt"
      },
      "source": [
        "! pip install -q kaggle"
      ],
      "execution_count": 284,
      "outputs": []
    },
    {
      "cell_type": "code",
      "metadata": {
        "id": "DYIRXnoBssqL"
      },
      "source": [
        "from google.colab import files"
      ],
      "execution_count": 285,
      "outputs": []
    },
    {
      "cell_type": "code",
      "metadata": {
        "colab": {
          "resources": {
            "http://localhost:8080/nbextensions/google.colab/files.js": {
              "data": "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",
              "ok": true,
              "headers": [
                [
                  "content-type",
                  "application/javascript"
                ]
              ],
              "status": 200,
              "status_text": ""
            }
          },
          "base_uri": "https://localhost:8080/",
          "height": 89
        },
        "id": "p5okARSrsssz",
        "outputId": "c18012f6-a8ff-4cc0-925a-e682289fd314"
      },
      "source": [
        "files.upload()"
      ],
      "execution_count": 286,
      "outputs": [
        {
          "output_type": "display_data",
          "data": {
            "text/html": [
              "\n",
              "     <input type=\"file\" id=\"files-1ae758e0-100d-44b6-9a54-69f0966e1c82\" name=\"files[]\" multiple disabled\n",
              "        style=\"border:none\" />\n",
              "     <output id=\"result-1ae758e0-100d-44b6-9a54-69f0966e1c82\">\n",
              "      Upload widget is only available when the cell has been executed in the\n",
              "      current browser session. Please rerun this cell to enable.\n",
              "      </output>\n",
              "      <script src=\"/nbextensions/google.colab/files.js\"></script> "
            ],
            "text/plain": [
              "<IPython.core.display.HTML object>"
            ]
          },
          "metadata": {
            "tags": []
          }
        },
        {
          "output_type": "stream",
          "text": [
            "Saving kaggle.json to kaggle (7).json\n"
          ],
          "name": "stdout"
        },
        {
          "output_type": "execute_result",
          "data": {
            "text/plain": [
              "{'kaggle.json': b'{\"username\":\"meryemdouider\",\"key\":\"71abdf1b37f401d9b4f539d2b43177eb\"}'}"
            ]
          },
          "metadata": {
            "tags": []
          },
          "execution_count": 286
        }
      ]
    },
    {
      "cell_type": "code",
      "metadata": {
        "colab": {
          "base_uri": "https://localhost:8080/"
        },
        "id": "NEslhvslssvI",
        "outputId": "fb669478-72be-4626-b908-eacdf7522b66"
      },
      "source": [
        "!mkdir -p ~/.kaggle\n",
        "!cp kaggle.json ~/.kaggle/\n",
        "!ls ~/.kaggle\n",
        "!chmod 600 /root/.kaggle/kaggle.json\n",
        "!kaggle datasets download \"sshikamaru/glaucoma-detection\""
      ],
      "execution_count": 287,
      "outputs": [
        {
          "output_type": "stream",
          "text": [
            "kaggle.json\n",
            "glaucoma-detection.zip: Skipping, found more recently modified local copy (use --force to force download)\n"
          ],
          "name": "stdout"
        }
      ]
    },
    {
      "cell_type": "code",
      "metadata": {
        "colab": {
          "base_uri": "https://localhost:8080/"
        },
        "id": "lwrDa9Dhssxm",
        "outputId": "af5b610d-7d7c-4e03-c415-1d025bf3507e"
      },
      "source": [
        "!unzip glaucoma-detection.zip"
      ],
      "execution_count": 288,
      "outputs": [
        {
          "output_type": "stream",
          "text": [
            "Archive:  glaucoma-detection.zip\n",
            "replace Fundus_Train_Val_Data/Fundus_Scanes_Sorted/Train/Glaucoma_Negative/001.jpg? [y]es, [n]o, [A]ll, [N]one, [r]ename: A\n",
            "  inflating: Fundus_Train_Val_Data/Fundus_Scanes_Sorted/Train/Glaucoma_Negative/001.jpg  \n",
            "  inflating: Fundus_Train_Val_Data/Fundus_Scanes_Sorted/Train/Glaucoma_Negative/002.jpg  \n",
            "  inflating: Fundus_Train_Val_Data/Fundus_Scanes_Sorted/Train/Glaucoma_Negative/003.jpg  \n",
            "  inflating: Fundus_Train_Val_Data/Fundus_Scanes_Sorted/Train/Glaucoma_Negative/004.jpg  \n",
            "  inflating: Fundus_Train_Val_Data/Fundus_Scanes_Sorted/Train/Glaucoma_Negative/005.jpg  \n",
            "  inflating: Fundus_Train_Val_Data/Fundus_Scanes_Sorted/Train/Glaucoma_Negative/006.jpg  \n",
            "  inflating: Fundus_Train_Val_Data/Fundus_Scanes_Sorted/Train/Glaucoma_Negative/007.jpg  \n",
            "  inflating: Fundus_Train_Val_Data/Fundus_Scanes_Sorted/Train/Glaucoma_Negative/008.jpg  \n",
            "  inflating: Fundus_Train_Val_Data/Fundus_Scanes_Sorted/Train/Glaucoma_Negative/009.jpg  \n",
            "  inflating: Fundus_Train_Val_Data/Fundus_Scanes_Sorted/Train/Glaucoma_Negative/010.jpg  \n",
            "  inflating: Fundus_Train_Val_Data/Fundus_Scanes_Sorted/Train/Glaucoma_Negative/011.jpg  \n",
            "  inflating: Fundus_Train_Val_Data/Fundus_Scanes_Sorted/Train/Glaucoma_Negative/012.jpg  \n",
            "  inflating: Fundus_Train_Val_Data/Fundus_Scanes_Sorted/Train/Glaucoma_Negative/013.jpg  \n",
            "  inflating: Fundus_Train_Val_Data/Fundus_Scanes_Sorted/Train/Glaucoma_Negative/014.jpg  \n",
            "  inflating: Fundus_Train_Val_Data/Fundus_Scanes_Sorted/Train/Glaucoma_Negative/015.jpg  \n",
            "  inflating: Fundus_Train_Val_Data/Fundus_Scanes_Sorted/Train/Glaucoma_Negative/016.jpg  \n",
            "  inflating: Fundus_Train_Val_Data/Fundus_Scanes_Sorted/Train/Glaucoma_Negative/017.jpg  \n",
            "  inflating: Fundus_Train_Val_Data/Fundus_Scanes_Sorted/Train/Glaucoma_Negative/018.jpg  \n",
            "  inflating: Fundus_Train_Val_Data/Fundus_Scanes_Sorted/Train/Glaucoma_Negative/019.jpg  \n",
            "  inflating: Fundus_Train_Val_Data/Fundus_Scanes_Sorted/Train/Glaucoma_Negative/020.jpg  \n",
            "  inflating: Fundus_Train_Val_Data/Fundus_Scanes_Sorted/Train/Glaucoma_Negative/021.jpg  \n",
            "  inflating: Fundus_Train_Val_Data/Fundus_Scanes_Sorted/Train/Glaucoma_Negative/022.jpg  \n",
            "  inflating: Fundus_Train_Val_Data/Fundus_Scanes_Sorted/Train/Glaucoma_Negative/023.jpg  \n",
            "  inflating: Fundus_Train_Val_Data/Fundus_Scanes_Sorted/Train/Glaucoma_Negative/024.jpg  \n",
            "  inflating: Fundus_Train_Val_Data/Fundus_Scanes_Sorted/Train/Glaucoma_Negative/025.jpg  \n",
            "  inflating: Fundus_Train_Val_Data/Fundus_Scanes_Sorted/Train/Glaucoma_Negative/026.jpg  \n",
            "  inflating: Fundus_Train_Val_Data/Fundus_Scanes_Sorted/Train/Glaucoma_Negative/027.jpg  \n",
            "  inflating: Fundus_Train_Val_Data/Fundus_Scanes_Sorted/Train/Glaucoma_Negative/028.jpg  \n",
            "  inflating: Fundus_Train_Val_Data/Fundus_Scanes_Sorted/Train/Glaucoma_Negative/029.jpg  \n",
            "  inflating: Fundus_Train_Val_Data/Fundus_Scanes_Sorted/Train/Glaucoma_Negative/030.jpg  \n",
            "  inflating: Fundus_Train_Val_Data/Fundus_Scanes_Sorted/Train/Glaucoma_Negative/031.jpg  \n",
            "  inflating: Fundus_Train_Val_Data/Fundus_Scanes_Sorted/Train/Glaucoma_Negative/032.jpg  \n",
            "  inflating: Fundus_Train_Val_Data/Fundus_Scanes_Sorted/Train/Glaucoma_Negative/033.jpg  \n",
            "  inflating: Fundus_Train_Val_Data/Fundus_Scanes_Sorted/Train/Glaucoma_Negative/034.jpg  \n",
            "  inflating: Fundus_Train_Val_Data/Fundus_Scanes_Sorted/Train/Glaucoma_Negative/035.jpg  \n",
            "  inflating: Fundus_Train_Val_Data/Fundus_Scanes_Sorted/Train/Glaucoma_Negative/038.jpg  \n",
            "  inflating: Fundus_Train_Val_Data/Fundus_Scanes_Sorted/Train/Glaucoma_Negative/039.jpg  \n",
            "  inflating: Fundus_Train_Val_Data/Fundus_Scanes_Sorted/Train/Glaucoma_Negative/040.jpg  \n",
            "  inflating: Fundus_Train_Val_Data/Fundus_Scanes_Sorted/Train/Glaucoma_Negative/042.jpg  \n",
            "  inflating: Fundus_Train_Val_Data/Fundus_Scanes_Sorted/Train/Glaucoma_Negative/043.jpg  \n",
            "  inflating: Fundus_Train_Val_Data/Fundus_Scanes_Sorted/Train/Glaucoma_Negative/044.jpg  \n",
            "  inflating: Fundus_Train_Val_Data/Fundus_Scanes_Sorted/Train/Glaucoma_Negative/045.jpg  \n",
            "  inflating: Fundus_Train_Val_Data/Fundus_Scanes_Sorted/Train/Glaucoma_Negative/046.jpg  \n",
            "  inflating: Fundus_Train_Val_Data/Fundus_Scanes_Sorted/Train/Glaucoma_Negative/047.jpg  \n",
            "  inflating: Fundus_Train_Val_Data/Fundus_Scanes_Sorted/Train/Glaucoma_Negative/048.jpg  \n",
            "  inflating: Fundus_Train_Val_Data/Fundus_Scanes_Sorted/Train/Glaucoma_Negative/049.jpg  \n",
            "  inflating: Fundus_Train_Val_Data/Fundus_Scanes_Sorted/Train/Glaucoma_Negative/051.jpg  \n",
            "  inflating: Fundus_Train_Val_Data/Fundus_Scanes_Sorted/Train/Glaucoma_Negative/052.jpg  \n",
            "  inflating: Fundus_Train_Val_Data/Fundus_Scanes_Sorted/Train/Glaucoma_Negative/053.jpg  \n",
            "  inflating: Fundus_Train_Val_Data/Fundus_Scanes_Sorted/Train/Glaucoma_Negative/054.jpg  \n",
            "  inflating: Fundus_Train_Val_Data/Fundus_Scanes_Sorted/Train/Glaucoma_Negative/055.jpg  \n",
            "  inflating: Fundus_Train_Val_Data/Fundus_Scanes_Sorted/Train/Glaucoma_Negative/056.jpg  \n",
            "  inflating: Fundus_Train_Val_Data/Fundus_Scanes_Sorted/Train/Glaucoma_Negative/057.jpg  \n",
            "  inflating: Fundus_Train_Val_Data/Fundus_Scanes_Sorted/Train/Glaucoma_Negative/058.jpg  \n",
            "  inflating: Fundus_Train_Val_Data/Fundus_Scanes_Sorted/Train/Glaucoma_Negative/059.jpg  \n",
            "  inflating: Fundus_Train_Val_Data/Fundus_Scanes_Sorted/Train/Glaucoma_Negative/060.jpg  \n",
            "  inflating: Fundus_Train_Val_Data/Fundus_Scanes_Sorted/Train/Glaucoma_Negative/061.jpg  \n",
            "  inflating: Fundus_Train_Val_Data/Fundus_Scanes_Sorted/Train/Glaucoma_Negative/062.jpg  \n",
            "  inflating: Fundus_Train_Val_Data/Fundus_Scanes_Sorted/Train/Glaucoma_Negative/063.jpg  \n",
            "  inflating: Fundus_Train_Val_Data/Fundus_Scanes_Sorted/Train/Glaucoma_Negative/064.jpg  \n",
            "  inflating: Fundus_Train_Val_Data/Fundus_Scanes_Sorted/Train/Glaucoma_Negative/065.jpg  \n",
            "  inflating: Fundus_Train_Val_Data/Fundus_Scanes_Sorted/Train/Glaucoma_Negative/066.jpg  \n",
            "  inflating: Fundus_Train_Val_Data/Fundus_Scanes_Sorted/Train/Glaucoma_Negative/067.jpg  \n",
            "  inflating: Fundus_Train_Val_Data/Fundus_Scanes_Sorted/Train/Glaucoma_Negative/068.jpg  \n",
            "  inflating: Fundus_Train_Val_Data/Fundus_Scanes_Sorted/Train/Glaucoma_Negative/070.jpg  \n",
            "  inflating: Fundus_Train_Val_Data/Fundus_Scanes_Sorted/Train/Glaucoma_Negative/071.jpg  \n",
            "  inflating: Fundus_Train_Val_Data/Fundus_Scanes_Sorted/Train/Glaucoma_Negative/073.jpg  \n",
            "  inflating: Fundus_Train_Val_Data/Fundus_Scanes_Sorted/Train/Glaucoma_Negative/074.jpg  \n",
            "  inflating: Fundus_Train_Val_Data/Fundus_Scanes_Sorted/Train/Glaucoma_Negative/075.jpg  \n",
            "  inflating: Fundus_Train_Val_Data/Fundus_Scanes_Sorted/Train/Glaucoma_Negative/077.jpg  \n",
            "  inflating: Fundus_Train_Val_Data/Fundus_Scanes_Sorted/Train/Glaucoma_Negative/078.jpg  \n",
            "  inflating: Fundus_Train_Val_Data/Fundus_Scanes_Sorted/Train/Glaucoma_Negative/079.jpg  \n",
            "  inflating: Fundus_Train_Val_Data/Fundus_Scanes_Sorted/Train/Glaucoma_Negative/080.jpg  \n",
            "  inflating: Fundus_Train_Val_Data/Fundus_Scanes_Sorted/Train/Glaucoma_Negative/081.jpg  \n",
            "  inflating: Fundus_Train_Val_Data/Fundus_Scanes_Sorted/Train/Glaucoma_Negative/082.jpg  \n",
            "  inflating: Fundus_Train_Val_Data/Fundus_Scanes_Sorted/Train/Glaucoma_Negative/083.jpg  \n",
            "  inflating: Fundus_Train_Val_Data/Fundus_Scanes_Sorted/Train/Glaucoma_Negative/084.jpg  \n",
            "  inflating: Fundus_Train_Val_Data/Fundus_Scanes_Sorted/Train/Glaucoma_Negative/085.jpg  \n",
            "  inflating: Fundus_Train_Val_Data/Fundus_Scanes_Sorted/Train/Glaucoma_Negative/088.jpg  \n",
            "  inflating: Fundus_Train_Val_Data/Fundus_Scanes_Sorted/Train/Glaucoma_Negative/089.jpg  \n",
            "  inflating: Fundus_Train_Val_Data/Fundus_Scanes_Sorted/Train/Glaucoma_Negative/090.jpg  \n",
            "  inflating: Fundus_Train_Val_Data/Fundus_Scanes_Sorted/Train/Glaucoma_Negative/091.jpg  \n",
            "  inflating: Fundus_Train_Val_Data/Fundus_Scanes_Sorted/Train/Glaucoma_Negative/092.jpg  \n",
            "  inflating: Fundus_Train_Val_Data/Fundus_Scanes_Sorted/Train/Glaucoma_Negative/095.jpg  \n",
            "  inflating: Fundus_Train_Val_Data/Fundus_Scanes_Sorted/Train/Glaucoma_Negative/096.jpg  \n",
            "  inflating: Fundus_Train_Val_Data/Fundus_Scanes_Sorted/Train/Glaucoma_Negative/098.jpg  \n",
            "  inflating: Fundus_Train_Val_Data/Fundus_Scanes_Sorted/Train/Glaucoma_Negative/099.jpg  \n",
            "  inflating: Fundus_Train_Val_Data/Fundus_Scanes_Sorted/Train/Glaucoma_Negative/100.jpg  \n",
            "  inflating: Fundus_Train_Val_Data/Fundus_Scanes_Sorted/Train/Glaucoma_Negative/101.jpg  \n",
            "  inflating: Fundus_Train_Val_Data/Fundus_Scanes_Sorted/Train/Glaucoma_Negative/102.jpg  \n",
            "  inflating: Fundus_Train_Val_Data/Fundus_Scanes_Sorted/Train/Glaucoma_Negative/103.jpg  \n",
            "  inflating: Fundus_Train_Val_Data/Fundus_Scanes_Sorted/Train/Glaucoma_Negative/104.jpg  \n",
            "  inflating: Fundus_Train_Val_Data/Fundus_Scanes_Sorted/Train/Glaucoma_Negative/105.jpg  \n",
            "  inflating: Fundus_Train_Val_Data/Fundus_Scanes_Sorted/Train/Glaucoma_Negative/106.jpg  \n",
            "  inflating: Fundus_Train_Val_Data/Fundus_Scanes_Sorted/Train/Glaucoma_Negative/107.jpg  \n",
            "  inflating: Fundus_Train_Val_Data/Fundus_Scanes_Sorted/Train/Glaucoma_Negative/108.jpg  \n",
            "  inflating: Fundus_Train_Val_Data/Fundus_Scanes_Sorted/Train/Glaucoma_Negative/109.jpg  \n",
            "  inflating: Fundus_Train_Val_Data/Fundus_Scanes_Sorted/Train/Glaucoma_Negative/111.jpg  \n",
            "  inflating: Fundus_Train_Val_Data/Fundus_Scanes_Sorted/Train/Glaucoma_Negative/112.jpg  \n",
            "  inflating: Fundus_Train_Val_Data/Fundus_Scanes_Sorted/Train/Glaucoma_Negative/113.jpg  \n",
            "  inflating: Fundus_Train_Val_Data/Fundus_Scanes_Sorted/Train/Glaucoma_Negative/114.jpg  \n",
            "  inflating: Fundus_Train_Val_Data/Fundus_Scanes_Sorted/Train/Glaucoma_Negative/115.jpg  \n",
            "  inflating: Fundus_Train_Val_Data/Fundus_Scanes_Sorted/Train/Glaucoma_Negative/117.jpg  \n",
            "  inflating: Fundus_Train_Val_Data/Fundus_Scanes_Sorted/Train/Glaucoma_Negative/118.jpg  \n",
            "  inflating: Fundus_Train_Val_Data/Fundus_Scanes_Sorted/Train/Glaucoma_Negative/119.jpg  \n",
            "  inflating: Fundus_Train_Val_Data/Fundus_Scanes_Sorted/Train/Glaucoma_Negative/120.jpg  \n",
            "  inflating: Fundus_Train_Val_Data/Fundus_Scanes_Sorted/Train/Glaucoma_Negative/121.jpg  \n",
            "  inflating: Fundus_Train_Val_Data/Fundus_Scanes_Sorted/Train/Glaucoma_Negative/122.jpg  \n",
            "  inflating: Fundus_Train_Val_Data/Fundus_Scanes_Sorted/Train/Glaucoma_Negative/123.jpg  \n",
            "  inflating: Fundus_Train_Val_Data/Fundus_Scanes_Sorted/Train/Glaucoma_Negative/124.jpg  \n",
            "  inflating: Fundus_Train_Val_Data/Fundus_Scanes_Sorted/Train/Glaucoma_Negative/125.jpg  \n",
            "  inflating: Fundus_Train_Val_Data/Fundus_Scanes_Sorted/Train/Glaucoma_Negative/126.jpg  \n",
            "  inflating: Fundus_Train_Val_Data/Fundus_Scanes_Sorted/Train/Glaucoma_Negative/127.jpg  \n",
            "  inflating: Fundus_Train_Val_Data/Fundus_Scanes_Sorted/Train/Glaucoma_Negative/128.jpg  \n",
            "  inflating: Fundus_Train_Val_Data/Fundus_Scanes_Sorted/Train/Glaucoma_Negative/129.jpg  \n",
            "  inflating: Fundus_Train_Val_Data/Fundus_Scanes_Sorted/Train/Glaucoma_Negative/130.jpg  \n",
            "  inflating: Fundus_Train_Val_Data/Fundus_Scanes_Sorted/Train/Glaucoma_Negative/131.jpg  \n",
            "  inflating: Fundus_Train_Val_Data/Fundus_Scanes_Sorted/Train/Glaucoma_Negative/132.jpg  \n",
            "  inflating: Fundus_Train_Val_Data/Fundus_Scanes_Sorted/Train/Glaucoma_Negative/133.jpg  \n",
            "  inflating: Fundus_Train_Val_Data/Fundus_Scanes_Sorted/Train/Glaucoma_Negative/134.jpg  \n",
            "  inflating: Fundus_Train_Val_Data/Fundus_Scanes_Sorted/Train/Glaucoma_Negative/135.jpg  \n",
            "  inflating: Fundus_Train_Val_Data/Fundus_Scanes_Sorted/Train/Glaucoma_Negative/136.jpg  \n",
            "  inflating: Fundus_Train_Val_Data/Fundus_Scanes_Sorted/Train/Glaucoma_Negative/137.jpg  \n",
            "  inflating: Fundus_Train_Val_Data/Fundus_Scanes_Sorted/Train/Glaucoma_Negative/139.jpg  \n",
            "  inflating: Fundus_Train_Val_Data/Fundus_Scanes_Sorted/Train/Glaucoma_Negative/140.jpg  \n",
            "  inflating: Fundus_Train_Val_Data/Fundus_Scanes_Sorted/Train/Glaucoma_Negative/141.jpg  \n",
            "  inflating: Fundus_Train_Val_Data/Fundus_Scanes_Sorted/Train/Glaucoma_Negative/142.jpg  \n",
            "  inflating: Fundus_Train_Val_Data/Fundus_Scanes_Sorted/Train/Glaucoma_Negative/143.jpg  \n",
            "  inflating: Fundus_Train_Val_Data/Fundus_Scanes_Sorted/Train/Glaucoma_Negative/144.jpg  \n",
            "  inflating: Fundus_Train_Val_Data/Fundus_Scanes_Sorted/Train/Glaucoma_Negative/145.jpg  \n",
            "  inflating: Fundus_Train_Val_Data/Fundus_Scanes_Sorted/Train/Glaucoma_Negative/146.jpg  \n",
            "  inflating: Fundus_Train_Val_Data/Fundus_Scanes_Sorted/Train/Glaucoma_Negative/147.jpg  \n",
            "  inflating: Fundus_Train_Val_Data/Fundus_Scanes_Sorted/Train/Glaucoma_Negative/148.jpg  \n",
            "  inflating: Fundus_Train_Val_Data/Fundus_Scanes_Sorted/Train/Glaucoma_Negative/149.jpg  \n",
            "  inflating: Fundus_Train_Val_Data/Fundus_Scanes_Sorted/Train/Glaucoma_Negative/150.jpg  \n",
            "  inflating: Fundus_Train_Val_Data/Fundus_Scanes_Sorted/Train/Glaucoma_Negative/151.jpg  \n",
            "  inflating: Fundus_Train_Val_Data/Fundus_Scanes_Sorted/Train/Glaucoma_Negative/152.jpg  \n",
            "  inflating: Fundus_Train_Val_Data/Fundus_Scanes_Sorted/Train/Glaucoma_Negative/153.jpg  \n",
            "  inflating: Fundus_Train_Val_Data/Fundus_Scanes_Sorted/Train/Glaucoma_Negative/154.jpg  \n",
            "  inflating: Fundus_Train_Val_Data/Fundus_Scanes_Sorted/Train/Glaucoma_Negative/155.jpg  \n",
            "  inflating: Fundus_Train_Val_Data/Fundus_Scanes_Sorted/Train/Glaucoma_Negative/156.jpg  \n",
            "  inflating: Fundus_Train_Val_Data/Fundus_Scanes_Sorted/Train/Glaucoma_Negative/157.jpg  \n",
            "  inflating: Fundus_Train_Val_Data/Fundus_Scanes_Sorted/Train/Glaucoma_Negative/161.jpg  \n",
            "  inflating: Fundus_Train_Val_Data/Fundus_Scanes_Sorted/Train/Glaucoma_Negative/162.jpg  \n",
            "  inflating: Fundus_Train_Val_Data/Fundus_Scanes_Sorted/Train/Glaucoma_Negative/163.jpg  \n",
            "  inflating: Fundus_Train_Val_Data/Fundus_Scanes_Sorted/Train/Glaucoma_Negative/164.jpg  \n",
            "  inflating: Fundus_Train_Val_Data/Fundus_Scanes_Sorted/Train/Glaucoma_Negative/166.jpg  \n",
            "  inflating: Fundus_Train_Val_Data/Fundus_Scanes_Sorted/Train/Glaucoma_Negative/167.jpg  \n",
            "  inflating: Fundus_Train_Val_Data/Fundus_Scanes_Sorted/Train/Glaucoma_Negative/169.jpg  \n",
            "  inflating: Fundus_Train_Val_Data/Fundus_Scanes_Sorted/Train/Glaucoma_Negative/170.jpg  \n",
            "  inflating: Fundus_Train_Val_Data/Fundus_Scanes_Sorted/Train/Glaucoma_Negative/172.jpg  \n",
            "  inflating: Fundus_Train_Val_Data/Fundus_Scanes_Sorted/Train/Glaucoma_Negative/173.jpg  \n",
            "  inflating: Fundus_Train_Val_Data/Fundus_Scanes_Sorted/Train/Glaucoma_Negative/174.jpg  \n",
            "  inflating: Fundus_Train_Val_Data/Fundus_Scanes_Sorted/Train/Glaucoma_Negative/175.jpg  \n",
            "  inflating: Fundus_Train_Val_Data/Fundus_Scanes_Sorted/Train/Glaucoma_Negative/176.jpg  \n",
            "  inflating: Fundus_Train_Val_Data/Fundus_Scanes_Sorted/Train/Glaucoma_Negative/177.jpg  \n",
            "  inflating: Fundus_Train_Val_Data/Fundus_Scanes_Sorted/Train/Glaucoma_Negative/178.jpg  \n",
            "  inflating: Fundus_Train_Val_Data/Fundus_Scanes_Sorted/Train/Glaucoma_Negative/179.jpg  \n",
            "  inflating: Fundus_Train_Val_Data/Fundus_Scanes_Sorted/Train/Glaucoma_Negative/183.jpg  \n",
            "  inflating: Fundus_Train_Val_Data/Fundus_Scanes_Sorted/Train/Glaucoma_Negative/184.jpg  \n",
            "  inflating: Fundus_Train_Val_Data/Fundus_Scanes_Sorted/Train/Glaucoma_Negative/185.jpg  \n",
            "  inflating: Fundus_Train_Val_Data/Fundus_Scanes_Sorted/Train/Glaucoma_Negative/186.jpg  \n",
            "  inflating: Fundus_Train_Val_Data/Fundus_Scanes_Sorted/Train/Glaucoma_Negative/187.jpg  \n",
            "  inflating: Fundus_Train_Val_Data/Fundus_Scanes_Sorted/Train/Glaucoma_Negative/188.jpg  \n",
            "  inflating: Fundus_Train_Val_Data/Fundus_Scanes_Sorted/Train/Glaucoma_Negative/189.jpg  \n",
            "  inflating: Fundus_Train_Val_Data/Fundus_Scanes_Sorted/Train/Glaucoma_Negative/190.jpg  \n",
            "  inflating: Fundus_Train_Val_Data/Fundus_Scanes_Sorted/Train/Glaucoma_Negative/191.jpg  \n",
            "  inflating: Fundus_Train_Val_Data/Fundus_Scanes_Sorted/Train/Glaucoma_Negative/192.jpg  \n",
            "  inflating: Fundus_Train_Val_Data/Fundus_Scanes_Sorted/Train/Glaucoma_Negative/193.jpg  \n",
            "  inflating: Fundus_Train_Val_Data/Fundus_Scanes_Sorted/Train/Glaucoma_Negative/194.jpg  \n",
            "  inflating: Fundus_Train_Val_Data/Fundus_Scanes_Sorted/Train/Glaucoma_Negative/195.jpg  \n",
            "  inflating: Fundus_Train_Val_Data/Fundus_Scanes_Sorted/Train/Glaucoma_Negative/196.jpg  \n",
            "  inflating: Fundus_Train_Val_Data/Fundus_Scanes_Sorted/Train/Glaucoma_Negative/197.jpg  \n",
            "  inflating: Fundus_Train_Val_Data/Fundus_Scanes_Sorted/Train/Glaucoma_Negative/198.jpg  \n",
            "  inflating: Fundus_Train_Val_Data/Fundus_Scanes_Sorted/Train/Glaucoma_Negative/199.jpg  \n",
            "  inflating: Fundus_Train_Val_Data/Fundus_Scanes_Sorted/Train/Glaucoma_Negative/200.jpg  \n",
            "  inflating: Fundus_Train_Val_Data/Fundus_Scanes_Sorted/Train/Glaucoma_Negative/201.jpg  \n",
            "  inflating: Fundus_Train_Val_Data/Fundus_Scanes_Sorted/Train/Glaucoma_Negative/202.jpg  \n",
            "  inflating: Fundus_Train_Val_Data/Fundus_Scanes_Sorted/Train/Glaucoma_Negative/203.jpg  \n",
            "  inflating: Fundus_Train_Val_Data/Fundus_Scanes_Sorted/Train/Glaucoma_Negative/204.jpg  \n",
            "  inflating: Fundus_Train_Val_Data/Fundus_Scanes_Sorted/Train/Glaucoma_Negative/205.jpg  \n",
            "  inflating: Fundus_Train_Val_Data/Fundus_Scanes_Sorted/Train/Glaucoma_Negative/206.jpg  \n",
            "  inflating: Fundus_Train_Val_Data/Fundus_Scanes_Sorted/Train/Glaucoma_Negative/207.jpg  \n",
            "  inflating: Fundus_Train_Val_Data/Fundus_Scanes_Sorted/Train/Glaucoma_Negative/209.jpg  \n",
            "  inflating: Fundus_Train_Val_Data/Fundus_Scanes_Sorted/Train/Glaucoma_Negative/210.jpg  \n",
            "  inflating: Fundus_Train_Val_Data/Fundus_Scanes_Sorted/Train/Glaucoma_Negative/211.jpg  \n",
            "  inflating: Fundus_Train_Val_Data/Fundus_Scanes_Sorted/Train/Glaucoma_Negative/212.jpg  \n",
            "  inflating: Fundus_Train_Val_Data/Fundus_Scanes_Sorted/Train/Glaucoma_Negative/214.jpg  \n",
            "  inflating: Fundus_Train_Val_Data/Fundus_Scanes_Sorted/Train/Glaucoma_Negative/215.jpg  \n",
            "  inflating: Fundus_Train_Val_Data/Fundus_Scanes_Sorted/Train/Glaucoma_Negative/216.jpg  \n",
            "  inflating: Fundus_Train_Val_Data/Fundus_Scanes_Sorted/Train/Glaucoma_Negative/217.jpg  \n",
            "  inflating: Fundus_Train_Val_Data/Fundus_Scanes_Sorted/Train/Glaucoma_Negative/218.jpg  \n",
            "  inflating: Fundus_Train_Val_Data/Fundus_Scanes_Sorted/Train/Glaucoma_Negative/219.jpg  \n",
            "  inflating: Fundus_Train_Val_Data/Fundus_Scanes_Sorted/Train/Glaucoma_Negative/220.jpg  \n",
            "  inflating: Fundus_Train_Val_Data/Fundus_Scanes_Sorted/Train/Glaucoma_Negative/221.jpg  \n",
            "  inflating: Fundus_Train_Val_Data/Fundus_Scanes_Sorted/Train/Glaucoma_Negative/222.jpg  \n",
            "  inflating: Fundus_Train_Val_Data/Fundus_Scanes_Sorted/Train/Glaucoma_Negative/223.jpg  \n",
            "  inflating: Fundus_Train_Val_Data/Fundus_Scanes_Sorted/Train/Glaucoma_Negative/224.jpg  \n",
            "  inflating: Fundus_Train_Val_Data/Fundus_Scanes_Sorted/Train/Glaucoma_Negative/226.jpg  \n",
            "  inflating: Fundus_Train_Val_Data/Fundus_Scanes_Sorted/Train/Glaucoma_Negative/227.jpg  \n",
            "  inflating: Fundus_Train_Val_Data/Fundus_Scanes_Sorted/Train/Glaucoma_Negative/230.jpg  \n",
            "  inflating: Fundus_Train_Val_Data/Fundus_Scanes_Sorted/Train/Glaucoma_Negative/231.jpg  \n",
            "  inflating: Fundus_Train_Val_Data/Fundus_Scanes_Sorted/Train/Glaucoma_Negative/232.jpg  \n",
            "  inflating: Fundus_Train_Val_Data/Fundus_Scanes_Sorted/Train/Glaucoma_Negative/234.jpg  \n",
            "  inflating: Fundus_Train_Val_Data/Fundus_Scanes_Sorted/Train/Glaucoma_Negative/235.jpg  \n",
            "  inflating: Fundus_Train_Val_Data/Fundus_Scanes_Sorted/Train/Glaucoma_Negative/236.jpg  \n",
            "  inflating: Fundus_Train_Val_Data/Fundus_Scanes_Sorted/Train/Glaucoma_Negative/237.jpg  \n",
            "  inflating: Fundus_Train_Val_Data/Fundus_Scanes_Sorted/Train/Glaucoma_Negative/238.jpg  \n",
            "  inflating: Fundus_Train_Val_Data/Fundus_Scanes_Sorted/Train/Glaucoma_Negative/239.jpg  \n",
            "  inflating: Fundus_Train_Val_Data/Fundus_Scanes_Sorted/Train/Glaucoma_Negative/242.jpg  \n",
            "  inflating: Fundus_Train_Val_Data/Fundus_Scanes_Sorted/Train/Glaucoma_Negative/243.jpg  \n",
            "  inflating: Fundus_Train_Val_Data/Fundus_Scanes_Sorted/Train/Glaucoma_Negative/244.jpg  \n",
            "  inflating: Fundus_Train_Val_Data/Fundus_Scanes_Sorted/Train/Glaucoma_Negative/248.jpg  \n",
            "  inflating: Fundus_Train_Val_Data/Fundus_Scanes_Sorted/Train/Glaucoma_Negative/249.jpg  \n",
            "  inflating: Fundus_Train_Val_Data/Fundus_Scanes_Sorted/Train/Glaucoma_Negative/250.jpg  \n",
            "  inflating: Fundus_Train_Val_Data/Fundus_Scanes_Sorted/Train/Glaucoma_Negative/251.jpg  \n",
            "  inflating: Fundus_Train_Val_Data/Fundus_Scanes_Sorted/Train/Glaucoma_Negative/252.jpg  \n",
            "  inflating: Fundus_Train_Val_Data/Fundus_Scanes_Sorted/Train/Glaucoma_Negative/253.jpg  \n",
            "  inflating: Fundus_Train_Val_Data/Fundus_Scanes_Sorted/Train/Glaucoma_Negative/254.jpg  \n",
            "  inflating: Fundus_Train_Val_Data/Fundus_Scanes_Sorted/Train/Glaucoma_Negative/255.jpg  \n",
            "  inflating: Fundus_Train_Val_Data/Fundus_Scanes_Sorted/Train/Glaucoma_Negative/256.jpg  \n",
            "  inflating: Fundus_Train_Val_Data/Fundus_Scanes_Sorted/Train/Glaucoma_Negative/257.jpg  \n",
            "  inflating: Fundus_Train_Val_Data/Fundus_Scanes_Sorted/Train/Glaucoma_Negative/258.jpg  \n",
            "  inflating: Fundus_Train_Val_Data/Fundus_Scanes_Sorted/Train/Glaucoma_Negative/259.jpg  \n",
            "  inflating: Fundus_Train_Val_Data/Fundus_Scanes_Sorted/Train/Glaucoma_Negative/260.jpg  \n",
            "  inflating: Fundus_Train_Val_Data/Fundus_Scanes_Sorted/Train/Glaucoma_Negative/261.jpg  \n",
            "  inflating: Fundus_Train_Val_Data/Fundus_Scanes_Sorted/Train/Glaucoma_Negative/262.jpg  \n",
            "  inflating: Fundus_Train_Val_Data/Fundus_Scanes_Sorted/Train/Glaucoma_Negative/263.jpg  \n",
            "  inflating: Fundus_Train_Val_Data/Fundus_Scanes_Sorted/Train/Glaucoma_Negative/264.jpg  \n",
            "  inflating: Fundus_Train_Val_Data/Fundus_Scanes_Sorted/Train/Glaucoma_Negative/265.jpg  \n",
            "  inflating: Fundus_Train_Val_Data/Fundus_Scanes_Sorted/Train/Glaucoma_Negative/266.jpg  \n",
            "  inflating: Fundus_Train_Val_Data/Fundus_Scanes_Sorted/Train/Glaucoma_Negative/267.jpg  \n",
            "  inflating: Fundus_Train_Val_Data/Fundus_Scanes_Sorted/Train/Glaucoma_Negative/268.jpg  \n",
            "  inflating: Fundus_Train_Val_Data/Fundus_Scanes_Sorted/Train/Glaucoma_Negative/271.jpg  \n",
            "  inflating: Fundus_Train_Val_Data/Fundus_Scanes_Sorted/Train/Glaucoma_Negative/272.jpg  \n",
            "  inflating: Fundus_Train_Val_Data/Fundus_Scanes_Sorted/Train/Glaucoma_Negative/274.jpg  \n",
            "  inflating: Fundus_Train_Val_Data/Fundus_Scanes_Sorted/Train/Glaucoma_Negative/275.jpg  \n",
            "  inflating: Fundus_Train_Val_Data/Fundus_Scanes_Sorted/Train/Glaucoma_Negative/276.jpg  \n",
            "  inflating: Fundus_Train_Val_Data/Fundus_Scanes_Sorted/Train/Glaucoma_Negative/279.jpg  \n",
            "  inflating: Fundus_Train_Val_Data/Fundus_Scanes_Sorted/Train/Glaucoma_Negative/280.jpg  \n",
            "  inflating: Fundus_Train_Val_Data/Fundus_Scanes_Sorted/Train/Glaucoma_Negative/281.jpg  \n",
            "  inflating: Fundus_Train_Val_Data/Fundus_Scanes_Sorted/Train/Glaucoma_Negative/282.jpg  \n",
            "  inflating: Fundus_Train_Val_Data/Fundus_Scanes_Sorted/Train/Glaucoma_Negative/287.jpg  \n",
            "  inflating: Fundus_Train_Val_Data/Fundus_Scanes_Sorted/Train/Glaucoma_Negative/288.jpg  \n",
            "  inflating: Fundus_Train_Val_Data/Fundus_Scanes_Sorted/Train/Glaucoma_Negative/290.jpg  \n",
            "  inflating: Fundus_Train_Val_Data/Fundus_Scanes_Sorted/Train/Glaucoma_Negative/291.jpg  \n",
            "  inflating: Fundus_Train_Val_Data/Fundus_Scanes_Sorted/Train/Glaucoma_Negative/292.jpg  \n",
            "  inflating: Fundus_Train_Val_Data/Fundus_Scanes_Sorted/Train/Glaucoma_Negative/295.jpg  \n",
            "  inflating: Fundus_Train_Val_Data/Fundus_Scanes_Sorted/Train/Glaucoma_Negative/296.jpg  \n",
            "  inflating: Fundus_Train_Val_Data/Fundus_Scanes_Sorted/Train/Glaucoma_Negative/297.jpg  \n",
            "  inflating: Fundus_Train_Val_Data/Fundus_Scanes_Sorted/Train/Glaucoma_Negative/298.jpg  \n",
            "  inflating: Fundus_Train_Val_Data/Fundus_Scanes_Sorted/Train/Glaucoma_Negative/299.jpg  \n",
            "  inflating: Fundus_Train_Val_Data/Fundus_Scanes_Sorted/Train/Glaucoma_Negative/302.jpg  \n",
            "  inflating: Fundus_Train_Val_Data/Fundus_Scanes_Sorted/Train/Glaucoma_Negative/303.jpg  \n",
            "  inflating: Fundus_Train_Val_Data/Fundus_Scanes_Sorted/Train/Glaucoma_Negative/307.jpg  \n",
            "  inflating: Fundus_Train_Val_Data/Fundus_Scanes_Sorted/Train/Glaucoma_Negative/308.jpg  \n",
            "  inflating: Fundus_Train_Val_Data/Fundus_Scanes_Sorted/Train/Glaucoma_Negative/309.jpg  \n",
            "  inflating: Fundus_Train_Val_Data/Fundus_Scanes_Sorted/Train/Glaucoma_Negative/310.jpg  \n",
            "  inflating: Fundus_Train_Val_Data/Fundus_Scanes_Sorted/Train/Glaucoma_Negative/311.jpg  \n",
            "  inflating: Fundus_Train_Val_Data/Fundus_Scanes_Sorted/Train/Glaucoma_Negative/313.jpg  \n",
            "  inflating: Fundus_Train_Val_Data/Fundus_Scanes_Sorted/Train/Glaucoma_Negative/314.jpg  \n",
            "  inflating: Fundus_Train_Val_Data/Fundus_Scanes_Sorted/Train/Glaucoma_Negative/315.jpg  \n",
            "  inflating: Fundus_Train_Val_Data/Fundus_Scanes_Sorted/Train/Glaucoma_Negative/316.jpg  \n",
            "  inflating: Fundus_Train_Val_Data/Fundus_Scanes_Sorted/Train/Glaucoma_Negative/318.jpg  \n",
            "  inflating: Fundus_Train_Val_Data/Fundus_Scanes_Sorted/Train/Glaucoma_Negative/319.jpg  \n",
            "  inflating: Fundus_Train_Val_Data/Fundus_Scanes_Sorted/Train/Glaucoma_Negative/320.jpg  \n",
            "  inflating: Fundus_Train_Val_Data/Fundus_Scanes_Sorted/Train/Glaucoma_Negative/321.jpg  \n",
            "  inflating: Fundus_Train_Val_Data/Fundus_Scanes_Sorted/Train/Glaucoma_Negative/323.jpg  \n",
            "  inflating: Fundus_Train_Val_Data/Fundus_Scanes_Sorted/Train/Glaucoma_Negative/324.jpg  \n",
            "  inflating: Fundus_Train_Val_Data/Fundus_Scanes_Sorted/Train/Glaucoma_Negative/325.jpg  \n",
            "  inflating: Fundus_Train_Val_Data/Fundus_Scanes_Sorted/Train/Glaucoma_Negative/326.jpg  \n",
            "  inflating: Fundus_Train_Val_Data/Fundus_Scanes_Sorted/Train/Glaucoma_Negative/328.jpg  \n",
            "  inflating: Fundus_Train_Val_Data/Fundus_Scanes_Sorted/Train/Glaucoma_Negative/329.jpg  \n",
            "  inflating: Fundus_Train_Val_Data/Fundus_Scanes_Sorted/Train/Glaucoma_Negative/331.jpg  \n",
            "  inflating: Fundus_Train_Val_Data/Fundus_Scanes_Sorted/Train/Glaucoma_Negative/332.jpg  \n",
            "  inflating: Fundus_Train_Val_Data/Fundus_Scanes_Sorted/Train/Glaucoma_Negative/333.jpg  \n",
            "  inflating: Fundus_Train_Val_Data/Fundus_Scanes_Sorted/Train/Glaucoma_Negative/334.jpg  \n",
            "  inflating: Fundus_Train_Val_Data/Fundus_Scanes_Sorted/Train/Glaucoma_Negative/335.jpg  \n",
            "  inflating: Fundus_Train_Val_Data/Fundus_Scanes_Sorted/Train/Glaucoma_Negative/338.jpg  \n",
            "  inflating: Fundus_Train_Val_Data/Fundus_Scanes_Sorted/Train/Glaucoma_Negative/339.jpg  \n",
            "  inflating: Fundus_Train_Val_Data/Fundus_Scanes_Sorted/Train/Glaucoma_Negative/341.jpg  \n",
            "  inflating: Fundus_Train_Val_Data/Fundus_Scanes_Sorted/Train/Glaucoma_Negative/342.jpg  \n",
            "  inflating: Fundus_Train_Val_Data/Fundus_Scanes_Sorted/Train/Glaucoma_Negative/343.jpg  \n",
            "  inflating: Fundus_Train_Val_Data/Fundus_Scanes_Sorted/Train/Glaucoma_Negative/344.jpg  \n",
            "  inflating: Fundus_Train_Val_Data/Fundus_Scanes_Sorted/Train/Glaucoma_Negative/346.jpg  \n",
            "  inflating: Fundus_Train_Val_Data/Fundus_Scanes_Sorted/Train/Glaucoma_Negative/347.jpg  \n",
            "  inflating: Fundus_Train_Val_Data/Fundus_Scanes_Sorted/Train/Glaucoma_Negative/350.jpg  \n",
            "  inflating: Fundus_Train_Val_Data/Fundus_Scanes_Sorted/Train/Glaucoma_Negative/351.jpg  \n",
            "  inflating: Fundus_Train_Val_Data/Fundus_Scanes_Sorted/Train/Glaucoma_Negative/352.jpg  \n",
            "  inflating: Fundus_Train_Val_Data/Fundus_Scanes_Sorted/Train/Glaucoma_Negative/355.jpg  \n",
            "  inflating: Fundus_Train_Val_Data/Fundus_Scanes_Sorted/Train/Glaucoma_Negative/356.jpg  \n",
            "  inflating: Fundus_Train_Val_Data/Fundus_Scanes_Sorted/Train/Glaucoma_Negative/357.jpg  \n",
            "  inflating: Fundus_Train_Val_Data/Fundus_Scanes_Sorted/Train/Glaucoma_Negative/358.jpg  \n",
            "  inflating: Fundus_Train_Val_Data/Fundus_Scanes_Sorted/Train/Glaucoma_Negative/360.jpg  \n",
            "  inflating: Fundus_Train_Val_Data/Fundus_Scanes_Sorted/Train/Glaucoma_Negative/361.jpg  \n",
            "  inflating: Fundus_Train_Val_Data/Fundus_Scanes_Sorted/Train/Glaucoma_Negative/363.jpg  \n",
            "  inflating: Fundus_Train_Val_Data/Fundus_Scanes_Sorted/Train/Glaucoma_Negative/364.jpg  \n",
            "  inflating: Fundus_Train_Val_Data/Fundus_Scanes_Sorted/Train/Glaucoma_Negative/365.jpg  \n",
            "  inflating: Fundus_Train_Val_Data/Fundus_Scanes_Sorted/Train/Glaucoma_Negative/367.jpg  \n",
            "  inflating: Fundus_Train_Val_Data/Fundus_Scanes_Sorted/Train/Glaucoma_Negative/368.jpg  \n",
            "  inflating: Fundus_Train_Val_Data/Fundus_Scanes_Sorted/Train/Glaucoma_Negative/369.jpg  \n",
            "  inflating: Fundus_Train_Val_Data/Fundus_Scanes_Sorted/Train/Glaucoma_Negative/370.jpg  \n",
            "  inflating: Fundus_Train_Val_Data/Fundus_Scanes_Sorted/Train/Glaucoma_Negative/371.jpg  \n",
            "  inflating: Fundus_Train_Val_Data/Fundus_Scanes_Sorted/Train/Glaucoma_Negative/372.jpg  \n",
            "  inflating: Fundus_Train_Val_Data/Fundus_Scanes_Sorted/Train/Glaucoma_Negative/373.jpg  \n",
            "  inflating: Fundus_Train_Val_Data/Fundus_Scanes_Sorted/Train/Glaucoma_Negative/374.jpg  \n",
            "  inflating: Fundus_Train_Val_Data/Fundus_Scanes_Sorted/Train/Glaucoma_Negative/375.jpg  \n",
            "  inflating: Fundus_Train_Val_Data/Fundus_Scanes_Sorted/Train/Glaucoma_Negative/376.jpg  \n",
            "  inflating: Fundus_Train_Val_Data/Fundus_Scanes_Sorted/Train/Glaucoma_Negative/378.jpg  \n",
            "  inflating: Fundus_Train_Val_Data/Fundus_Scanes_Sorted/Train/Glaucoma_Negative/379.jpg  \n",
            "  inflating: Fundus_Train_Val_Data/Fundus_Scanes_Sorted/Train/Glaucoma_Negative/380.jpg  \n",
            "  inflating: Fundus_Train_Val_Data/Fundus_Scanes_Sorted/Train/Glaucoma_Negative/384.jpg  \n",
            "  inflating: Fundus_Train_Val_Data/Fundus_Scanes_Sorted/Train/Glaucoma_Negative/387.jpg  \n",
            "  inflating: Fundus_Train_Val_Data/Fundus_Scanes_Sorted/Train/Glaucoma_Negative/388.jpg  \n",
            "  inflating: Fundus_Train_Val_Data/Fundus_Scanes_Sorted/Train/Glaucoma_Negative/391.jpg  \n",
            "  inflating: Fundus_Train_Val_Data/Fundus_Scanes_Sorted/Train/Glaucoma_Negative/392.jpg  \n",
            "  inflating: Fundus_Train_Val_Data/Fundus_Scanes_Sorted/Train/Glaucoma_Negative/393.jpg  \n",
            "  inflating: Fundus_Train_Val_Data/Fundus_Scanes_Sorted/Train/Glaucoma_Negative/394.jpg  \n",
            "  inflating: Fundus_Train_Val_Data/Fundus_Scanes_Sorted/Train/Glaucoma_Negative/396.jpg  \n",
            "  inflating: Fundus_Train_Val_Data/Fundus_Scanes_Sorted/Train/Glaucoma_Negative/397.jpg  \n",
            "  inflating: Fundus_Train_Val_Data/Fundus_Scanes_Sorted/Train/Glaucoma_Negative/399.jpg  \n",
            "  inflating: Fundus_Train_Val_Data/Fundus_Scanes_Sorted/Train/Glaucoma_Negative/400.jpg  \n",
            "  inflating: Fundus_Train_Val_Data/Fundus_Scanes_Sorted/Train/Glaucoma_Negative/401.jpg  \n",
            "  inflating: Fundus_Train_Val_Data/Fundus_Scanes_Sorted/Train/Glaucoma_Negative/403.jpg  \n",
            "  inflating: Fundus_Train_Val_Data/Fundus_Scanes_Sorted/Train/Glaucoma_Negative/404.jpg  \n",
            "  inflating: Fundus_Train_Val_Data/Fundus_Scanes_Sorted/Train/Glaucoma_Negative/405.jpg  \n",
            "  inflating: Fundus_Train_Val_Data/Fundus_Scanes_Sorted/Train/Glaucoma_Negative/406.jpg  \n",
            "  inflating: Fundus_Train_Val_Data/Fundus_Scanes_Sorted/Train/Glaucoma_Negative/408.jpg  \n",
            "  inflating: Fundus_Train_Val_Data/Fundus_Scanes_Sorted/Train/Glaucoma_Negative/409.jpg  \n",
            "  inflating: Fundus_Train_Val_Data/Fundus_Scanes_Sorted/Train/Glaucoma_Negative/410.jpg  \n",
            "  inflating: Fundus_Train_Val_Data/Fundus_Scanes_Sorted/Train/Glaucoma_Negative/411.jpg  \n",
            "  inflating: Fundus_Train_Val_Data/Fundus_Scanes_Sorted/Train/Glaucoma_Negative/412.jpg  \n",
            "  inflating: Fundus_Train_Val_Data/Fundus_Scanes_Sorted/Train/Glaucoma_Negative/413.jpg  \n",
            "  inflating: Fundus_Train_Val_Data/Fundus_Scanes_Sorted/Train/Glaucoma_Negative/414.jpg  \n",
            "  inflating: Fundus_Train_Val_Data/Fundus_Scanes_Sorted/Train/Glaucoma_Negative/415.jpg  \n",
            "  inflating: Fundus_Train_Val_Data/Fundus_Scanes_Sorted/Train/Glaucoma_Negative/416.jpg  \n",
            "  inflating: Fundus_Train_Val_Data/Fundus_Scanes_Sorted/Train/Glaucoma_Negative/417.jpg  \n",
            "  inflating: Fundus_Train_Val_Data/Fundus_Scanes_Sorted/Train/Glaucoma_Negative/418.jpg  \n",
            "  inflating: Fundus_Train_Val_Data/Fundus_Scanes_Sorted/Train/Glaucoma_Negative/420.jpg  \n",
            "  inflating: Fundus_Train_Val_Data/Fundus_Scanes_Sorted/Train/Glaucoma_Negative/421.jpg  \n",
            "  inflating: Fundus_Train_Val_Data/Fundus_Scanes_Sorted/Train/Glaucoma_Negative/422.jpg  \n",
            "  inflating: Fundus_Train_Val_Data/Fundus_Scanes_Sorted/Train/Glaucoma_Negative/423.jpg  \n",
            "  inflating: Fundus_Train_Val_Data/Fundus_Scanes_Sorted/Train/Glaucoma_Negative/425.jpg  \n",
            "  inflating: Fundus_Train_Val_Data/Fundus_Scanes_Sorted/Train/Glaucoma_Negative/427.jpg  \n",
            "  inflating: Fundus_Train_Val_Data/Fundus_Scanes_Sorted/Train/Glaucoma_Negative/428.jpg  \n",
            "  inflating: Fundus_Train_Val_Data/Fundus_Scanes_Sorted/Train/Glaucoma_Negative/430.jpg  \n",
            "  inflating: Fundus_Train_Val_Data/Fundus_Scanes_Sorted/Train/Glaucoma_Negative/431.jpg  \n",
            "  inflating: Fundus_Train_Val_Data/Fundus_Scanes_Sorted/Train/Glaucoma_Negative/434.jpg  \n",
            "  inflating: Fundus_Train_Val_Data/Fundus_Scanes_Sorted/Train/Glaucoma_Negative/435.jpg  \n",
            "  inflating: Fundus_Train_Val_Data/Fundus_Scanes_Sorted/Train/Glaucoma_Negative/436.jpg  \n",
            "  inflating: Fundus_Train_Val_Data/Fundus_Scanes_Sorted/Train/Glaucoma_Negative/437.jpg  \n",
            "  inflating: Fundus_Train_Val_Data/Fundus_Scanes_Sorted/Train/Glaucoma_Negative/438.jpg  \n",
            "  inflating: Fundus_Train_Val_Data/Fundus_Scanes_Sorted/Train/Glaucoma_Negative/443.jpg  \n",
            "  inflating: Fundus_Train_Val_Data/Fundus_Scanes_Sorted/Train/Glaucoma_Negative/444.jpg  \n",
            "  inflating: Fundus_Train_Val_Data/Fundus_Scanes_Sorted/Train/Glaucoma_Negative/445.jpg  \n",
            "  inflating: Fundus_Train_Val_Data/Fundus_Scanes_Sorted/Train/Glaucoma_Negative/446.jpg  \n",
            "  inflating: Fundus_Train_Val_Data/Fundus_Scanes_Sorted/Train/Glaucoma_Negative/447.jpg  \n",
            "  inflating: Fundus_Train_Val_Data/Fundus_Scanes_Sorted/Train/Glaucoma_Negative/448.jpg  \n",
            "  inflating: Fundus_Train_Val_Data/Fundus_Scanes_Sorted/Train/Glaucoma_Negative/449.jpg  \n",
            "  inflating: Fundus_Train_Val_Data/Fundus_Scanes_Sorted/Train/Glaucoma_Negative/450.jpg  \n",
            "  inflating: Fundus_Train_Val_Data/Fundus_Scanes_Sorted/Train/Glaucoma_Negative/451.jpg  \n",
            "  inflating: Fundus_Train_Val_Data/Fundus_Scanes_Sorted/Train/Glaucoma_Negative/452.jpg  \n",
            "  inflating: Fundus_Train_Val_Data/Fundus_Scanes_Sorted/Train/Glaucoma_Negative/453.jpg  \n",
            "  inflating: Fundus_Train_Val_Data/Fundus_Scanes_Sorted/Train/Glaucoma_Negative/454.jpg  \n",
            "  inflating: Fundus_Train_Val_Data/Fundus_Scanes_Sorted/Train/Glaucoma_Negative/455.jpg  \n",
            "  inflating: Fundus_Train_Val_Data/Fundus_Scanes_Sorted/Train/Glaucoma_Negative/456.jpg  \n",
            "  inflating: Fundus_Train_Val_Data/Fundus_Scanes_Sorted/Train/Glaucoma_Negative/459.jpg  \n",
            "  inflating: Fundus_Train_Val_Data/Fundus_Scanes_Sorted/Train/Glaucoma_Negative/460.jpg  \n",
            "  inflating: Fundus_Train_Val_Data/Fundus_Scanes_Sorted/Train/Glaucoma_Negative/461.jpg  \n",
            "  inflating: Fundus_Train_Val_Data/Fundus_Scanes_Sorted/Train/Glaucoma_Negative/462.jpg  \n",
            "  inflating: Fundus_Train_Val_Data/Fundus_Scanes_Sorted/Train/Glaucoma_Negative/463.jpg  \n",
            "  inflating: Fundus_Train_Val_Data/Fundus_Scanes_Sorted/Train/Glaucoma_Negative/464.jpg  \n",
            "  inflating: Fundus_Train_Val_Data/Fundus_Scanes_Sorted/Train/Glaucoma_Negative/466.jpg  \n",
            "  inflating: Fundus_Train_Val_Data/Fundus_Scanes_Sorted/Train/Glaucoma_Negative/467.jpg  \n",
            "  inflating: Fundus_Train_Val_Data/Fundus_Scanes_Sorted/Train/Glaucoma_Negative/469.jpg  \n",
            "  inflating: Fundus_Train_Val_Data/Fundus_Scanes_Sorted/Train/Glaucoma_Negative/470.jpg  \n",
            "  inflating: Fundus_Train_Val_Data/Fundus_Scanes_Sorted/Train/Glaucoma_Negative/471.jpg  \n",
            "  inflating: Fundus_Train_Val_Data/Fundus_Scanes_Sorted/Train/Glaucoma_Negative/472.jpg  \n",
            "  inflating: Fundus_Train_Val_Data/Fundus_Scanes_Sorted/Train/Glaucoma_Negative/473.jpg  \n",
            "  inflating: Fundus_Train_Val_Data/Fundus_Scanes_Sorted/Train/Glaucoma_Negative/475.jpg  \n",
            "  inflating: Fundus_Train_Val_Data/Fundus_Scanes_Sorted/Train/Glaucoma_Negative/476.jpg  \n",
            "  inflating: Fundus_Train_Val_Data/Fundus_Scanes_Sorted/Train/Glaucoma_Negative/477.jpg  \n",
            "  inflating: Fundus_Train_Val_Data/Fundus_Scanes_Sorted/Train/Glaucoma_Negative/478.jpg  \n",
            "  inflating: Fundus_Train_Val_Data/Fundus_Scanes_Sorted/Train/Glaucoma_Negative/479.jpg  \n",
            "  inflating: Fundus_Train_Val_Data/Fundus_Scanes_Sorted/Train/Glaucoma_Negative/481.jpg  \n",
            "  inflating: Fundus_Train_Val_Data/Fundus_Scanes_Sorted/Train/Glaucoma_Negative/482.jpg  \n",
            "  inflating: Fundus_Train_Val_Data/Fundus_Scanes_Sorted/Train/Glaucoma_Positive/036.jpg  \n",
            "  inflating: Fundus_Train_Val_Data/Fundus_Scanes_Sorted/Train/Glaucoma_Positive/037.jpg  \n",
            "  inflating: Fundus_Train_Val_Data/Fundus_Scanes_Sorted/Train/Glaucoma_Positive/041.jpg  \n",
            "  inflating: Fundus_Train_Val_Data/Fundus_Scanes_Sorted/Train/Glaucoma_Positive/050.jpg  \n",
            "  inflating: Fundus_Train_Val_Data/Fundus_Scanes_Sorted/Train/Glaucoma_Positive/069.jpg  \n",
            "  inflating: Fundus_Train_Val_Data/Fundus_Scanes_Sorted/Train/Glaucoma_Positive/072.jpg  \n",
            "  inflating: Fundus_Train_Val_Data/Fundus_Scanes_Sorted/Train/Glaucoma_Positive/076.jpg  \n",
            "  inflating: Fundus_Train_Val_Data/Fundus_Scanes_Sorted/Train/Glaucoma_Positive/086.jpg  \n",
            "  inflating: Fundus_Train_Val_Data/Fundus_Scanes_Sorted/Train/Glaucoma_Positive/087.jpg  \n",
            "  inflating: Fundus_Train_Val_Data/Fundus_Scanes_Sorted/Train/Glaucoma_Positive/093.jpg  \n",
            "  inflating: Fundus_Train_Val_Data/Fundus_Scanes_Sorted/Train/Glaucoma_Positive/094.jpg  \n",
            "  inflating: Fundus_Train_Val_Data/Fundus_Scanes_Sorted/Train/Glaucoma_Positive/097.jpg  \n",
            "  inflating: Fundus_Train_Val_Data/Fundus_Scanes_Sorted/Train/Glaucoma_Positive/110.jpg  \n",
            "  inflating: Fundus_Train_Val_Data/Fundus_Scanes_Sorted/Train/Glaucoma_Positive/116.jpg  \n",
            "  inflating: Fundus_Train_Val_Data/Fundus_Scanes_Sorted/Train/Glaucoma_Positive/138.jpg  \n",
            "  inflating: Fundus_Train_Val_Data/Fundus_Scanes_Sorted/Train/Glaucoma_Positive/158.jpg  \n",
            "  inflating: Fundus_Train_Val_Data/Fundus_Scanes_Sorted/Train/Glaucoma_Positive/159.jpg  \n",
            "  inflating: Fundus_Train_Val_Data/Fundus_Scanes_Sorted/Train/Glaucoma_Positive/160.jpg  \n",
            "  inflating: Fundus_Train_Val_Data/Fundus_Scanes_Sorted/Train/Glaucoma_Positive/165.jpg  \n",
            "  inflating: Fundus_Train_Val_Data/Fundus_Scanes_Sorted/Train/Glaucoma_Positive/168.jpg  \n",
            "  inflating: Fundus_Train_Val_Data/Fundus_Scanes_Sorted/Train/Glaucoma_Positive/171.jpg  \n",
            "  inflating: Fundus_Train_Val_Data/Fundus_Scanes_Sorted/Train/Glaucoma_Positive/180.jpg  \n",
            "  inflating: Fundus_Train_Val_Data/Fundus_Scanes_Sorted/Train/Glaucoma_Positive/181.jpg  \n",
            "  inflating: Fundus_Train_Val_Data/Fundus_Scanes_Sorted/Train/Glaucoma_Positive/182.jpg  \n",
            "  inflating: Fundus_Train_Val_Data/Fundus_Scanes_Sorted/Train/Glaucoma_Positive/208.jpg  \n",
            "  inflating: Fundus_Train_Val_Data/Fundus_Scanes_Sorted/Train/Glaucoma_Positive/213.jpg  \n",
            "  inflating: Fundus_Train_Val_Data/Fundus_Scanes_Sorted/Train/Glaucoma_Positive/225.jpg  \n",
            "  inflating: Fundus_Train_Val_Data/Fundus_Scanes_Sorted/Train/Glaucoma_Positive/228.jpg  \n",
            "  inflating: Fundus_Train_Val_Data/Fundus_Scanes_Sorted/Train/Glaucoma_Positive/229.jpg  \n",
            "  inflating: Fundus_Train_Val_Data/Fundus_Scanes_Sorted/Train/Glaucoma_Positive/233.jpg  \n",
            "  inflating: Fundus_Train_Val_Data/Fundus_Scanes_Sorted/Train/Glaucoma_Positive/240.jpg  \n",
            "  inflating: Fundus_Train_Val_Data/Fundus_Scanes_Sorted/Train/Glaucoma_Positive/241.jpg  \n",
            "  inflating: Fundus_Train_Val_Data/Fundus_Scanes_Sorted/Train/Glaucoma_Positive/245.jpg  \n",
            "  inflating: Fundus_Train_Val_Data/Fundus_Scanes_Sorted/Train/Glaucoma_Positive/246.jpg  \n",
            "  inflating: Fundus_Train_Val_Data/Fundus_Scanes_Sorted/Train/Glaucoma_Positive/247.jpg  \n",
            "  inflating: Fundus_Train_Val_Data/Fundus_Scanes_Sorted/Train/Glaucoma_Positive/269.jpg  \n",
            "  inflating: Fundus_Train_Val_Data/Fundus_Scanes_Sorted/Train/Glaucoma_Positive/270.jpg  \n",
            "  inflating: Fundus_Train_Val_Data/Fundus_Scanes_Sorted/Train/Glaucoma_Positive/273.jpg  \n",
            "  inflating: Fundus_Train_Val_Data/Fundus_Scanes_Sorted/Train/Glaucoma_Positive/277.jpg  \n",
            "  inflating: Fundus_Train_Val_Data/Fundus_Scanes_Sorted/Train/Glaucoma_Positive/278.jpg  \n",
            "  inflating: Fundus_Train_Val_Data/Fundus_Scanes_Sorted/Train/Glaucoma_Positive/283.jpg  \n",
            "  inflating: Fundus_Train_Val_Data/Fundus_Scanes_Sorted/Train/Glaucoma_Positive/284.jpg  \n",
            "  inflating: Fundus_Train_Val_Data/Fundus_Scanes_Sorted/Train/Glaucoma_Positive/285.jpg  \n",
            "  inflating: Fundus_Train_Val_Data/Fundus_Scanes_Sorted/Train/Glaucoma_Positive/286.jpg  \n",
            "  inflating: Fundus_Train_Val_Data/Fundus_Scanes_Sorted/Train/Glaucoma_Positive/289.jpg  \n",
            "  inflating: Fundus_Train_Val_Data/Fundus_Scanes_Sorted/Train/Glaucoma_Positive/293.jpg  \n",
            "  inflating: Fundus_Train_Val_Data/Fundus_Scanes_Sorted/Train/Glaucoma_Positive/294.jpg  \n",
            "  inflating: Fundus_Train_Val_Data/Fundus_Scanes_Sorted/Train/Glaucoma_Positive/300.jpg  \n",
            "  inflating: Fundus_Train_Val_Data/Fundus_Scanes_Sorted/Train/Glaucoma_Positive/301.jpg  \n",
            "  inflating: Fundus_Train_Val_Data/Fundus_Scanes_Sorted/Train/Glaucoma_Positive/304.jpg  \n",
            "  inflating: Fundus_Train_Val_Data/Fundus_Scanes_Sorted/Train/Glaucoma_Positive/305.jpg  \n",
            "  inflating: Fundus_Train_Val_Data/Fundus_Scanes_Sorted/Train/Glaucoma_Positive/306.jpg  \n",
            "  inflating: Fundus_Train_Val_Data/Fundus_Scanes_Sorted/Train/Glaucoma_Positive/312.jpg  \n",
            "  inflating: Fundus_Train_Val_Data/Fundus_Scanes_Sorted/Train/Glaucoma_Positive/317.jpg  \n",
            "  inflating: Fundus_Train_Val_Data/Fundus_Scanes_Sorted/Train/Glaucoma_Positive/322.jpg  \n",
            "  inflating: Fundus_Train_Val_Data/Fundus_Scanes_Sorted/Train/Glaucoma_Positive/327.jpg  \n",
            "  inflating: Fundus_Train_Val_Data/Fundus_Scanes_Sorted/Train/Glaucoma_Positive/330.jpg  \n",
            "  inflating: Fundus_Train_Val_Data/Fundus_Scanes_Sorted/Train/Glaucoma_Positive/336.jpg  \n",
            "  inflating: Fundus_Train_Val_Data/Fundus_Scanes_Sorted/Train/Glaucoma_Positive/337.jpg  \n",
            "  inflating: Fundus_Train_Val_Data/Fundus_Scanes_Sorted/Train/Glaucoma_Positive/340.jpg  \n",
            "  inflating: Fundus_Train_Val_Data/Fundus_Scanes_Sorted/Train/Glaucoma_Positive/345.jpg  \n",
            "  inflating: Fundus_Train_Val_Data/Fundus_Scanes_Sorted/Train/Glaucoma_Positive/348.jpg  \n",
            "  inflating: Fundus_Train_Val_Data/Fundus_Scanes_Sorted/Train/Glaucoma_Positive/349.jpg  \n",
            "  inflating: Fundus_Train_Val_Data/Fundus_Scanes_Sorted/Train/Glaucoma_Positive/353.jpg  \n",
            "  inflating: Fundus_Train_Val_Data/Fundus_Scanes_Sorted/Train/Glaucoma_Positive/354.jpg  \n",
            "  inflating: Fundus_Train_Val_Data/Fundus_Scanes_Sorted/Train/Glaucoma_Positive/359.jpg  \n",
            "  inflating: Fundus_Train_Val_Data/Fundus_Scanes_Sorted/Train/Glaucoma_Positive/362.jpg  \n",
            "  inflating: Fundus_Train_Val_Data/Fundus_Scanes_Sorted/Train/Glaucoma_Positive/366.jpg  \n",
            "  inflating: Fundus_Train_Val_Data/Fundus_Scanes_Sorted/Train/Glaucoma_Positive/377.jpg  \n",
            "  inflating: Fundus_Train_Val_Data/Fundus_Scanes_Sorted/Train/Glaucoma_Positive/381.jpg  \n",
            "  inflating: Fundus_Train_Val_Data/Fundus_Scanes_Sorted/Train/Glaucoma_Positive/382.jpg  \n",
            "  inflating: Fundus_Train_Val_Data/Fundus_Scanes_Sorted/Train/Glaucoma_Positive/383.jpg  \n",
            "  inflating: Fundus_Train_Val_Data/Fundus_Scanes_Sorted/Train/Glaucoma_Positive/385.jpg  \n",
            "  inflating: Fundus_Train_Val_Data/Fundus_Scanes_Sorted/Train/Glaucoma_Positive/386.jpg  \n",
            "  inflating: Fundus_Train_Val_Data/Fundus_Scanes_Sorted/Train/Glaucoma_Positive/389.jpg  \n",
            "  inflating: Fundus_Train_Val_Data/Fundus_Scanes_Sorted/Train/Glaucoma_Positive/390.jpg  \n",
            "  inflating: Fundus_Train_Val_Data/Fundus_Scanes_Sorted/Train/Glaucoma_Positive/395.jpg  \n",
            "  inflating: Fundus_Train_Val_Data/Fundus_Scanes_Sorted/Train/Glaucoma_Positive/398.jpg  \n",
            "  inflating: Fundus_Train_Val_Data/Fundus_Scanes_Sorted/Train/Glaucoma_Positive/402.jpg  \n",
            "  inflating: Fundus_Train_Val_Data/Fundus_Scanes_Sorted/Train/Glaucoma_Positive/407.jpg  \n",
            "  inflating: Fundus_Train_Val_Data/Fundus_Scanes_Sorted/Train/Glaucoma_Positive/419.jpg  \n",
            "  inflating: Fundus_Train_Val_Data/Fundus_Scanes_Sorted/Train/Glaucoma_Positive/424.jpg  \n",
            "  inflating: Fundus_Train_Val_Data/Fundus_Scanes_Sorted/Train/Glaucoma_Positive/426.jpg  \n",
            "  inflating: Fundus_Train_Val_Data/Fundus_Scanes_Sorted/Train/Glaucoma_Positive/429.jpg  \n",
            "  inflating: Fundus_Train_Val_Data/Fundus_Scanes_Sorted/Train/Glaucoma_Positive/432.jpg  \n",
            "  inflating: Fundus_Train_Val_Data/Fundus_Scanes_Sorted/Train/Glaucoma_Positive/433.jpg  \n",
            "  inflating: Fundus_Train_Val_Data/Fundus_Scanes_Sorted/Train/Glaucoma_Positive/439.jpg  \n",
            "  inflating: Fundus_Train_Val_Data/Fundus_Scanes_Sorted/Train/Glaucoma_Positive/440.jpg  \n",
            "  inflating: Fundus_Train_Val_Data/Fundus_Scanes_Sorted/Train/Glaucoma_Positive/441.jpg  \n",
            "  inflating: Fundus_Train_Val_Data/Fundus_Scanes_Sorted/Train/Glaucoma_Positive/442.jpg  \n",
            "  inflating: Fundus_Train_Val_Data/Fundus_Scanes_Sorted/Train/Glaucoma_Positive/457.jpg  \n",
            "  inflating: Fundus_Train_Val_Data/Fundus_Scanes_Sorted/Train/Glaucoma_Positive/458.jpg  \n",
            "  inflating: Fundus_Train_Val_Data/Fundus_Scanes_Sorted/Train/Glaucoma_Positive/465.jpg  \n",
            "  inflating: Fundus_Train_Val_Data/Fundus_Scanes_Sorted/Train/Glaucoma_Positive/468.jpg  \n",
            "  inflating: Fundus_Train_Val_Data/Fundus_Scanes_Sorted/Train/Glaucoma_Positive/474.jpg  \n",
            "  inflating: Fundus_Train_Val_Data/Fundus_Scanes_Sorted/Train/Glaucoma_Positive/480.jpg  \n",
            "  inflating: Fundus_Train_Val_Data/Fundus_Scanes_Sorted/Train/Glaucoma_Positive/486.jpg  \n",
            "  inflating: Fundus_Train_Val_Data/Fundus_Scanes_Sorted/Train/Glaucoma_Positive/490.jpg  \n",
            "  inflating: Fundus_Train_Val_Data/Fundus_Scanes_Sorted/Train/Glaucoma_Positive/496.jpg  \n",
            "  inflating: Fundus_Train_Val_Data/Fundus_Scanes_Sorted/Train/Glaucoma_Positive/505.jpg  \n",
            "  inflating: Fundus_Train_Val_Data/Fundus_Scanes_Sorted/Train/Glaucoma_Positive/506.jpg  \n",
            "  inflating: Fundus_Train_Val_Data/Fundus_Scanes_Sorted/Train/Glaucoma_Positive/507.jpg  \n",
            "  inflating: Fundus_Train_Val_Data/Fundus_Scanes_Sorted/Train/Glaucoma_Positive/508.jpg  \n",
            "  inflating: Fundus_Train_Val_Data/Fundus_Scanes_Sorted/Train/Glaucoma_Positive/511.jpg  \n",
            "  inflating: Fundus_Train_Val_Data/Fundus_Scanes_Sorted/Train/Glaucoma_Positive/512.jpg  \n",
            "  inflating: Fundus_Train_Val_Data/Fundus_Scanes_Sorted/Train/Glaucoma_Positive/514.jpg  \n",
            "  inflating: Fundus_Train_Val_Data/Fundus_Scanes_Sorted/Train/Glaucoma_Positive/515.jpg  \n",
            "  inflating: Fundus_Train_Val_Data/Fundus_Scanes_Sorted/Train/Glaucoma_Positive/516.jpg  \n",
            "  inflating: Fundus_Train_Val_Data/Fundus_Scanes_Sorted/Train/Glaucoma_Positive/519.jpg  \n",
            "  inflating: Fundus_Train_Val_Data/Fundus_Scanes_Sorted/Train/Glaucoma_Positive/523.jpg  \n",
            "  inflating: Fundus_Train_Val_Data/Fundus_Scanes_Sorted/Train/Glaucoma_Positive/524.jpg  \n",
            "  inflating: Fundus_Train_Val_Data/Fundus_Scanes_Sorted/Train/Glaucoma_Positive/528.jpg  \n",
            "  inflating: Fundus_Train_Val_Data/Fundus_Scanes_Sorted/Train/Glaucoma_Positive/532.jpg  \n",
            "  inflating: Fundus_Train_Val_Data/Fundus_Scanes_Sorted/Train/Glaucoma_Positive/533.jpg  \n",
            "  inflating: Fundus_Train_Val_Data/Fundus_Scanes_Sorted/Train/Glaucoma_Positive/545.jpg  \n",
            "  inflating: Fundus_Train_Val_Data/Fundus_Scanes_Sorted/Train/Glaucoma_Positive/549.jpg  \n",
            "  inflating: Fundus_Train_Val_Data/Fundus_Scanes_Sorted/Train/Glaucoma_Positive/550.jpg  \n",
            "  inflating: Fundus_Train_Val_Data/Fundus_Scanes_Sorted/Train/Glaucoma_Positive/556.jpg  \n",
            "  inflating: Fundus_Train_Val_Data/Fundus_Scanes_Sorted/Train/Glaucoma_Positive/557.jpg  \n",
            "  inflating: Fundus_Train_Val_Data/Fundus_Scanes_Sorted/Train/Glaucoma_Positive/558.jpg  \n",
            "  inflating: Fundus_Train_Val_Data/Fundus_Scanes_Sorted/Train/Glaucoma_Positive/560.jpg  \n",
            "  inflating: Fundus_Train_Val_Data/Fundus_Scanes_Sorted/Train/Glaucoma_Positive/571.jpg  \n",
            "  inflating: Fundus_Train_Val_Data/Fundus_Scanes_Sorted/Train/Glaucoma_Positive/572.jpg  \n",
            "  inflating: Fundus_Train_Val_Data/Fundus_Scanes_Sorted/Train/Glaucoma_Positive/578.jpg  \n",
            "  inflating: Fundus_Train_Val_Data/Fundus_Scanes_Sorted/Train/Glaucoma_Positive/580.jpg  \n",
            "  inflating: Fundus_Train_Val_Data/Fundus_Scanes_Sorted/Train/Glaucoma_Positive/582.jpg  \n",
            "  inflating: Fundus_Train_Val_Data/Fundus_Scanes_Sorted/Train/Glaucoma_Positive/584.jpg  \n",
            "  inflating: Fundus_Train_Val_Data/Fundus_Scanes_Sorted/Train/Glaucoma_Positive/586.jpg  \n",
            "  inflating: Fundus_Train_Val_Data/Fundus_Scanes_Sorted/Train/Glaucoma_Positive/588.jpg  \n",
            "  inflating: Fundus_Train_Val_Data/Fundus_Scanes_Sorted/Train/Glaucoma_Positive/589.jpg  \n",
            "  inflating: Fundus_Train_Val_Data/Fundus_Scanes_Sorted/Train/Glaucoma_Positive/591.jpg  \n",
            "  inflating: Fundus_Train_Val_Data/Fundus_Scanes_Sorted/Train/Glaucoma_Positive/592.jpg  \n",
            "  inflating: Fundus_Train_Val_Data/Fundus_Scanes_Sorted/Train/Glaucoma_Positive/593.jpg  \n",
            "  inflating: Fundus_Train_Val_Data/Fundus_Scanes_Sorted/Train/Glaucoma_Positive/595.jpg  \n",
            "  inflating: Fundus_Train_Val_Data/Fundus_Scanes_Sorted/Validation/Glaucoma_Negative/483.jpg  \n",
            "  inflating: Fundus_Train_Val_Data/Fundus_Scanes_Sorted/Validation/Glaucoma_Negative/484.jpg  \n",
            "  inflating: Fundus_Train_Val_Data/Fundus_Scanes_Sorted/Validation/Glaucoma_Negative/485.jpg  \n",
            "  inflating: Fundus_Train_Val_Data/Fundus_Scanes_Sorted/Validation/Glaucoma_Negative/487.jpg  \n",
            "  inflating: Fundus_Train_Val_Data/Fundus_Scanes_Sorted/Validation/Glaucoma_Negative/488.jpg  \n",
            "  inflating: Fundus_Train_Val_Data/Fundus_Scanes_Sorted/Validation/Glaucoma_Negative/489.jpg  \n",
            "  inflating: Fundus_Train_Val_Data/Fundus_Scanes_Sorted/Validation/Glaucoma_Negative/491.jpg  \n",
            "  inflating: Fundus_Train_Val_Data/Fundus_Scanes_Sorted/Validation/Glaucoma_Negative/492.jpg  \n",
            "  inflating: Fundus_Train_Val_Data/Fundus_Scanes_Sorted/Validation/Glaucoma_Negative/493.jpg  \n",
            "  inflating: Fundus_Train_Val_Data/Fundus_Scanes_Sorted/Validation/Glaucoma_Negative/494.jpg  \n",
            "  inflating: Fundus_Train_Val_Data/Fundus_Scanes_Sorted/Validation/Glaucoma_Negative/495.jpg  \n",
            "  inflating: Fundus_Train_Val_Data/Fundus_Scanes_Sorted/Validation/Glaucoma_Negative/497.jpg  \n",
            "  inflating: Fundus_Train_Val_Data/Fundus_Scanes_Sorted/Validation/Glaucoma_Negative/498.jpg  \n",
            "  inflating: Fundus_Train_Val_Data/Fundus_Scanes_Sorted/Validation/Glaucoma_Negative/499.jpg  \n",
            "  inflating: Fundus_Train_Val_Data/Fundus_Scanes_Sorted/Validation/Glaucoma_Negative/500.jpg  \n",
            "  inflating: Fundus_Train_Val_Data/Fundus_Scanes_Sorted/Validation/Glaucoma_Negative/501.jpg  \n",
            "  inflating: Fundus_Train_Val_Data/Fundus_Scanes_Sorted/Validation/Glaucoma_Negative/502.jpg  \n",
            "  inflating: Fundus_Train_Val_Data/Fundus_Scanes_Sorted/Validation/Glaucoma_Negative/503.jpg  \n",
            "  inflating: Fundus_Train_Val_Data/Fundus_Scanes_Sorted/Validation/Glaucoma_Negative/504.jpg  \n",
            "  inflating: Fundus_Train_Val_Data/Fundus_Scanes_Sorted/Validation/Glaucoma_Negative/509.jpg  \n",
            "  inflating: Fundus_Train_Val_Data/Fundus_Scanes_Sorted/Validation/Glaucoma_Negative/510.jpg  \n",
            "  inflating: Fundus_Train_Val_Data/Fundus_Scanes_Sorted/Validation/Glaucoma_Negative/513.jpg  \n",
            "  inflating: Fundus_Train_Val_Data/Fundus_Scanes_Sorted/Validation/Glaucoma_Negative/517.jpg  \n",
            "  inflating: Fundus_Train_Val_Data/Fundus_Scanes_Sorted/Validation/Glaucoma_Negative/518.jpg  \n",
            "  inflating: Fundus_Train_Val_Data/Fundus_Scanes_Sorted/Validation/Glaucoma_Negative/520.jpg  \n",
            "  inflating: Fundus_Train_Val_Data/Fundus_Scanes_Sorted/Validation/Glaucoma_Negative/521.jpg  \n",
            "  inflating: Fundus_Train_Val_Data/Fundus_Scanes_Sorted/Validation/Glaucoma_Negative/522.jpg  \n",
            "  inflating: Fundus_Train_Val_Data/Fundus_Scanes_Sorted/Validation/Glaucoma_Negative/525.jpg  \n",
            "  inflating: Fundus_Train_Val_Data/Fundus_Scanes_Sorted/Validation/Glaucoma_Negative/526.jpg  \n",
            "  inflating: Fundus_Train_Val_Data/Fundus_Scanes_Sorted/Validation/Glaucoma_Negative/527.jpg  \n",
            "  inflating: Fundus_Train_Val_Data/Fundus_Scanes_Sorted/Validation/Glaucoma_Negative/529.jpg  \n",
            "  inflating: Fundus_Train_Val_Data/Fundus_Scanes_Sorted/Validation/Glaucoma_Negative/530.jpg  \n",
            "  inflating: Fundus_Train_Val_Data/Fundus_Scanes_Sorted/Validation/Glaucoma_Negative/531.jpg  \n",
            "  inflating: Fundus_Train_Val_Data/Fundus_Scanes_Sorted/Validation/Glaucoma_Negative/534.jpg  \n",
            "  inflating: Fundus_Train_Val_Data/Fundus_Scanes_Sorted/Validation/Glaucoma_Negative/535.jpg  \n",
            "  inflating: Fundus_Train_Val_Data/Fundus_Scanes_Sorted/Validation/Glaucoma_Negative/536.jpg  \n",
            "  inflating: Fundus_Train_Val_Data/Fundus_Scanes_Sorted/Validation/Glaucoma_Negative/537.jpg  \n",
            "  inflating: Fundus_Train_Val_Data/Fundus_Scanes_Sorted/Validation/Glaucoma_Negative/538.jpg  \n",
            "  inflating: Fundus_Train_Val_Data/Fundus_Scanes_Sorted/Validation/Glaucoma_Negative/539.jpg  \n",
            "  inflating: Fundus_Train_Val_Data/Fundus_Scanes_Sorted/Validation/Glaucoma_Negative/540.jpg  \n",
            "  inflating: Fundus_Train_Val_Data/Fundus_Scanes_Sorted/Validation/Glaucoma_Negative/541.jpg  \n",
            "  inflating: Fundus_Train_Val_Data/Fundus_Scanes_Sorted/Validation/Glaucoma_Negative/542.jpg  \n",
            "  inflating: Fundus_Train_Val_Data/Fundus_Scanes_Sorted/Validation/Glaucoma_Negative/543.jpg  \n",
            "  inflating: Fundus_Train_Val_Data/Fundus_Scanes_Sorted/Validation/Glaucoma_Negative/544.jpg  \n",
            "  inflating: Fundus_Train_Val_Data/Fundus_Scanes_Sorted/Validation/Glaucoma_Negative/546.jpg  \n",
            "  inflating: Fundus_Train_Val_Data/Fundus_Scanes_Sorted/Validation/Glaucoma_Negative/547.jpg  \n",
            "  inflating: Fundus_Train_Val_Data/Fundus_Scanes_Sorted/Validation/Glaucoma_Negative/548.jpg  \n",
            "  inflating: Fundus_Train_Val_Data/Fundus_Scanes_Sorted/Validation/Glaucoma_Negative/551.jpg  \n",
            "  inflating: Fundus_Train_Val_Data/Fundus_Scanes_Sorted/Validation/Glaucoma_Negative/552.jpg  \n",
            "  inflating: Fundus_Train_Val_Data/Fundus_Scanes_Sorted/Validation/Glaucoma_Negative/553.jpg  \n",
            "  inflating: Fundus_Train_Val_Data/Fundus_Scanes_Sorted/Validation/Glaucoma_Negative/554.jpg  \n",
            "  inflating: Fundus_Train_Val_Data/Fundus_Scanes_Sorted/Validation/Glaucoma_Negative/555.jpg  \n",
            "  inflating: Fundus_Train_Val_Data/Fundus_Scanes_Sorted/Validation/Glaucoma_Negative/559.jpg  \n",
            "  inflating: Fundus_Train_Val_Data/Fundus_Scanes_Sorted/Validation/Glaucoma_Negative/561.jpg  \n",
            "  inflating: Fundus_Train_Val_Data/Fundus_Scanes_Sorted/Validation/Glaucoma_Negative/562.jpg  \n",
            "  inflating: Fundus_Train_Val_Data/Fundus_Scanes_Sorted/Validation/Glaucoma_Negative/563.jpg  \n",
            "  inflating: Fundus_Train_Val_Data/Fundus_Scanes_Sorted/Validation/Glaucoma_Negative/564.jpg  \n",
            "  inflating: Fundus_Train_Val_Data/Fundus_Scanes_Sorted/Validation/Glaucoma_Negative/565.jpg  \n",
            "  inflating: Fundus_Train_Val_Data/Fundus_Scanes_Sorted/Validation/Glaucoma_Negative/566.jpg  \n",
            "  inflating: Fundus_Train_Val_Data/Fundus_Scanes_Sorted/Validation/Glaucoma_Negative/567.jpg  \n",
            "  inflating: Fundus_Train_Val_Data/Fundus_Scanes_Sorted/Validation/Glaucoma_Negative/568.jpg  \n",
            "  inflating: Fundus_Train_Val_Data/Fundus_Scanes_Sorted/Validation/Glaucoma_Negative/569.jpg  \n",
            "  inflating: Fundus_Train_Val_Data/Fundus_Scanes_Sorted/Validation/Glaucoma_Negative/570.jpg  \n",
            "  inflating: Fundus_Train_Val_Data/Fundus_Scanes_Sorted/Validation/Glaucoma_Negative/573.jpg  \n",
            "  inflating: Fundus_Train_Val_Data/Fundus_Scanes_Sorted/Validation/Glaucoma_Negative/574.jpg  \n",
            "  inflating: Fundus_Train_Val_Data/Fundus_Scanes_Sorted/Validation/Glaucoma_Negative/575.jpg  \n",
            "  inflating: Fundus_Train_Val_Data/Fundus_Scanes_Sorted/Validation/Glaucoma_Negative/576.jpg  \n",
            "  inflating: Fundus_Train_Val_Data/Fundus_Scanes_Sorted/Validation/Glaucoma_Negative/577.jpg  \n",
            "  inflating: Fundus_Train_Val_Data/Fundus_Scanes_Sorted/Validation/Glaucoma_Negative/579.jpg  \n",
            "  inflating: Fundus_Train_Val_Data/Fundus_Scanes_Sorted/Validation/Glaucoma_Negative/581.jpg  \n",
            "  inflating: Fundus_Train_Val_Data/Fundus_Scanes_Sorted/Validation/Glaucoma_Negative/583.jpg  \n",
            "  inflating: Fundus_Train_Val_Data/Fundus_Scanes_Sorted/Validation/Glaucoma_Negative/585.jpg  \n",
            "  inflating: Fundus_Train_Val_Data/Fundus_Scanes_Sorted/Validation/Glaucoma_Negative/587.jpg  \n",
            "  inflating: Fundus_Train_Val_Data/Fundus_Scanes_Sorted/Validation/Glaucoma_Negative/590.jpg  \n",
            "  inflating: Fundus_Train_Val_Data/Fundus_Scanes_Sorted/Validation/Glaucoma_Negative/594.jpg  \n",
            "  inflating: Fundus_Train_Val_Data/Fundus_Scanes_Sorted/Validation/Glaucoma_Negative/596.jpg  \n",
            "  inflating: Fundus_Train_Val_Data/Fundus_Scanes_Sorted/Validation/Glaucoma_Negative/597.jpg  \n",
            "  inflating: Fundus_Train_Val_Data/Fundus_Scanes_Sorted/Validation/Glaucoma_Negative/599.jpg  \n",
            "  inflating: Fundus_Train_Val_Data/Fundus_Scanes_Sorted/Validation/Glaucoma_Negative/602.jpg  \n",
            "  inflating: Fundus_Train_Val_Data/Fundus_Scanes_Sorted/Validation/Glaucoma_Negative/603.jpg  \n",
            "  inflating: Fundus_Train_Val_Data/Fundus_Scanes_Sorted/Validation/Glaucoma_Negative/606.jpg  \n",
            "  inflating: Fundus_Train_Val_Data/Fundus_Scanes_Sorted/Validation/Glaucoma_Negative/607.jpg  \n",
            "  inflating: Fundus_Train_Val_Data/Fundus_Scanes_Sorted/Validation/Glaucoma_Negative/610.jpg  \n",
            "  inflating: Fundus_Train_Val_Data/Fundus_Scanes_Sorted/Validation/Glaucoma_Negative/611.jpg  \n",
            "  inflating: Fundus_Train_Val_Data/Fundus_Scanes_Sorted/Validation/Glaucoma_Negative/614.jpg  \n",
            "  inflating: Fundus_Train_Val_Data/Fundus_Scanes_Sorted/Validation/Glaucoma_Negative/616.jpg  \n",
            "  inflating: Fundus_Train_Val_Data/Fundus_Scanes_Sorted/Validation/Glaucoma_Negative/620.jpg  \n",
            "  inflating: Fundus_Train_Val_Data/Fundus_Scanes_Sorted/Validation/Glaucoma_Negative/625.jpg  \n",
            "  inflating: Fundus_Train_Val_Data/Fundus_Scanes_Sorted/Validation/Glaucoma_Negative/629.jpg  \n",
            "  inflating: Fundus_Train_Val_Data/Fundus_Scanes_Sorted/Validation/Glaucoma_Negative/633.jpg  \n",
            "  inflating: Fundus_Train_Val_Data/Fundus_Scanes_Sorted/Validation/Glaucoma_Negative/635.jpg  \n",
            "  inflating: Fundus_Train_Val_Data/Fundus_Scanes_Sorted/Validation/Glaucoma_Negative/637.jpg  \n",
            "  inflating: Fundus_Train_Val_Data/Fundus_Scanes_Sorted/Validation/Glaucoma_Negative/639.jpg  \n",
            "  inflating: Fundus_Train_Val_Data/Fundus_Scanes_Sorted/Validation/Glaucoma_Negative/642.jpg  \n",
            "  inflating: Fundus_Train_Val_Data/Fundus_Scanes_Sorted/Validation/Glaucoma_Negative/643.jpg  \n",
            "  inflating: Fundus_Train_Val_Data/Fundus_Scanes_Sorted/Validation/Glaucoma_Negative/649.jpg  \n",
            "  inflating: Fundus_Train_Val_Data/Fundus_Scanes_Sorted/Validation/Glaucoma_Positive/598.jpg  \n",
            "  inflating: Fundus_Train_Val_Data/Fundus_Scanes_Sorted/Validation/Glaucoma_Positive/600.jpg  \n",
            "  inflating: Fundus_Train_Val_Data/Fundus_Scanes_Sorted/Validation/Glaucoma_Positive/601.jpg  \n",
            "  inflating: Fundus_Train_Val_Data/Fundus_Scanes_Sorted/Validation/Glaucoma_Positive/604.jpg  \n",
            "  inflating: Fundus_Train_Val_Data/Fundus_Scanes_Sorted/Validation/Glaucoma_Positive/605.jpg  \n",
            "  inflating: Fundus_Train_Val_Data/Fundus_Scanes_Sorted/Validation/Glaucoma_Positive/608.jpg  \n",
            "  inflating: Fundus_Train_Val_Data/Fundus_Scanes_Sorted/Validation/Glaucoma_Positive/609.jpg  \n",
            "  inflating: Fundus_Train_Val_Data/Fundus_Scanes_Sorted/Validation/Glaucoma_Positive/612.jpg  \n",
            "  inflating: Fundus_Train_Val_Data/Fundus_Scanes_Sorted/Validation/Glaucoma_Positive/613.jpg  \n",
            "  inflating: Fundus_Train_Val_Data/Fundus_Scanes_Sorted/Validation/Glaucoma_Positive/615.jpg  \n",
            "  inflating: Fundus_Train_Val_Data/Fundus_Scanes_Sorted/Validation/Glaucoma_Positive/617.jpg  \n",
            "  inflating: Fundus_Train_Val_Data/Fundus_Scanes_Sorted/Validation/Glaucoma_Positive/618.jpg  \n",
            "  inflating: Fundus_Train_Val_Data/Fundus_Scanes_Sorted/Validation/Glaucoma_Positive/619.jpg  \n",
            "  inflating: Fundus_Train_Val_Data/Fundus_Scanes_Sorted/Validation/Glaucoma_Positive/621.jpg  \n",
            "  inflating: Fundus_Train_Val_Data/Fundus_Scanes_Sorted/Validation/Glaucoma_Positive/622.jpg  \n",
            "  inflating: Fundus_Train_Val_Data/Fundus_Scanes_Sorted/Validation/Glaucoma_Positive/623.jpg  \n",
            "  inflating: Fundus_Train_Val_Data/Fundus_Scanes_Sorted/Validation/Glaucoma_Positive/624.jpg  \n",
            "  inflating: Fundus_Train_Val_Data/Fundus_Scanes_Sorted/Validation/Glaucoma_Positive/626.jpg  \n",
            "  inflating: Fundus_Train_Val_Data/Fundus_Scanes_Sorted/Validation/Glaucoma_Positive/627.jpg  \n",
            "  inflating: Fundus_Train_Val_Data/Fundus_Scanes_Sorted/Validation/Glaucoma_Positive/628.jpg  \n",
            "  inflating: Fundus_Train_Val_Data/Fundus_Scanes_Sorted/Validation/Glaucoma_Positive/630.jpg  \n",
            "  inflating: Fundus_Train_Val_Data/Fundus_Scanes_Sorted/Validation/Glaucoma_Positive/631.jpg  \n",
            "  inflating: Fundus_Train_Val_Data/Fundus_Scanes_Sorted/Validation/Glaucoma_Positive/632.jpg  \n",
            "  inflating: Fundus_Train_Val_Data/Fundus_Scanes_Sorted/Validation/Glaucoma_Positive/634.jpg  \n",
            "  inflating: Fundus_Train_Val_Data/Fundus_Scanes_Sorted/Validation/Glaucoma_Positive/636.jpg  \n",
            "  inflating: Fundus_Train_Val_Data/Fundus_Scanes_Sorted/Validation/Glaucoma_Positive/638.jpg  \n",
            "  inflating: Fundus_Train_Val_Data/Fundus_Scanes_Sorted/Validation/Glaucoma_Positive/640.jpg  \n",
            "  inflating: Fundus_Train_Val_Data/Fundus_Scanes_Sorted/Validation/Glaucoma_Positive/641.jpg  \n",
            "  inflating: Fundus_Train_Val_Data/Fundus_Scanes_Sorted/Validation/Glaucoma_Positive/644.jpg  \n",
            "  inflating: Fundus_Train_Val_Data/Fundus_Scanes_Sorted/Validation/Glaucoma_Positive/645.jpg  \n",
            "  inflating: Fundus_Train_Val_Data/Fundus_Scanes_Sorted/Validation/Glaucoma_Positive/646.jpg  \n",
            "  inflating: Fundus_Train_Val_Data/Fundus_Scanes_Sorted/Validation/Glaucoma_Positive/647.jpg  \n",
            "  inflating: Fundus_Train_Val_Data/Fundus_Scanes_Sorted/Validation/Glaucoma_Positive/648.jpg  \n",
            "  inflating: Fundus_Train_Val_Data/Fundus_Scanes_Sorted/Validation/Glaucoma_Positive/650.jpg  \n",
            "  inflating: glaucoma.csv            \n"
          ],
          "name": "stdout"
        }
      ]
    },
    {
      "cell_type": "code",
      "metadata": {
        "id": "z61cXkTDs7_B"
      },
      "source": [
        "DATAGlua_Train = '/content/Fundus_Train_Val_Data/Fundus_Scanes_Sorted/Train'\n",
        "DATAGlua_Test = '/content/Fundus_Train_Val_Data/Fundus_Scanes_Sorted/Validation'"
      ],
      "execution_count": 289,
      "outputs": []
    },
    {
      "cell_type": "code",
      "metadata": {
        "colab": {
          "base_uri": "https://localhost:8080/"
        },
        "id": "K6ZmlmtTs8Bk",
        "outputId": "a390eaea-e24f-408d-c3e8-ccd75a6aaae3"
      },
      "source": [
        "CATEGORIES  = list()\n",
        "for root, dirs, files in os.walk(DATAGlua_Train, topdown=False):\n",
        "    for name in dirs:\n",
        "        CATEGORIES.append(os.path.join(name))\n",
        "print (CATEGORIES)"
      ],
      "execution_count": 290,
      "outputs": [
        {
          "output_type": "stream",
          "text": [
            "['Glaucoma_Negative', 'Glaucoma_Positive']\n"
          ],
          "name": "stdout"
        }
      ]
    },
    {
      "cell_type": "code",
      "metadata": {
        "id": "AzfgnpDXs8D4"
      },
      "source": [
        "x_train_data = []\n",
        "y_train_data = []\n",
        "IMG_SIZE=224\n",
        "def creation_train_data():\n",
        "    for category in CATEGORIES:\n",
        "      path = os.path.join(DATAGlua_Train, category)\n",
        "      class_num = CATEGORIES.index(category)\n",
        "      for img in os.listdir(path):\n",
        "        try:\n",
        "            img_array = cv2.imread(os.path.join(path, img), cv2.IMREAD_COLOR)\n",
        "            new_array = cv2.resize(img_array, (IMG_SIZE,IMG_SIZE))\n",
        "            x_train_data.append(new_array)\n",
        "            y_train_data.append(class_num)\n",
        "        except Exception as e:\n",
        "            pass\n",
        "creation_train_data()"
      ],
      "execution_count": 291,
      "outputs": []
    },
    {
      "cell_type": "code",
      "metadata": {
        "id": "P9ZDHqzds8GR"
      },
      "source": [
        "x_test_data = []\n",
        "y_test_data = []\n",
        "IMG_SIZE=224\n",
        "def creation_test_data():\n",
        "    for category in CATEGORIES:\n",
        "      path = os.path.join(DATAGlua_Test, category)\n",
        "      class_num = CATEGORIES.index(category)\n",
        "      for img in os.listdir(path):\n",
        "        try:\n",
        "            img_array = cv2.imread(os.path.join(path, img), cv2.IMREAD_COLOR)\n",
        "            new_array = cv2.resize(img_array, (IMG_SIZE,IMG_SIZE))\n",
        "            x_test_data.append(new_array)\n",
        "            y_test_data.append(class_num)\n",
        "        except Exception as e:\n",
        "            pass\n",
        "creation_test_data ()"
      ],
      "execution_count": 292,
      "outputs": []
    },
    {
      "cell_type": "code",
      "metadata": {
        "id": "JOuN6Nhcs8IX"
      },
      "source": [
        "X_Train, X_Val, Y_Train, Y_Val = train_test_split(x_train_data, y_train_data, test_size=0.05, random_state=1)"
      ],
      "execution_count": 293,
      "outputs": []
    },
    {
      "cell_type": "code",
      "metadata": {
        "id": "BUw3qXUNs8Ku"
      },
      "source": [
        "X_Train = np. squeeze(np.array(X_Train))\n",
        "X_Val = np. squeeze(np.array(X_Val))\n",
        "Y_Train = np. squeeze(np.array(Y_Train))\n",
        "Y_Val = np. squeeze(np.array(Y_Val))\n",
        "x_test_data = np. squeeze(np.array(x_test_data))"
      ],
      "execution_count": 294,
      "outputs": []
    },
    {
      "cell_type": "code",
      "metadata": {
        "id": "ASHn_3Yds8NF"
      },
      "source": [
        "Y_Train = to_categorical(Y_Train)\n",
        "Y_Val = to_categorical(Y_Val)"
      ],
      "execution_count": 295,
      "outputs": []
    },
    {
      "cell_type": "markdown",
      "metadata": {
        "id": "IMNSEXWitMDb"
      },
      "source": [
        "# **VGG16 Model**"
      ]
    },
    {
      "cell_type": "code",
      "metadata": {
        "id": "8lZiWSxts8P5"
      },
      "source": [
        "IMG_SHAPE = (224, 224,3)\n"
      ],
      "execution_count": 296,
      "outputs": []
    },
    {
      "cell_type": "code",
      "metadata": {
        "id": "zoAPNfqns8SE"
      },
      "source": [
        "from keras.applications.vgg16 import VGG16\n",
        "from keras.applications.vgg16 import preprocess_input"
      ],
      "execution_count": 297,
      "outputs": []
    },
    {
      "cell_type": "code",
      "metadata": {
        "id": "D0183MPGs8Ti"
      },
      "source": [
        "base_model = VGG16(input_shape=IMG_SHAPE, include_top=False, weights='imagenet')\n"
      ],
      "execution_count": 298,
      "outputs": []
    },
    {
      "cell_type": "code",
      "metadata": {
        "colab": {
          "base_uri": "https://localhost:8080/"
        },
        "id": "NyUwONuDssz2",
        "outputId": "c5b5d7ca-5be5-4286-9643-ae2ada3659a9"
      },
      "source": [
        "for layer in base_model.layers:\n",
        "    print(layer.name)\n",
        "    layer.trainable = False\n",
        "    \n",
        "print(len(base_model.layers))"
      ],
      "execution_count": 299,
      "outputs": [
        {
          "output_type": "stream",
          "text": [
            "input_9\n",
            "block1_conv1\n",
            "block1_conv2\n",
            "block1_pool\n",
            "block2_conv1\n",
            "block2_conv2\n",
            "block2_pool\n",
            "block3_conv1\n",
            "block3_conv2\n",
            "block3_conv3\n",
            "block3_pool\n",
            "block4_conv1\n",
            "block4_conv2\n",
            "block4_conv3\n",
            "block4_pool\n",
            "block5_conv1\n",
            "block5_conv2\n",
            "block5_conv3\n",
            "block5_pool\n",
            "19\n"
          ],
          "name": "stdout"
        }
      ]
    },
    {
      "cell_type": "code",
      "metadata": {
        "colab": {
          "base_uri": "https://localhost:8080/"
        },
        "id": "YVcPjx69ss2N",
        "outputId": "bce9a9bf-837f-4594-df9f-9174114fb325"
      },
      "source": [
        "base_model.summary()"
      ],
      "execution_count": 300,
      "outputs": [
        {
          "output_type": "stream",
          "text": [
            "Model: \"vgg16\"\n",
            "_________________________________________________________________\n",
            "Layer (type)                 Output Shape              Param #   \n",
            "=================================================================\n",
            "input_9 (InputLayer)         [(None, 224, 224, 3)]     0         \n",
            "_________________________________________________________________\n",
            "block1_conv1 (Conv2D)        (None, 224, 224, 64)      1792      \n",
            "_________________________________________________________________\n",
            "block1_conv2 (Conv2D)        (None, 224, 224, 64)      36928     \n",
            "_________________________________________________________________\n",
            "block1_pool (MaxPooling2D)   (None, 112, 112, 64)      0         \n",
            "_________________________________________________________________\n",
            "block2_conv1 (Conv2D)        (None, 112, 112, 128)     73856     \n",
            "_________________________________________________________________\n",
            "block2_conv2 (Conv2D)        (None, 112, 112, 128)     147584    \n",
            "_________________________________________________________________\n",
            "block2_pool (MaxPooling2D)   (None, 56, 56, 128)       0         \n",
            "_________________________________________________________________\n",
            "block3_conv1 (Conv2D)        (None, 56, 56, 256)       295168    \n",
            "_________________________________________________________________\n",
            "block3_conv2 (Conv2D)        (None, 56, 56, 256)       590080    \n",
            "_________________________________________________________________\n",
            "block3_conv3 (Conv2D)        (None, 56, 56, 256)       590080    \n",
            "_________________________________________________________________\n",
            "block3_pool (MaxPooling2D)   (None, 28, 28, 256)       0         \n",
            "_________________________________________________________________\n",
            "block4_conv1 (Conv2D)        (None, 28, 28, 512)       1180160   \n",
            "_________________________________________________________________\n",
            "block4_conv2 (Conv2D)        (None, 28, 28, 512)       2359808   \n",
            "_________________________________________________________________\n",
            "block4_conv3 (Conv2D)        (None, 28, 28, 512)       2359808   \n",
            "_________________________________________________________________\n",
            "block4_pool (MaxPooling2D)   (None, 14, 14, 512)       0         \n",
            "_________________________________________________________________\n",
            "block5_conv1 (Conv2D)        (None, 14, 14, 512)       2359808   \n",
            "_________________________________________________________________\n",
            "block5_conv2 (Conv2D)        (None, 14, 14, 512)       2359808   \n",
            "_________________________________________________________________\n",
            "block5_conv3 (Conv2D)        (None, 14, 14, 512)       2359808   \n",
            "_________________________________________________________________\n",
            "block5_pool (MaxPooling2D)   (None, 7, 7, 512)         0         \n",
            "=================================================================\n",
            "Total params: 14,714,688\n",
            "Trainable params: 0\n",
            "Non-trainable params: 14,714,688\n",
            "_________________________________________________________________\n"
          ],
          "name": "stdout"
        }
      ]
    },
    {
      "cell_type": "code",
      "metadata": {
        "id": "fXP1Th4Kss4i"
      },
      "source": [
        "base_model.trainable = False"
      ],
      "execution_count": 301,
      "outputs": []
    },
    {
      "cell_type": "code",
      "metadata": {
        "colab": {
          "base_uri": "https://localhost:8080/"
        },
        "id": "PWdKYnYNss6-",
        "outputId": "bebacce3-bf22-4e90-dad6-d9fa49d9382f"
      },
      "source": [
        "base_model.output"
      ],
      "execution_count": 302,
      "outputs": [
        {
          "output_type": "execute_result",
          "data": {
            "text/plain": [
              "<KerasTensor: shape=(None, 7, 7, 512) dtype=float32 (created by layer 'block5_pool')>"
            ]
          },
          "metadata": {
            "tags": []
          },
          "execution_count": 302
        }
      ]
    },
    {
      "cell_type": "code",
      "metadata": {
        "id": "6iR5nN2vss9Y"
      },
      "source": [
        "x = layers.GlobalMaxPooling2D()(base_model.output)\n",
        "x = layers.Dense(512, activation='relu')(x)\n",
        "x = layers.Dropout(0.5)(x)\n",
        "x = layers.Dense(2, activation='softmax')(x)\n",
        "\n",
        "model = Model(base_model.input, x)\n",
        "opt = Adam(lr=0.0001, beta_1=0.9, beta_2=0.999, epsilon=None, decay=0.0, amsgrad=True)\n",
        "model.compile(loss='categorical_crossentropy',\n",
        "              optimizer=opt,\n",
        "              metrics=['accuracy'])"
      ],
      "execution_count": 303,
      "outputs": []
    },
    {
      "cell_type": "code",
      "metadata": {
        "colab": {
          "base_uri": "https://localhost:8080/"
        },
        "id": "HqNfIB_ess_p",
        "outputId": "0ae0715d-5cab-4070-b0fc-7a2641d619eb"
      },
      "source": [
        "model.summary()"
      ],
      "execution_count": 304,
      "outputs": [
        {
          "output_type": "stream",
          "text": [
            "Model: \"model_8\"\n",
            "_________________________________________________________________\n",
            "Layer (type)                 Output Shape              Param #   \n",
            "=================================================================\n",
            "input_9 (InputLayer)         [(None, 224, 224, 3)]     0         \n",
            "_________________________________________________________________\n",
            "block1_conv1 (Conv2D)        (None, 224, 224, 64)      1792      \n",
            "_________________________________________________________________\n",
            "block1_conv2 (Conv2D)        (None, 224, 224, 64)      36928     \n",
            "_________________________________________________________________\n",
            "block1_pool (MaxPooling2D)   (None, 112, 112, 64)      0         \n",
            "_________________________________________________________________\n",
            "block2_conv1 (Conv2D)        (None, 112, 112, 128)     73856     \n",
            "_________________________________________________________________\n",
            "block2_conv2 (Conv2D)        (None, 112, 112, 128)     147584    \n",
            "_________________________________________________________________\n",
            "block2_pool (MaxPooling2D)   (None, 56, 56, 128)       0         \n",
            "_________________________________________________________________\n",
            "block3_conv1 (Conv2D)        (None, 56, 56, 256)       295168    \n",
            "_________________________________________________________________\n",
            "block3_conv2 (Conv2D)        (None, 56, 56, 256)       590080    \n",
            "_________________________________________________________________\n",
            "block3_conv3 (Conv2D)        (None, 56, 56, 256)       590080    \n",
            "_________________________________________________________________\n",
            "block3_pool (MaxPooling2D)   (None, 28, 28, 256)       0         \n",
            "_________________________________________________________________\n",
            "block4_conv1 (Conv2D)        (None, 28, 28, 512)       1180160   \n",
            "_________________________________________________________________\n",
            "block4_conv2 (Conv2D)        (None, 28, 28, 512)       2359808   \n",
            "_________________________________________________________________\n",
            "block4_conv3 (Conv2D)        (None, 28, 28, 512)       2359808   \n",
            "_________________________________________________________________\n",
            "block4_pool (MaxPooling2D)   (None, 14, 14, 512)       0         \n",
            "_________________________________________________________________\n",
            "block5_conv1 (Conv2D)        (None, 14, 14, 512)       2359808   \n",
            "_________________________________________________________________\n",
            "block5_conv2 (Conv2D)        (None, 14, 14, 512)       2359808   \n",
            "_________________________________________________________________\n",
            "block5_conv3 (Conv2D)        (None, 14, 14, 512)       2359808   \n",
            "_________________________________________________________________\n",
            "block5_pool (MaxPooling2D)   (None, 7, 7, 512)         0         \n",
            "_________________________________________________________________\n",
            "global_max_pooling2d_11 (Glo (None, 512)               0         \n",
            "_________________________________________________________________\n",
            "dense_20 (Dense)             (None, 512)               262656    \n",
            "_________________________________________________________________\n",
            "dropout_10 (Dropout)         (None, 512)               0         \n",
            "_________________________________________________________________\n",
            "dense_21 (Dense)             (None, 2)                 1026      \n",
            "=================================================================\n",
            "Total params: 14,978,370\n",
            "Trainable params: 263,682\n",
            "Non-trainable params: 14,714,688\n",
            "_________________________________________________________________\n"
          ],
          "name": "stdout"
        }
      ]
    },
    {
      "cell_type": "code",
      "metadata": {
        "id": "zFAtAeO7stCH"
      },
      "source": [
        "train_datagen = ImageDataGenerator(rescale = 1./255, rotation_range=60, width_shift_range=0.2, height_shift_range=0.2,\n",
        "                                   shear_range=0.2, zoom_range=0.2, fill_mode='nearest')\n"
      ],
      "execution_count": 305,
      "outputs": []
    },
    {
      "cell_type": "code",
      "metadata": {
        "id": "7xyKZivRstEm"
      },
      "source": [
        "train_datagen.fit(X_Train)"
      ],
      "execution_count": 306,
      "outputs": []
    },
    {
      "cell_type": "code",
      "metadata": {
        "id": "9ftmk_RestHB"
      },
      "source": [
        "val_datagen = ImageDataGenerator(rescale = 1./255)\n",
        "val_datagen.fit(X_Val)"
      ],
      "execution_count": 307,
      "outputs": []
    },
    {
      "cell_type": "code",
      "metadata": {
        "colab": {
          "base_uri": "https://localhost:8080/"
        },
        "id": "RP-bjuTxstJk",
        "outputId": "5c70c890-258d-4be2-83b6-38f8f047dea5"
      },
      "source": [
        "train_model = model.fit(X_Train, Y_Train, batch_size=64, epochs=25,\n",
        "                    validation_data=(X_Val, Y_Val))"
      ],
      "execution_count": 308,
      "outputs": [
        {
          "output_type": "stream",
          "text": [
            "Epoch 1/25\n",
            "8/8 [==============================] - 3s 267ms/step - loss: 11.1273 - accuracy: 0.6320 - val_loss: 4.5314 - val_accuracy: 0.8077\n",
            "Epoch 2/25\n",
            "8/8 [==============================] - 2s 242ms/step - loss: 11.4785 - accuracy: 0.6430 - val_loss: 3.3048 - val_accuracy: 0.8077\n",
            "Epoch 3/25\n",
            "8/8 [==============================] - 2s 241ms/step - loss: 9.1570 - accuracy: 0.6834 - val_loss: 3.6306 - val_accuracy: 0.8462\n",
            "Epoch 4/25\n",
            "8/8 [==============================] - 2s 241ms/step - loss: 7.7737 - accuracy: 0.6757 - val_loss: 4.3740 - val_accuracy: 0.8462\n",
            "Epoch 5/25\n",
            "8/8 [==============================] - 2s 242ms/step - loss: 7.4652 - accuracy: 0.6808 - val_loss: 3.5462 - val_accuracy: 0.8462\n",
            "Epoch 6/25\n",
            "8/8 [==============================] - 2s 242ms/step - loss: 7.8414 - accuracy: 0.7061 - val_loss: 3.4603 - val_accuracy: 0.8462\n",
            "Epoch 7/25\n",
            "8/8 [==============================] - 2s 242ms/step - loss: 7.1074 - accuracy: 0.6828 - val_loss: 3.1373 - val_accuracy: 0.8462\n",
            "Epoch 8/25\n",
            "8/8 [==============================] - 2s 245ms/step - loss: 6.7775 - accuracy: 0.6517 - val_loss: 3.8886 - val_accuracy: 0.8462\n",
            "Epoch 9/25\n",
            "8/8 [==============================] - 2s 244ms/step - loss: 5.1928 - accuracy: 0.7049 - val_loss: 3.0730 - val_accuracy: 0.8462\n",
            "Epoch 10/25\n",
            "8/8 [==============================] - 2s 245ms/step - loss: 5.8887 - accuracy: 0.6849 - val_loss: 2.3558 - val_accuracy: 0.8846\n",
            "Epoch 11/25\n",
            "8/8 [==============================] - 2s 245ms/step - loss: 5.2990 - accuracy: 0.6822 - val_loss: 3.1388 - val_accuracy: 0.8462\n",
            "Epoch 12/25\n",
            "8/8 [==============================] - 2s 273ms/step - loss: 4.4767 - accuracy: 0.7224 - val_loss: 3.1639 - val_accuracy: 0.8462\n",
            "Epoch 13/25\n",
            "8/8 [==============================] - 2s 246ms/step - loss: 3.6195 - accuracy: 0.7631 - val_loss: 2.6647 - val_accuracy: 0.8462\n",
            "Epoch 14/25\n",
            "8/8 [==============================] - 2s 245ms/step - loss: 3.1177 - accuracy: 0.7677 - val_loss: 2.4908 - val_accuracy: 0.8462\n",
            "Epoch 15/25\n",
            "8/8 [==============================] - 2s 247ms/step - loss: 4.2449 - accuracy: 0.7053 - val_loss: 2.5494 - val_accuracy: 0.8462\n",
            "Epoch 16/25\n",
            "8/8 [==============================] - 2s 247ms/step - loss: 3.1374 - accuracy: 0.7481 - val_loss: 2.4740 - val_accuracy: 0.8462\n",
            "Epoch 17/25\n",
            "8/8 [==============================] - 2s 246ms/step - loss: 3.8406 - accuracy: 0.7405 - val_loss: 1.9356 - val_accuracy: 0.8462\n",
            "Epoch 18/25\n",
            "8/8 [==============================] - 2s 247ms/step - loss: 3.3286 - accuracy: 0.7541 - val_loss: 2.7569 - val_accuracy: 0.8462\n",
            "Epoch 19/25\n",
            "8/8 [==============================] - 2s 244ms/step - loss: 3.2327 - accuracy: 0.7301 - val_loss: 1.9826 - val_accuracy: 0.8077\n",
            "Epoch 20/25\n",
            "8/8 [==============================] - 2s 242ms/step - loss: 3.0017 - accuracy: 0.7228 - val_loss: 2.4728 - val_accuracy: 0.8462\n",
            "Epoch 21/25\n",
            "8/8 [==============================] - 2s 245ms/step - loss: 2.3794 - accuracy: 0.7613 - val_loss: 1.8510 - val_accuracy: 0.8077\n",
            "Epoch 22/25\n",
            "8/8 [==============================] - 2s 245ms/step - loss: 2.1628 - accuracy: 0.7863 - val_loss: 2.2972 - val_accuracy: 0.8462\n",
            "Epoch 23/25\n",
            "8/8 [==============================] - 2s 245ms/step - loss: 1.7256 - accuracy: 0.7991 - val_loss: 1.7638 - val_accuracy: 0.8462\n",
            "Epoch 24/25\n",
            "8/8 [==============================] - 2s 247ms/step - loss: 1.9326 - accuracy: 0.7980 - val_loss: 2.0358 - val_accuracy: 0.8462\n",
            "Epoch 25/25\n",
            "8/8 [==============================] - 2s 248ms/step - loss: 1.8138 - accuracy: 0.7968 - val_loss: 1.9861 - val_accuracy: 0.8462\n"
          ],
          "name": "stdout"
        }
      ]
    },
    {
      "cell_type": "code",
      "metadata": {
        "id": "oofG9WGOstL-"
      },
      "source": [
        "for layer in model.layers[:15]:\n",
        "    layer.trainable = False\n",
        "\n",
        "for layer in model.layers[15:]:\n",
        "    layer.trainable = True"
      ],
      "execution_count": 309,
      "outputs": []
    },
    {
      "cell_type": "code",
      "metadata": {
        "id": "FSYO6aYtstOF"
      },
      "source": [
        "opt=Adam(lr=0.0001, beta_1=0.9, beta_2=0.999, epsilon=None, decay=0.0, amsgrad=True)\n",
        "model.compile(loss='categorical_crossentropy',\n",
        "              optimizer=opt,\n",
        "              metrics=['acc'])"
      ],
      "execution_count": 310,
      "outputs": []
    },
    {
      "cell_type": "code",
      "metadata": {
        "colab": {
          "base_uri": "https://localhost:8080/"
        },
        "id": "c05-1pR2uQne",
        "outputId": "8cc26d67-c7d7-4cd9-c8a9-621d133edbe1"
      },
      "source": [
        "model.summary()"
      ],
      "execution_count": 311,
      "outputs": [
        {
          "output_type": "stream",
          "text": [
            "Model: \"model_8\"\n",
            "_________________________________________________________________\n",
            "Layer (type)                 Output Shape              Param #   \n",
            "=================================================================\n",
            "input_9 (InputLayer)         [(None, 224, 224, 3)]     0         \n",
            "_________________________________________________________________\n",
            "block1_conv1 (Conv2D)        (None, 224, 224, 64)      1792      \n",
            "_________________________________________________________________\n",
            "block1_conv2 (Conv2D)        (None, 224, 224, 64)      36928     \n",
            "_________________________________________________________________\n",
            "block1_pool (MaxPooling2D)   (None, 112, 112, 64)      0         \n",
            "_________________________________________________________________\n",
            "block2_conv1 (Conv2D)        (None, 112, 112, 128)     73856     \n",
            "_________________________________________________________________\n",
            "block2_conv2 (Conv2D)        (None, 112, 112, 128)     147584    \n",
            "_________________________________________________________________\n",
            "block2_pool (MaxPooling2D)   (None, 56, 56, 128)       0         \n",
            "_________________________________________________________________\n",
            "block3_conv1 (Conv2D)        (None, 56, 56, 256)       295168    \n",
            "_________________________________________________________________\n",
            "block3_conv2 (Conv2D)        (None, 56, 56, 256)       590080    \n",
            "_________________________________________________________________\n",
            "block3_conv3 (Conv2D)        (None, 56, 56, 256)       590080    \n",
            "_________________________________________________________________\n",
            "block3_pool (MaxPooling2D)   (None, 28, 28, 256)       0         \n",
            "_________________________________________________________________\n",
            "block4_conv1 (Conv2D)        (None, 28, 28, 512)       1180160   \n",
            "_________________________________________________________________\n",
            "block4_conv2 (Conv2D)        (None, 28, 28, 512)       2359808   \n",
            "_________________________________________________________________\n",
            "block4_conv3 (Conv2D)        (None, 28, 28, 512)       2359808   \n",
            "_________________________________________________________________\n",
            "block4_pool (MaxPooling2D)   (None, 14, 14, 512)       0         \n",
            "_________________________________________________________________\n",
            "block5_conv1 (Conv2D)        (None, 14, 14, 512)       2359808   \n",
            "_________________________________________________________________\n",
            "block5_conv2 (Conv2D)        (None, 14, 14, 512)       2359808   \n",
            "_________________________________________________________________\n",
            "block5_conv3 (Conv2D)        (None, 14, 14, 512)       2359808   \n",
            "_________________________________________________________________\n",
            "block5_pool (MaxPooling2D)   (None, 7, 7, 512)         0         \n",
            "_________________________________________________________________\n",
            "global_max_pooling2d_11 (Glo (None, 512)               0         \n",
            "_________________________________________________________________\n",
            "dense_20 (Dense)             (None, 512)               262656    \n",
            "_________________________________________________________________\n",
            "dropout_10 (Dropout)         (None, 512)               0         \n",
            "_________________________________________________________________\n",
            "dense_21 (Dense)             (None, 2)                 1026      \n",
            "=================================================================\n",
            "Total params: 14,978,370\n",
            "Trainable params: 7,343,106\n",
            "Non-trainable params: 7,635,264\n",
            "_________________________________________________________________\n"
          ],
          "name": "stdout"
        }
      ]
    },
    {
      "cell_type": "code",
      "metadata": {
        "id": "BSlsIMcduQqQ"
      },
      "source": [
        "learning_rate_reduction = ReduceLROnPlateau(monitor='val_acc', patience=3, verbose=1, factor=0.5, \n",
        "                                            min_lr=0.000001, cooldown=3)"
      ],
      "execution_count": 312,
      "outputs": []
    },
    {
      "cell_type": "code",
      "metadata": {
        "colab": {
          "base_uri": "https://localhost:8080/"
        },
        "id": "QNTgUIneuQs0",
        "outputId": "32f3fb9f-b805-4e0d-cd1b-7cf72b8fedaa"
      },
      "source": [
        "train_model  = model.fit(X_Train, Y_Train, batch_size=64, epochs=30,\n",
        "                    validation_data=(X_Val, Y_Val))"
      ],
      "execution_count": 313,
      "outputs": [
        {
          "output_type": "stream",
          "text": [
            "Epoch 1/30\n",
            "8/8 [==============================] - 3s 308ms/step - loss: 6.1024 - acc: 0.6755 - val_loss: 0.9455 - val_acc: 0.7692\n",
            "Epoch 2/30\n",
            "8/8 [==============================] - 2s 279ms/step - loss: 2.2068 - acc: 0.7210 - val_loss: 1.4611 - val_acc: 0.6538\n",
            "Epoch 3/30\n",
            "8/8 [==============================] - 2s 280ms/step - loss: 1.3045 - acc: 0.7545 - val_loss: 1.0071 - val_acc: 0.8077\n",
            "Epoch 4/30\n",
            "8/8 [==============================] - 2s 280ms/step - loss: 1.3105 - acc: 0.7455 - val_loss: 1.0958 - val_acc: 0.7692\n",
            "Epoch 5/30\n",
            "8/8 [==============================] - 2s 281ms/step - loss: 0.8410 - acc: 0.8262 - val_loss: 1.0538 - val_acc: 0.6923\n",
            "Epoch 6/30\n",
            "8/8 [==============================] - 2s 282ms/step - loss: 0.5459 - acc: 0.8680 - val_loss: 1.0711 - val_acc: 0.8077\n",
            "Epoch 7/30\n",
            "8/8 [==============================] - 2s 282ms/step - loss: 0.4533 - acc: 0.8625 - val_loss: 1.9106 - val_acc: 0.7692\n",
            "Epoch 8/30\n",
            "8/8 [==============================] - 2s 285ms/step - loss: 0.3688 - acc: 0.9076 - val_loss: 1.9145 - val_acc: 0.7692\n",
            "Epoch 9/30\n",
            "8/8 [==============================] - 2s 286ms/step - loss: 0.1869 - acc: 0.9417 - val_loss: 1.1790 - val_acc: 0.7308\n",
            "Epoch 10/30\n",
            "8/8 [==============================] - 2s 287ms/step - loss: 0.1635 - acc: 0.9326 - val_loss: 1.3737 - val_acc: 0.7692\n",
            "Epoch 11/30\n",
            "8/8 [==============================] - 2s 288ms/step - loss: 0.1228 - acc: 0.9501 - val_loss: 1.4391 - val_acc: 0.7308\n",
            "Epoch 12/30\n",
            "8/8 [==============================] - 2s 288ms/step - loss: 0.0599 - acc: 0.9713 - val_loss: 1.4228 - val_acc: 0.8077\n",
            "Epoch 13/30\n",
            "8/8 [==============================] - 2s 288ms/step - loss: 0.0921 - acc: 0.9698 - val_loss: 1.2970 - val_acc: 0.7308\n",
            "Epoch 14/30\n",
            "8/8 [==============================] - 2s 290ms/step - loss: 0.0439 - acc: 0.9787 - val_loss: 1.2952 - val_acc: 0.7308\n",
            "Epoch 15/30\n",
            "8/8 [==============================] - 2s 290ms/step - loss: 0.0475 - acc: 0.9839 - val_loss: 1.5972 - val_acc: 0.7692\n",
            "Epoch 16/30\n",
            "8/8 [==============================] - 2s 290ms/step - loss: 0.0352 - acc: 0.9830 - val_loss: 1.1443 - val_acc: 0.7692\n",
            "Epoch 17/30\n",
            "8/8 [==============================] - 2s 290ms/step - loss: 0.0376 - acc: 0.9902 - val_loss: 1.4259 - val_acc: 0.7308\n",
            "Epoch 18/30\n",
            "8/8 [==============================] - 2s 292ms/step - loss: 0.0424 - acc: 0.9876 - val_loss: 1.1890 - val_acc: 0.7692\n",
            "Epoch 19/30\n",
            "8/8 [==============================] - 2s 294ms/step - loss: 0.0150 - acc: 0.9937 - val_loss: 1.3676 - val_acc: 0.7308\n",
            "Epoch 20/30\n",
            "8/8 [==============================] - 2s 295ms/step - loss: 0.0222 - acc: 0.9913 - val_loss: 1.3051 - val_acc: 0.7692\n",
            "Epoch 21/30\n",
            "8/8 [==============================] - 2s 293ms/step - loss: 0.0303 - acc: 0.9929 - val_loss: 1.3241 - val_acc: 0.7692\n",
            "Epoch 22/30\n",
            "8/8 [==============================] - 2s 293ms/step - loss: 0.0488 - acc: 0.9824 - val_loss: 1.6576 - val_acc: 0.7692\n",
            "Epoch 23/30\n",
            "8/8 [==============================] - 2s 293ms/step - loss: 0.0080 - acc: 0.9982 - val_loss: 1.4694 - val_acc: 0.7692\n",
            "Epoch 24/30\n",
            "8/8 [==============================] - 2s 293ms/step - loss: 0.0273 - acc: 0.9963 - val_loss: 1.5210 - val_acc: 0.7308\n",
            "Epoch 25/30\n",
            "8/8 [==============================] - 2s 293ms/step - loss: 0.0091 - acc: 0.9977 - val_loss: 2.1045 - val_acc: 0.6923\n",
            "Epoch 26/30\n",
            "8/8 [==============================] - 2s 292ms/step - loss: 0.0097 - acc: 0.9973 - val_loss: 1.9452 - val_acc: 0.7308\n",
            "Epoch 27/30\n",
            "8/8 [==============================] - 2s 292ms/step - loss: 0.0057 - acc: 0.9993 - val_loss: 1.8177 - val_acc: 0.7308\n",
            "Epoch 28/30\n",
            "8/8 [==============================] - 2s 292ms/step - loss: 0.0061 - acc: 0.9990 - val_loss: 1.7424 - val_acc: 0.7308\n",
            "Epoch 29/30\n",
            "8/8 [==============================] - 2s 292ms/step - loss: 0.0047 - acc: 1.0000 - val_loss: 1.6799 - val_acc: 0.7308\n",
            "Epoch 30/30\n",
            "8/8 [==============================] - 2s 292ms/step - loss: 0.0358 - acc: 0.9790 - val_loss: 1.7037 - val_acc: 0.7692\n"
          ],
          "name": "stdout"
        }
      ]
    },
    {
      "cell_type": "code",
      "metadata": {
        "colab": {
          "base_uri": "https://localhost:8080/"
        },
        "id": "F3lOJKumuQvN",
        "outputId": "d060bd2f-699f-4b35-f56c-13e4bea70902"
      },
      "source": [
        "loss_val, acc_val = model.evaluate(X_Val, Y_Val, verbose=1)\n",
        "print(\"Validation: accuracy = %f  ;  loss_v = %f\" % (acc_val, loss_val))"
      ],
      "execution_count": 314,
      "outputs": [
        {
          "output_type": "stream",
          "text": [
            "1/1 [==============================] - 0s 114ms/step - loss: 1.7037 - acc: 0.7692\n",
            "Validation: accuracy = 0.769231  ;  loss_v = 1.703663\n"
          ],
          "name": "stdout"
        }
      ]
    },
    {
      "cell_type": "markdown",
      "metadata": {
        "id": "BYGk29CIu7tH"
      },
      "source": [
        "test:"
      ]
    },
    {
      "cell_type": "code",
      "metadata": {
        "colab": {
          "base_uri": "https://localhost:8080/"
        },
        "id": "FMGmQU7YuQxm",
        "outputId": "4ddb63b1-ae75-4efc-da9c-490a843ff02c"
      },
      "source": [
        "y_test_data = to_categorical(y_test_data)\n",
        "loss_test, acc_test = model.evaluate(x_test_data, y_test_data, verbose=1)\n",
        "print(\"Test: accuracy = %f  ;  loss = %f\" % (acc_test, loss_test))"
      ],
      "execution_count": 315,
      "outputs": [
        {
          "output_type": "stream",
          "text": [
            "5/5 [==============================] - 1s 96ms/step - loss: 2.2455 - acc: 0.7000\n",
            "Test: accuracy = 0.700000  ;  loss = 2.245503\n"
          ],
          "name": "stdout"
        }
      ]
    },
    {
      "cell_type": "code",
      "metadata": {
        "id": "b20XKcNzu45p"
      },
      "source": [
        "model.save(\"VGG16.h5\")"
      ],
      "execution_count": 316,
      "outputs": []
    },
    {
      "cell_type": "code",
      "metadata": {
        "colab": {
          "base_uri": "https://localhost:8080/",
          "height": 562
        },
        "id": "FDixMIryu48I",
        "outputId": "9668e533-5433-42a2-9e27-3b9eb71f1cf6"
      },
      "source": [
        "acc = train_model.history['acc']\n",
        "val_acc = train_model .history['val_acc']\n",
        "\n",
        "loss = train_model.history['loss']\n",
        "val_loss = train_model .history['val_loss']\n",
        "\n",
        "\n",
        "epochs = range(len(acc))\n",
        "\n",
        "\n",
        "plt.plot(epochs, acc, label = \"training\")\n",
        "plt.plot(epochs, val_acc, label = \"validation\")\n",
        "plt.legend(loc=\"upper left\")\n",
        "plt.title('Training and validation accuracy')\n",
        "\n",
        "plt.figure()\n",
        "\n",
        "\n",
        "plt.plot(epochs, loss, label = \"training\")\n",
        "plt.plot(epochs, val_loss, label = \"validation\")\n",
        "plt.legend(loc=\"upper right\")\n",
        "plt.title('Training and validation loss')"
      ],
      "execution_count": 317,
      "outputs": [
        {
          "output_type": "execute_result",
          "data": {
            "text/plain": [
              "Text(0.5, 1.0, 'Training and validation loss')"
            ]
          },
          "metadata": {
            "tags": []
          },
          "execution_count": 317
        },
        {
          "output_type": "display_data",
          "data": {
            "image/png": "[encoded data removed]",
            "text/plain": [
              "<Figure size 432x288 with 1 Axes>"
            ]
          },
          "metadata": {
            "tags": [],
            "needs_background": "light"
          }
        },
        {
          "output_type": "display_data",
          "data": {
            "image/png": "[encoded data removed]",
            "text/plain": [
              "<Figure size 432x288 with 1 Axes>"
            ]
          },
          "metadata": {
            "tags": [],
            "needs_background": "light"
          }
        }
      ]
    },
    {
      "cell_type": "code",
      "metadata": {
        "id": "P8eRUsKUu4-i"
      },
      "source": [
        ""
      ],
      "execution_count": 317,
      "outputs": []
    },
    {
      "cell_type": "code",
      "metadata": {
        "id": "JvC89K3fu5BG"
      },
      "source": [
        ""
      ],
      "execution_count": 317,
      "outputs": []
    }
  ]
}